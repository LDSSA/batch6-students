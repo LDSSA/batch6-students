{
 "cells": [
  {
   "cell_type": "code",
   "execution_count": null,
   "metadata": {
    "deletable": false,
    "editable": false,
    "nbgrader": {
     "grade": false,
     "grade_id": "cell-feb6e21eefee82a6",
     "locked": true,
     "schema_version": 3,
     "solution": false,
     "task": false
    }
   },
   "outputs": [],
   "source": [
    "# Import all the necessary dependencies\n",
    "import os\n",
    "import numpy as np\n",
    "import scipy as sp\n",
    "import pandas as pd\n",
    "import scipy.sparse\n",
    "from mlxtend.frequent_patterns import apriori\n",
    "import hashlib # for grading purposes"
   ]
  },
  {
   "cell_type": "markdown",
   "metadata": {
    "deletable": false,
    "editable": false,
    "nbgrader": {
     "grade": false,
     "grade_id": "cell-83b6d09650b71757",
     "locked": true,
     "schema_version": 3,
     "solution": false,
     "task": false
    }
   },
   "source": [
    "# You will be working with data from an Online Book Store. \n",
    "\n",
    "### Every time a customer buys a book, the customer can rate the book and the Book Store uses that data to create recommendations to future customers.\n",
    "\n",
    "### In this exercise you will have the opportunity to help the Book Store team to choose which books to display in different areas of the website."
   ]
  },
  {
   "cell_type": "markdown",
   "metadata": {
    "deletable": false,
    "editable": false,
    "nbgrader": {
     "grade": false,
     "grade_id": "cell-05da60f53bf137c7",
     "locked": true,
     "schema_version": 3,
     "solution": false,
     "task": false
    }
   },
   "source": [
    "## Task 1: Understanding the data\n",
    "\n",
    "Data is available in the `./data/` folder. In this folder you will find 2 files:\n",
    "\n",
    "* `BookRatings.csv` has the historical ratings given by the customers and represents all the books sold. \n",
    "* `BooksInfo.csv`: has the information about the main genre of the book. "
   ]
  },
  {
   "cell_type": "code",
   "execution_count": null,
   "metadata": {
    "deletable": false,
    "editable": false,
    "nbgrader": {
     "grade": false,
     "grade_id": "cell-f72731d85109d7df",
     "locked": true,
     "schema_version": 3,
     "solution": false,
     "task": false
    }
   },
   "outputs": [],
   "source": [
    "ratings = pd.read_csv('data/BookRatings.csv')\n",
    "books_info = pd.read_csv('data/BooksInfo.csv')"
   ]
  },
  {
   "cell_type": "markdown",
   "metadata": {
    "deletable": false,
    "editable": false,
    "nbgrader": {
     "grade": false,
     "grade_id": "cell-c4a8d34771964895",
     "locked": true,
     "schema_version": 3,
     "solution": false,
     "task": false
    }
   },
   "source": [
    "Look at the raw files and print out the first rows of each file."
   ]
  },
  {
   "cell_type": "code",
   "execution_count": null,
   "metadata": {
    "deletable": false,
    "editable": false,
    "nbgrader": {
     "grade": false,
     "grade_id": "cell-38265f9e87586b2d",
     "locked": true,
     "schema_version": 3,
     "solution": false,
     "task": false
    }
   },
   "outputs": [],
   "source": [
    "#BookRatings\n",
    "ratings.head()"
   ]
  },
  {
   "cell_type": "code",
   "execution_count": null,
   "metadata": {
    "deletable": false,
    "editable": false,
    "nbgrader": {
     "grade": false,
     "grade_id": "cell-7d371562015360bf",
     "locked": true,
     "schema_version": 3,
     "solution": false,
     "task": false
    }
   },
   "outputs": [],
   "source": [
    "#BooksInfo\n",
    "books_info.head()"
   ]
  },
  {
   "cell_type": "markdown",
   "metadata": {
    "deletable": false,
    "editable": false,
    "nbgrader": {
     "grade": false,
     "grade_id": "cell-cb1a11186f0d5074",
     "locked": true,
     "schema_version": 3,
     "solution": false,
     "task": false
    }
   },
   "source": [
    "### Task 1.1 EDA (ungraded)\n",
    "- check for Ratings with incomplete data, \n",
    "- check for the duplicate records in ratings \n",
    "- check for books without Genre"
   ]
  },
  {
   "cell_type": "code",
   "execution_count": null,
   "metadata": {},
   "outputs": [],
   "source": [
    "### Your answer"
   ]
  },
  {
   "cell_type": "markdown",
   "metadata": {
    "deletable": false,
    "editable": false,
    "nbgrader": {
     "grade": false,
     "grade_id": "cell-0dafd9c5d89c379c",
     "locked": true,
     "schema_version": 3,
     "solution": false,
     "task": false
    }
   },
   "source": [
    "## Task 2: Rating Matrix"
   ]
  },
  {
   "cell_type": "markdown",
   "metadata": {
    "deletable": false,
    "editable": false,
    "nbgrader": {
     "grade": false,
     "grade_id": "cell-fbcc2caac0633412",
     "locked": true,
     "schema_version": 3,
     "solution": false,
     "task": false
    }
   },
   "source": [
    "### Task 2.1: Create the ratings matrix"
   ]
  },
  {
   "cell_type": "code",
   "execution_count": null,
   "metadata": {
    "deletable": false,
    "nbgrader": {
     "grade": false,
     "grade_id": "cell-a955efe724b3038b",
     "locked": false,
     "schema_version": 3,
     "solution": true,
     "task": false
    }
   },
   "outputs": [],
   "source": [
    "def make_ratings(data):\n",
    "    \"\"\"\n",
    "    Parameters\n",
    "        data - the ratings dataframe with ratings per ISBN and User-ID\n",
    "        \n",
    "    Returns:\n",
    "        R - (numpy.ndarray) Ratings matrix with the User-ID, ISBN and Book-Rating\n",
    "        hint: don't forget to put zeros in places where you do not have ratings\n",
    "    \n",
    "    Extra Hint: Your input is a pandas DataFrame but you want to output an array (use .to_numpy)!\n",
    "    \"\"\"\n",
    "\n",
    "    # YOUR CODE HERE\n",
    "    raise NotImplementedError()\n",
    "\n",
    "R = make_ratings(ratings)\n",
    "\n",
    "f\"We have {R.shape[0]} users and {R.shape[1]} items.\""
   ]
  },
  {
   "cell_type": "code",
   "execution_count": null,
   "metadata": {
    "deletable": false,
    "editable": false,
    "nbgrader": {
     "grade": true,
     "grade_id": "cell-bcf35c84a0d83618",
     "locked": true,
     "points": 2,
     "schema_version": 3,
     "solution": false,
     "task": false
    }
   },
   "outputs": [],
   "source": [
    "expected_hash = '226ef8abe773e3aceec1c057383c1628959c25882846e686412ef7e1ff96873d'\n",
    "assert hashlib.sha256(str(R.shape).encode()).hexdigest() == expected_hash\n",
    "\n",
    "expected_hash_1 = '0729c13ebd725201c1445a00c825237d305ff650cd72f50e45259bd942a75ef4'\n",
    "assert hashlib.sha256(str(R[0].sum()).encode()).hexdigest() == expected_hash_1\n",
    "\n",
    "expected_hash_2 = 'f1e42019aecc858ffbcca7fddec511b761b474916fde37b1a6ff321a9b459330'\n",
    "assert hashlib.sha256(str(R[:,0].sum()).encode()).hexdigest() == expected_hash_2"
   ]
  },
  {
   "cell_type": "markdown",
   "metadata": {
    "deletable": false,
    "editable": false,
    "nbgrader": {
     "grade": false,
     "grade_id": "cell-fa7fd988a22f4cad",
     "locked": true,
     "schema_version": 3,
     "solution": false,
     "task": false
    }
   },
   "source": [
    "### Task 2.2: Convert the Ratings Matrix to a Sparse Representation"
   ]
  },
  {
   "cell_type": "code",
   "execution_count": null,
   "metadata": {
    "deletable": false,
    "nbgrader": {
     "grade": false,
     "grade_id": "cell-0ed9b0b0e0afedb5",
     "locked": false,
     "schema_version": 3,
     "solution": true,
     "task": false
    }
   },
   "outputs": [],
   "source": [
    "from scipy.sparse import csr_matrix\n",
    "\n",
    "def get_csr(matrix):\n",
    "    \"\"\"\n",
    "    Parameters\n",
    "        matrix - The Ratings Matrix.\n",
    "    \n",
    "    Returns\n",
    "        H - The Compressed Sparse Row Matrix\n",
    "        \n",
    "    \"\"\"\n",
    "    \n",
    "    # YOUR CODE HERE\n",
    "    raise NotImplementedError()\n",
    "    \n",
    "sparse_mat = get_csr(R)"
   ]
  },
  {
   "cell_type": "code",
   "execution_count": null,
   "metadata": {
    "deletable": false,
    "editable": false,
    "nbgrader": {
     "grade": true,
     "grade_id": "cell-08a3664bf682ee47",
     "locked": true,
     "points": 2,
     "schema_version": 3,
     "solution": false,
     "task": false
    }
   },
   "outputs": [],
   "source": [
    "expected_hash = '3068469d4140f3f5fd47d88d14718db567a2ed03bf28240202061d61ea56147c'\n",
    "assert hashlib.sha256(str(sparse_mat).encode()).hexdigest() == expected_hash"
   ]
  },
  {
   "cell_type": "markdown",
   "metadata": {
    "deletable": false,
    "editable": false,
    "nbgrader": {
     "grade": false,
     "grade_id": "cell-54e25b8c1ec7101d",
     "locked": true,
     "schema_version": 3,
     "solution": false,
     "task": false
    }
   },
   "source": [
    "### Task 2.3: Calculate the density score of the matrix"
   ]
  },
  {
   "cell_type": "code",
   "execution_count": null,
   "metadata": {
    "deletable": false,
    "nbgrader": {
     "grade": false,
     "grade_id": "cell-e0d67b7597def46d",
     "locked": false,
     "schema_version": 3,
     "solution": true,
     "task": false
    }
   },
   "outputs": [],
   "source": [
    "def get_density_score(matrix):\n",
    "    \"\"\"\n",
    "    Parameters\n",
    "        matrix - Ratings Matrix\n",
    "        \n",
    "    Returns:\n",
    "        dense_score - (float) Density Score of Orig Matrix. \n",
    "    \"\"\"\n",
    "    # YOUR CODE HERE\n",
    "    raise NotImplementedError()\n",
    "    \n",
    "dense_score = get_density_score(R)\n",
    "f\"The Density Score is {dense_score}.\""
   ]
  },
  {
   "cell_type": "code",
   "execution_count": null,
   "metadata": {
    "deletable": false,
    "editable": false,
    "nbgrader": {
     "grade": true,
     "grade_id": "cell-4a00699d27e75157",
     "locked": true,
     "points": 2,
     "schema_version": 3,
     "solution": false,
     "task": false
    }
   },
   "outputs": [],
   "source": [
    "np.testing.assert_almost_equal(dense_score,0.0004,4)"
   ]
  },
  {
   "cell_type": "markdown",
   "metadata": {
    "deletable": false,
    "editable": false,
    "nbgrader": {
     "grade": false,
     "grade_id": "cell-53be2988ab745411",
     "locked": true,
     "schema_version": 3,
     "solution": false,
     "task": false
    }
   },
   "source": [
    "## Task 3: Non-personalized Recommendations"
   ]
  },
  {
   "cell_type": "markdown",
   "metadata": {
    "deletable": false,
    "editable": false,
    "nbgrader": {
     "grade": false,
     "grade_id": "cell-ecb5760a05c9a81d",
     "locked": true,
     "schema_version": 3,
     "solution": false,
     "task": false
    }
   },
   "source": [
    "### Task 3.0: Merge the 2 datasets (rating and books_info)"
   ]
  },
  {
   "cell_type": "markdown",
   "metadata": {
    "deletable": false,
    "editable": false,
    "nbgrader": {
     "grade": false,
     "grade_id": "cell-f8d371600039ab78",
     "locked": true,
     "schema_version": 3,
     "solution": false,
     "task": false
    }
   },
   "source": [
    "Merge the dataframes `ratings` and `books_info` in order to have information about the genre of each book. Include only the books that have a rating.\n",
    "\n",
    "Hint | You might need to use the function <a href=\"https://pandas.pydata.org/docs/reference/api/pandas.DataFrame.merge.html\">merge()</a>  and explore the parameter 'how'."
   ]
  },
  {
   "cell_type": "code",
   "execution_count": null,
   "metadata": {
    "deletable": false,
    "nbgrader": {
     "grade": false,
     "grade_id": "cell-106ae247ccfe9625",
     "locked": false,
     "schema_version": 3,
     "solution": true,
     "task": false
    }
   },
   "outputs": [],
   "source": [
    "def get_book_ratings_df(ratings_, books_info_):\n",
    "    \"\"\"\n",
    "    Parameters\n",
    "        ratings_ - DataFrame\n",
    "        books_info_ - DataFrame\n",
    "        \n",
    "    Returns:\n",
    "        book_ratings - DataFrame\n",
    "    \"\"\"\n",
    "    \n",
    "    # YOUR CODE HERE\n",
    "    raise NotImplementedError()\n",
    "\n",
    "book_ratings = get_book_ratings_df(ratings, books_info)\n",
    "book_ratings.head()"
   ]
  },
  {
   "cell_type": "code",
   "execution_count": null,
   "metadata": {
    "deletable": false,
    "editable": false,
    "nbgrader": {
     "grade": true,
     "grade_id": "cell-46d197eb6eb130a1",
     "locked": true,
     "points": 2,
     "schema_version": 3,
     "solution": false,
     "task": false
    }
   },
   "outputs": [],
   "source": [
    "expected_hash = 'c1d3dbf9ef7fb86036e5c933ff8de7a66d67b7dd25508764451e3ac8c300f110'\n",
    "assert hashlib.sha256(str(book_ratings.shape).encode()).hexdigest() == expected_hash\n",
    "\n",
    "expected_hash_1 = '3c4340f3a5aa8a40da4f7a2dc2f3ef4645ba099b58e986d12bd5f65b709efb20'\n",
    "assert hashlib.sha256(str(book_ratings['Book-Rating'].sum()).encode()).hexdigest() == expected_hash_1\n",
    "\n",
    "expected_hash_2 = '581cd6bccf7862e391ce07768616c8427d6cf9ddec881f6984e3cbd835379997'\n",
    "assert hashlib.sha256((book_ratings[(book_ratings['ISBN']=='1558744150')&(book_ratings['User-ID']==48579)].reset_index()['Genre'][0]).encode()).hexdigest() == expected_hash_2"
   ]
  },
  {
   "cell_type": "markdown",
   "metadata": {
    "deletable": false,
    "editable": false,
    "nbgrader": {
     "grade": false,
     "grade_id": "cell-0be50957688c06a5",
     "locked": true,
     "schema_version": 3,
     "solution": false,
     "task": false
    }
   },
   "source": [
    "### Task 3.1: The most popular books in the store"
   ]
  },
  {
   "cell_type": "markdown",
   "metadata": {
    "deletable": false,
    "editable": false,
    "nbgrader": {
     "grade": false,
     "grade_id": "cell-8a7167295bfa1d98",
     "locked": true,
     "schema_version": 3,
     "solution": false,
     "task": false
    }
   },
   "source": [
    "The Book Store wants to display on the website a collection of the most popular books in the store. Since we don't have information on purchases we are going to use the ratings.\n",
    "\n",
    "Create a function that returns a list with the ISBNs of the top N most popular books in the store - the N books that received the most ratings. The values in the list should be ordered from the most popular to the least popular book.\n",
    "\n",
    "Hint | You might find it useful to use the following functions (other similar functions are also available):\n",
    "\n",
    "- <a href=\"https://pandas.pydata.org/docs/reference/api/pandas.DataFrame.groupby.html \">groupby()</a> - to group the data \n",
    "- <a href=\"https://pandas.pydata.org/docs/reference/api/pandas.DataFrame.size.html\">size()</a> -  to get the number of lines\n"
   ]
  },
  {
   "cell_type": "code",
   "execution_count": null,
   "metadata": {
    "deletable": false,
    "nbgrader": {
     "grade": false,
     "grade_id": "cell-6a3c641a8162def3",
     "locked": false,
     "schema_version": 3,
     "solution": true,
     "task": false
    }
   },
   "outputs": [],
   "source": [
    "def get_popular_books(df, n):\n",
    "    \"\"\"\n",
    "    Parameters\n",
    "        df - DataFrame\n",
    "        n - Integer\n",
    "        \n",
    "    Returns:\n",
    "        top_n_popular_books - list of the top n popular books\n",
    "    \"\"\"\n",
    "    \n",
    "    # YOUR CODE HERE\n",
    "    raise NotImplementedError()\n",
    "\n",
    "top_5_popular_books = get_popular_books(ratings, 5)   "
   ]
  },
  {
   "cell_type": "code",
   "execution_count": null,
   "metadata": {
    "deletable": false,
    "editable": false,
    "nbgrader": {
     "grade": true,
     "grade_id": "cell-f3916cd573f1cc2f",
     "locked": true,
     "points": 2,
     "schema_version": 3,
     "solution": false,
     "task": false
    }
   },
   "outputs": [],
   "source": [
    "expected_hash = 'ef2d127de37b942baad06145e54b0c619a1f22327b2ebbcfbec78f5564afe39d'\n",
    "assert hashlib.sha256(str(len(top_5_popular_books)).encode()).hexdigest() == expected_hash\n",
    "\n",
    "expected_hash_1 = 'ecf0bb677736450811308765d0a80c698603dae939c42388f4f19880fa7dc704'\n",
    "assert hashlib.sha256(str(top_5_popular_books[1]).encode()).hexdigest() == expected_hash_1\n",
    "\n",
    "expected_hash_2 = '6cf1c4943f89becc6f4a3d7013d542d14082edcb7038bc38792f2045419a556e'\n",
    "assert hashlib.sha256(str(top_5_popular_books[4]).encode()).hexdigest() == expected_hash_2\n"
   ]
  },
  {
   "cell_type": "markdown",
   "metadata": {
    "deletable": false,
    "editable": false,
    "nbgrader": {
     "grade": false,
     "grade_id": "cell-be3424c87361d0f2",
     "locked": true,
     "schema_version": 3,
     "solution": false,
     "task": false
    }
   },
   "source": [
    "### Task 3.2: The best rated books"
   ]
  },
  {
   "cell_type": "markdown",
   "metadata": {
    "deletable": false,
    "editable": false,
    "nbgrader": {
     "grade": false,
     "grade_id": "cell-56ee878cafce84f3",
     "locked": true,
     "schema_version": 3,
     "solution": false,
     "task": false
    }
   },
   "source": [
    "The Book Store also wants to display on the website a collection of the books with the best ratings in the store. \n",
    "\n",
    "Create a function that returns the top N best rated books with more than k ratings. Use the mean rating of each book for comparison. The list should be ordered from the best to the worst rated book."
   ]
  },
  {
   "cell_type": "code",
   "execution_count": null,
   "metadata": {
    "deletable": false,
    "nbgrader": {
     "grade": false,
     "grade_id": "cell-b24cbf665fa243b3",
     "locked": false,
     "schema_version": 3,
     "solution": true,
     "task": false
    }
   },
   "outputs": [],
   "source": [
    "def get_topn_rates(data, n, k):\n",
    "    \"\"\"\n",
    "    Parameters\n",
    "        data - DataFrame with ratings\n",
    "        n - Top-n books\n",
    "        k - Minimum number of ratings\n",
    "        \n",
    "    Returns\n",
    "        top_books - List of ISBNs of top-n best mean rated books.\n",
    "        Only consider books with more than k ratings.\n",
    "    \"\"\"\n",
    "    # YOUR CODE HERE\n",
    "    raise NotImplementedError()\n",
    "    \n",
    "top5_rates = get_topn_rates(ratings, 5, 10)"
   ]
  },
  {
   "cell_type": "code",
   "execution_count": null,
   "metadata": {
    "deletable": false,
    "editable": false,
    "nbgrader": {
     "grade": true,
     "grade_id": "cell-8c9937866867ccc7",
     "locked": true,
     "points": 2,
     "schema_version": 3,
     "solution": false,
     "task": false
    }
   },
   "outputs": [],
   "source": [
    "expected_hash = 'ef2d127de37b942baad06145e54b0c619a1f22327b2ebbcfbec78f5564afe39d'\n",
    "assert hashlib.sha256(str(len(top5_rates)).encode()).hexdigest() == expected_hash\n",
    "\n",
    "expected_hash_1 = '176e1ad48051114c46de83e1b5b55bf6bc21dbfce49a62ff352cfdef48ff6357'\n",
    "assert hashlib.sha256(str(top5_rates[1]).encode()).hexdigest() == expected_hash_1\n",
    "\n",
    "expected_hash_2 = '20865e898050bb593da47f242377658bf3653fe9931bb645e6b1bbf29440d9f0'\n",
    "assert hashlib.sha256(str(top5_rates[4]).encode()).hexdigest() == expected_hash_2"
   ]
  },
  {
   "cell_type": "markdown",
   "metadata": {
    "deletable": false,
    "editable": false,
    "nbgrader": {
     "grade": false,
     "grade_id": "cell-ef432e6a268fc8a6",
     "locked": true,
     "schema_version": 3,
     "solution": false,
     "task": false
    }
   },
   "source": [
    "### Task 3.3: Loyal customers"
   ]
  },
  {
   "cell_type": "markdown",
   "metadata": {
    "deletable": false,
    "editable": false,
    "nbgrader": {
     "grade": false,
     "grade_id": "cell-504073ff32974729",
     "locked": true,
     "schema_version": 3,
     "solution": false,
     "task": false
    }
   },
   "source": [
    "The Book Store wants to reward the customers that gave the most ratings on the website. \n",
    "\n",
    "Create a function that returns a list of the top N users that gave the most ratings. Order the list by the number of given ratings in descending order."
   ]
  },
  {
   "cell_type": "code",
   "execution_count": null,
   "metadata": {
    "deletable": false,
    "nbgrader": {
     "grade": false,
     "grade_id": "cell-25e8aaca6e79506f",
     "locked": false,
     "schema_version": 3,
     "solution": true,
     "task": false
    }
   },
   "outputs": [],
   "source": [
    "def get_loyal_customers(df, n):\n",
    "    \"\"\"\n",
    "    Parameters\n",
    "        df - DataFrame\n",
    "        n - Integer\n",
    "        \n",
    "    Returns:\n",
    "        top_n_loyal_customers - The top n loyal customers\n",
    "    \"\"\"\n",
    "    \n",
    "    # YOUR CODE HERE\n",
    "    raise NotImplementedError()\n",
    "\n",
    "top_10_loyal_customers = get_loyal_customers(ratings, 10)"
   ]
  },
  {
   "cell_type": "code",
   "execution_count": null,
   "metadata": {
    "deletable": false,
    "editable": false,
    "nbgrader": {
     "grade": true,
     "grade_id": "cell-e5a8da344c56c0a2",
     "locked": true,
     "points": 2,
     "schema_version": 3,
     "solution": false,
     "task": false
    }
   },
   "outputs": [],
   "source": [
    "expected_hash = '4a44dc15364204a80fe80e9039455cc1608281820fe2b24f1e5233ade6af1dd5'\n",
    "assert hashlib.sha256(str(len(top_10_loyal_customers)).encode()).hexdigest() == expected_hash\n",
    "\n",
    "expected_hash_1 = 'c182d826ceb2b42f749faf0dd41929c88dff7a57a6000e2e7d16e5229ca6640b'\n",
    "assert hashlib.sha256(str(top_10_loyal_customers[1]).encode()).hexdigest() == expected_hash_1\n",
    "\n",
    "expected_hash_2 = '4df81fd140c781b33e9adde8d4bc1dbf520c4a2748f31f5abbe04182176580c6'\n",
    "assert hashlib.sha256(str(top_10_loyal_customers[7]).encode()).hexdigest() == expected_hash_2"
   ]
  },
  {
   "cell_type": "markdown",
   "metadata": {
    "deletable": false,
    "editable": false,
    "nbgrader": {
     "grade": false,
     "grade_id": "cell-3af855af659ac623",
     "locked": true,
     "schema_version": 3,
     "solution": false,
     "task": false
    }
   },
   "source": [
    "### Task 3.4: For which genre did the users give the most ratings?"
   ]
  },
  {
   "cell_type": "markdown",
   "metadata": {
    "deletable": false,
    "editable": false,
    "nbgrader": {
     "grade": false,
     "grade_id": "cell-09ea9999fbfe0eb2",
     "locked": true,
     "schema_version": 3,
     "solution": false,
     "task": false
    }
   },
   "source": [
    "Hint | You may find the following function useful (other similar functions are also available):\n",
    "\n",
    "- <a href=\"https://pandas.pydata.org/docs/reference/api/pandas.DataFrame.sort_values.html\">sort_values()</a> -  to sort the data by the number of ratings"
   ]
  },
  {
   "cell_type": "code",
   "execution_count": null,
   "metadata": {
    "deletable": false,
    "nbgrader": {
     "grade": false,
     "grade_id": "cell-27d7a4c706036abe",
     "locked": false,
     "schema_version": 3,
     "solution": true,
     "task": false
    }
   },
   "outputs": [],
   "source": [
    "# YOUR CODE HERE\n",
    "raise NotImplementedError()\n",
    "\n",
    "# genre_user_top_rating =  # Assign your solution to this variable "
   ]
  },
  {
   "cell_type": "code",
   "execution_count": null,
   "metadata": {
    "deletable": false,
    "editable": false,
    "nbgrader": {
     "grade": true,
     "grade_id": "cell-aee1c916a520406c",
     "locked": true,
     "points": 2,
     "schema_version": 3,
     "solution": false,
     "task": false
    }
   },
   "outputs": [],
   "source": [
    "expected_hash = 'efa9a3729d47c5c47c0c763107f82dbeb8ba63e479274b2661edf418850791fb'\n",
    "assert hashlib.sha256(str(genre_user_top_rating).encode()).hexdigest() == expected_hash"
   ]
  },
  {
   "cell_type": "markdown",
   "metadata": {
    "deletable": false,
    "editable": false,
    "nbgrader": {
     "grade": false,
     "grade_id": "cell-403db9de2fbc20cb",
     "locked": true,
     "schema_version": 3,
     "solution": false,
     "task": false
    }
   },
   "source": [
    "### Task 3.5: The most popular books by genre"
   ]
  },
  {
   "cell_type": "markdown",
   "metadata": {
    "deletable": false,
    "editable": false,
    "nbgrader": {
     "grade": false,
     "grade_id": "cell-e2a2f67f680b6a54",
     "locked": true,
     "schema_version": 3,
     "solution": false,
     "task": false
    }
   },
   "source": [
    "The Book Store wants to display the most popular book in each genre when the customer navigates to the genre tab.\n",
    "\n",
    "Create a function that returns a dataframe with the most popular book of each genre, judging by the number of ratings each book received. The columns of the dataset should be `Genre`,`count` for the number of ratings of the most popular book and `ISBN`.\n",
    "\n",
    "Hint | You might find the following function useful (other similar functions are also available):\n",
    "\n",
    "- <a href=\"https://pandas.pydata.org/docs/reference/api/pandas.DataFrame.head.html\">head()</a> - to get a retricted number of lines per group"
   ]
  },
  {
   "cell_type": "code",
   "execution_count": null,
   "metadata": {
    "deletable": false,
    "nbgrader": {
     "grade": false,
     "grade_id": "cell-befdd158e348befe",
     "locked": false,
     "schema_version": 3,
     "solution": true,
     "task": false
    }
   },
   "outputs": [],
   "source": [
    "def get_top1_popularity_genre(df):\n",
    "    \"\"\"\n",
    "    Parameters\n",
    "        df - merged DataFrame with book ratings and genres\n",
    "        \n",
    "    Returns:\n",
    "        top_books_genre - DataFrame with three columns: Genre, ISBN, count\n",
    "    \"\"\"\n",
    "    \n",
    "    # YOUR CODE HERE\n",
    "    raise NotImplementedError()\n",
    "\n",
    "top_books_genre = get_top1_popularity_genre(book_ratings)"
   ]
  },
  {
   "cell_type": "code",
   "execution_count": null,
   "metadata": {
    "deletable": false,
    "editable": false,
    "nbgrader": {
     "grade": true,
     "grade_id": "cell-92004092dfc812a0",
     "locked": true,
     "points": 1,
     "schema_version": 3,
     "solution": false,
     "task": false
    }
   },
   "outputs": [],
   "source": [
    "expected_hash = '9a85c6d41062f7ba7fd7c7130eb5975156f0fd04f93d74fc27778a6726d7c1f3'\n",
    "assert hashlib.sha256(str(top_books_genre[top_books_genre['Genre']=='Fiction'].reset_index().loc[:,'ISBN'][0]).encode()).hexdigest() == expected_hash\n",
    "\n",
    "expected_hash_1 = '481b11af7b7f0cab7895d47507e7d85310dc49d4fc951117abecfbf7e23a28f2'\n",
    "assert hashlib.sha256(str(top_books_genre[top_books_genre['Genre']=='poems'].reset_index().loc[:,'ISBN'][0]).encode()).hexdigest() == expected_hash_1\n",
    "\n",
    "expected_hash_2 = '3d89b8a0dd59309c672f7a1af89ba217cf9cba6213adecf1906d4f3992a85cc9'\n",
    "assert hashlib.sha256(str(top_books_genre[top_books_genre['Genre']=='Biography & Autobiography'].reset_index().loc[:,'ISBN'][0]).encode()).hexdigest() == expected_hash_2"
   ]
  },
  {
   "cell_type": "markdown",
   "metadata": {
    "deletable": false,
    "editable": false,
    "nbgrader": {
     "grade": false,
     "grade_id": "cell-c5a65b71966b1c28",
     "locked": true,
     "schema_version": 3,
     "solution": false,
     "task": false
    }
   },
   "source": [
    "### Task 3.6: Top 3 best average rated books by genre"
   ]
  },
  {
   "cell_type": "markdown",
   "metadata": {
    "deletable": false,
    "editable": false,
    "nbgrader": {
     "grade": false,
     "grade_id": "cell-2b9399d7aaf451ed",
     "locked": true,
     "schema_version": 3,
     "solution": false,
     "task": false
    }
   },
   "source": [
    "The Book Store also wants to display in the genre tab the \"Best books to read\". \n",
    "\n",
    "Create a function that returns a Dataframe with the top 3 books with the highest average rating in each genre. Don't forget to display the `Genre`, `ISBN` and average `Book-Rating`. Sort the dataframe by `Genre`."
   ]
  },
  {
   "cell_type": "code",
   "execution_count": null,
   "metadata": {
    "deletable": false,
    "nbgrader": {
     "grade": false,
     "grade_id": "cell-a784d8a45a909c8c",
     "locked": false,
     "schema_version": 3,
     "solution": true,
     "task": false
    }
   },
   "outputs": [],
   "source": [
    "def get_top3_rates_genre(df):\n",
    "    \n",
    "    \"\"\"\n",
    "    Parameters\n",
    "        df - merged DataFrame with ratings and genre\n",
    "              \n",
    "    Returns\n",
    "        books - DataFrame sorted by genre with top 3 books with the highest average rating per genre\n",
    "              - columns: Genre, ISBN, Book-Rating\n",
    "    \"\"\"\n",
    "    \n",
    "    # YOUR CODE HERE\n",
    "    raise NotImplementedError()\n",
    "\n",
    "top3_rates_genre = get_top3_rates_genre(book_ratings)\n",
    "top3_rates_genre"
   ]
  },
  {
   "cell_type": "code",
   "execution_count": null,
   "metadata": {},
   "outputs": [],
   "source": [
    "top3_rates_genre[top3_rates_genre['Genre']=='Fiction']"
   ]
  },
  {
   "cell_type": "code",
   "execution_count": null,
   "metadata": {
    "deletable": false,
    "editable": false,
    "nbgrader": {
     "grade": true,
     "grade_id": "cell-69c6a034c926fa35",
     "locked": true,
     "points": 1,
     "schema_version": 3,
     "solution": false,
     "task": false
    }
   },
   "outputs": [],
   "source": [
    "expected_hash = '250302a44bedd984034e258ba47827a340db357e8553b4d85ff573d894329123'\n",
    "assert hashlib.sha256(str(top3_rates_genre.shape).encode()).hexdigest() == expected_hash\n",
    "\n",
    "expected_hash_1 = '1e56c660887ba75c099588c47bf90b565fe315821214b14f1255a73cab988ed5'\n",
    "assert hashlib.sha256(str(round(top3_rates_genre['Book-Rating'].sum(),0)).encode()).hexdigest() == expected_hash_1"
   ]
  },
  {
   "cell_type": "markdown",
   "metadata": {
    "deletable": false,
    "editable": false,
    "nbgrader": {
     "grade": false,
     "grade_id": "cell-f15de65f28ae461f",
     "locked": true,
     "schema_version": 3,
     "solution": false,
     "task": false
    }
   },
   "source": [
    "### Task 4: Most common groups of books"
   ]
  },
  {
   "cell_type": "markdown",
   "metadata": {
    "deletable": false,
    "editable": false,
    "nbgrader": {
     "grade": false,
     "grade_id": "cell-fc36930b6cc60e99",
     "locked": true,
     "schema_version": 3,
     "solution": false,
     "task": false
    }
   },
   "source": [
    "The Book Store wants to display groups of books that the users usually rate together.\n",
    "\n",
    "Create a function that returns the N most frequent sets of M books that the users rate together for a given minimum support, ordered by support. The function should return a dataframe with two columns `support` and `itemsets`. The input of the function is the rating matrix that you created in Task 2."
   ]
  },
  {
   "cell_type": "code",
   "execution_count": null,
   "metadata": {
    "deletable": false,
    "nbgrader": {
     "grade": false,
     "grade_id": "cell-84282d90389727fe",
     "locked": false,
     "schema_version": 3,
     "solution": true,
     "task": false
    }
   },
   "outputs": [],
   "source": [
    "def get_apriori_booksets(R, min_support=0.003, n=3, m=3):\n",
    "    \n",
    "    \"\"\"\n",
    "    Parameters\n",
    "        R - rating matrix\n",
    "        min_support - minimal support for the itemsets\n",
    "        n - number of top n itemsets to return\n",
    "        m - number of items in itemsets\n",
    "              \n",
    "    Returns\n",
    "        booksets - dataframe with the top n itemsets, \n",
    "                   with columns support and itemsets,\n",
    "                   ordered by support in descending order\n",
    "    \"\"\"\n",
    "\n",
    "    \n",
    "    # YOUR CODE HERE\n",
    "    raise NotImplementedError()\n",
    "\n",
    "get_3_booksets = get_apriori_booksets(R, min_support=0.003, n=3, m=3)"
   ]
  },
  {
   "cell_type": "code",
   "execution_count": null,
   "metadata": {
    "deletable": false,
    "editable": false,
    "nbgrader": {
     "grade": true,
     "grade_id": "cell-ca3fda0f7747ebeb",
     "locked": true,
     "points": 2,
     "schema_version": 3,
     "solution": false,
     "task": false
    }
   },
   "outputs": [],
   "source": [
    "assert get_3_booksets.shape[0]==3, 'The returned dataframe does not have the correct shape.'\n",
    "assert get_3_booksets.shape[1]==2, 'The returned dataframe does not have the correct shape.'\n",
    "\n",
    "assert 16018 in get_3_booksets.reset_index()['itemsets'][0]\n",
    "assert 15979 in get_3_booksets.reset_index()['itemsets'][0]\n",
    "assert 16130 in get_3_booksets.reset_index()['itemsets'][1]"
   ]
  }
 ],
 "metadata": {
  "kernelspec": {
   "display_name": "Python 3 (ipykernel)",
   "language": "python",
   "name": "python3"
  },
  "language_info": {
   "codemirror_mode": {
    "name": "ipython",
    "version": 3
   },
   "file_extension": ".py",
   "mimetype": "text/x-python",
   "name": "python",
   "nbconvert_exporter": "python",
   "pygments_lexer": "ipython3",
   "version": "3.8.15"
  }
 },
 "nbformat": 4,
 "nbformat_minor": 4
}
