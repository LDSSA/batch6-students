{
 "cells": [
  {
   "cell_type": "markdown",
   "metadata": {},
   "source": [
    "# BLU10 - Learning Notebook - Part 2 of 3 - Ratings Matrix"
   ]
  },
  {
   "cell_type": "code",
   "execution_count": 1,
   "metadata": {},
   "outputs": [],
   "source": [
    "import numpy as np\n",
    "import pandas as pd\n",
    "import scipy as sp\n",
    "\n",
    "from scipy.sparse import random, coo_matrix, lil_matrix, dok_matrix, csr_matrix, csc_matrix"
   ]
  },
  {
   "cell_type": "markdown",
   "metadata": {},
   "source": [
    "### Table of contents\n",
    "[1. Creating a ratings matrix](#1.-Creating-a-ratings-matrix)   \n",
    "&emsp;[1.1 Community matrix](#1.1-Community-matrix)   \n",
    "&emsp;[1.2 Types of data](#1.2-Types-of-data)   \n",
    "&emsp;[1.3 Ratings matrix](#1.3-Ratings-matrix)   \n",
    "&emsp;[1.4 Representing users as vectors](#1.4-Representing-users-as-vectors)   \n",
    "&emsp;[1.5 Representing matrices](#1.5-Representing-matrices)   \n",
    "&emsp;[1.6 Matrix attributes](#1.6-Matrix-attributes)   \n",
    "&emsp;[1.7 Saving the matrix](#1.7-Saving-the-matrix)   \n",
    "[2 Sparse matrices](#2-Sparse-matrices)   \n",
    "&emsp;[2.1 Sparse matrices in SciPy](#2.1-Sparse-matrices-in-SciPy)   \n",
    "&emsp;&emsp;[2.1.1 Dictionary of keys (DOK)](#2.1.1-Dictionary-of-keys-(DOK))   \n",
    "&emsp;&emsp;[2.1.2 Compressed sparse (CS)](#2.1.2-Compressed-sparse-(CS))   \n",
    "&emsp;[2.2 Creating sparse matrices](#2.2-Creating-sparse-matrices)   \n",
    "&emsp;&emsp;[2.2.1 DOK](#2.2.1-DOK)   \n",
    "&emsp;&emsp;[2.2.2 Compressed sparse](#2.2.2-Compressed-sparse)   \n",
    "&emsp;&emsp;[2.2.3 From pandas DataFrame to SciPy sparse](#2.2.3-From-pandas-DataFrame-to-SciPy-sparse)   "
   ]
  },
  {
   "cell_type": "markdown",
   "metadata": {},
   "source": [
    "# 1. Creating a ratings matrix\n",
    "\n",
    "## 1.1 Community matrix\n",
    "\n",
    "The community matrix represents our entire ecosystems or community - all pairs of customers (or users, whatever you wanna call them!) and the items they interact with - in a single matrix. The users are always arranged in rows and the items in columns. Remember tidy data from SLU06? This is similar.\n",
    "\n",
    "If you pause for a moment and think, there are multiple ways for a user to show interest in a specific product or service. It really depends on the recommendations that we are trying to do. You can't, for instance, rate every item that you buy in the supermarket. Usually, you show interest in an item by buying it (and your interest correlates with the number of times you buy that item).\n",
    "\n",
    "**Let's see an example of a community matrix:**\n",
    "\n",
    "Take a set of users $U = \\{Ana, Miguel, Beatriz\\}$ and a set of items $I = \\{Bananas, Water, Milk\\}$. \n",
    "\n",
    "We represent $U \\times I$, aka the community matrix, as:\n",
    "\n",
    "$$\\begin{bmatrix}(Ana, Bananas) & (Ana, Water) & (Ana, Milk)\\\\ (Miguel, Bananas) & (Miguel, Water) & (Miguel, Milk)\\\\ (Beatriz, Bananas) & (Beatriz, Water) & (Beatriz, Milk)\\end{bmatrix}$$"
   ]
  },
  {
   "cell_type": "markdown",
   "metadata": {},
   "source": [
    "## 1.2 Types of data\n",
    "\n",
    "What we are actually interested in, is the feedback of each user on the items. Users manifest their opinion about an item in different ways:\n",
    "\n",
    "- **Explicit and implicit feedback**: Feedback is called explicit when directly provided by the user and implicit if inferred from user actions (e.g. clicks, purchases). Implicit feedback usually takes the form of binary data (buys/does not buy).\n",
    "\n",
    "- **Rating scale**: We call $S$ the set of possible ratings. For example, in a 1-5 stars rating system, $r_{u, i} \\in S = \\{1, 2, 3, 4, 5\\}$.\n",
    "\n",
    "| Type of data    | Description                          | Rating scale (examples) | Explicit/Implicit |  \n",
    "|-----------------|--------------------------------------|-------------------------|-------------------|\n",
    "| Numeric         | Continuous ratings                   | $S = [1, 5]$            | Explicit          |\n",
    "| Ordinal         | Ordered categories                   | $S = \\{1, 2, 3, 4, 5\\}$ | Explicit          |\n",
    "| Binary          | Good or bad  (e.g., Upvote/Downvote) | $S = \\{-1, 1\\}$         | Explicit          |\n",
    "| Unary           | User action  (e.g., Click, Purchase) | $S = \\{0, 1\\}$          | Implicit          |\n",
    "\n",
    "*Table 1: Different types of data and rating scales*\n",
    "\n",
    "A note on implicit unary data: unary data means that we only know about users doing some action, such as click or purchase, but don't have any information about users who didn't do that action. (Any person who didn't do the click or purchase was not registered and so remains invisible to us)."
   ]
  },
  {
   "cell_type": "markdown",
   "metadata": {},
   "source": [
    "## 1.3 Ratings matrix\n",
    "\n",
    "Consider the following ratings matrix $R$, with $S = \\{1, 2, 3, 4, 5\\}$, where each row is a user and each column is a product (consider the values the number of times a user bought an item):\n",
    "\n",
    "$$\\begin{bmatrix}1 &  & 2\\\\ 1 & 5 & \\\\  & 2 & 1\\end{bmatrix}$$\n",
    "\n",
    "## 1.4 Representing users as vectors\n",
    "\n",
    "Let's go bit by bit, starting with the first row of the matrix, corresponding to:\n",
    "\n",
    "$$\\begin{bmatrix}(Ana, Bananas) & (Ana, Water) & (Ana, Milk)\\end{bmatrix}$$\n",
    "\n",
    "To clarify, $I_{Ana} = \\{Bananas, Milk\\}$ and $(Ana, Water) \\notin R$. Right? - (in plain English, Ana bought Bananas and Milk but did not buy Water).\n",
    "\n",
    "We can represent the Ana vector by a NumPy array. The unknown rating is represented as `np.NaN`.\n",
    "\n",
    "```\n",
    "┌───┬───┬───┐\n",
    "│ 1 │   │ 2 │\n",
    "└───┴───┴───┘\n",
    "```"
   ]
  },
  {
   "cell_type": "code",
   "execution_count": 2,
   "metadata": {},
   "outputs": [
    {
     "data": {
      "text/plain": [
       "array([ 1., nan,  2.])"
      ]
     },
     "execution_count": 2,
     "metadata": {},
     "output_type": "execute_result"
    }
   ],
   "source": [
    "ana = np.array([1, np.NaN, 2])\n",
    "\n",
    "ana"
   ]
  },
  {
   "cell_type": "markdown",
   "metadata": {},
   "source": [
    "## 1.5 Representing matrices\n",
    "\n",
    "\n",
    "The following is the community matrix from above translated into a ratings matrix $R$ (also commonly called a Customers X Products matrix).\n",
    "```\n",
    "┌───┬───┬───┐\n",
    "│ 1 │   │ 2 │\n",
    "├───┼───┼───┤\n",
    "│ 1 │ 5 │   │\n",
    "├───┼───┼───┤\n",
    "│   │ 2 │ 1 │\n",
    "└───┴───┴───┘\n",
    "```"
   ]
  },
  {
   "cell_type": "code",
   "execution_count": 3,
   "metadata": {},
   "outputs": [
    {
     "data": {
      "text/plain": [
       "array([[ 1., nan,  2.],\n",
       "       [ 1.,  5., nan],\n",
       "       [nan,  2.,  1.]])"
      ]
     },
     "execution_count": 3,
     "metadata": {},
     "output_type": "execute_result"
    }
   ],
   "source": [
    "R = [[1, np.NaN, 2], [1, 5, np.NaN], [np.NaN, 2, 1]]\n",
    "R = np.array(R)\n",
    "R"
   ]
  },
  {
   "cell_type": "markdown",
   "metadata": {},
   "source": [
    "Let's select Beatriz (third row): "
   ]
  },
  {
   "cell_type": "code",
   "execution_count": 4,
   "metadata": {},
   "outputs": [
    {
     "data": {
      "text/plain": [
       "array([nan,  2.,  1.])"
      ]
     },
     "execution_count": 4,
     "metadata": {},
     "output_type": "execute_result"
    }
   ],
   "source": [
    "R[2]"
   ]
  },
  {
   "cell_type": "markdown",
   "metadata": {},
   "source": [
    "## 1.6 Matrix attributes\n",
    "\n",
    "Some important attributes of any `ndarray`, to keep in mind."
   ]
  },
  {
   "cell_type": "code",
   "execution_count": 5,
   "metadata": {},
   "outputs": [
    {
     "name": "stdout",
     "output_type": "stream",
     "text": [
      "R is a 2-dimensional, 3 by 3 matrix, of float64 elements.\n"
     ]
    }
   ],
   "source": [
    "ndims = R.ndim\n",
    "nrows = R.shape[0]\n",
    "ncols = R.shape[1] \n",
    "dtype = R.dtype\n",
    "\n",
    "print(\"R is a {}-dimensional, {} by {} matrix, of {} elements.\".format(ndims, nrows, ncols, dtype))"
   ]
  },
  {
   "cell_type": "markdown",
   "metadata": {},
   "source": [
    "Cool, so $R$ has two dimensions (customers and products), 3 customers (rows) and 3 products (columns)."
   ]
  },
  {
   "cell_type": "markdown",
   "metadata": {},
   "source": [
    "## 1.7 Saving the matrix\n",
    "\n",
    "We can save the matrix to a binary file in the NumPy `.npy` format.\n",
    "\n",
    "Note that `save` is a stand-alone function and not an array method."
   ]
  },
  {
   "cell_type": "code",
   "execution_count": 6,
   "metadata": {},
   "outputs": [],
   "source": [
    "np.save('data/interim/ratings_matrix', R);"
   ]
  },
  {
   "cell_type": "markdown",
   "metadata": {},
   "source": [
    "Alternatively, we can dump the matrix into a `.csv` file, as we would typically do."
   ]
  },
  {
   "cell_type": "code",
   "execution_count": 7,
   "metadata": {},
   "outputs": [],
   "source": [
    "np.savetxt(\"data/interim/ratings_matrix.csv\", R, delimiter=\",\")"
   ]
  },
  {
   "cell_type": "markdown",
   "metadata": {},
   "source": [
    "# 2 Sparse matrices\n",
    "\n",
    "These matrixes can get quite big as you add users or products!\n",
    "\n",
    "Huge matrices require lots of memory, and some large matrices are very sparse, as recorded ratings are relatively rare. Think of Netflix: you, as a user, have not provided ratings for the vast majority (if any) of the movies and TV shows. This means that most of the ratings matrix are zeros or missing values and only a few entries are filled with information.\n",
    "\n",
    "<img src=\"https://i.imgflip.com/4hg29a.jpg\" />\n",
    "\n",
    "This allocation is a waste of resources, as missing values and data cost the same space, but only the later hold any information.\n",
    "\n",
    "In practice, this leads to matrices that don't fit in memory, despite having a manageable amount of data.\n",
    "\n",
    "And as your company grows and you get more users or more products, this problem gets even worse!\n",
    "\n",
    "The premise of sparse data structures is that we *store only non-zero values*, and assume that the rest of them are zeros.\n",
    "\n",
    "**Sparse matrices** allow us to mitigate these problems:\n",
    "* They are less memory-intensive, as they squeeze out the zeros and store only relevant values;\n",
    "* Operations ignore zero values, i.e., the majority of the cells.\n",
    "\n",
    "## 2.1 Sparse matrices in SciPy\n",
    "\n",
    "The `scipy.sparse` module implements sparse matrices based in regular NumPy arrays.\n",
    "\n",
    "For the sake of objectivity, let's compare the sizes of a sparse versus a regular matrix.\n",
    "\n",
    "We use `sp.sparse.random` to generate a sparse matrix of a given shape and density (density is the fraction of non-zero values), with randomly distributed values."
   ]
  },
  {
   "cell_type": "code",
   "execution_count": 8,
   "metadata": {},
   "outputs": [
    {
     "data": {
      "text/plain": [
       "0.015005005"
      ]
     },
     "execution_count": 8,
     "metadata": {},
     "output_type": "execute_result"
    }
   ],
   "source": [
    "def sparse_matrix_nbytes(M):\n",
    "    return M.data.nbytes + M.indptr.nbytes + M.indices.nbytes\n",
    "\n",
    "\n",
    "A = random(10 ** 3, 10 ** 5, density=.01, format='csr')\n",
    "sparse_matrix_nbytes(A) / A.toarray().nbytes"
   ]
  },
  {
   "cell_type": "markdown",
   "metadata": {},
   "source": [
    "So, there's that - this sparse matrix only takes up 1.5% of the space of the original matrix - huge savings!\n",
    "\n",
    "Let's explore how sparse matrices work and exemplify some implementations (more can be seen in the appendix)."
   ]
  },
  {
   "cell_type": "markdown",
   "metadata": {},
   "source": [
    "### 2.1.1 Dictionary of keys (DOK)\n",
    "\n",
    "The most straightforward implementation of a sparse matrix is as a dictionary of keys, in which the keys are tuples that represent indices.\n",
    "\n",
    "```\n",
    "┌───┬───┬───┐          \n",
    "│ 2 │ 0 │ 0 │          {  \n",
    "├───┼───┼───┤            (0, 0): 2,\n",
    "│ 0 │ 5 │ 0 │ → DoK →    (1, 1): 5,\n",
    "├───┼───┼───┤            (2, 1): 3,\n",
    "│ 0 │ 3 │ 0 │          }\n",
    "└───┴───┴───┘ \n",
    "```"
   ]
  },
  {
   "cell_type": "code",
   "execution_count": 9,
   "metadata": {},
   "outputs": [
    {
     "data": {
      "text/plain": [
       "array([[0.        , 0.        , 0.        , 0.        , 0.        ],\n",
       "       [0.        , 0.        , 0.        , 0.52475643, 0.        ],\n",
       "       [0.        , 0.        , 0.        , 0.        , 0.        ],\n",
       "       [0.        , 0.30424224, 0.        , 0.        , 0.        ],\n",
       "       [0.        , 0.        , 0.        , 0.        , 0.        ]])"
      ]
     },
     "execution_count": 9,
     "metadata": {},
     "output_type": "execute_result"
    }
   ],
   "source": [
    "B = random(5, 5, density=.08, format='dok', random_state=42)\n",
    "\n",
    "B.toarray()"
   ]
  },
  {
   "cell_type": "code",
   "execution_count": 10,
   "metadata": {},
   "outputs": [
    {
     "data": {
      "text/plain": [
       "{(3, 1): 0.3042422429595377, (1, 3): 0.5247564316322378}"
      ]
     },
     "execution_count": 10,
     "metadata": {},
     "output_type": "execute_result"
    }
   ],
   "source": [
    "dict(B)"
   ]
  },
  {
   "cell_type": "markdown",
   "metadata": {},
   "source": [
    "### 2.1.2 Compressed sparse (CS)\n",
    "\n",
    "Although the DOK implementation is quite easy to understand, the most used format is the **Compressed sparse (CS)** and this is the one we are going to use going forward. It has a Row and a Column variants.\n",
    "\n",
    "The **Compressed sparse row (CSR)**, uses three arrays:\n",
    "* `data`, the value vector containing all non-zero values in [row-major order](https://en.wikipedia.org/wiki/Row-_and_column-major_order)\n",
    "* `indptr`, the index pointer indicates at which element of the value vector each row starts and ends\n",
    "* `indices`, contains the column indices for each value from the value vector.\n",
    "\n",
    "```\n",
    "┌───┬───┬───┐                   \n",
    "│ 1 │ 0 │ 1 │          Matrix data:    [1, 1, 1] \n",
    "├───┼───┼───┤          \n",
    "│ 0 │ 0 │ 0 │ → CSR →  Matrix indptr:  [0, 2, 2, 3]\n",
    "├───┼───┼───┤          \n",
    "│ 0 │ 0 │ 1 │          Matrix indices: [0, 2, 2]\n",
    "└───┴───┴───┘ \n",
    "```\n",
    "\n",
    "In fact, the index pointers tell us the starting and stopping indices `data[i, j]` for each row. For the example \n",
    "above:\n",
    "* The first row is given by `data[0:2]`\n",
    "* The second row is given by `data[2:2]`\n",
    "* The third row is given by `data[2:3]`.\n",
    "\n",
    "For a better visualization, check the CSR representation from an advanced paper on [Dynamic-CSR](https://www.semanticscholar.org/paper/Dynamic-CSR-%3A-A-Format-for-Dynamic-Sparse-Matrix-King-Gilray/cee342df5f4e93747d5d2ff9804b8129f818768c#citing-papers) *[citation: King, James et al. “Dynamic-CSR : A Format for Dynamic Sparse-Matrix Updates.” (2016).]*.\n",
    "\n",
    "![Compressed Sparse Row Representation](./media/csr.jpg)\n",
    "\n",
    "\n",
    "The **Compressed sparse column (CSC)** format is similar, but the pointers refer to columns and the indices to the rows.\n",
    "\n",
    "When comparing the two types of compressed sparse matrices:\n",
    "* `CSR` provides efficient row slicing but slow column slicing, i.e., better accessing and operating on row vectors\n",
    "* `CSC` provides efficient column slicing but slow row slicing, i.e., better accessing and operating on column vectors.\n",
    "\n",
    "Let's see an example of the CSR format:"
   ]
  },
  {
   "cell_type": "code",
   "execution_count": 11,
   "metadata": {},
   "outputs": [
    {
     "data": {
      "text/plain": [
       "array([[0.22027153, 0.        , 0.        , 0.16514066, 0.        ],\n",
       "       [0.        , 0.        , 0.73870729, 0.        , 0.        ],\n",
       "       [0.        , 0.        , 0.        , 0.        , 0.        ],\n",
       "       [0.92758757, 0.        , 0.        , 0.        , 0.        ],\n",
       "       [0.10069371, 0.        , 0.        , 0.        , 0.        ]])"
      ]
     },
     "execution_count": 11,
     "metadata": {},
     "output_type": "execute_result"
    }
   ],
   "source": [
    "E = random(5, 5, density=.2, format='csr', random_state=65)\n",
    "\n",
    "E.toarray()"
   ]
  },
  {
   "cell_type": "code",
   "execution_count": 12,
   "metadata": {},
   "outputs": [
    {
     "data": {
      "text/plain": [
       "array([0.22027153, 0.16514066, 0.73870729, 0.92758757, 0.10069371])"
      ]
     },
     "execution_count": 12,
     "metadata": {},
     "output_type": "execute_result"
    }
   ],
   "source": [
    "E.data"
   ]
  },
  {
   "cell_type": "code",
   "execution_count": 13,
   "metadata": {},
   "outputs": [
    {
     "data": {
      "text/plain": [
       "array([0, 2, 3, 3, 4, 5], dtype=int32)"
      ]
     },
     "execution_count": 13,
     "metadata": {},
     "output_type": "execute_result"
    }
   ],
   "source": [
    "E.indptr"
   ]
  },
  {
   "cell_type": "code",
   "execution_count": 14,
   "metadata": {},
   "outputs": [
    {
     "data": {
      "text/plain": [
       "array([0, 3, 2, 0, 0], dtype=int32)"
      ]
     },
     "execution_count": 14,
     "metadata": {},
     "output_type": "execute_result"
    }
   ],
   "source": [
    "E.indices"
   ]
  },
  {
   "cell_type": "markdown",
   "metadata": {},
   "source": [
    "## 2.2 Creating sparse matrices\n",
    "\n",
    "Back to our rating matrix $R$ from the previous section:\n",
    "\n",
    "```\n",
    "    ┌───┬───┬───┐                   \n",
    "    │ 1 │   │ 2 │\n",
    "    ├───┼───┼───┤          \n",
    "R = │ 1 │ 5 │   │\n",
    "    ├───┼───┼───┤          \n",
    "    │   │ 2 │ 1 │\n",
    "    └───┴───┴───┘ \n",
    "```\n",
    "\n",
    "In this section, we will build sparse representations of $R$.\n",
    "\n",
    "We start from our standard array."
   ]
  },
  {
   "cell_type": "code",
   "execution_count": 15,
   "metadata": {},
   "outputs": [
    {
     "data": {
      "text/plain": [
       "array([[1, 0, 2],\n",
       "       [1, 5, 0],\n",
       "       [0, 2, 1]])"
      ]
     },
     "execution_count": 15,
     "metadata": {},
     "output_type": "execute_result"
    }
   ],
   "source": [
    "data = np.array([1, 0, 2, 1, 5, 0, 0, 2, 1]).reshape(3, 3)\n",
    "data"
   ]
  },
  {
   "cell_type": "markdown",
   "metadata": {},
   "source": [
    "### 2.2.1 DOK\n",
    "\n",
    "A matrix in `DOK` format can be constructed incrementally:"
   ]
  },
  {
   "cell_type": "code",
   "execution_count": 16,
   "metadata": {},
   "outputs": [
    {
     "data": {
      "text/plain": [
       "<3x3 sparse matrix of type '<class 'numpy.float64'>'\n",
       "\twith 6 stored elements in Dictionary Of Keys format>"
      ]
     },
     "execution_count": 16,
     "metadata": {},
     "output_type": "execute_result"
    }
   ],
   "source": [
    "F = dok_matrix((3, 3))\n",
    "\n",
    "for i in range(3):\n",
    "    for j in range(3):\n",
    "        F[i, j] = data[i, j]\n",
    "F        "
   ]
  },
  {
   "cell_type": "code",
   "execution_count": 17,
   "metadata": {},
   "outputs": [
    {
     "data": {
      "text/plain": [
       "array([[1., 0., 2.],\n",
       "       [1., 5., 0.],\n",
       "       [0., 2., 1.]])"
      ]
     },
     "execution_count": 17,
     "metadata": {},
     "output_type": "execute_result"
    }
   ],
   "source": [
    "F.toarray()"
   ]
  },
  {
   "cell_type": "markdown",
   "metadata": {},
   "source": [
    "### 2.2.2 Compressed sparse\n",
    "\n",
    "Numpy matrices can easily be converted to the `CSR` format:"
   ]
  },
  {
   "cell_type": "code",
   "execution_count": 18,
   "metadata": {},
   "outputs": [
    {
     "data": {
      "text/plain": [
       "<3x3 sparse matrix of type '<class 'numpy.int64'>'\n",
       "\twith 6 stored elements in Compressed Sparse Row format>"
      ]
     },
     "execution_count": 18,
     "metadata": {},
     "output_type": "execute_result"
    }
   ],
   "source": [
    "H_csr = csr_matrix(data)\n",
    "H_csr"
   ]
  },
  {
   "cell_type": "code",
   "execution_count": 19,
   "metadata": {},
   "outputs": [
    {
     "data": {
      "text/plain": [
       "array([1, 2, 1, 5, 2, 1])"
      ]
     },
     "execution_count": 19,
     "metadata": {},
     "output_type": "execute_result"
    }
   ],
   "source": [
    "H_csr.data"
   ]
  },
  {
   "cell_type": "code",
   "execution_count": 20,
   "metadata": {},
   "outputs": [
    {
     "data": {
      "text/plain": [
       "array([0, 2, 4, 6], dtype=int32)"
      ]
     },
     "execution_count": 20,
     "metadata": {},
     "output_type": "execute_result"
    }
   ],
   "source": [
    "H_csr.indptr"
   ]
  },
  {
   "cell_type": "code",
   "execution_count": 21,
   "metadata": {},
   "outputs": [
    {
     "data": {
      "text/plain": [
       "array([0, 2, 0, 1, 1, 2], dtype=int32)"
      ]
     },
     "execution_count": 21,
     "metadata": {},
     "output_type": "execute_result"
    }
   ],
   "source": [
    "H_csr.indices"
   ]
  },
  {
   "cell_type": "markdown",
   "metadata": {},
   "source": [
    "The process is exactly the same to convert to `CSC`:"
   ]
  },
  {
   "cell_type": "code",
   "execution_count": 22,
   "metadata": {
    "scrolled": true
   },
   "outputs": [
    {
     "data": {
      "text/plain": [
       "<3x3 sparse matrix of type '<class 'numpy.int64'>'\n",
       "\twith 6 stored elements in Compressed Sparse Column format>"
      ]
     },
     "execution_count": 22,
     "metadata": {},
     "output_type": "execute_result"
    }
   ],
   "source": [
    "H_csc = csc_matrix(data)\n",
    "H_csc"
   ]
  },
  {
   "cell_type": "markdown",
   "metadata": {},
   "source": [
    "### 2.2.3 From pandas DataFrame to SciPy sparse\n",
    "\n",
    "If you have a pandas DataFrame (containing only numerical values, of course), you don't need to create a numpy array from it and then convert to SciPy sparse: you can do it directly!\n",
    "This allows you to use Pandas to do cool feature engineering and plot things."
   ]
  },
  {
   "cell_type": "code",
   "execution_count": 23,
   "metadata": {},
   "outputs": [
    {
     "data": {
      "text/html": [
       "<div>\n",
       "<style scoped>\n",
       "    .dataframe tbody tr th:only-of-type {\n",
       "        vertical-align: middle;\n",
       "    }\n",
       "\n",
       "    .dataframe tbody tr th {\n",
       "        vertical-align: top;\n",
       "    }\n",
       "\n",
       "    .dataframe thead th {\n",
       "        text-align: right;\n",
       "    }\n",
       "</style>\n",
       "<table border=\"1\" class=\"dataframe\">\n",
       "  <thead>\n",
       "    <tr style=\"text-align: right;\">\n",
       "      <th></th>\n",
       "      <th>Bananas</th>\n",
       "      <th>Water</th>\n",
       "      <th>Milk</th>\n",
       "    </tr>\n",
       "  </thead>\n",
       "  <tbody>\n",
       "    <tr>\n",
       "      <th>Ana</th>\n",
       "      <td>1</td>\n",
       "      <td>0</td>\n",
       "      <td>2</td>\n",
       "    </tr>\n",
       "    <tr>\n",
       "      <th>Miguel</th>\n",
       "      <td>1</td>\n",
       "      <td>5</td>\n",
       "      <td>0</td>\n",
       "    </tr>\n",
       "    <tr>\n",
       "      <th>Beatriz</th>\n",
       "      <td>0</td>\n",
       "      <td>2</td>\n",
       "      <td>1</td>\n",
       "    </tr>\n",
       "  </tbody>\n",
       "</table>\n",
       "</div>"
      ],
      "text/plain": [
       "         Bananas  Water  Milk\n",
       "Ana            1      0     2\n",
       "Miguel         1      5     0\n",
       "Beatriz        0      2     1"
      ]
     },
     "execution_count": 23,
     "metadata": {},
     "output_type": "execute_result"
    }
   ],
   "source": [
    "df = pd.DataFrame({\n",
    "    'Bananas': [1,1,0],\n",
    "    'Water': [0,5,2],\n",
    "    'Milk': [2,0,1]\n",
    "    },\n",
    "    index=['Ana', 'Miguel', 'Beatriz']\n",
    ")\n",
    "df"
   ]
  },
  {
   "cell_type": "code",
   "execution_count": 24,
   "metadata": {},
   "outputs": [
    {
     "data": {
      "text/plain": [
       "<3x3 sparse matrix of type '<class 'numpy.int64'>'\n",
       "\twith 6 stored elements in Compressed Sparse Column format>"
      ]
     },
     "execution_count": 24,
     "metadata": {},
     "output_type": "execute_result"
    }
   ],
   "source": [
    "H_df_csc = csc_matrix(df.values)\n",
    "H_df_csc"
   ]
  },
  {
   "cell_type": "code",
   "execution_count": 25,
   "metadata": {},
   "outputs": [
    {
     "data": {
      "text/plain": [
       "array([[1, 0, 2],\n",
       "       [1, 5, 0],\n",
       "       [0, 2, 1]])"
      ]
     },
     "execution_count": 25,
     "metadata": {},
     "output_type": "execute_result"
    }
   ],
   "source": [
    "H_df_csc .toarray()"
   ]
  }
 ],
 "metadata": {
  "kernelspec": {
   "display_name": "Python 3 (ipykernel)",
   "language": "python",
   "name": "python3"
  },
  "language_info": {
   "codemirror_mode": {
    "name": "ipython",
    "version": 3
   },
   "file_extension": ".py",
   "mimetype": "text/x-python",
   "name": "python",
   "nbconvert_exporter": "python",
   "pygments_lexer": "ipython3",
   "version": "3.8.15"
  }
 },
 "nbformat": 4,
 "nbformat_minor": 2
}
