{
 "cells": [
  {
   "cell_type": "markdown",
   "metadata": {},
   "source": [
    "# BLU12 - Learning Notebook 2 - Workflow"
   ]
  },
  {
   "cell_type": "code",
   "execution_count": 1,
   "metadata": {},
   "outputs": [],
   "source": [
    "# Import the necessary dependencies\n",
    "\n",
    "# Operating System\n",
    "import os\n",
    "import gc\n",
    "\n",
    "# Numpy, Pandas and Scipy\n",
    "import numpy as np\n",
    "import pandas as pd\n",
    "\n",
    "# Scikit-learn\n",
    "from sklearn.model_selection import train_test_split\n",
    "from sklearn.preprocessing import StandardScaler\n",
    "\n",
    "# LightFM\n",
    "from lightfm import LightFM\n",
    "from lightfm.data import Dataset as lfmDataset \n",
    "\n",
    "# Surprise\n",
    "from surprise import SVD\n",
    "from surprise import Dataset as sDataset\n",
    "from surprise import Reader\n",
    "\n",
    "# Model Evaluation\n",
    "from evaluation import evaluate_solution\n",
    "\n",
    "# RAM control\n",
    "from ramcontrol import check_memory_limit, memory_circuit_breaker"
   ]
  },
  {
   "cell_type": "markdown",
   "metadata": {},
   "source": [
    "### Attention: The data used in this notebook can be enough to fill your PC's RAM. To prevent your PC from turning into a bonfire, there are some steps that can be taken:\n",
    "\n",
    "<img src=\"./media/burning_pc.gif\" width=\"450\"/>\n",
    "\n",
    " - On cells that consume a lot of RAM, stop execution if RAM usage is too high. This can be done with the function `memory_circuit_breaker`. This function checks if the total computer RAM usage percentage is above a threshold and if it can't lower it, it stops execution. You can control the percentage with `memory_limit_perc` below.\n",
    " - Frequently delete useless objects along the notebook. If a dataframe or matrix is not going to be used further below a given cell, then we can delete that object and let the garbage collection clear some RAM.\n",
    " - Change the data types to lighter alternatives: integer IDs can be converted to strings, numerical values can have smaller \"bitness\" but be on the lookout for [overflow errors](https://numpy.org/doc/stable/user/basics.types.html#overflow-errors) (for example: using `np.float32` instead of `np.float64`), remove unused features early, etc.\n",
    " - If RAM is still an issue at this point, we can subset the original dataset to work with a smaller fraction of the data. Of course, this will impact the quality of your models and recommendations, but if it is necessary to follow the notebook then subset the data.\n",
    " - When you execute cells multiple times, it might happen that the memory usage increases at each execution, even if no new objects or data is generated. If that's the case, you should restart the kernel and re-execute the cells.\n",
    " - Ultimately, you may need more RAM. ¯\\\\_(ツ)_/¯"
   ]
  },
  {
   "cell_type": "code",
   "execution_count": 2,
   "metadata": {},
   "outputs": [],
   "source": [
    "# limit of total memory percentage that be used [0.,100.]\n",
    "memory_limit_perc = 70."
   ]
  },
  {
   "cell_type": "markdown",
   "metadata": {},
   "source": [
    "### Table of contents\n",
    "[1. Introduction](#1-Introduction)   \n",
    "&emsp;[1.1 Context](#1.1-Context)   \n",
    "&emsp;[1.2 Technical task](#1.2-Technical-task)   \n",
    "&emsp;[1.3 Evaluation](#1.3-Evaluation)   \n",
    "[2. Data](#2.-Data)   \n",
    "&emsp;[2.1 Step -1: Available data](#2.1-Step--1:-Available-data)   \n",
    "&emsp;[2.2 Step 0: Load the data](#2.2-Step-0:-Load-the-data)   \n",
    "&emsp;[2.3 Step 0.1: Load the interaction file](#2.3-Step-0.1:-Load-the-interaction-file)   \n",
    "&emsp;[2.4 Step 0.2: Load the recipes metadata file](#2.4-Step-0.2:-Load-the-recipes-metadata-file)   \n",
    "&emsp;[2.5 Step 0.3: Load test users file](#2.5-Step-0.3:-Load-test-users-file)   \n",
    "&emsp;[2.6 Step 1: Interaction data exploration](#2.6-Step-1:-Interaction-data-exploration)   \n",
    "&emsp;&emsp;[2.6.1 Removing zero rating recipes](#2.6.1-Removing-zero-rating-recipes)   \n",
    "&emsp;&emsp;[2.6.2 Removing columns](#2.6.2-Removing-columns)   \n",
    "&emsp;[2.7 Train/validation split](#2.7-Train/validation-split)   \n",
    "&emsp;&emsp;[2.7.1 Training set](#2.7.1-Training-set)   \n",
    "&emsp;&emsp;[2.7.2 Validation set](#2.7.2-Validation-set)   \n",
    "[3. Non-personalized recommendations](#3.-Non-personalized-recommendations)   \n",
    "&emsp;[3.1 Output non-personalized solution](#3.1-Output-non-personalized-solution)   \n",
    "&emsp;[3.2 Non-personalized recommendations for validation data](#3.2-Non-personalized-recommendations-for-validation-data)   \n",
    "&emsp;[3.3 Non-personalized recommendations for test data](#3.3-Non-personalized-recommendations-for-test-data)   \n",
    "[4. Collaborative filtering](#4.-Collaborative-filtering)   \n",
    "&emsp;[4.1 Let's test with a couple of users](#4.1-Let's-test-with-a-couple-of-users)   \n",
    "&emsp;[4.2 Collaborative filtering recommendations for validation data](#4.2-Collaborative-filtering-recommendations-for-validation-data)   \n",
    "&emsp;[4.3 Collaborative filtering recommendations for test data](#4.3-Collaborative-filtering-recommendations-for-test-data)   \n",
    "[5. Content-based recommendations](#5.-Content-based-recommendations)   \n",
    "&emsp;[5.1 Exploring and cleaning recipe data](#5.1-Exploring-and-cleaning-recipe-data)   \n",
    "&emsp;[5.2 Content-based recommendations for validation data](#5.2-Content-based-recommendations-for-validation-data)   \n",
    "&emsp;[5.3 Content-based recommendations for test data](#5.3-Content-based-recommendations-for-test-data)   \n",
    "[6. Collaborative recommendations with Surprise](#6.-Collaborative-recommendations-with-Surprise)   \n",
    "&emsp;[6.1 Collaborative filtering recommendations for validation data (with Surprise)](#6.1-Collaborative-filtering-recommendations-for-validation-data-(with-Surprise))   \n",
    "&emsp;[6.2 Collaborative filtering recommendations for test data (with Surprise)](#6.2-Collaborative-filtering-recommendations-for-test-data-(with-Surprise))   \n",
    "[7. Model selection](#7.-Model-selection)   \n",
    "[8. Next steps](#8.-Next-steps)   "
   ]
  },
  {
   "cell_type": "markdown",
   "metadata": {},
   "source": [
    "## 1. Introduction\n",
    "This week, we are going to simulate the real-life environment of the Hackathon! We will provide you with a dataset, some tips and you are going to train, validate and predict with a Recommender System using all the knowledge acquired throughout this specialization.\n",
    "\n",
    "### 1.1 Context\n",
    "You have finished the Academy and you are hired as a Data Scientist in Recommenu. Recommenu is a disruptive crowdsourcing peer-to-peer mobile app experience developed to deliver a unique environment especially designed for maximum enjoyment by empowering users to engage in recipe sharing and reviewing in a paradigm shift block-chain powered AI platform.\n",
    "\n",
    "<img src=\"./media/recommenu_logo.png\" width=\"500\"/>\n",
    "\n",
    "First week on the job and the CEO of the next-unicorn-startup that hired you pitches your first task for the company: build a recommender system to suggest users what they should prepare for their next meals. Your recommendations should be based on their reviews but also on the reviews of other users.\n",
    "\n",
    "She doesn't care how you do it or how it works, just that you use fancy trendy eye-catching mind-blowing AI *stuff* to promote Recommenu's name in the Data Science industry.\n",
    "\n",
    "### 1.2 Technical task\n",
    "After the pitch from the CEO, you talk with your Lead Data Scientist and you get the tasks needed to fulfill the job. The company collected some data on the users and recipes, you will need to create the recommender system that is effective enough so that your users will always know what to cook. The main task is to find the best recommendations for each user.\n",
    "\n",
    "### 1.3 Evaluation\n",
    "\n",
    "Your Lead DS will keep some of the data as a test dataset (in which you will estimate production performance) and gives you the remaining data.\n",
    "\n",
    "The expected output is 50 recommendations for each user. The recommendations are compared with the test dataset and evaluated using map@50.\n",
    "\n",
    "Review the `example_out.csv` file to know the expected output format. "
   ]
  },
  {
   "cell_type": "markdown",
   "metadata": {},
   "source": [
    "## 2. Data\n",
    "\n",
    "### 2.1 Step -1: Available data\n",
    "The available data is in the `./data/` folder. As a good data scientist, the first step is to validate that the data you have will be good enough to proceed.\n",
    "\n",
    "The files we have available for the **training** stage are:\n",
    "* `interactions_train.csv` has the users' review history training data\n",
    "* `RAW_recipes.csv`: has the all recipes' metadata information\n",
    "\n",
    "\n",
    "For the **test** stage, we have:\n",
    "* `test_users.csv`: has the users' ID to recommend recipes\n",
    "* `example_output.csv`: has an example of an output (just for a couple of users)\n",
    "\n",
    "The best approach is to look at the raw files and print out the first rows of each file just to get a overall sense of what we have.\n",
    "\n",
    "*Note*: since the `RAW_recipes.csv` is heavy, it was stored in a zip file which you will need to unzip first.\n",
    "\n",
    "*Note for Windows users: remember that you need to convert the head command into the Windows equivalent. Tip: you can use what you learned in Data Wrangling Learning Unit!*"
   ]
  },
  {
   "cell_type": "code",
   "execution_count": 3,
   "metadata": {},
   "outputs": [
    {
     "name": "stdout",
     "output_type": "stream",
     "text": [
      "RAW_interactions_train.csv \n",
      "\n",
      "user_id,recipe_id,review_date,rating,comment\r\n",
      "2133146,40767,2012-01-03,0,\"i'm yet to try this recipe but my dad makes one very similar. it's definitely sweetened condensed milk (because its thick and sugary), and the sugar has to be simmered until its melted completely. my father also used golden syrup on top of the ingredients listed here. you can also add a small portion of water once the ingredients are thoroughly combined and sugar melted and place back on low heat to thicken up again\"\r\n",
      "1619510,169999,2011-06-18,5,\"Made this many times, absolutly love it. Like my corn on the raw side took kpfen advise and only cooked it for 15 minutes....\"\r\n"
     ]
    }
   ],
   "source": [
    "print(\"RAW_interactions_train.csv \\n\")\n",
    "!head -3 data/RAW_interactions_train.csv"
   ]
  },
  {
   "cell_type": "code",
   "execution_count": 4,
   "metadata": {},
   "outputs": [
    {
     "name": "stdout",
     "output_type": "stream",
     "text": [
      "RAW_recipes.csv\n",
      "\n",
      "name,id,minutes,contributor_id,submitted,tags,nutrition,n_steps,steps,description,ingredients,n_ingredients\r\n",
      "bananas 4 ice cream  pie,70971,180,102353,2003-09-10,\"['weeknight', 'time-to-make', 'course', 'main-ingredient', 'preparation', 'pies-and-tarts', 'desserts', 'lunch', 'snacks', 'no-cook', 'refrigerator', 'kid-friendly', 'frozen-desserts', 'pies', 'chocolate', 'dietary', 'inexpensive', 'equipment', 'number-of-servings', 'technique', '4-hours-or-less']\",\"[4270.8, 254.0, 1306.0, 111.0, 127.0, 431.0, 220.0]\",8,\"['crumble cookies into a 9-inch pie plate , or cake pan', 'pat down to form an even layer', 'drizzle 1 cup of chocolate topping evenly over the cookies with a small spoon', 'scoop the vanilla ice cream on top of the chocolate and smooth down', 'cover with half of the sliced bananas', 'top with strawberry ice cream', 'cover and freeze until firm', 'before serving , top with 1 / 4 cup chocolate topping , whipped cream , and sliced bananas']\",,\"['chocolate sandwich style cookies', 'chocolate syrup', 'vanilla ice cream', 'bananas', 'strawberry ice cream', 'whipped cream']\",6\r\n"
     ]
    }
   ],
   "source": [
    "print(\"RAW_recipes.csv\\n\")\n",
    "!head -2 data/RAW_recipes.csv"
   ]
  },
  {
   "cell_type": "code",
   "execution_count": 5,
   "metadata": {},
   "outputs": [
    {
     "name": "stdout",
     "output_type": "stream",
     "text": [
      "test_users.csv \n",
      "\n",
      "user_id\r\n",
      "1535\r\n",
      "2310\r\n",
      "2312\r\n",
      "3288\r\n",
      "4291\r\n",
      "4439\r\n",
      "4470\r\n",
      "4740\r\n",
      "5060\r\n"
     ]
    }
   ],
   "source": [
    "print(\"test_users.csv \\n\")\n",
    "!head -10 data/test_users.csv"
   ]
  },
  {
   "cell_type": "code",
   "execution_count": 6,
   "metadata": {},
   "outputs": [
    {
     "name": "stdout",
     "output_type": "stream",
     "text": [
      "example_output.csv \n",
      "\n",
      "ba986b9277b96cd6de07dd07be8362b67b764dd4,12985,304842,293304,414,25150,314086,68212,217471,14397,177172,54386,315812,319911,243769,302247,86545,2078,16220,310418,302369,289658,221730,333259,311604,52478,307202,329834,25323,337625,277126,87433,170541,212702,24825,212017,348629,127365,241705,183796,341456,170222,207916,384072,132813,107193,188549,362714,138672,21771,339689,38941,177486,244143,285387,157386,307140,126831,302031,181854,192716,334187,57500,165401,305991,207935,351764,105434,45592,187097,311262,266750,109807,90822,311702,208383,52176,243307,97972,19682,353035,30292,72314,105694,108137,335634,55364,84395,147076,261596,49469,39842,245936,69165,202995,49781,142602,223714,122591,333064,149655,11147,69227,252967,8402,180413,291341,321987,79814,167248,168430,30643,36589,362643,165753,247135,378274,172483,353700,93787,177574,150116,250930,245012,129495,307414,315425,340072,334240,114624,39401,183790,348308,47391,242558,186377,100897,248603,142745,261901,162388,345265,263933,130077,368393,57225,3525,383719,225153,211334,16174,123457,25706,290375,18659,144822,11011,106583,281075,212852,65358,357810,80219,234609,180961,286585,384867,173528,86689,147248,233124,295289,354625,200290,141858,62467,262242,142093,106938,339376,108845,170852,342771,299538,269885,302901,379370,2242,50740,95103,233632,344876,19159,12554,37096,242151,154559,204174,26935,118989,258876,104967,359476,67850,115162,103524,294932,107099,113267,285117,384804,37133,251150,144511,273894,374773,364125,363499,237680,197733,327413,103466,100771,18535,360529,21336,70955,30040,26705,89877,366619,206251,212432,82048,2923,71432,369493,224243,151129,10974,160878,46393,58821,232052,2607,7530,175099,236352,82113,341506,329869,116648,28070,34845,98159,273650,163838,26673,327320,201980,225108,373821,43768,97877,91536,282116,516,195088,289238,204165,147082,183572,330392,198718,228908,188333,315546,170645,148050,90974,8201,40311,251101,275435,145229,190270,384923,262794,45265,249112,191205,123113,24400,373947,269572,57565,351817,137197,305804,378161,374972,365793,9655,374902,140654,49724,92515,121349,268231,321930,48688,279862,309384,157562,60866,278084,137338,350805,190006,188700,327086,165972,171320,320656,149980,183682,280035,189538,227404,37046,78964,101204,10208,70949,359966,248927,104805,235145,336461,115734,237672,205666,339774,127276,74558,348491,301690,148041,209788,198994,362652,149371,207699,115107,289108,158075,371705,35067,6276,319788,98418,9402,197451,314143,189553,287391,305496,76417,182917,66327,290073,67219,77729,37214,280827,196087,74321,252262,178028,284507,1590,225531,153623,133887,189905,271406,54368,99940,46039,96041,142382,221812,331326,98924,168493,288347,346138,48323,115101,171653,352818,6982,275256,251735,155424,206288,277036,380381,205438,52844,191270,62960,243516,49770,296742,190479,198665,359613,380489,229935,166796,25890,278229,226501,121402,271676,70628,15847,201050,26812,17994,198218,283925,224988,253868,89424,70839,107825,172688,381931,128469,130182,105213,142493,69983,45620,35266,78404,190591,126648,157291,186533,322169,84673,12305,329813,254647,312175,191170,373418,104505,312338,265175,41131,59866,252886,315974,318496,59631,59916,110402,235155,356911,195772,239031,128723,226526,281007,306779,28977,335254,190305,256158,384538,61211,131840,355207,118681,86191,300627,105749,176395,372451,99587,348454,349220,105937,140694,363559,257947,94236\r",
      "\r\n"
     ]
    }
   ],
   "source": [
    "print(\"example_output.csv \\n\")\n",
    "!head -1 data/example_output.csv"
   ]
  },
  {
   "cell_type": "markdown",
   "metadata": {},
   "source": [
    "### 2.2 Step 0: Load the data\n",
    "After validating that the data we have is good enough, we start with building the ratings matrix. Our strategy for the first model is to get a non-personalized system as a baseline. This allows us to both predict for existing users (no cold-start problem) and for new users."
   ]
  },
  {
   "cell_type": "markdown",
   "metadata": {},
   "source": [
    "### 2.3 Step 0.1: Load the interaction file"
   ]
  },
  {
   "cell_type": "code",
   "execution_count": 7,
   "metadata": {},
   "outputs": [
    {
     "data": {
      "text/html": [
       "<div>\n",
       "<style scoped>\n",
       "    .dataframe tbody tr th:only-of-type {\n",
       "        vertical-align: middle;\n",
       "    }\n",
       "\n",
       "    .dataframe tbody tr th {\n",
       "        vertical-align: top;\n",
       "    }\n",
       "\n",
       "    .dataframe thead th {\n",
       "        text-align: right;\n",
       "    }\n",
       "</style>\n",
       "<table border=\"1\" class=\"dataframe\">\n",
       "  <thead>\n",
       "    <tr style=\"text-align: right;\">\n",
       "      <th></th>\n",
       "      <th>user_id</th>\n",
       "      <th>recipe_id</th>\n",
       "      <th>review_date</th>\n",
       "      <th>rating</th>\n",
       "      <th>comment</th>\n",
       "    </tr>\n",
       "  </thead>\n",
       "  <tbody>\n",
       "    <tr>\n",
       "      <th>0</th>\n",
       "      <td>2133146</td>\n",
       "      <td>40767</td>\n",
       "      <td>2012-01-03</td>\n",
       "      <td>0</td>\n",
       "      <td>i'm yet to try this recipe but my dad makes on...</td>\n",
       "    </tr>\n",
       "    <tr>\n",
       "      <th>1</th>\n",
       "      <td>1619510</td>\n",
       "      <td>169999</td>\n",
       "      <td>2011-06-18</td>\n",
       "      <td>5</td>\n",
       "      <td>Made this many times, absolutly love it. Like ...</td>\n",
       "    </tr>\n",
       "    <tr>\n",
       "      <th>2</th>\n",
       "      <td>1072593</td>\n",
       "      <td>111434</td>\n",
       "      <td>2014-08-07</td>\n",
       "      <td>5</td>\n",
       "      <td>The family&amp;#039;s divided on this one.  The ra...</td>\n",
       "    </tr>\n",
       "    <tr>\n",
       "      <th>3</th>\n",
       "      <td>72489</td>\n",
       "      <td>15059</td>\n",
       "      <td>2004-12-20</td>\n",
       "      <td>5</td>\n",
       "      <td>C'est si bon!  These are delicious and delecta...</td>\n",
       "    </tr>\n",
       "    <tr>\n",
       "      <th>4</th>\n",
       "      <td>109110</td>\n",
       "      <td>336205</td>\n",
       "      <td>2013-06-10</td>\n",
       "      <td>0</td>\n",
       "      <td>This wasn&amp;#039;t to our taste.</td>\n",
       "    </tr>\n",
       "  </tbody>\n",
       "</table>\n",
       "</div>"
      ],
      "text/plain": [
       "   user_id  recipe_id review_date  rating  \\\n",
       "0  2133146      40767  2012-01-03       0   \n",
       "1  1619510     169999  2011-06-18       5   \n",
       "2  1072593     111434  2014-08-07       5   \n",
       "3    72489      15059  2004-12-20       5   \n",
       "4   109110     336205  2013-06-10       0   \n",
       "\n",
       "                                             comment  \n",
       "0  i'm yet to try this recipe but my dad makes on...  \n",
       "1  Made this many times, absolutly love it. Like ...  \n",
       "2  The family&#039;s divided on this one.  The ra...  \n",
       "3  C'est si bon!  These are delicious and delecta...  \n",
       "4                     This wasn&#039;t to our taste.  "
      ]
     },
     "execution_count": 7,
     "metadata": {},
     "output_type": "execute_result"
    }
   ],
   "source": [
    "train_path = os.path.join('data', 'RAW_interactions_train.csv')\n",
    "data = pd.read_csv(train_path)\n",
    "data.head()"
   ]
  },
  {
   "cell_type": "markdown",
   "metadata": {},
   "source": [
    "### 2.4 Step 0.2: Load the recipes metadata file"
   ]
  },
  {
   "cell_type": "code",
   "execution_count": 8,
   "metadata": {},
   "outputs": [
    {
     "data": {
      "text/html": [
       "<div>\n",
       "<style scoped>\n",
       "    .dataframe tbody tr th:only-of-type {\n",
       "        vertical-align: middle;\n",
       "    }\n",
       "\n",
       "    .dataframe tbody tr th {\n",
       "        vertical-align: top;\n",
       "    }\n",
       "\n",
       "    .dataframe thead th {\n",
       "        text-align: right;\n",
       "    }\n",
       "</style>\n",
       "<table border=\"1\" class=\"dataframe\">\n",
       "  <thead>\n",
       "    <tr style=\"text-align: right;\">\n",
       "      <th></th>\n",
       "      <th>name</th>\n",
       "      <th>id</th>\n",
       "      <th>minutes</th>\n",
       "      <th>contributor_id</th>\n",
       "      <th>submitted</th>\n",
       "      <th>tags</th>\n",
       "      <th>nutrition</th>\n",
       "      <th>n_steps</th>\n",
       "      <th>steps</th>\n",
       "      <th>description</th>\n",
       "      <th>ingredients</th>\n",
       "      <th>n_ingredients</th>\n",
       "    </tr>\n",
       "  </thead>\n",
       "  <tbody>\n",
       "    <tr>\n",
       "      <th>0</th>\n",
       "      <td>bananas 4 ice cream  pie</td>\n",
       "      <td>70971</td>\n",
       "      <td>180</td>\n",
       "      <td>102353</td>\n",
       "      <td>2003-09-10</td>\n",
       "      <td>['weeknight', 'time-to-make', 'course', 'main-...</td>\n",
       "      <td>[4270.8, 254.0, 1306.0, 111.0, 127.0, 431.0, 2...</td>\n",
       "      <td>8</td>\n",
       "      <td>['crumble cookies into a 9-inch pie plate , or...</td>\n",
       "      <td>NaN</td>\n",
       "      <td>['chocolate sandwich style cookies', 'chocolat...</td>\n",
       "      <td>6</td>\n",
       "    </tr>\n",
       "    <tr>\n",
       "      <th>1</th>\n",
       "      <td>beat this  banana bread</td>\n",
       "      <td>75452</td>\n",
       "      <td>70</td>\n",
       "      <td>15892</td>\n",
       "      <td>2003-11-04</td>\n",
       "      <td>['weeknight', 'time-to-make', 'course', 'main-...</td>\n",
       "      <td>[2669.3, 160.0, 976.0, 107.0, 62.0, 310.0, 138.0]</td>\n",
       "      <td>12</td>\n",
       "      <td>['preheat oven to 350 degrees', 'butter two 9x...</td>\n",
       "      <td>from ann hodgman's</td>\n",
       "      <td>['sugar', 'unsalted butter', 'bananas', 'eggs'...</td>\n",
       "      <td>9</td>\n",
       "    </tr>\n",
       "    <tr>\n",
       "      <th>2</th>\n",
       "      <td>better than sex  strawberries</td>\n",
       "      <td>42198</td>\n",
       "      <td>1460</td>\n",
       "      <td>41531</td>\n",
       "      <td>2002-10-03</td>\n",
       "      <td>['weeknight', 'time-to-make', 'course', 'main-...</td>\n",
       "      <td>[734.1, 66.0, 199.0, 10.0, 10.0, 117.0, 28.0]</td>\n",
       "      <td>8</td>\n",
       "      <td>['crush vanilla wafers into fine crumbs and li...</td>\n",
       "      <td>simple but sexy. this was in my local newspape...</td>\n",
       "      <td>['vanilla wafers', 'butter', 'powdered sugar',...</td>\n",
       "      <td>7</td>\n",
       "    </tr>\n",
       "    <tr>\n",
       "      <th>3</th>\n",
       "      <td>better then bush s  baked beans</td>\n",
       "      <td>67547</td>\n",
       "      <td>2970</td>\n",
       "      <td>85627</td>\n",
       "      <td>2003-07-26</td>\n",
       "      <td>['weeknight', 'time-to-make', 'course', 'main-...</td>\n",
       "      <td>[462.4, 28.0, 214.0, 69.0, 14.0, 29.0, 23.0]</td>\n",
       "      <td>9</td>\n",
       "      <td>['in a very large sauce pan cover the beans an...</td>\n",
       "      <td>i'd have to say that this is a labor of love d...</td>\n",
       "      <td>['great northern bean', 'chicken bouillon cube...</td>\n",
       "      <td>13</td>\n",
       "    </tr>\n",
       "    <tr>\n",
       "      <th>4</th>\n",
       "      <td>chinese  candy</td>\n",
       "      <td>23933</td>\n",
       "      <td>15</td>\n",
       "      <td>35268</td>\n",
       "      <td>2002-03-29</td>\n",
       "      <td>['15-minutes-or-less', 'time-to-make', 'course...</td>\n",
       "      <td>[232.7, 21.0, 77.0, 4.0, 6.0, 38.0, 8.0]</td>\n",
       "      <td>4</td>\n",
       "      <td>['melt butterscotch chips in heavy saucepan ov...</td>\n",
       "      <td>a little different, and oh so good. i include ...</td>\n",
       "      <td>['butterscotch chips', 'chinese noodles', 'sal...</td>\n",
       "      <td>3</td>\n",
       "    </tr>\n",
       "  </tbody>\n",
       "</table>\n",
       "</div>"
      ],
      "text/plain": [
       "                              name     id  minutes  contributor_id  \\\n",
       "0         bananas 4 ice cream  pie  70971      180          102353   \n",
       "1          beat this  banana bread  75452       70           15892   \n",
       "2    better than sex  strawberries  42198     1460           41531   \n",
       "3  better then bush s  baked beans  67547     2970           85627   \n",
       "4                   chinese  candy  23933       15           35268   \n",
       "\n",
       "    submitted                                               tags  \\\n",
       "0  2003-09-10  ['weeknight', 'time-to-make', 'course', 'main-...   \n",
       "1  2003-11-04  ['weeknight', 'time-to-make', 'course', 'main-...   \n",
       "2  2002-10-03  ['weeknight', 'time-to-make', 'course', 'main-...   \n",
       "3  2003-07-26  ['weeknight', 'time-to-make', 'course', 'main-...   \n",
       "4  2002-03-29  ['15-minutes-or-less', 'time-to-make', 'course...   \n",
       "\n",
       "                                           nutrition  n_steps  \\\n",
       "0  [4270.8, 254.0, 1306.0, 111.0, 127.0, 431.0, 2...        8   \n",
       "1  [2669.3, 160.0, 976.0, 107.0, 62.0, 310.0, 138.0]       12   \n",
       "2      [734.1, 66.0, 199.0, 10.0, 10.0, 117.0, 28.0]        8   \n",
       "3       [462.4, 28.0, 214.0, 69.0, 14.0, 29.0, 23.0]        9   \n",
       "4           [232.7, 21.0, 77.0, 4.0, 6.0, 38.0, 8.0]        4   \n",
       "\n",
       "                                               steps  \\\n",
       "0  ['crumble cookies into a 9-inch pie plate , or...   \n",
       "1  ['preheat oven to 350 degrees', 'butter two 9x...   \n",
       "2  ['crush vanilla wafers into fine crumbs and li...   \n",
       "3  ['in a very large sauce pan cover the beans an...   \n",
       "4  ['melt butterscotch chips in heavy saucepan ov...   \n",
       "\n",
       "                                         description  \\\n",
       "0                                                NaN   \n",
       "1                                from ann hodgman's    \n",
       "2  simple but sexy. this was in my local newspape...   \n",
       "3  i'd have to say that this is a labor of love d...   \n",
       "4  a little different, and oh so good. i include ...   \n",
       "\n",
       "                                         ingredients  n_ingredients  \n",
       "0  ['chocolate sandwich style cookies', 'chocolat...              6  \n",
       "1  ['sugar', 'unsalted butter', 'bananas', 'eggs'...              9  \n",
       "2  ['vanilla wafers', 'butter', 'powdered sugar',...              7  \n",
       "3  ['great northern bean', 'chicken bouillon cube...             13  \n",
       "4  ['butterscotch chips', 'chinese noodles', 'sal...              3  "
      ]
     },
     "execution_count": 8,
     "metadata": {},
     "output_type": "execute_result"
    }
   ],
   "source": [
    "recipe_meta_path = os.path.join('data', 'RAW_recipes.csv')\n",
    "recipes = pd.read_csv(recipe_meta_path)\n",
    "recipes.head()"
   ]
  },
  {
   "cell_type": "markdown",
   "metadata": {},
   "source": [
    "### 2.5 Step 0.3: Load test users file"
   ]
  },
  {
   "cell_type": "code",
   "execution_count": 9,
   "metadata": {},
   "outputs": [
    {
     "data": {
      "text/html": [
       "<div>\n",
       "<style scoped>\n",
       "    .dataframe tbody tr th:only-of-type {\n",
       "        vertical-align: middle;\n",
       "    }\n",
       "\n",
       "    .dataframe tbody tr th {\n",
       "        vertical-align: top;\n",
       "    }\n",
       "\n",
       "    .dataframe thead th {\n",
       "        text-align: right;\n",
       "    }\n",
       "</style>\n",
       "<table border=\"1\" class=\"dataframe\">\n",
       "  <thead>\n",
       "    <tr style=\"text-align: right;\">\n",
       "      <th></th>\n",
       "      <th>user_id</th>\n",
       "    </tr>\n",
       "  </thead>\n",
       "  <tbody>\n",
       "    <tr>\n",
       "      <th>0</th>\n",
       "      <td>1535</td>\n",
       "    </tr>\n",
       "    <tr>\n",
       "      <th>1</th>\n",
       "      <td>2310</td>\n",
       "    </tr>\n",
       "    <tr>\n",
       "      <th>2</th>\n",
       "      <td>2312</td>\n",
       "    </tr>\n",
       "    <tr>\n",
       "      <th>3</th>\n",
       "      <td>3288</td>\n",
       "    </tr>\n",
       "    <tr>\n",
       "      <th>4</th>\n",
       "      <td>4291</td>\n",
       "    </tr>\n",
       "  </tbody>\n",
       "</table>\n",
       "</div>"
      ],
      "text/plain": [
       "   user_id\n",
       "0     1535\n",
       "1     2310\n",
       "2     2312\n",
       "3     3288\n",
       "4     4291"
      ]
     },
     "execution_count": 9,
     "metadata": {},
     "output_type": "execute_result"
    }
   ],
   "source": [
    "test_user_path = os.path.join('data', 'test_users.csv')\n",
    "test_users = pd.read_csv(test_user_path)\n",
    "test_users.head()"
   ]
  },
  {
   "cell_type": "markdown",
   "metadata": {},
   "source": [
    "It will be useful later on to have a list of test data users:"
   ]
  },
  {
   "cell_type": "code",
   "execution_count": 10,
   "metadata": {},
   "outputs": [
    {
     "name": "stdout",
     "output_type": "stream",
     "text": [
      "We are recommending recipes for 889 users.\n"
     ]
    }
   ],
   "source": [
    "users_test = list(test_users[\"user_id\"].unique())\n",
    "print(f\"We are recommending recipes for {len(users_test)} users.\")"
   ]
  },
  {
   "cell_type": "markdown",
   "metadata": {},
   "source": [
    "### 2.6 Step 1: Interaction data exploration"
   ]
  },
  {
   "cell_type": "markdown",
   "metadata": {},
   "source": [
    "Let's explore the interaction data."
   ]
  },
  {
   "cell_type": "code",
   "execution_count": 11,
   "metadata": {},
   "outputs": [
    {
     "name": "stdout",
     "output_type": "stream",
     "text": [
      "We have 163,065 ratings in total.\n"
     ]
    }
   ],
   "source": [
    "# How many ratings do we have in total?\n",
    "# Tip: The \":,\" at the end of the f-string adds the thousand separator.\n",
    "print(f\"We have {len(data):,} ratings in total.\")"
   ]
  },
  {
   "cell_type": "code",
   "execution_count": 12,
   "metadata": {},
   "outputs": [
    {
     "name": "stdout",
     "output_type": "stream",
     "text": [
      " We have 30,695 recipes rated.\n"
     ]
    }
   ],
   "source": [
    "# How many recipes were rated?\n",
    "print(f\" We have {data['recipe_id'].unique().size:,} recipes rated.\")"
   ]
  },
  {
   "cell_type": "code",
   "execution_count": 13,
   "metadata": {},
   "outputs": [
    {
     "name": "stdout",
     "output_type": "stream",
     "text": [
      " We have 58,884 users that rated at least one recipe.\n"
     ]
    }
   ],
   "source": [
    "# How many users rated at least one recipe?\n",
    "print(f\" We have {data['user_id'].unique().size:,} users that rated at least one recipe.\")"
   ]
  },
  {
   "cell_type": "markdown",
   "metadata": {},
   "source": [
    "Let's plot the rating distribution:"
   ]
  },
  {
   "cell_type": "code",
   "execution_count": 14,
   "metadata": {},
   "outputs": [
    {
     "data": {
      "image/png": "[encoded data removed]",
      "text/plain": [
       "<Figure size 640x480 with 1 Axes>"
      ]
     },
     "metadata": {},
     "output_type": "display_data"
    }
   ],
   "source": [
    "# Plotting the rating distribution.\n",
    "data[\"rating\"].hist();"
   ]
  },
  {
   "cell_type": "markdown",
   "metadata": {},
   "source": [
    "There are ratings with value 0. We expected the values to be between 1 and 5. Let's check these cases."
   ]
  },
  {
   "cell_type": "code",
   "execution_count": 15,
   "metadata": {},
   "outputs": [
    {
     "data": {
      "text/html": [
       "<div>\n",
       "<style scoped>\n",
       "    .dataframe tbody tr th:only-of-type {\n",
       "        vertical-align: middle;\n",
       "    }\n",
       "\n",
       "    .dataframe tbody tr th {\n",
       "        vertical-align: top;\n",
       "    }\n",
       "\n",
       "    .dataframe thead th {\n",
       "        text-align: right;\n",
       "    }\n",
       "</style>\n",
       "<table border=\"1\" class=\"dataframe\">\n",
       "  <thead>\n",
       "    <tr style=\"text-align: right;\">\n",
       "      <th></th>\n",
       "      <th>user_id</th>\n",
       "      <th>recipe_id</th>\n",
       "      <th>review_date</th>\n",
       "      <th>rating</th>\n",
       "      <th>comment</th>\n",
       "    </tr>\n",
       "  </thead>\n",
       "  <tbody>\n",
       "    <tr>\n",
       "      <th>1560</th>\n",
       "      <td>2002194880</td>\n",
       "      <td>36431</td>\n",
       "      <td>2018-06-22</td>\n",
       "      <td>0</td>\n",
       "      <td>How do you store them after they are done? Wha...</td>\n",
       "    </tr>\n",
       "    <tr>\n",
       "      <th>1584</th>\n",
       "      <td>2002171413</td>\n",
       "      <td>449747</td>\n",
       "      <td>2018-05-31</td>\n",
       "      <td>0</td>\n",
       "      <td>Cook uncovered and in a low pan (use a good qu...</td>\n",
       "    </tr>\n",
       "    <tr>\n",
       "      <th>1600</th>\n",
       "      <td>162285</td>\n",
       "      <td>103281</td>\n",
       "      <td>2005-02-21</td>\n",
       "      <td>0</td>\n",
       "      <td>I am from Bavaria and my mom used to make it a...</td>\n",
       "    </tr>\n",
       "    <tr>\n",
       "      <th>1670</th>\n",
       "      <td>2164272</td>\n",
       "      <td>411501</td>\n",
       "      <td>2017-03-06</td>\n",
       "      <td>0</td>\n",
       "      <td>I am so excited!!! Shawn can't wait for me to ...</td>\n",
       "    </tr>\n",
       "    <tr>\n",
       "      <th>1674</th>\n",
       "      <td>1759082</td>\n",
       "      <td>15411</td>\n",
       "      <td>2010-12-15</td>\n",
       "      <td>0</td>\n",
       "      <td>Quick, Easy, &amp; using ingredients that you ALWA...</td>\n",
       "    </tr>\n",
       "    <tr>\n",
       "      <th>1676</th>\n",
       "      <td>2001467157</td>\n",
       "      <td>48635</td>\n",
       "      <td>2017-04-01</td>\n",
       "      <td>0</td>\n",
       "      <td>Do I have to use the baking soda???</td>\n",
       "    </tr>\n",
       "    <tr>\n",
       "      <th>1678</th>\n",
       "      <td>111336</td>\n",
       "      <td>693</td>\n",
       "      <td>2005-08-24</td>\n",
       "      <td>0</td>\n",
       "      <td>Easy, quick \"hot dish\".</td>\n",
       "    </tr>\n",
       "    <tr>\n",
       "      <th>1683</th>\n",
       "      <td>261899</td>\n",
       "      <td>211710</td>\n",
       "      <td>2012-10-14</td>\n",
       "      <td>0</td>\n",
       "      <td>My family loved this..So tonight I'm trying wi...</td>\n",
       "    </tr>\n",
       "    <tr>\n",
       "      <th>1698</th>\n",
       "      <td>2206320</td>\n",
       "      <td>475041</td>\n",
       "      <td>2012-03-12</td>\n",
       "      <td>0</td>\n",
       "      <td>That sounds yummy!!!</td>\n",
       "    </tr>\n",
       "    <tr>\n",
       "      <th>1701</th>\n",
       "      <td>159782</td>\n",
       "      <td>334688</td>\n",
       "      <td>2011-01-18</td>\n",
       "      <td>0</td>\n",
       "      <td>Well, it doesn't get much easier than this. Ad...</td>\n",
       "    </tr>\n",
       "    <tr>\n",
       "      <th>1732</th>\n",
       "      <td>2000079955</td>\n",
       "      <td>60350</td>\n",
       "      <td>2015-03-22</td>\n",
       "      <td>0</td>\n",
       "      <td>Seriously? The worst recipe ever!! Made it yes...</td>\n",
       "    </tr>\n",
       "    <tr>\n",
       "      <th>1757</th>\n",
       "      <td>443407</td>\n",
       "      <td>269449</td>\n",
       "      <td>2014-07-18</td>\n",
       "      <td>0</td>\n",
       "      <td>This is a great recipe, I doubled it and used ...</td>\n",
       "    </tr>\n",
       "    <tr>\n",
       "      <th>1763</th>\n",
       "      <td>139381</td>\n",
       "      <td>39618</td>\n",
       "      <td>2007-03-28</td>\n",
       "      <td>0</td>\n",
       "      <td>I have to agree with the previous poster...and...</td>\n",
       "    </tr>\n",
       "    <tr>\n",
       "      <th>1768</th>\n",
       "      <td>1802485902</td>\n",
       "      <td>451534</td>\n",
       "      <td>2014-02-13</td>\n",
       "      <td>0</td>\n",
       "      <td>How much water should I add?</td>\n",
       "    </tr>\n",
       "    <tr>\n",
       "      <th>1772</th>\n",
       "      <td>2856176</td>\n",
       "      <td>48760</td>\n",
       "      <td>2016-02-04</td>\n",
       "      <td>0</td>\n",
       "      <td>We enjoyed this recipe.  Unique flavor.  Very ...</td>\n",
       "    </tr>\n",
       "    <tr>\n",
       "      <th>1806</th>\n",
       "      <td>599450</td>\n",
       "      <td>322299</td>\n",
       "      <td>2009-11-24</td>\n",
       "      <td>0</td>\n",
       "      <td>I made these as directed with one exception: I...</td>\n",
       "    </tr>\n",
       "    <tr>\n",
       "      <th>1826</th>\n",
       "      <td>278639</td>\n",
       "      <td>29386</td>\n",
       "      <td>2008-09-04</td>\n",
       "      <td>0</td>\n",
       "      <td>I made this last night and it was a hit with b...</td>\n",
       "    </tr>\n",
       "    <tr>\n",
       "      <th>1833</th>\n",
       "      <td>26399</td>\n",
       "      <td>50454</td>\n",
       "      <td>2003-03-04</td>\n",
       "      <td>0</td>\n",
       "      <td>Hi,I'm glad you liked it!</td>\n",
       "    </tr>\n",
       "    <tr>\n",
       "      <th>1840</th>\n",
       "      <td>908675</td>\n",
       "      <td>416234</td>\n",
       "      <td>2010-03-31</td>\n",
       "      <td>0</td>\n",
       "      <td>My cousin gave us a bunch of turnips from a fi...</td>\n",
       "    </tr>\n",
       "    <tr>\n",
       "      <th>1871</th>\n",
       "      <td>2001680577</td>\n",
       "      <td>495292</td>\n",
       "      <td>2017-08-20</td>\n",
       "      <td>0</td>\n",
       "      <td>I will do this with the organic egg noodles. T...</td>\n",
       "    </tr>\n",
       "    <tr>\n",
       "      <th>1917</th>\n",
       "      <td>2541860</td>\n",
       "      <td>129926</td>\n",
       "      <td>2013-01-02</td>\n",
       "      <td>0</td>\n",
       "      <td>WOW...This was incredible, I wish I could give...</td>\n",
       "    </tr>\n",
       "    <tr>\n",
       "      <th>1954</th>\n",
       "      <td>1803121000</td>\n",
       "      <td>215370</td>\n",
       "      <td>2014-09-10</td>\n",
       "      <td>0</td>\n",
       "      <td>First things first. THE SOUP- How does it real...</td>\n",
       "    </tr>\n",
       "    <tr>\n",
       "      <th>1964</th>\n",
       "      <td>782743</td>\n",
       "      <td>94991</td>\n",
       "      <td>2008-04-02</td>\n",
       "      <td>0</td>\n",
       "      <td>I never would have thought to put these ingred...</td>\n",
       "    </tr>\n",
       "    <tr>\n",
       "      <th>1967</th>\n",
       "      <td>119385</td>\n",
       "      <td>70755</td>\n",
       "      <td>2008-05-20</td>\n",
       "      <td>0</td>\n",
       "      <td>I've been making this for a while now and my l...</td>\n",
       "    </tr>\n",
       "    <tr>\n",
       "      <th>2054</th>\n",
       "      <td>2419652</td>\n",
       "      <td>99476</td>\n",
       "      <td>2012-09-25</td>\n",
       "      <td>0</td>\n",
       "      <td>Great recipe!!! Super easy &amp; quick &amp; DELICIOUS...</td>\n",
       "    </tr>\n",
       "    <tr>\n",
       "      <th>2086</th>\n",
       "      <td>1458727</td>\n",
       "      <td>367227</td>\n",
       "      <td>2010-02-02</td>\n",
       "      <td>0</td>\n",
       "      <td>I found this recipe on a bag of Al Dente Fettu...</td>\n",
       "    </tr>\n",
       "    <tr>\n",
       "      <th>2095</th>\n",
       "      <td>340312</td>\n",
       "      <td>235590</td>\n",
       "      <td>2009-07-30</td>\n",
       "      <td>0</td>\n",
       "      <td>This is a great idea, and sooo cute! I will be...</td>\n",
       "    </tr>\n",
       "    <tr>\n",
       "      <th>2139</th>\n",
       "      <td>2002096619</td>\n",
       "      <td>205890</td>\n",
       "      <td>2018-04-05</td>\n",
       "      <td>0</td>\n",
       "      <td>I used Crisco instead of butter and added a ta...</td>\n",
       "    </tr>\n",
       "    <tr>\n",
       "      <th>2141</th>\n",
       "      <td>290578</td>\n",
       "      <td>84956</td>\n",
       "      <td>2009-01-16</td>\n",
       "      <td>0</td>\n",
       "      <td>This bread has a really nice flavor and I  sme...</td>\n",
       "    </tr>\n",
       "    <tr>\n",
       "      <th>2150</th>\n",
       "      <td>2001246873</td>\n",
       "      <td>411045</td>\n",
       "      <td>2016-11-15</td>\n",
       "      <td>0</td>\n",
       "      <td>Living in Colorado, also, I have been searchin...</td>\n",
       "    </tr>\n",
       "    <tr>\n",
       "      <th>2170</th>\n",
       "      <td>274065</td>\n",
       "      <td>84330</td>\n",
       "      <td>2006-11-29</td>\n",
       "      <td>0</td>\n",
       "      <td>I wish that I could say we loved this soup but...</td>\n",
       "    </tr>\n",
       "    <tr>\n",
       "      <th>2192</th>\n",
       "      <td>926427</td>\n",
       "      <td>317259</td>\n",
       "      <td>2008-10-19</td>\n",
       "      <td>0</td>\n",
       "      <td>I can't rate this yet.  Unfortunately, my croc...</td>\n",
       "    </tr>\n",
       "    <tr>\n",
       "      <th>2194</th>\n",
       "      <td>62264</td>\n",
       "      <td>195433</td>\n",
       "      <td>2006-11-14</td>\n",
       "      <td>0</td>\n",
       "      <td>this is scrapple! great stuff!</td>\n",
       "    </tr>\n",
       "    <tr>\n",
       "      <th>2212</th>\n",
       "      <td>837429</td>\n",
       "      <td>260781</td>\n",
       "      <td>2008-05-11</td>\n",
       "      <td>0</td>\n",
       "      <td>I had DH make this for me for mother's day. We...</td>\n",
       "    </tr>\n",
       "    <tr>\n",
       "      <th>2219</th>\n",
       "      <td>2001250426</td>\n",
       "      <td>27735</td>\n",
       "      <td>2018-02-03</td>\n",
       "      <td>0</td>\n",
       "      <td>I love this it's so good</td>\n",
       "    </tr>\n",
       "    <tr>\n",
       "      <th>2224</th>\n",
       "      <td>402172</td>\n",
       "      <td>389516</td>\n",
       "      <td>2011-06-01</td>\n",
       "      <td>0</td>\n",
       "      <td>I used sour cream instead of yogurt to lazy an...</td>\n",
       "    </tr>\n",
       "    <tr>\n",
       "      <th>2227</th>\n",
       "      <td>2774770</td>\n",
       "      <td>132008</td>\n",
       "      <td>2013-04-07</td>\n",
       "      <td>0</td>\n",
       "      <td>Wonderful recipe.  Would also be great with a ...</td>\n",
       "    </tr>\n",
       "    <tr>\n",
       "      <th>2232</th>\n",
       "      <td>2325224</td>\n",
       "      <td>123630</td>\n",
       "      <td>2012-08-20</td>\n",
       "      <td>0</td>\n",
       "      <td>These muffins taste like they are from a bed a...</td>\n",
       "    </tr>\n",
       "    <tr>\n",
       "      <th>2236</th>\n",
       "      <td>1460501</td>\n",
       "      <td>265711</td>\n",
       "      <td>2012-02-09</td>\n",
       "      <td>0</td>\n",
       "      <td>ANOTHER OPTION - Grandma Tomasini always serve...</td>\n",
       "    </tr>\n",
       "    <tr>\n",
       "      <th>2249</th>\n",
       "      <td>724631</td>\n",
       "      <td>512748</td>\n",
       "      <td>2014-05-01</td>\n",
       "      <td>0</td>\n",
       "      <td>I am not comfortable giving any stars because ...</td>\n",
       "    </tr>\n",
       "  </tbody>\n",
       "</table>\n",
       "</div>"
      ],
      "text/plain": [
       "         user_id  recipe_id review_date  rating  \\\n",
       "1560  2002194880      36431  2018-06-22       0   \n",
       "1584  2002171413     449747  2018-05-31       0   \n",
       "1600      162285     103281  2005-02-21       0   \n",
       "1670     2164272     411501  2017-03-06       0   \n",
       "1674     1759082      15411  2010-12-15       0   \n",
       "1676  2001467157      48635  2017-04-01       0   \n",
       "1678      111336        693  2005-08-24       0   \n",
       "1683      261899     211710  2012-10-14       0   \n",
       "1698     2206320     475041  2012-03-12       0   \n",
       "1701      159782     334688  2011-01-18       0   \n",
       "1732  2000079955      60350  2015-03-22       0   \n",
       "1757      443407     269449  2014-07-18       0   \n",
       "1763      139381      39618  2007-03-28       0   \n",
       "1768  1802485902     451534  2014-02-13       0   \n",
       "1772     2856176      48760  2016-02-04       0   \n",
       "1806      599450     322299  2009-11-24       0   \n",
       "1826      278639      29386  2008-09-04       0   \n",
       "1833       26399      50454  2003-03-04       0   \n",
       "1840      908675     416234  2010-03-31       0   \n",
       "1871  2001680577     495292  2017-08-20       0   \n",
       "1917     2541860     129926  2013-01-02       0   \n",
       "1954  1803121000     215370  2014-09-10       0   \n",
       "1964      782743      94991  2008-04-02       0   \n",
       "1967      119385      70755  2008-05-20       0   \n",
       "2054     2419652      99476  2012-09-25       0   \n",
       "2086     1458727     367227  2010-02-02       0   \n",
       "2095      340312     235590  2009-07-30       0   \n",
       "2139  2002096619     205890  2018-04-05       0   \n",
       "2141      290578      84956  2009-01-16       0   \n",
       "2150  2001246873     411045  2016-11-15       0   \n",
       "2170      274065      84330  2006-11-29       0   \n",
       "2192      926427     317259  2008-10-19       0   \n",
       "2194       62264     195433  2006-11-14       0   \n",
       "2212      837429     260781  2008-05-11       0   \n",
       "2219  2001250426      27735  2018-02-03       0   \n",
       "2224      402172     389516  2011-06-01       0   \n",
       "2227     2774770     132008  2013-04-07       0   \n",
       "2232     2325224     123630  2012-08-20       0   \n",
       "2236     1460501     265711  2012-02-09       0   \n",
       "2249      724631     512748  2014-05-01       0   \n",
       "\n",
       "                                                comment  \n",
       "1560  How do you store them after they are done? Wha...  \n",
       "1584  Cook uncovered and in a low pan (use a good qu...  \n",
       "1600  I am from Bavaria and my mom used to make it a...  \n",
       "1670  I am so excited!!! Shawn can't wait for me to ...  \n",
       "1674  Quick, Easy, & using ingredients that you ALWA...  \n",
       "1676                Do I have to use the baking soda???  \n",
       "1678                            Easy, quick \"hot dish\".  \n",
       "1683  My family loved this..So tonight I'm trying wi...  \n",
       "1698                               That sounds yummy!!!  \n",
       "1701  Well, it doesn't get much easier than this. Ad...  \n",
       "1732  Seriously? The worst recipe ever!! Made it yes...  \n",
       "1757  This is a great recipe, I doubled it and used ...  \n",
       "1763  I have to agree with the previous poster...and...  \n",
       "1768                       How much water should I add?  \n",
       "1772  We enjoyed this recipe.  Unique flavor.  Very ...  \n",
       "1806  I made these as directed with one exception: I...  \n",
       "1826  I made this last night and it was a hit with b...  \n",
       "1833                          Hi,I'm glad you liked it!  \n",
       "1840  My cousin gave us a bunch of turnips from a fi...  \n",
       "1871  I will do this with the organic egg noodles. T...  \n",
       "1917  WOW...This was incredible, I wish I could give...  \n",
       "1954  First things first. THE SOUP- How does it real...  \n",
       "1964  I never would have thought to put these ingred...  \n",
       "1967  I've been making this for a while now and my l...  \n",
       "2054  Great recipe!!! Super easy & quick & DELICIOUS...  \n",
       "2086  I found this recipe on a bag of Al Dente Fettu...  \n",
       "2095  This is a great idea, and sooo cute! I will be...  \n",
       "2139  I used Crisco instead of butter and added a ta...  \n",
       "2141  This bread has a really nice flavor and I  sme...  \n",
       "2150  Living in Colorado, also, I have been searchin...  \n",
       "2170  I wish that I could say we loved this soup but...  \n",
       "2192  I can't rate this yet.  Unfortunately, my croc...  \n",
       "2194                     this is scrapple! great stuff!  \n",
       "2212  I had DH make this for me for mother's day. We...  \n",
       "2219                           I love this it's so good  \n",
       "2224  I used sour cream instead of yogurt to lazy an...  \n",
       "2227  Wonderful recipe.  Would also be great with a ...  \n",
       "2232  These muffins taste like they are from a bed a...  \n",
       "2236  ANOTHER OPTION - Grandma Tomasini always serve...  \n",
       "2249  I am not comfortable giving any stars because ...  "
      ]
     },
     "execution_count": 15,
     "metadata": {},
     "output_type": "execute_result"
    }
   ],
   "source": [
    "data.loc[data[\"rating\"] == 0][80:120]"
   ]
  },
  {
   "cell_type": "markdown",
   "metadata": {},
   "source": [
    "When rating is 0, it seems that some comments are negative but most are positive. Let's read some examples."
   ]
  },
  {
   "cell_type": "code",
   "execution_count": 16,
   "metadata": {},
   "outputs": [
    {
     "data": {
      "text/plain": [
       "'WOW...This was incredible, I wish I could give a hundred stars. My Boyfriend said we would never eat out Mexican again. So five stars from him and five from me...my daughter even ate every bite! This is a great recipe. I of course added just a little spice, 1 Tbsp of cumin to the chicken and onions. Perfect recipe, the sauce is beautiful when it comes together, Everything was perfect. Thank you for sharing!'"
      ]
     },
     "execution_count": 16,
     "metadata": {},
     "output_type": "execute_result"
    }
   ],
   "source": [
    "data.loc[data[\"rating\"] == 0, \"comment\"][1917]"
   ]
  },
  {
   "cell_type": "code",
   "execution_count": 17,
   "metadata": {},
   "outputs": [
    {
     "data": {
      "text/plain": [
       "'Seriously? The worst recipe ever!! Made it yesterday. Never ever experienced such a worse mac n cheese sauce:-(\\nTotal flour taste! Like sb else already noticed: your family will hate you for that.\\nGoing to find me another recipe now or have to stick to the craft company.'"
      ]
     },
     "execution_count": 17,
     "metadata": {},
     "output_type": "execute_result"
    }
   ],
   "source": [
    "data.loc[data[\"rating\"] == 0, \"comment\"][1732]"
   ]
  },
  {
   "cell_type": "code",
   "execution_count": 18,
   "metadata": {},
   "outputs": [
    {
     "data": {
      "text/plain": [
       "'Great recipe!!! Super easy & quick & DELICIOUS!!! My family loved it!!!'"
      ]
     },
     "execution_count": 18,
     "metadata": {},
     "output_type": "execute_result"
    }
   ],
   "source": [
    "data.loc[data[\"rating\"] == 0, \"comment\"][2054]"
   ]
  },
  {
   "cell_type": "code",
   "execution_count": 19,
   "metadata": {},
   "outputs": [
    {
     "data": {
      "text/plain": [
       "'How much water should I add?'"
      ]
     },
     "execution_count": 19,
     "metadata": {},
     "output_type": "execute_result"
    }
   ],
   "source": [
    "data.loc[data[\"rating\"] == 0, \"comment\"][1768]"
   ]
  },
  {
   "cell_type": "code",
   "execution_count": 20,
   "metadata": {},
   "outputs": [
    {
     "data": {
      "text/plain": [
       "\"I can't rate this yet.  Unfortunately, my crock pot died while making and by the time I found out I had to dump the whole thing for safety reasons.  I did try remaking but having less wine (using 1/2 wine, half homemade beef broth) it wouldn't be fair to rate.  I'm so sorry, Chohettz.  \\r\\nMade for PAC, 2008.\""
      ]
     },
     "execution_count": 20,
     "metadata": {},
     "output_type": "execute_result"
    }
   ],
   "source": [
    "data.loc[data[\"rating\"] == 0, \"comment\"][2192]"
   ]
  },
  {
   "cell_type": "markdown",
   "metadata": {},
   "source": [
    "While some comments are positive, others are negative. Additionally, it appears that some user commented that they didn't rate the recipe. Let's see if there are more cases."
   ]
  },
  {
   "cell_type": "code",
   "execution_count": 21,
   "metadata": {},
   "outputs": [
    {
     "data": {
      "text/html": [
       "<div>\n",
       "<style scoped>\n",
       "    .dataframe tbody tr th:only-of-type {\n",
       "        vertical-align: middle;\n",
       "    }\n",
       "\n",
       "    .dataframe tbody tr th {\n",
       "        vertical-align: top;\n",
       "    }\n",
       "\n",
       "    .dataframe thead th {\n",
       "        text-align: right;\n",
       "    }\n",
       "</style>\n",
       "<table border=\"1\" class=\"dataframe\">\n",
       "  <thead>\n",
       "    <tr style=\"text-align: right;\">\n",
       "      <th></th>\n",
       "      <th>user_id</th>\n",
       "      <th>recipe_id</th>\n",
       "      <th>review_date</th>\n",
       "      <th>rating</th>\n",
       "      <th>comment</th>\n",
       "    </tr>\n",
       "  </thead>\n",
       "  <tbody>\n",
       "    <tr>\n",
       "      <th>58</th>\n",
       "      <td>441655</td>\n",
       "      <td>443523</td>\n",
       "      <td>2010-12-07</td>\n",
       "      <td>0</td>\n",
       "      <td>Delicious!! I added a hint of peppermint extra...</td>\n",
       "    </tr>\n",
       "    <tr>\n",
       "      <th>335</th>\n",
       "      <td>386585</td>\n",
       "      <td>345396</td>\n",
       "      <td>2009-02-23</td>\n",
       "      <td>0</td>\n",
       "      <td>I will not give any stars, because I messed th...</td>\n",
       "    </tr>\n",
       "    <tr>\n",
       "      <th>471</th>\n",
       "      <td>31803</td>\n",
       "      <td>56621</td>\n",
       "      <td>2005-09-11</td>\n",
       "      <td>0</td>\n",
       "      <td>These turned out great! We can't buy Grape Nut...</td>\n",
       "    </tr>\n",
       "    <tr>\n",
       "      <th>883</th>\n",
       "      <td>136997</td>\n",
       "      <td>229960</td>\n",
       "      <td>2007-06-29</td>\n",
       "      <td>0</td>\n",
       "      <td>I was intrigued by this, but I don't think it ...</td>\n",
       "    </tr>\n",
       "    <tr>\n",
       "      <th>1435</th>\n",
       "      <td>1584953</td>\n",
       "      <td>236448</td>\n",
       "      <td>2011-02-22</td>\n",
       "      <td>0</td>\n",
       "      <td>I didn't rate this because I realized I had th...</td>\n",
       "    </tr>\n",
       "  </tbody>\n",
       "</table>\n",
       "</div>"
      ],
      "text/plain": [
       "      user_id  recipe_id review_date  rating  \\\n",
       "58     441655     443523  2010-12-07       0   \n",
       "335    386585     345396  2009-02-23       0   \n",
       "471     31803      56621  2005-09-11       0   \n",
       "883    136997     229960  2007-06-29       0   \n",
       "1435  1584953     236448  2011-02-22       0   \n",
       "\n",
       "                                                comment  \n",
       "58    Delicious!! I added a hint of peppermint extra...  \n",
       "335   I will not give any stars, because I messed th...  \n",
       "471   These turned out great! We can't buy Grape Nut...  \n",
       "883   I was intrigued by this, but I don't think it ...  \n",
       "1435  I didn't rate this because I realized I had th...  "
      ]
     },
     "execution_count": 21,
     "metadata": {},
     "output_type": "execute_result"
    }
   ],
   "source": [
    "data.loc[(data[\"rating\"] == 0) & (data[\"comment\"].str.contains(\"rate\"))].head()"
   ]
  },
  {
   "cell_type": "code",
   "execution_count": 22,
   "metadata": {},
   "outputs": [
    {
     "data": {
      "text/plain": [
       "\"I didn't rate this because I realized I had the same recipe already saved on another recipe site, going back to 2006. Anyway, it's really good\""
      ]
     },
     "execution_count": 22,
     "metadata": {},
     "output_type": "execute_result"
    }
   ],
   "source": [
    "## A particular case\n",
    "data.loc[data[\"rating\"] == 0, \"comment\"][1435]"
   ]
  },
  {
   "cell_type": "markdown",
   "metadata": {},
   "source": [
    "All of these comments lead us to believe that zero rating means that the user purposely did not rate the recipe (maybe he/she didn't follow the recipe and feels that they shouldn't rate it) or forgot to rate it regardless of liking the recipe of not.\n",
    "There isn't a consistent meaning behind zero rating as the other values have. Even considering that ratings are subjective, when a user rates a recipe 3 and another recipe 4, it means that he/she likes the recipe with rating 4 more than the recipe 3. Recipes with rating 0 can be excellent, horrible or something in between.\n",
    "For this reason, reviews with zero rating should be removed from our data.\n",
    "\n",
    "Note: In a more advanced approach, one might try to use sentiment analysis (or other techniques) to predict the rating when a user does not rate a recipe."
   ]
  },
  {
   "cell_type": "markdown",
   "metadata": {},
   "source": [
    "### 2.6.1 Removing zero rating recipes"
   ]
  },
  {
   "cell_type": "code",
   "execution_count": 23,
   "metadata": {},
   "outputs": [
    {
     "name": "stdout",
     "output_type": "stream",
     "text": [
      "8,984 reviews with rating 0 where removed from training data.\n"
     ]
    }
   ],
   "source": [
    "nr_reviews_orig = data.shape[0]\n",
    "data = data.copy().loc[(data[\"rating\"] != 0)]\n",
    "nr_reviews_new = data.shape[0]\n",
    "print(f\"{nr_reviews_orig - nr_reviews_new:,} reviews with rating 0 where removed from training data.\")"
   ]
  },
  {
   "cell_type": "markdown",
   "metadata": {},
   "source": [
    "### 2.6.2 Removing columns\n",
    "\n",
    "You might have noticed that the review date range from January 2000 to December 2018. This is a huge time interval! "
   ]
  },
  {
   "cell_type": "code",
   "execution_count": 24,
   "metadata": {},
   "outputs": [
    {
     "name": "stdout",
     "output_type": "stream",
     "text": [
      "The earliest review was written on 2000-03-13.\n",
      "The lastest review was written on 2018-12-19.\n"
     ]
    }
   ],
   "source": [
    "## Training data interval range\n",
    "print(f\"The earliest review was written on {data['review_date'].min()}.\")\n",
    "print(f\"The lastest review was written on {data['review_date'].max()}.\")"
   ]
  },
  {
   "cell_type": "markdown",
   "metadata": {},
   "source": [
    "For most cases, using old data is a risk. Old data might not reflect accurately the current relationship between features and target. We say that have **[concept drift](https://machinelearningmastery.com/gentle-introduction-concept-drift-machine-learning/)** when the relationship between inputs and outputs changes over time. \n",
    "\n",
    "In our case, we are going to consider that the userbase's taste do not change significantly over time. In a professional setting, we should back this assumption with data or deal with concept drift."
   ]
  },
  {
   "cell_type": "markdown",
   "metadata": {},
   "source": [
    "For the construction of the rating matrix, the comment column is also ignored. "
   ]
  },
  {
   "cell_type": "code",
   "execution_count": 25,
   "metadata": {},
   "outputs": [],
   "source": [
    "data = data.copy().drop(columns=[\"review_date\", \"comment\"])"
   ]
  },
  {
   "cell_type": "markdown",
   "metadata": {},
   "source": [
    "### 2.7 Train/validation split\n",
    "\n",
    "We are splitting the available data into training and validation data. The validation data can be used to compare models before submitting the recommendations to the portal."
   ]
  },
  {
   "cell_type": "code",
   "execution_count": 26,
   "metadata": {},
   "outputs": [],
   "source": [
    "data_train, data_val = train_test_split(data, test_size=0.4, random_state=123)"
   ]
  },
  {
   "cell_type": "markdown",
   "metadata": {},
   "source": [
    "### 2.7.1 Training set"
   ]
  },
  {
   "cell_type": "code",
   "execution_count": 27,
   "metadata": {},
   "outputs": [
    {
     "name": "stdout",
     "output_type": "stream",
     "text": [
      "We have 92,448 ratings in total.\n"
     ]
    }
   ],
   "source": [
    "# How many ratings do we have in total?\n",
    "# Tip: The \":,\" at the end of the f-string adds the thousand separator.\n",
    "print(f\"We have {len(data_train):,} ratings in total.\")"
   ]
  },
  {
   "cell_type": "code",
   "execution_count": 28,
   "metadata": {},
   "outputs": [
    {
     "name": "stdout",
     "output_type": "stream",
     "text": [
      " We have 21,358 recipes rated.\n"
     ]
    }
   ],
   "source": [
    "# How many recipes were rated?\n",
    "print(f\" We have {data_train['recipe_id'].unique().size:,} recipes rated.\")"
   ]
  },
  {
   "cell_type": "code",
   "execution_count": 29,
   "metadata": {},
   "outputs": [
    {
     "name": "stdout",
     "output_type": "stream",
     "text": [
      " We have 36,431 users that rated at least one recipe.\n"
     ]
    }
   ],
   "source": [
    "# How many users rated at least one recipe?\n",
    "print(f\" We have {data_train['user_id'].unique().size:,} users that rated at least one recipe.\")"
   ]
  },
  {
   "cell_type": "markdown",
   "metadata": {},
   "source": [
    "### 2.7.2 Validation set"
   ]
  },
  {
   "cell_type": "code",
   "execution_count": 30,
   "metadata": {},
   "outputs": [
    {
     "name": "stdout",
     "output_type": "stream",
     "text": [
      "We have 61,633 ratings in total.\n"
     ]
    }
   ],
   "source": [
    "# How many ratings do we have in total?\n",
    "# Tip: The \":,\" at the end of the f-string adds the thousand separator.\n",
    "print(f\"We have {len(data_val):,} ratings in total.\")"
   ]
  },
  {
   "cell_type": "code",
   "execution_count": 31,
   "metadata": {},
   "outputs": [
    {
     "name": "stdout",
     "output_type": "stream",
     "text": [
      " We have 16,662 recipes rated.\n"
     ]
    }
   ],
   "source": [
    "# How many recipes were rated?\n",
    "print(f\" We have {data_val['recipe_id'].unique().size:,} recipes rated.\")"
   ]
  },
  {
   "cell_type": "code",
   "execution_count": 32,
   "metadata": {},
   "outputs": [
    {
     "name": "stdout",
     "output_type": "stream",
     "text": [
      " We have 27,073 users that rated at least one recipe.\n"
     ]
    }
   ],
   "source": [
    "# How many users rated at least one recipe?\n",
    "print(f\" We have {data_val['user_id'].unique().size:,} users that rated at least one recipe.\")"
   ]
  },
  {
   "cell_type": "markdown",
   "metadata": {},
   "source": [
    "To be able to compare our recommendations with actual most liked items we need to find users that have enough actual ratings to compare with. If we are measuring `map@k` with `k=50`, users must have at least 50 actual prefered items and we have to provide at least 50 recommendations. One might argue that we now have selection bias because we are specifically selecting users that have more ratings and ignoring users with fewer ratings. This is a consideration that you should take into account specially if you want to evaluate the performance of recommendations to new users. \n",
    "\n",
    "Here we are selecting all ratings from users with at least 50 positive reviews as our validation data."
   ]
  },
  {
   "cell_type": "markdown",
   "metadata": {},
   "source": [
    "#### Select reviews from users with at least 50 positive ratings."
   ]
  },
  {
   "cell_type": "code",
   "execution_count": 33,
   "metadata": {},
   "outputs": [
    {
     "data": {
      "text/html": [
       "<div>\n",
       "<style scoped>\n",
       "    .dataframe tbody tr th:only-of-type {\n",
       "        vertical-align: middle;\n",
       "    }\n",
       "\n",
       "    .dataframe tbody tr th {\n",
       "        vertical-align: top;\n",
       "    }\n",
       "\n",
       "    .dataframe thead th {\n",
       "        text-align: right;\n",
       "    }\n",
       "</style>\n",
       "<table border=\"1\" class=\"dataframe\">\n",
       "  <thead>\n",
       "    <tr style=\"text-align: right;\">\n",
       "      <th></th>\n",
       "      <th>user_id</th>\n",
       "      <th>recipe_id</th>\n",
       "      <th>rating</th>\n",
       "    </tr>\n",
       "  </thead>\n",
       "  <tbody>\n",
       "    <tr>\n",
       "      <th>128079</th>\n",
       "      <td>560491</td>\n",
       "      <td>33671</td>\n",
       "      <td>5</td>\n",
       "    </tr>\n",
       "    <tr>\n",
       "      <th>10492</th>\n",
       "      <td>169430</td>\n",
       "      <td>436201</td>\n",
       "      <td>5</td>\n",
       "    </tr>\n",
       "    <tr>\n",
       "      <th>154262</th>\n",
       "      <td>107583</td>\n",
       "      <td>335113</td>\n",
       "      <td>5</td>\n",
       "    </tr>\n",
       "    <tr>\n",
       "      <th>92987</th>\n",
       "      <td>133174</td>\n",
       "      <td>141443</td>\n",
       "      <td>5</td>\n",
       "    </tr>\n",
       "    <tr>\n",
       "      <th>23908</th>\n",
       "      <td>160974</td>\n",
       "      <td>43104</td>\n",
       "      <td>5</td>\n",
       "    </tr>\n",
       "  </tbody>\n",
       "</table>\n",
       "</div>"
      ],
      "text/plain": [
       "        user_id  recipe_id  rating\n",
       "128079   560491      33671       5\n",
       "10492    169430     436201       5\n",
       "154262   107583     335113       5\n",
       "92987    133174     141443       5\n",
       "23908    160974      43104       5"
      ]
     },
     "execution_count": 33,
     "metadata": {},
     "output_type": "execute_result"
    }
   ],
   "source": [
    "def select_frequent_reviewers(df: pd.DataFrame, min_nr_reviews: int = 50, min_rating: int = 3):\n",
    "    \"\"\"\n",
    "    Select reviews from users with at least min_nr_reviews reviews with rating larger than min_rating.\n",
    "    \"\"\"\n",
    "    \n",
    "    # Select only positive reviews\n",
    "    df_positive = df.copy().loc[df[\"rating\"] >= min_rating]\n",
    "\n",
    "    # Select users with more than min_nr_reviews positive reviews\n",
    "    user_review_count = df_positive.groupby(by=[\"user_id\"])[\"recipe_id\"].count()\n",
    "    test_users_list = list(user_review_count[user_review_count > min_nr_reviews].index)\n",
    "\n",
    "    # Select ratings from users specified above\n",
    "    df_restrict = df_positive.copy().loc[df_positive[\"user_id\"].isin(test_users_list)]\n",
    "    \n",
    "    return df_restrict\n",
    "\n",
    "data_val_final = select_frequent_reviewers(data_val)\n",
    "data_val_final.head()"
   ]
  },
  {
   "cell_type": "markdown",
   "metadata": {},
   "source": [
    "It will be useful later on to have a list of validation data users:"
   ]
  },
  {
   "cell_type": "code",
   "execution_count": 34,
   "metadata": {},
   "outputs": [
    {
     "name": "stdout",
     "output_type": "stream",
     "text": [
      "We are validating recommendations with 73 users.\n"
     ]
    }
   ],
   "source": [
    "users_val = data_val_final[\"user_id\"].unique().tolist()\n",
    "print(f\"We are validating recommendations with {len(users_val)} users.\")"
   ]
  },
  {
   "cell_type": "markdown",
   "metadata": {},
   "source": [
    "Notice that, even thought we selected 40% of the data to be used for validation, are left with a tiny number of users to validate our results. The validation data is too small to have a accurate evaluation of the models. With more data and a more robust cross-validation method this shouldn't be a problem. "
   ]
  },
  {
   "cell_type": "markdown",
   "metadata": {},
   "source": [
    "Beside the new validation users, we also want the validation predictions to compare our results with. \n",
    "\n",
    "####  Create the validation recommendations\n",
    "\n",
    "We will evaluate the outputs of our models with the 50 best rated recipes for each user on the validation data."
   ]
  },
  {
   "cell_type": "code",
   "execution_count": 35,
   "metadata": {},
   "outputs": [
    {
     "data": {
      "text/html": [
       "<div>\n",
       "<style scoped>\n",
       "    .dataframe tbody tr th:only-of-type {\n",
       "        vertical-align: middle;\n",
       "    }\n",
       "\n",
       "    .dataframe tbody tr th {\n",
       "        vertical-align: top;\n",
       "    }\n",
       "\n",
       "    .dataframe thead th {\n",
       "        text-align: right;\n",
       "    }\n",
       "</style>\n",
       "<table border=\"1\" class=\"dataframe\">\n",
       "  <thead>\n",
       "    <tr style=\"text-align: right;\">\n",
       "      <th></th>\n",
       "      <th>0</th>\n",
       "      <th>1</th>\n",
       "      <th>2</th>\n",
       "      <th>3</th>\n",
       "      <th>4</th>\n",
       "      <th>5</th>\n",
       "      <th>6</th>\n",
       "      <th>7</th>\n",
       "      <th>8</th>\n",
       "      <th>9</th>\n",
       "      <th>...</th>\n",
       "      <th>41</th>\n",
       "      <th>42</th>\n",
       "      <th>43</th>\n",
       "      <th>44</th>\n",
       "      <th>45</th>\n",
       "      <th>46</th>\n",
       "      <th>47</th>\n",
       "      <th>48</th>\n",
       "      <th>49</th>\n",
       "      <th>50</th>\n",
       "    </tr>\n",
       "  </thead>\n",
       "  <tbody>\n",
       "    <tr>\n",
       "      <th>0</th>\n",
       "      <td>4470</td>\n",
       "      <td>149149</td>\n",
       "      <td>139829</td>\n",
       "      <td>57450</td>\n",
       "      <td>126495</td>\n",
       "      <td>29359</td>\n",
       "      <td>5064</td>\n",
       "      <td>117697</td>\n",
       "      <td>110293</td>\n",
       "      <td>5457</td>\n",
       "      <td>...</td>\n",
       "      <td>84011</td>\n",
       "      <td>7979</td>\n",
       "      <td>74077</td>\n",
       "      <td>104250</td>\n",
       "      <td>156380</td>\n",
       "      <td>21965</td>\n",
       "      <td>104153</td>\n",
       "      <td>34671</td>\n",
       "      <td>12146</td>\n",
       "      <td>91104</td>\n",
       "    </tr>\n",
       "    <tr>\n",
       "      <th>1</th>\n",
       "      <td>5060</td>\n",
       "      <td>76034</td>\n",
       "      <td>43440</td>\n",
       "      <td>20014</td>\n",
       "      <td>53236</td>\n",
       "      <td>144173</td>\n",
       "      <td>31871</td>\n",
       "      <td>123833</td>\n",
       "      <td>65016</td>\n",
       "      <td>30320</td>\n",
       "      <td>...</td>\n",
       "      <td>127276</td>\n",
       "      <td>105898</td>\n",
       "      <td>110111</td>\n",
       "      <td>46685</td>\n",
       "      <td>105962</td>\n",
       "      <td>2695</td>\n",
       "      <td>115508</td>\n",
       "      <td>5009</td>\n",
       "      <td>85253</td>\n",
       "      <td>110587</td>\n",
       "    </tr>\n",
       "    <tr>\n",
       "      <th>2</th>\n",
       "      <td>8688</td>\n",
       "      <td>22451</td>\n",
       "      <td>148235</td>\n",
       "      <td>93265</td>\n",
       "      <td>81750</td>\n",
       "      <td>8388</td>\n",
       "      <td>149233</td>\n",
       "      <td>73085</td>\n",
       "      <td>159241</td>\n",
       "      <td>44855</td>\n",
       "      <td>...</td>\n",
       "      <td>40392</td>\n",
       "      <td>161605</td>\n",
       "      <td>44118</td>\n",
       "      <td>102349</td>\n",
       "      <td>75890</td>\n",
       "      <td>68553</td>\n",
       "      <td>61330</td>\n",
       "      <td>11028</td>\n",
       "      <td>147207</td>\n",
       "      <td>93214</td>\n",
       "    </tr>\n",
       "    <tr>\n",
       "      <th>3</th>\n",
       "      <td>9869</td>\n",
       "      <td>78890</td>\n",
       "      <td>80356</td>\n",
       "      <td>127274</td>\n",
       "      <td>37624</td>\n",
       "      <td>90247</td>\n",
       "      <td>80493</td>\n",
       "      <td>110667</td>\n",
       "      <td>93157</td>\n",
       "      <td>34764</td>\n",
       "      <td>...</td>\n",
       "      <td>60728</td>\n",
       "      <td>142603</td>\n",
       "      <td>155231</td>\n",
       "      <td>15107</td>\n",
       "      <td>118213</td>\n",
       "      <td>68560</td>\n",
       "      <td>64038</td>\n",
       "      <td>63883</td>\n",
       "      <td>136483</td>\n",
       "      <td>98465</td>\n",
       "    </tr>\n",
       "    <tr>\n",
       "      <th>4</th>\n",
       "      <td>17803</td>\n",
       "      <td>154114</td>\n",
       "      <td>973</td>\n",
       "      <td>122445</td>\n",
       "      <td>159024</td>\n",
       "      <td>28838</td>\n",
       "      <td>33783</td>\n",
       "      <td>33982</td>\n",
       "      <td>117961</td>\n",
       "      <td>151589</td>\n",
       "      <td>...</td>\n",
       "      <td>68830</td>\n",
       "      <td>136707</td>\n",
       "      <td>688</td>\n",
       "      <td>24434</td>\n",
       "      <td>99512</td>\n",
       "      <td>21444</td>\n",
       "      <td>20617</td>\n",
       "      <td>8215</td>\n",
       "      <td>115259</td>\n",
       "      <td>108724</td>\n",
       "    </tr>\n",
       "  </tbody>\n",
       "</table>\n",
       "<p>5 rows × 51 columns</p>\n",
       "</div>"
      ],
      "text/plain": [
       "      0       1       2       3       4       5       6       7       8   \\\n",
       "0   4470  149149  139829   57450  126495   29359    5064  117697  110293   \n",
       "1   5060   76034   43440   20014   53236  144173   31871  123833   65016   \n",
       "2   8688   22451  148235   93265   81750    8388  149233   73085  159241   \n",
       "3   9869   78890   80356  127274   37624   90247   80493  110667   93157   \n",
       "4  17803  154114     973  122445  159024   28838   33783   33982  117961   \n",
       "\n",
       "       9   ...      41      42      43      44      45     46      47     48  \\\n",
       "0    5457  ...   84011    7979   74077  104250  156380  21965  104153  34671   \n",
       "1   30320  ...  127276  105898  110111   46685  105962   2695  115508   5009   \n",
       "2   44855  ...   40392  161605   44118  102349   75890  68553   61330  11028   \n",
       "3   34764  ...   60728  142603  155231   15107  118213  68560   64038  63883   \n",
       "4  151589  ...   68830  136707     688   24434   99512  21444   20617   8215   \n",
       "\n",
       "       49      50  \n",
       "0   12146   91104  \n",
       "1   85253  110587  \n",
       "2  147207   93214  \n",
       "3  136483   98465  \n",
       "4  115259  108724  \n",
       "\n",
       "[5 rows x 51 columns]"
      ]
     },
     "execution_count": 35,
     "metadata": {},
     "output_type": "execute_result"
    }
   ],
   "source": [
    "# nr of recommendations per user\n",
    "k_top = 50\n",
    "\n",
    "def top_items_per_user(df: pd.DataFrame, user_col: str, rating_col:str, k_top: int = 50):\n",
    "\n",
    "    df_users_kbest = df.copy().groupby(by=[user_col])[rating_col].nlargest(k_top).reset_index()\n",
    "    df_users_kbest['rank'] = df_users_kbest.groupby(by=[user_col])[rating_col].rank(method=\"first\")\n",
    "    #df_users_kbest['rank'] = df_users_kbest['rank'].astype(int) - 1\n",
    "    df_recommendations = df_users_kbest.pivot(index=user_col, columns=\"rank\", values=\"level_1\")\n",
    "    df_recommendations = df_recommendations.reset_index(drop=False)\n",
    "    df_recommendations.columns = np.arange(len(df_recommendations.columns))\n",
    "    return df_recommendations\n",
    "\n",
    "val_recommendations = top_items_per_user(data_val_final, \"user_id\", \"rating\", k_top=k_top)\n",
    "val_recommendations.head()"
   ]
  },
  {
   "cell_type": "markdown",
   "metadata": {},
   "source": [
    "#### Saving recommendations\n",
    "\n",
    "Here we create a function to store the recommendations into a `.csv` file."
   ]
  },
  {
   "cell_type": "code",
   "execution_count": 36,
   "metadata": {},
   "outputs": [
    {
     "name": "stdout",
     "output_type": "stream",
     "text": [
      "Recommendations were saved on file validation_recommendations.csv.\n"
     ]
    }
   ],
   "source": [
    "def save_recommendations(df: pd.DataFrame, file_name: str):\n",
    "    \"\"\"\n",
    "    Save recommendation dataframe as .csv.\n",
    "    \"\"\"\n",
    "    \n",
    "    file_path = os.path.join(\"data\", f\"{file_name}.csv\")\n",
    "    df.to_csv(file_path, index=False, header=False)\n",
    "    print(f\"Recommendations were saved on file {file_name}.csv.\")\n",
    "    \n",
    "save_recommendations(val_recommendations, \"validation_recommendations\")"
   ]
  },
  {
   "cell_type": "markdown",
   "metadata": {},
   "source": [
    "We now have the \"ground-truth\" that we are going to use to evaluate our recommendations."
   ]
  },
  {
   "cell_type": "markdown",
   "metadata": {},
   "source": [
    "## 3. Non-personalized recommendations\n",
    "\n",
    "We can directly find the most popular recipes without creating a rating matrix. We'll consider that the most popular recipes are the ones that have the best score but are also rated more. By calculating the average score and the number of times a recipe was rated, we can sort the recipes and select the best 50."
   ]
  },
  {
   "cell_type": "code",
   "execution_count": 37,
   "metadata": {},
   "outputs": [
    {
     "name": "stdout",
     "output_type": "stream",
     "text": [
      "[154351, 515167, 55309, 487111, 18446, 24768, 69051, 104292, 153877, 20233, 87047, 497261, 29184, 36041, 110397, 114956, 495202, 61040, 61514, 57549, 474694, 11548, 50498, 51058, 98846, 112299, 496573, 109287, 157841, 191225, 55634, 66990, 82102, 105545, 190733, 269611, 272181, 284630, 518145, 37758, 73825, 100450, 146563, 163220, 209670, 228909, 13275, 50958, 74182, 94087]\n"
     ]
    }
   ],
   "source": [
    "def non_pers_reco_order(data: pd.DataFrame,\n",
    "                        item_col: str,\n",
    "                        rating_col:str,\n",
    "                        k_top: int = 50,\n",
    "                        aggregation: list() = [\"mean\", \"count\"]):\n",
    "    \"\"\"\n",
    "    Create an ordered list of non-personalized recommendations, from best rated to worst rated.\n",
    "    \"\"\"\n",
    "    non_pers_ratings = data.groupby(by=[item_col])[[rating_col]].agg(aggregation)\n",
    "    non_pers_ratings.columns = non_pers_ratings.columns.get_level_values(1)\n",
    "    \n",
    "    #The resulting column names might be different than the specified with the aggregation parameter.\n",
    "    try:\n",
    "        non_pers_ratings = non_pers_ratings.sort_values(by=aggregation, ascending=False).head(k_top)\n",
    "    except KeyError as e:\n",
    "        print(e)\n",
    "        print(\"Check if aggregation argument results in valid column names.\")\n",
    "        print(f\"aggregation = {aggregation}\\nrating columns = {non_pers_ratings.columns}\")\n",
    "        raise e\n",
    "        \n",
    "    non_pers_reco_list = non_pers_ratings.index.to_list()\n",
    "    return non_pers_reco_list\n",
    "\n",
    "\n",
    "non_pers_recommendations = non_pers_reco_order(data_train, \"recipe_id\", \"rating\", k_top=k_top)\n",
    "print(non_pers_recommendations)"
   ]
  },
  {
   "cell_type": "markdown",
   "metadata": {},
   "source": [
    "### 3.1 Output non-personalized solution\n",
    "\n",
    "Here we create recommendations for the specified users based on the non-personalized recommendations obtained above."
   ]
  },
  {
   "cell_type": "code",
   "execution_count": 38,
   "metadata": {},
   "outputs": [],
   "source": [
    "def non_pers_reco_output(user_id_list:list, non_pers_reco_list:list):\n",
    "    \"\"\"\n",
    "    Creates a non-personalized recommendation dataframe for specified users.\n",
    "    \"\"\"\n",
    "    nr_test_users = len(user_id_list)\n",
    "    user_id_df = pd.DataFrame(user_id_list, columns = [\"user_id\"])\n",
    "    non_pers_reco_repeated =  pd.DataFrame(pd.DataFrame(non_pers_reco_list).T.values.repeat(nr_test_users, axis=0))\n",
    "    non_pers_reco_output = pd.concat([user_id_df, non_pers_reco_repeated], axis=1)\n",
    "    \n",
    "    # Reset columns numbering. Useful later.\n",
    "    #non_pers_reco_output.columns = np.arange(len(non_pers_reco_output.columns))\n",
    "    \n",
    "    return non_pers_reco_output"
   ]
  },
  {
   "cell_type": "markdown",
   "metadata": {},
   "source": [
    "Let's test for a couple of users"
   ]
  },
  {
   "cell_type": "code",
   "execution_count": 39,
   "metadata": {},
   "outputs": [
    {
     "data": {
      "text/html": [
       "<div>\n",
       "<style scoped>\n",
       "    .dataframe tbody tr th:only-of-type {\n",
       "        vertical-align: middle;\n",
       "    }\n",
       "\n",
       "    .dataframe tbody tr th {\n",
       "        vertical-align: top;\n",
       "    }\n",
       "\n",
       "    .dataframe thead th {\n",
       "        text-align: right;\n",
       "    }\n",
       "</style>\n",
       "<table border=\"1\" class=\"dataframe\">\n",
       "  <thead>\n",
       "    <tr style=\"text-align: right;\">\n",
       "      <th></th>\n",
       "      <th>user_id</th>\n",
       "      <th>0</th>\n",
       "      <th>1</th>\n",
       "      <th>2</th>\n",
       "      <th>3</th>\n",
       "      <th>4</th>\n",
       "      <th>5</th>\n",
       "      <th>6</th>\n",
       "      <th>7</th>\n",
       "      <th>8</th>\n",
       "      <th>...</th>\n",
       "      <th>40</th>\n",
       "      <th>41</th>\n",
       "      <th>42</th>\n",
       "      <th>43</th>\n",
       "      <th>44</th>\n",
       "      <th>45</th>\n",
       "      <th>46</th>\n",
       "      <th>47</th>\n",
       "      <th>48</th>\n",
       "      <th>49</th>\n",
       "    </tr>\n",
       "  </thead>\n",
       "  <tbody>\n",
       "    <tr>\n",
       "      <th>0</th>\n",
       "      <td>452355</td>\n",
       "      <td>154351</td>\n",
       "      <td>515167</td>\n",
       "      <td>55309</td>\n",
       "      <td>487111</td>\n",
       "      <td>18446</td>\n",
       "      <td>24768</td>\n",
       "      <td>69051</td>\n",
       "      <td>104292</td>\n",
       "      <td>153877</td>\n",
       "      <td>...</td>\n",
       "      <td>73825</td>\n",
       "      <td>100450</td>\n",
       "      <td>146563</td>\n",
       "      <td>163220</td>\n",
       "      <td>209670</td>\n",
       "      <td>228909</td>\n",
       "      <td>13275</td>\n",
       "      <td>50958</td>\n",
       "      <td>74182</td>\n",
       "      <td>94087</td>\n",
       "    </tr>\n",
       "    <tr>\n",
       "      <th>1</th>\n",
       "      <td>18540</td>\n",
       "      <td>154351</td>\n",
       "      <td>515167</td>\n",
       "      <td>55309</td>\n",
       "      <td>487111</td>\n",
       "      <td>18446</td>\n",
       "      <td>24768</td>\n",
       "      <td>69051</td>\n",
       "      <td>104292</td>\n",
       "      <td>153877</td>\n",
       "      <td>...</td>\n",
       "      <td>73825</td>\n",
       "      <td>100450</td>\n",
       "      <td>146563</td>\n",
       "      <td>163220</td>\n",
       "      <td>209670</td>\n",
       "      <td>228909</td>\n",
       "      <td>13275</td>\n",
       "      <td>50958</td>\n",
       "      <td>74182</td>\n",
       "      <td>94087</td>\n",
       "    </tr>\n",
       "    <tr>\n",
       "      <th>2</th>\n",
       "      <td>2743667</td>\n",
       "      <td>154351</td>\n",
       "      <td>515167</td>\n",
       "      <td>55309</td>\n",
       "      <td>487111</td>\n",
       "      <td>18446</td>\n",
       "      <td>24768</td>\n",
       "      <td>69051</td>\n",
       "      <td>104292</td>\n",
       "      <td>153877</td>\n",
       "      <td>...</td>\n",
       "      <td>73825</td>\n",
       "      <td>100450</td>\n",
       "      <td>146563</td>\n",
       "      <td>163220</td>\n",
       "      <td>209670</td>\n",
       "      <td>228909</td>\n",
       "      <td>13275</td>\n",
       "      <td>50958</td>\n",
       "      <td>74182</td>\n",
       "      <td>94087</td>\n",
       "    </tr>\n",
       "  </tbody>\n",
       "</table>\n",
       "<p>3 rows × 51 columns</p>\n",
       "</div>"
      ],
      "text/plain": [
       "   user_id       0       1      2       3      4      5      6       7  \\\n",
       "0   452355  154351  515167  55309  487111  18446  24768  69051  104292   \n",
       "1    18540  154351  515167  55309  487111  18446  24768  69051  104292   \n",
       "2  2743667  154351  515167  55309  487111  18446  24768  69051  104292   \n",
       "\n",
       "        8  ...     40      41      42      43      44      45     46     47  \\\n",
       "0  153877  ...  73825  100450  146563  163220  209670  228909  13275  50958   \n",
       "1  153877  ...  73825  100450  146563  163220  209670  228909  13275  50958   \n",
       "2  153877  ...  73825  100450  146563  163220  209670  228909  13275  50958   \n",
       "\n",
       "      48     49  \n",
       "0  74182  94087  \n",
       "1  74182  94087  \n",
       "2  74182  94087  \n",
       "\n",
       "[3 rows x 51 columns]"
      ]
     },
     "execution_count": 39,
     "metadata": {},
     "output_type": "execute_result"
    }
   ],
   "source": [
    "non_pers_reco_output([452355, 18540, 2743667], non_pers_recommendations)"
   ]
  },
  {
   "cell_type": "markdown",
   "metadata": {},
   "source": [
    "As you can see we create a recommendation dataframe where each row represents an user and the columns are ordered and numbered from best recommended to least recommended.\n",
    "\n",
    "For each model and every model, we are going to produce recommendations for the validation set and the test set. So let's start with non-presonalized recommendations."
   ]
  },
  {
   "cell_type": "markdown",
   "metadata": {},
   "source": [
    "### 3.2 Non-personalized recommendations for validation data\n",
    "\n",
    "We just need to evoke function `non_pers_reco_output` with the validation users and the non-personalized recommendations."
   ]
  },
  {
   "cell_type": "code",
   "execution_count": 40,
   "metadata": {},
   "outputs": [
    {
     "name": "stdout",
     "output_type": "stream",
     "text": [
      "Recommendations were saved on file non_personalized_recommendations_VAL.csv.\n"
     ]
    }
   ],
   "source": [
    "non_pers_reco_solution_val = non_pers_reco_output(users_val, non_pers_recommendations)\n",
    "save_recommendations(non_pers_reco_solution_val, \"non_personalized_recommendations_VAL\")"
   ]
  },
  {
   "cell_type": "markdown",
   "metadata": {},
   "source": [
    "#### Validation evaluation\n",
    "\n",
    "After creating the output file, we can compare it with the test recommendations. Use function `evaluate_solution` with the solution file name as the first argument and the ground-truth as the second argument."
   ]
  },
  {
   "cell_type": "code",
   "execution_count": 41,
   "metadata": {},
   "outputs": [
    {
     "data": {
      "text/plain": [
       "0.0"
      ]
     },
     "execution_count": 41,
     "metadata": {},
     "output_type": "execute_result"
    }
   ],
   "source": [
    "## Second argument is the recommendation file to compare\n",
    "evaluate_solution('non_personalized_recommendations_VAL', 'validation_recommendations')"
   ]
  },
  {
   "cell_type": "markdown",
   "metadata": {},
   "source": [
    "### 3.3 Non-personalized recommendations for test data\n",
    "\n",
    "This section simulates the scoring done by the portal. Again, we just need to evoke function `non_pers_reco_output`  but now with the **test** users and the non-personalized recommendations."
   ]
  },
  {
   "cell_type": "code",
   "execution_count": 42,
   "metadata": {},
   "outputs": [
    {
     "name": "stdout",
     "output_type": "stream",
     "text": [
      "Recommendations were saved on file non_personalized_recommendations_TEST.csv.\n"
     ]
    }
   ],
   "source": [
    "non_pers_reco_solution_test = non_pers_reco_output(test_users[\"user_id\"].to_list(), non_pers_recommendations)\n",
    "save_recommendations(non_pers_reco_solution_test, \"non_personalized_recommendations_TEST\")"
   ]
  },
  {
   "cell_type": "markdown",
   "metadata": {},
   "source": [
    "#### Test evaluation\n",
    "\n",
    "To simulate submitting the recommendations to the portal, we use function `evaluate_solution` without a second argument."
   ]
  },
  {
   "cell_type": "code",
   "execution_count": 43,
   "metadata": {},
   "outputs": [
    {
     "data": {
      "text/plain": [
       "4.651674179825267e-06"
      ]
     },
     "execution_count": 43,
     "metadata": {},
     "output_type": "execute_result"
    }
   ],
   "source": [
    "## When second argument is missing, uses test data set.\n",
    "## Simulates the portal score.\n",
    "evaluate_solution('non_personalized_recommendations_TEST')"
   ]
  },
  {
   "cell_type": "markdown",
   "metadata": {},
   "source": [
    "## 4. Collaborative filtering"
   ]
  },
  {
   "cell_type": "markdown",
   "metadata": {},
   "source": [
    "Now that we have a baseline model, we can try collaborative filtering.\n",
    "We are going to use some open-source libraries to replicate what we did on the previous SLUs.\n",
    "\n",
    "The first library that we are going to use is *[LightFM](https://making.lyst.com/lightfm/docs/home.html)*. LightFM allows to create the rating matrix (aka interaction matrix) and use that matrix to generate recommendations for our users.\n",
    "\n",
    "We start by using lightFM `Dataset()` function to create the user and item mapping that defines the vectorial space of the rating matrix."
   ]
  },
  {
   "cell_type": "code",
   "execution_count": 44,
   "metadata": {},
   "outputs": [],
   "source": [
    "# Notice the alias lfmDataset() instead of the standard Dataset()\n",
    "# Used to distiguish between lightFM Dataset() and another Dataset() that we use later.\n",
    "lfmdataset = lfmDataset()\n",
    "lfmdataset.fit(data_train['user_id'], data_train[\"recipe_id\"])"
   ]
  },
  {
   "cell_type": "markdown",
   "metadata": {},
   "source": [
    "We can check that vectorial space is defined as expected:"
   ]
  },
  {
   "cell_type": "code",
   "execution_count": 45,
   "metadata": {},
   "outputs": [
    {
     "name": "stdout",
     "output_type": "stream",
     "text": [
      "Num users: 36,431, num_items 21,358.\n"
     ]
    }
   ],
   "source": [
    "num_users, num_items = lfmdataset.interactions_shape()\n",
    "print('Num users: {:,}, num_items {:,}.'.format(num_users, num_items))"
   ]
  },
  {
   "cell_type": "markdown",
   "metadata": {},
   "source": [
    "The mapping between external user IDs (the ones in our data) and the internal user IDs can be obtained with method `.mapping()`. The same applies for items."
   ]
  },
  {
   "cell_type": "code",
   "execution_count": 46,
   "metadata": {},
   "outputs": [],
   "source": [
    "user_id_map, user_feature_map, item_id_map, item_feature_map = lfmdataset.mapping()"
   ]
  },
  {
   "cell_type": "markdown",
   "metadata": {},
   "source": [
    "Reverses map between external and internal IDs. This is used to get the original IDs from the internal IDs."
   ]
  },
  {
   "cell_type": "code",
   "execution_count": 47,
   "metadata": {},
   "outputs": [],
   "source": [
    "item_id_map_reverse = {v: k for k, v in item_id_map.items()}"
   ]
  },
  {
   "cell_type": "markdown",
   "metadata": {},
   "source": [
    "We now need to create the rating matrix. The equivalent in lightFM is the interactions matrix. We use the `build_interactions` to create the interaction matrix in the COOrdinate format. The argument is an iterable of (user_id, item_id) or (user_id, item_id, weight)), where weight is what we call rating."
   ]
  },
  {
   "cell_type": "code",
   "execution_count": 48,
   "metadata": {},
   "outputs": [
    {
     "name": "stdout",
     "output_type": "stream",
     "text": [
      "<36431x21358 sparse matrix of type '<class 'numpy.int32'>'\n",
      "\twith 92448 stored elements in COOrdinate format>\n"
     ]
    }
   ],
   "source": [
    "(interactions, weights) = lfmdataset.build_interactions((row for row in data_train.values))\n",
    "\n",
    "print(repr(interactions))"
   ]
  },
  {
   "cell_type": "markdown",
   "metadata": {},
   "source": [
    "We now define the model that we are going to use to produce our recommendations. We select the `warp` loss function as it is [recommended](https://making.lyst.com/lightfm/docs/lightfm.html#id2) for optimizing to top of recommendation list (precision@k), which is our case."
   ]
  },
  {
   "cell_type": "code",
   "execution_count": 49,
   "metadata": {},
   "outputs": [],
   "source": [
    "lfmodel = LightFM(loss='warp')"
   ]
  },
  {
   "cell_type": "markdown",
   "metadata": {},
   "source": [
    "We fit the model with our interaction data."
   ]
  },
  {
   "cell_type": "code",
   "execution_count": 50,
   "metadata": {},
   "outputs": [
    {
     "data": {
      "text/plain": [
       "<lightfm.lightfm.LightFM at 0x7f725f218f70>"
      ]
     },
     "execution_count": 50,
     "metadata": {},
     "output_type": "execute_result"
    }
   ],
   "source": [
    "lfmodel.fit(interactions)"
   ]
  },
  {
   "cell_type": "markdown",
   "metadata": {},
   "source": [
    "With the model trained and the dataset in COO format, we can produce recommendations for a given user.\n",
    "\n",
    "We can use the method `.predict` to calculate the score (rating) of each item for a given user. We then sort the items' IDs in descending order of rating and select the `k_top` best items."
   ]
  },
  {
   "cell_type": "code",
   "execution_count": 51,
   "metadata": {},
   "outputs": [
    {
     "data": {
      "text/html": [
       "<div>\n",
       "<style scoped>\n",
       "    .dataframe tbody tr th:only-of-type {\n",
       "        vertical-align: middle;\n",
       "    }\n",
       "\n",
       "    .dataframe tbody tr th {\n",
       "        vertical-align: top;\n",
       "    }\n",
       "\n",
       "    .dataframe thead th {\n",
       "        text-align: right;\n",
       "    }\n",
       "</style>\n",
       "<table border=\"1\" class=\"dataframe\">\n",
       "  <thead>\n",
       "    <tr style=\"text-align: right;\">\n",
       "      <th></th>\n",
       "      <th>user_id</th>\n",
       "      <th>0</th>\n",
       "      <th>1</th>\n",
       "      <th>2</th>\n",
       "      <th>3</th>\n",
       "      <th>4</th>\n",
       "      <th>5</th>\n",
       "      <th>6</th>\n",
       "      <th>7</th>\n",
       "      <th>8</th>\n",
       "      <th>...</th>\n",
       "      <th>40</th>\n",
       "      <th>41</th>\n",
       "      <th>42</th>\n",
       "      <th>43</th>\n",
       "      <th>44</th>\n",
       "      <th>45</th>\n",
       "      <th>46</th>\n",
       "      <th>47</th>\n",
       "      <th>48</th>\n",
       "      <th>49</th>\n",
       "    </tr>\n",
       "  </thead>\n",
       "  <tbody>\n",
       "    <tr>\n",
       "      <th>0</th>\n",
       "      <td>85826</td>\n",
       "      <td>68955</td>\n",
       "      <td>33671</td>\n",
       "      <td>63689</td>\n",
       "      <td>129926</td>\n",
       "      <td>26110</td>\n",
       "      <td>150863</td>\n",
       "      <td>28768</td>\n",
       "      <td>87782</td>\n",
       "      <td>66121</td>\n",
       "      <td>...</td>\n",
       "      <td>486261</td>\n",
       "      <td>44888</td>\n",
       "      <td>13546</td>\n",
       "      <td>10125</td>\n",
       "      <td>55768</td>\n",
       "      <td>42094</td>\n",
       "      <td>29884</td>\n",
       "      <td>53508</td>\n",
       "      <td>129598</td>\n",
       "      <td>137530</td>\n",
       "    </tr>\n",
       "  </tbody>\n",
       "</table>\n",
       "<p>1 rows × 51 columns</p>\n",
       "</div>"
      ],
      "text/plain": [
       "   user_id      0      1      2       3      4       5      6      7      8  \\\n",
       "0    85826  68955  33671  63689  129926  26110  150863  28768  87782  66121   \n",
       "\n",
       "   ...      40     41     42     43     44     45     46     47      48  \\\n",
       "0  ...  486261  44888  13546  10125  55768  42094  29884  53508  129598   \n",
       "\n",
       "       49  \n",
       "0  137530  \n",
       "\n",
       "[1 rows x 51 columns]"
      ]
     },
     "execution_count": 51,
     "metadata": {},
     "output_type": "execute_result"
    }
   ],
   "source": [
    "k_top = 50\n",
    "\n",
    "# external user ID to predict\n",
    "user_ext_id_example = 85826\n",
    "\n",
    "# internal user ID to predict\n",
    "user_id_example = user_id_map[user_ext_id_example]\n",
    "\n",
    "#item internal ids\n",
    "item_id_int_list = list(item_id_map.values())\n",
    "\n",
    "# Calculates the score (rating) of each item\n",
    "scores = lfmodel.predict(user_id_example, item_id_int_list)\n",
    "\n",
    "# Sort the items from highest to lowest score\n",
    "top_items_ids = np.argsort(-scores)\n",
    "top_items_ids = [item_id_map_reverse[ids] for ids in top_items_ids]\n",
    "\n",
    "# Individual row. Two steps are necessary for the first column to call \"user_id\"\n",
    "user_id_df = pd.DataFrame([user_ext_id_example], columns=[\"user_id\"])\n",
    "top_items_ids = pd.DataFrame([top_items_ids[:k_top]])\n",
    "user_reco_df = pd.concat([user_id_df,top_items_ids], axis=1)\n",
    "user_reco_df"
   ]
  },
  {
   "cell_type": "markdown",
   "metadata": {},
   "source": [
    "We recommended recipes for one user. It's time to predict for a set of users. We'll repeat the previous process for each user in the set if that user is present in the training data. If the user is not present in the training data then we have to use non-personalized recommendations.\n",
    "\n",
    "We start by separating the users present in training data and the users absent in the training data:"
   ]
  },
  {
   "cell_type": "code",
   "execution_count": 52,
   "metadata": {},
   "outputs": [
    {
     "name": "stdout",
     "output_type": "stream",
     "text": [
      "The INTERNAL ID of users with mapping are: [20760, 23043]\n",
      "The EXTERNAL ID of users without mapping are: [999999999]\n"
     ]
    }
   ],
   "source": [
    "# some users\n",
    "user_id_ext_list = [185401, 1580779, 999999999] #last ID is made up\n",
    "\n",
    "# Split old users (user_id_int_list) from new users (user_id_ext_excluded)\n",
    "user_id_int_list = []\n",
    "user_id_ext_excluded = []\n",
    "\n",
    "for user_id_ext in user_id_ext_list:\n",
    "    try:\n",
    "        # user internal ID with mapping\n",
    "        user_id_int_list.append(user_id_map[user_id_ext])\n",
    "    except:\n",
    "        # user without mapping\n",
    "        user_id_ext_excluded.append(user_id_ext)\n",
    "\n",
    "print(f\"The INTERNAL ID of users with mapping are: {user_id_int_list}\")\n",
    "print(f\"The EXTERNAL ID of users without mapping are: {user_id_ext_excluded}\")"
   ]
  },
  {
   "cell_type": "markdown",
   "metadata": {},
   "source": [
    "We then list all the item IDs:"
   ]
  },
  {
   "cell_type": "code",
   "execution_count": 53,
   "metadata": {},
   "outputs": [],
   "source": [
    "# list of item external ids\n",
    "item_id_ext_list = list(item_id_map.values())"
   ]
  },
  {
   "cell_type": "markdown",
   "metadata": {},
   "source": [
    "Then, for each user present in the training data, we predict the rating of all items. We sort them by descending rating and select the `k_top` best items for that users."
   ]
  },
  {
   "cell_type": "code",
   "execution_count": 54,
   "metadata": {},
   "outputs": [
    {
     "data": {
      "text/html": [
       "<div>\n",
       "<style scoped>\n",
       "    .dataframe tbody tr th:only-of-type {\n",
       "        vertical-align: middle;\n",
       "    }\n",
       "\n",
       "    .dataframe tbody tr th {\n",
       "        vertical-align: top;\n",
       "    }\n",
       "\n",
       "    .dataframe thead th {\n",
       "        text-align: right;\n",
       "    }\n",
       "</style>\n",
       "<table border=\"1\" class=\"dataframe\">\n",
       "  <thead>\n",
       "    <tr style=\"text-align: right;\">\n",
       "      <th></th>\n",
       "      <th>0</th>\n",
       "      <th>1</th>\n",
       "      <th>2</th>\n",
       "      <th>3</th>\n",
       "      <th>4</th>\n",
       "      <th>5</th>\n",
       "      <th>6</th>\n",
       "      <th>7</th>\n",
       "      <th>8</th>\n",
       "      <th>9</th>\n",
       "      <th>...</th>\n",
       "      <th>41</th>\n",
       "      <th>42</th>\n",
       "      <th>43</th>\n",
       "      <th>44</th>\n",
       "      <th>45</th>\n",
       "      <th>46</th>\n",
       "      <th>47</th>\n",
       "      <th>48</th>\n",
       "      <th>49</th>\n",
       "      <th>50</th>\n",
       "    </tr>\n",
       "  </thead>\n",
       "  <tbody>\n",
       "    <tr>\n",
       "      <th>0</th>\n",
       "      <td>20760</td>\n",
       "      <td>68955</td>\n",
       "      <td>33671</td>\n",
       "      <td>63689</td>\n",
       "      <td>26110</td>\n",
       "      <td>150863</td>\n",
       "      <td>129926</td>\n",
       "      <td>87782</td>\n",
       "      <td>97496</td>\n",
       "      <td>28768</td>\n",
       "      <td>...</td>\n",
       "      <td>102617</td>\n",
       "      <td>486261</td>\n",
       "      <td>12591</td>\n",
       "      <td>42094</td>\n",
       "      <td>53508</td>\n",
       "      <td>13546</td>\n",
       "      <td>29884</td>\n",
       "      <td>32147</td>\n",
       "      <td>30081</td>\n",
       "      <td>24672</td>\n",
       "    </tr>\n",
       "    <tr>\n",
       "      <th>0</th>\n",
       "      <td>23043</td>\n",
       "      <td>68955</td>\n",
       "      <td>150863</td>\n",
       "      <td>33671</td>\n",
       "      <td>63689</td>\n",
       "      <td>26110</td>\n",
       "      <td>129926</td>\n",
       "      <td>87782</td>\n",
       "      <td>97496</td>\n",
       "      <td>92095</td>\n",
       "      <td>...</td>\n",
       "      <td>102617</td>\n",
       "      <td>13546</td>\n",
       "      <td>55768</td>\n",
       "      <td>52272</td>\n",
       "      <td>53508</td>\n",
       "      <td>18816</td>\n",
       "      <td>24672</td>\n",
       "      <td>30081</td>\n",
       "      <td>137530</td>\n",
       "      <td>29884</td>\n",
       "    </tr>\n",
       "  </tbody>\n",
       "</table>\n",
       "<p>2 rows × 51 columns</p>\n",
       "</div>"
      ],
      "text/plain": [
       "      0      1       2      3      4       5       6      7      8      9   \\\n",
       "0  20760  68955   33671  63689  26110  150863  129926  87782  97496  28768   \n",
       "0  23043  68955  150863  33671  63689   26110  129926  87782  97496  92095   \n",
       "\n",
       "   ...      41      42     43     44     45     46     47     48      49  \\\n",
       "0  ...  102617  486261  12591  42094  53508  13546  29884  32147   30081   \n",
       "0  ...  102617   13546  55768  52272  53508  18816  24672  30081  137530   \n",
       "\n",
       "      50  \n",
       "0  24672  \n",
       "0  29884  \n",
       "\n",
       "[2 rows x 51 columns]"
      ]
     },
     "execution_count": 54,
     "metadata": {},
     "output_type": "execute_result"
    }
   ],
   "source": [
    "#Dataframe with model recommendations\n",
    "model_reco_df = pd.DataFrame()\n",
    "\n",
    "##Collaborative recommendations\n",
    "for user_id in user_id_int_list:\n",
    "    scores = lfmodel.predict(user_id, item_id_ext_list)\n",
    "    top_items_ids = np.argsort(-scores)\n",
    "    top_items_ids = [item_id_map_reverse[ids] for ids in top_items_ids]\n",
    "\n",
    "    user_reco_df = pd.DataFrame([[user_id] + top_items_ids[:k_top]])\n",
    "    \n",
    "    #Appending rows\n",
    "    model_reco_df = pd.concat([model_reco_df, user_reco_df])\n",
    "model_reco_df"
   ]
  },
  {
   "cell_type": "markdown",
   "metadata": {},
   "source": [
    "For the remaining users, we use non-personalized recommendations."
   ]
  },
  {
   "cell_type": "code",
   "execution_count": 55,
   "metadata": {},
   "outputs": [
    {
     "data": {
      "text/html": [
       "<div>\n",
       "<style scoped>\n",
       "    .dataframe tbody tr th:only-of-type {\n",
       "        vertical-align: middle;\n",
       "    }\n",
       "\n",
       "    .dataframe tbody tr th {\n",
       "        vertical-align: top;\n",
       "    }\n",
       "\n",
       "    .dataframe thead th {\n",
       "        text-align: right;\n",
       "    }\n",
       "</style>\n",
       "<table border=\"1\" class=\"dataframe\">\n",
       "  <thead>\n",
       "    <tr style=\"text-align: right;\">\n",
       "      <th></th>\n",
       "      <th>user_id</th>\n",
       "      <th>0</th>\n",
       "      <th>1</th>\n",
       "      <th>2</th>\n",
       "      <th>3</th>\n",
       "      <th>4</th>\n",
       "      <th>5</th>\n",
       "      <th>6</th>\n",
       "      <th>7</th>\n",
       "      <th>8</th>\n",
       "      <th>...</th>\n",
       "      <th>40</th>\n",
       "      <th>41</th>\n",
       "      <th>42</th>\n",
       "      <th>43</th>\n",
       "      <th>44</th>\n",
       "      <th>45</th>\n",
       "      <th>46</th>\n",
       "      <th>47</th>\n",
       "      <th>48</th>\n",
       "      <th>49</th>\n",
       "    </tr>\n",
       "  </thead>\n",
       "  <tbody>\n",
       "    <tr>\n",
       "      <th>0</th>\n",
       "      <td>999999999</td>\n",
       "      <td>154351</td>\n",
       "      <td>515167</td>\n",
       "      <td>55309</td>\n",
       "      <td>487111</td>\n",
       "      <td>18446</td>\n",
       "      <td>24768</td>\n",
       "      <td>69051</td>\n",
       "      <td>104292</td>\n",
       "      <td>153877</td>\n",
       "      <td>...</td>\n",
       "      <td>73825</td>\n",
       "      <td>100450</td>\n",
       "      <td>146563</td>\n",
       "      <td>163220</td>\n",
       "      <td>209670</td>\n",
       "      <td>228909</td>\n",
       "      <td>13275</td>\n",
       "      <td>50958</td>\n",
       "      <td>74182</td>\n",
       "      <td>94087</td>\n",
       "    </tr>\n",
       "  </tbody>\n",
       "</table>\n",
       "<p>1 rows × 51 columns</p>\n",
       "</div>"
      ],
      "text/plain": [
       "     user_id       0       1      2       3      4      5      6       7  \\\n",
       "0  999999999  154351  515167  55309  487111  18446  24768  69051  104292   \n",
       "\n",
       "        8  ...     40      41      42      43      44      45     46     47  \\\n",
       "0  153877  ...  73825  100450  146563  163220  209670  228909  13275  50958   \n",
       "\n",
       "      48     49  \n",
       "0  74182  94087  \n",
       "\n",
       "[1 rows x 51 columns]"
      ]
     },
     "execution_count": 55,
     "metadata": {},
     "output_type": "execute_result"
    }
   ],
   "source": [
    "## Non-personalized recommendations\n",
    "non_pers_reco_df = non_pers_reco_output(user_id_ext_excluded, non_pers_recommendations)\n",
    "non_pers_reco_df"
   ]
  },
  {
   "cell_type": "markdown",
   "metadata": {},
   "source": [
    "At last, we concatenate both recommendations together."
   ]
  },
  {
   "cell_type": "code",
   "execution_count": 56,
   "metadata": {},
   "outputs": [
    {
     "data": {
      "text/html": [
       "<div>\n",
       "<style scoped>\n",
       "    .dataframe tbody tr th:only-of-type {\n",
       "        vertical-align: middle;\n",
       "    }\n",
       "\n",
       "    .dataframe tbody tr th {\n",
       "        vertical-align: top;\n",
       "    }\n",
       "\n",
       "    .dataframe thead th {\n",
       "        text-align: right;\n",
       "    }\n",
       "</style>\n",
       "<table border=\"1\" class=\"dataframe\">\n",
       "  <thead>\n",
       "    <tr style=\"text-align: right;\">\n",
       "      <th></th>\n",
       "      <th>0</th>\n",
       "      <th>1</th>\n",
       "      <th>2</th>\n",
       "      <th>3</th>\n",
       "      <th>4</th>\n",
       "      <th>5</th>\n",
       "      <th>6</th>\n",
       "      <th>7</th>\n",
       "      <th>8</th>\n",
       "      <th>9</th>\n",
       "      <th>...</th>\n",
       "      <th>42</th>\n",
       "      <th>43</th>\n",
       "      <th>44</th>\n",
       "      <th>45</th>\n",
       "      <th>46</th>\n",
       "      <th>47</th>\n",
       "      <th>48</th>\n",
       "      <th>49</th>\n",
       "      <th>50</th>\n",
       "      <th>user_id</th>\n",
       "    </tr>\n",
       "  </thead>\n",
       "  <tbody>\n",
       "    <tr>\n",
       "      <th>0</th>\n",
       "      <td>20760</td>\n",
       "      <td>68955</td>\n",
       "      <td>33671</td>\n",
       "      <td>63689</td>\n",
       "      <td>26110</td>\n",
       "      <td>150863</td>\n",
       "      <td>129926</td>\n",
       "      <td>87782</td>\n",
       "      <td>97496</td>\n",
       "      <td>28768</td>\n",
       "      <td>...</td>\n",
       "      <td>486261</td>\n",
       "      <td>12591</td>\n",
       "      <td>42094</td>\n",
       "      <td>53508</td>\n",
       "      <td>13546</td>\n",
       "      <td>29884</td>\n",
       "      <td>32147</td>\n",
       "      <td>30081</td>\n",
       "      <td>24672.0</td>\n",
       "      <td>NaN</td>\n",
       "    </tr>\n",
       "    <tr>\n",
       "      <th>1</th>\n",
       "      <td>23043</td>\n",
       "      <td>68955</td>\n",
       "      <td>150863</td>\n",
       "      <td>33671</td>\n",
       "      <td>63689</td>\n",
       "      <td>26110</td>\n",
       "      <td>129926</td>\n",
       "      <td>87782</td>\n",
       "      <td>97496</td>\n",
       "      <td>92095</td>\n",
       "      <td>...</td>\n",
       "      <td>13546</td>\n",
       "      <td>55768</td>\n",
       "      <td>52272</td>\n",
       "      <td>53508</td>\n",
       "      <td>18816</td>\n",
       "      <td>24672</td>\n",
       "      <td>30081</td>\n",
       "      <td>137530</td>\n",
       "      <td>29884.0</td>\n",
       "      <td>NaN</td>\n",
       "    </tr>\n",
       "    <tr>\n",
       "      <th>2</th>\n",
       "      <td>154351</td>\n",
       "      <td>515167</td>\n",
       "      <td>55309</td>\n",
       "      <td>487111</td>\n",
       "      <td>18446</td>\n",
       "      <td>24768</td>\n",
       "      <td>69051</td>\n",
       "      <td>104292</td>\n",
       "      <td>153877</td>\n",
       "      <td>20233</td>\n",
       "      <td>...</td>\n",
       "      <td>146563</td>\n",
       "      <td>163220</td>\n",
       "      <td>209670</td>\n",
       "      <td>228909</td>\n",
       "      <td>13275</td>\n",
       "      <td>50958</td>\n",
       "      <td>74182</td>\n",
       "      <td>94087</td>\n",
       "      <td>NaN</td>\n",
       "      <td>999999999.0</td>\n",
       "    </tr>\n",
       "  </tbody>\n",
       "</table>\n",
       "<p>3 rows × 52 columns</p>\n",
       "</div>"
      ],
      "text/plain": [
       "        0       1       2       3      4       5       6       7       8  \\\n",
       "0   20760   68955   33671   63689  26110  150863  129926   87782   97496   \n",
       "1   23043   68955  150863   33671  63689   26110  129926   87782   97496   \n",
       "2  154351  515167   55309  487111  18446   24768   69051  104292  153877   \n",
       "\n",
       "       9  ...      42      43      44      45     46     47     48      49  \\\n",
       "0  28768  ...  486261   12591   42094   53508  13546  29884  32147   30081   \n",
       "1  92095  ...   13546   55768   52272   53508  18816  24672  30081  137530   \n",
       "2  20233  ...  146563  163220  209670  228909  13275  50958  74182   94087   \n",
       "\n",
       "        50      user_id  \n",
       "0  24672.0          NaN  \n",
       "1  29884.0          NaN  \n",
       "2      NaN  999999999.0  \n",
       "\n",
       "[3 rows x 52 columns]"
      ]
     },
     "execution_count": 56,
     "metadata": {},
     "output_type": "execute_result"
    }
   ],
   "source": [
    "final_reco_df = pd.concat([model_reco_df, non_pers_reco_df]).reset_index(drop=True)\n",
    "final_reco_df"
   ]
  },
  {
   "cell_type": "markdown",
   "metadata": {},
   "source": [
    "Now that we have a working example, we can generalize with a function that outputs predictions for lightFM models."
   ]
  },
  {
   "cell_type": "code",
   "execution_count": 57,
   "metadata": {},
   "outputs": [],
   "source": [
    "def lightFM_recommendations(dataset,\n",
    "                            model,\n",
    "                            user_id_ext_list,\n",
    "                            non_pers_reco_list,\n",
    "                            k_top: int = 50,\n",
    "                            item_features = None):   \n",
    "    \"\"\"\n",
    "    Create output dataframe with recommendations based on dataset, model and list of users.\n",
    "    \n",
    "    This function predicts recommendations for users specified in user_id_ext_list that are present in the lightFM dataset.\n",
    "    New users are recommended the items in the non-personalized list non_per_reco_list.\n",
    "    \n",
    "    Parameters:\n",
    "    -----------\n",
    "    dataset: lightFM dataset\n",
    "    \n",
    "    model: lightFM trained model\n",
    "    \n",
    "    user_id_ext_list: list of user external IDs to predict\n",
    "    \n",
    "    non_pers_reco: list of non-personalized recommendations ordered from best to worst rated\n",
    "    \n",
    "    k_top: number of recommendations to create per user\n",
    "    \n",
    "    item_features: lightFM item features\n",
    "    \n",
    "    Returns:\n",
    "    --------\n",
    "    final_reco_df: dataframe with users' recommendations\n",
    "    The first column has the users' ID and the remaining columns have the recommendations\n",
    "    \"\"\"\n",
    "    \n",
    "    assert len(user_id_ext_list) > 0, \"User ID list length must be larger than 0.\"\n",
    "    \n",
    "    # Dataset mappings\n",
    "    user_id_map, user_feature_map, item_id_map, item_feature_map = dataset.mapping()\n",
    "    \n",
    "    # reverse mapping\n",
    "    item_id_map_reverse = {v: k for k, v in item_id_map.items()}\n",
    "    user_id_map_reverse = {v: k for k, v in user_id_map.items()}\n",
    "    \n",
    "    \n",
    "    # item internal ids\n",
    "    item_id_int_list = list(item_id_map.values())\n",
    "    \n",
    "    # Split old users (user_id_int_list) from new users (user_id_ext_excluded)\n",
    "    # Old users are defined in the ratings vectorial space.\n",
    "    # New users are not defined in the ratings vectorial space.\n",
    "    # New users receive non-personalized recommendations.\n",
    "    user_id_int_list = []\n",
    "    user_id_ext_excluded = []\n",
    "    \n",
    "    for user_id_ext in user_id_ext_list:\n",
    "        try:\n",
    "            user_id_int_list.append(user_id_map[user_id_ext])\n",
    "        except:\n",
    "            user_id_ext_excluded.append(user_id_ext)\n",
    "    \n",
    "    # Dataframe to store model recommendations\n",
    "    model_reco_df = pd.DataFrame()\n",
    "    \n",
    "    # Model recommendations\n",
    "    for user_id in user_id_int_list:\n",
    "        scores = model.predict(user_id, item_id_int_list, item_features)\n",
    "        top_items_ids = np.argsort(-scores)\n",
    "        top_items_ids = [item_id_map_reverse[ids] for ids in top_items_ids]\n",
    "         \n",
    "        # Individual row. Two steps are necessary for the first row to call \"user_id\"\n",
    "        user_id_df = pd.DataFrame([user_id_map_reverse[user_id]], columns=[\"user_id\"], dtype = int)\n",
    "        top_items_ids = pd.DataFrame([top_items_ids[:k_top]])\n",
    "        user_reco_df = pd.concat([user_id_df, top_items_ids], axis=1)\n",
    "        \n",
    "        # Concatenating rows\n",
    "        model_reco_df = pd.concat([model_reco_df, user_reco_df])\n",
    "        \n",
    "        # Stop execution if memory is almost full\n",
    "        memory_circuit_breaker(memory_limit_perc)\n",
    "        \n",
    "        \n",
    "    # Non-personalized recommendations\n",
    "    non_pers_reco_df = non_pers_reco_output(user_id_ext_excluded, non_pers_reco_list)\n",
    "    \n",
    "    # Concatenating all recommendations\n",
    "    if model_reco_df.shape[0] == 0:\n",
    "        final_reco_df = non_pers_reco_df\n",
    "    elif non_pers_reco_df.shape[0] == 0:\n",
    "        final_reco_df = model_reco_df\n",
    "    else:\n",
    "        final_reco_df = pd.concat([model_reco_df, non_pers_reco_df])\n",
    "    \n",
    "    return final_reco_df"
   ]
  },
  {
   "cell_type": "markdown",
   "metadata": {},
   "source": [
    "### 4.1 Let's test with a couple of users\n",
    "\n",
    "In the example below the user 123213231 is a new user so it should receive the non-personalized recommendations. The remaining users already exist on the training data so the model should output collaborative-based recommendations."
   ]
  },
  {
   "cell_type": "code",
   "execution_count": 58,
   "metadata": {},
   "outputs": [
    {
     "data": {
      "text/html": [
       "<div>\n",
       "<style scoped>\n",
       "    .dataframe tbody tr th:only-of-type {\n",
       "        vertical-align: middle;\n",
       "    }\n",
       "\n",
       "    .dataframe tbody tr th {\n",
       "        vertical-align: top;\n",
       "    }\n",
       "\n",
       "    .dataframe thead th {\n",
       "        text-align: right;\n",
       "    }\n",
       "</style>\n",
       "<table border=\"1\" class=\"dataframe\">\n",
       "  <thead>\n",
       "    <tr style=\"text-align: right;\">\n",
       "      <th></th>\n",
       "      <th>user_id</th>\n",
       "      <th>0</th>\n",
       "      <th>1</th>\n",
       "      <th>2</th>\n",
       "      <th>3</th>\n",
       "      <th>4</th>\n",
       "      <th>5</th>\n",
       "      <th>6</th>\n",
       "      <th>7</th>\n",
       "      <th>8</th>\n",
       "      <th>...</th>\n",
       "      <th>40</th>\n",
       "      <th>41</th>\n",
       "      <th>42</th>\n",
       "      <th>43</th>\n",
       "      <th>44</th>\n",
       "      <th>45</th>\n",
       "      <th>46</th>\n",
       "      <th>47</th>\n",
       "      <th>48</th>\n",
       "      <th>49</th>\n",
       "    </tr>\n",
       "  </thead>\n",
       "  <tbody>\n",
       "    <tr>\n",
       "      <th>0</th>\n",
       "      <td>83961</td>\n",
       "      <td>68955</td>\n",
       "      <td>33671</td>\n",
       "      <td>63689</td>\n",
       "      <td>26110</td>\n",
       "      <td>150863</td>\n",
       "      <td>129926</td>\n",
       "      <td>97496</td>\n",
       "      <td>87782</td>\n",
       "      <td>92095</td>\n",
       "      <td>...</td>\n",
       "      <td>13546</td>\n",
       "      <td>53508</td>\n",
       "      <td>486261</td>\n",
       "      <td>42094</td>\n",
       "      <td>102617</td>\n",
       "      <td>30081</td>\n",
       "      <td>24672</td>\n",
       "      <td>137530</td>\n",
       "      <td>12591</td>\n",
       "      <td>52272</td>\n",
       "    </tr>\n",
       "    <tr>\n",
       "      <th>0</th>\n",
       "      <td>1232131231</td>\n",
       "      <td>154351</td>\n",
       "      <td>515167</td>\n",
       "      <td>55309</td>\n",
       "      <td>487111</td>\n",
       "      <td>18446</td>\n",
       "      <td>24768</td>\n",
       "      <td>69051</td>\n",
       "      <td>104292</td>\n",
       "      <td>153877</td>\n",
       "      <td>...</td>\n",
       "      <td>73825</td>\n",
       "      <td>100450</td>\n",
       "      <td>146563</td>\n",
       "      <td>163220</td>\n",
       "      <td>209670</td>\n",
       "      <td>228909</td>\n",
       "      <td>13275</td>\n",
       "      <td>50958</td>\n",
       "      <td>74182</td>\n",
       "      <td>94087</td>\n",
       "    </tr>\n",
       "    <tr>\n",
       "      <th>1</th>\n",
       "      <td>1498649</td>\n",
       "      <td>154351</td>\n",
       "      <td>515167</td>\n",
       "      <td>55309</td>\n",
       "      <td>487111</td>\n",
       "      <td>18446</td>\n",
       "      <td>24768</td>\n",
       "      <td>69051</td>\n",
       "      <td>104292</td>\n",
       "      <td>153877</td>\n",
       "      <td>...</td>\n",
       "      <td>73825</td>\n",
       "      <td>100450</td>\n",
       "      <td>146563</td>\n",
       "      <td>163220</td>\n",
       "      <td>209670</td>\n",
       "      <td>228909</td>\n",
       "      <td>13275</td>\n",
       "      <td>50958</td>\n",
       "      <td>74182</td>\n",
       "      <td>94087</td>\n",
       "    </tr>\n",
       "    <tr>\n",
       "      <th>2</th>\n",
       "      <td>99136</td>\n",
       "      <td>154351</td>\n",
       "      <td>515167</td>\n",
       "      <td>55309</td>\n",
       "      <td>487111</td>\n",
       "      <td>18446</td>\n",
       "      <td>24768</td>\n",
       "      <td>69051</td>\n",
       "      <td>104292</td>\n",
       "      <td>153877</td>\n",
       "      <td>...</td>\n",
       "      <td>73825</td>\n",
       "      <td>100450</td>\n",
       "      <td>146563</td>\n",
       "      <td>163220</td>\n",
       "      <td>209670</td>\n",
       "      <td>228909</td>\n",
       "      <td>13275</td>\n",
       "      <td>50958</td>\n",
       "      <td>74182</td>\n",
       "      <td>94087</td>\n",
       "    </tr>\n",
       "  </tbody>\n",
       "</table>\n",
       "<p>4 rows × 51 columns</p>\n",
       "</div>"
      ],
      "text/plain": [
       "      user_id       0       1      2       3       4       5      6       7  \\\n",
       "0       83961   68955   33671  63689   26110  150863  129926  97496   87782   \n",
       "0  1232131231  154351  515167  55309  487111   18446   24768  69051  104292   \n",
       "1     1498649  154351  515167  55309  487111   18446   24768  69051  104292   \n",
       "2       99136  154351  515167  55309  487111   18446   24768  69051  104292   \n",
       "\n",
       "        8  ...     40      41      42      43      44      45     46      47  \\\n",
       "0   92095  ...  13546   53508  486261   42094  102617   30081  24672  137530   \n",
       "0  153877  ...  73825  100450  146563  163220  209670  228909  13275   50958   \n",
       "1  153877  ...  73825  100450  146563  163220  209670  228909  13275   50958   \n",
       "2  153877  ...  73825  100450  146563  163220  209670  228909  13275   50958   \n",
       "\n",
       "      48     49  \n",
       "0  12591  52272  \n",
       "0  74182  94087  \n",
       "1  74182  94087  \n",
       "2  74182  94087  \n",
       "\n",
       "[4 rows x 51 columns]"
      ]
     },
     "execution_count": 58,
     "metadata": {},
     "output_type": "execute_result"
    }
   ],
   "source": [
    "lightFM_recommendations(lfmdataset,\n",
    "                        lfmodel,\n",
    "                        [1232131231, 1498649, 99136, 83961],\n",
    "                        non_pers_recommendations,\n",
    "                        k_top=k_top)"
   ]
  },
  {
   "cell_type": "markdown",
   "metadata": {},
   "source": [
    "It works great! It creates recommendations for the specified users!"
   ]
  },
  {
   "cell_type": "markdown",
   "metadata": {},
   "source": [
    "### 4.2 Collaborative filtering recommendations for validation data\n",
    "\n",
    "Now that we checked that `lightFM_recommendations` creates recommendations for the provided users, we create the recommendations for the validations users, store them in a `.csv` file and evaluate the results."
   ]
  },
  {
   "cell_type": "code",
   "execution_count": 59,
   "metadata": {},
   "outputs": [
    {
     "name": "stdout",
     "output_type": "stream",
     "text": [
      "Recommendations were saved on file collaborative_recommendations_VAL.csv.\n"
     ]
    }
   ],
   "source": [
    "collab_reco_val = lightFM_recommendations(lfmdataset, lfmodel, users_val, non_pers_recommendations, k_top=k_top)\n",
    "save_recommendations(collab_reco_val, \"collaborative_recommendations_VAL\")"
   ]
  },
  {
   "cell_type": "markdown",
   "metadata": {},
   "source": [
    "#### Validation evaluation"
   ]
  },
  {
   "cell_type": "code",
   "execution_count": 60,
   "metadata": {},
   "outputs": [
    {
     "data": {
      "text/plain": [
       "0.0002795638803466592"
      ]
     },
     "execution_count": 60,
     "metadata": {},
     "output_type": "execute_result"
    }
   ],
   "source": [
    "evaluate_solution('collaborative_recommendations_VAL', 'validation_recommendations')"
   ]
  },
  {
   "cell_type": "markdown",
   "metadata": {},
   "source": [
    "### 4.3 Collaborative filtering recommendations for test data\n",
    "\n",
    "The same can be performed for the test data."
   ]
  },
  {
   "cell_type": "code",
   "execution_count": 61,
   "metadata": {},
   "outputs": [
    {
     "name": "stdout",
     "output_type": "stream",
     "text": [
      "Recommendations were saved on file collaborative_recommendations_TEST.csv.\n"
     ]
    }
   ],
   "source": [
    "collab_reco_test = lightFM_recommendations(lfmdataset, lfmodel, users_test, non_pers_recommendations, k_top=k_top)\n",
    "save_recommendations(collab_reco_test, \"collaborative_recommendations_TEST\")"
   ]
  },
  {
   "cell_type": "markdown",
   "metadata": {},
   "source": [
    "#### Test evaluation"
   ]
  },
  {
   "cell_type": "code",
   "execution_count": 62,
   "metadata": {},
   "outputs": [
    {
     "data": {
      "text/plain": [
       "2.977859516865788e-06"
      ]
     },
     "execution_count": 62,
     "metadata": {},
     "output_type": "execute_result"
    }
   ],
   "source": [
    "evaluate_solution('collaborative_recommendations_TEST')"
   ]
  },
  {
   "cell_type": "markdown",
   "metadata": {},
   "source": [
    "#### Clean up\n",
    "\n",
    "To save some RAM, we are removing some objects that won't be needed later. If you want to keep them, comment the next cell."
   ]
  },
  {
   "cell_type": "code",
   "execution_count": 63,
   "metadata": {},
   "outputs": [
    {
     "data": {
      "text/plain": [
       "0"
      ]
     },
     "execution_count": 63,
     "metadata": {},
     "output_type": "execute_result"
    }
   ],
   "source": [
    "del (interactions,\n",
    "    non_pers_reco_solution_val,\n",
    "    non_pers_reco_solution_test,\n",
    "    model_reco_df,\n",
    "    final_reco_df,\n",
    "    collab_reco_val,\n",
    "    collab_reco_test)\n",
    "gc.collect()"
   ]
  },
  {
   "cell_type": "markdown",
   "metadata": {},
   "source": [
    "## 5. Content-based recommendations\n",
    "\n",
    "We are going to create recommendations that take into account the recipes information. We will use a `lightFM` model and introduce the recipe (item) information. We will explore the recipe information, identify potentially useful features and process some of them to use in the model."
   ]
  },
  {
   "cell_type": "markdown",
   "metadata": {},
   "source": [
    "### 5.1 Exploring and cleaning recipe data"
   ]
  },
  {
   "cell_type": "code",
   "execution_count": 64,
   "metadata": {},
   "outputs": [
    {
     "data": {
      "text/html": [
       "<div>\n",
       "<style scoped>\n",
       "    .dataframe tbody tr th:only-of-type {\n",
       "        vertical-align: middle;\n",
       "    }\n",
       "\n",
       "    .dataframe tbody tr th {\n",
       "        vertical-align: top;\n",
       "    }\n",
       "\n",
       "    .dataframe thead th {\n",
       "        text-align: right;\n",
       "    }\n",
       "</style>\n",
       "<table border=\"1\" class=\"dataframe\">\n",
       "  <thead>\n",
       "    <tr style=\"text-align: right;\">\n",
       "      <th></th>\n",
       "      <th>name</th>\n",
       "      <th>id</th>\n",
       "      <th>minutes</th>\n",
       "      <th>contributor_id</th>\n",
       "      <th>submitted</th>\n",
       "      <th>tags</th>\n",
       "      <th>nutrition</th>\n",
       "      <th>n_steps</th>\n",
       "      <th>steps</th>\n",
       "      <th>description</th>\n",
       "      <th>ingredients</th>\n",
       "      <th>n_ingredients</th>\n",
       "    </tr>\n",
       "  </thead>\n",
       "  <tbody>\n",
       "    <tr>\n",
       "      <th>0</th>\n",
       "      <td>bananas 4 ice cream  pie</td>\n",
       "      <td>70971</td>\n",
       "      <td>180</td>\n",
       "      <td>102353</td>\n",
       "      <td>2003-09-10</td>\n",
       "      <td>['weeknight', 'time-to-make', 'course', 'main-...</td>\n",
       "      <td>[4270.8, 254.0, 1306.0, 111.0, 127.0, 431.0, 2...</td>\n",
       "      <td>8</td>\n",
       "      <td>['crumble cookies into a 9-inch pie plate , or...</td>\n",
       "      <td>NaN</td>\n",
       "      <td>['chocolate sandwich style cookies', 'chocolat...</td>\n",
       "      <td>6</td>\n",
       "    </tr>\n",
       "    <tr>\n",
       "      <th>1</th>\n",
       "      <td>beat this  banana bread</td>\n",
       "      <td>75452</td>\n",
       "      <td>70</td>\n",
       "      <td>15892</td>\n",
       "      <td>2003-11-04</td>\n",
       "      <td>['weeknight', 'time-to-make', 'course', 'main-...</td>\n",
       "      <td>[2669.3, 160.0, 976.0, 107.0, 62.0, 310.0, 138.0]</td>\n",
       "      <td>12</td>\n",
       "      <td>['preheat oven to 350 degrees', 'butter two 9x...</td>\n",
       "      <td>from ann hodgman's</td>\n",
       "      <td>['sugar', 'unsalted butter', 'bananas', 'eggs'...</td>\n",
       "      <td>9</td>\n",
       "    </tr>\n",
       "    <tr>\n",
       "      <th>2</th>\n",
       "      <td>better than sex  strawberries</td>\n",
       "      <td>42198</td>\n",
       "      <td>1460</td>\n",
       "      <td>41531</td>\n",
       "      <td>2002-10-03</td>\n",
       "      <td>['weeknight', 'time-to-make', 'course', 'main-...</td>\n",
       "      <td>[734.1, 66.0, 199.0, 10.0, 10.0, 117.0, 28.0]</td>\n",
       "      <td>8</td>\n",
       "      <td>['crush vanilla wafers into fine crumbs and li...</td>\n",
       "      <td>simple but sexy. this was in my local newspape...</td>\n",
       "      <td>['vanilla wafers', 'butter', 'powdered sugar',...</td>\n",
       "      <td>7</td>\n",
       "    </tr>\n",
       "    <tr>\n",
       "      <th>3</th>\n",
       "      <td>better then bush s  baked beans</td>\n",
       "      <td>67547</td>\n",
       "      <td>2970</td>\n",
       "      <td>85627</td>\n",
       "      <td>2003-07-26</td>\n",
       "      <td>['weeknight', 'time-to-make', 'course', 'main-...</td>\n",
       "      <td>[462.4, 28.0, 214.0, 69.0, 14.0, 29.0, 23.0]</td>\n",
       "      <td>9</td>\n",
       "      <td>['in a very large sauce pan cover the beans an...</td>\n",
       "      <td>i'd have to say that this is a labor of love d...</td>\n",
       "      <td>['great northern bean', 'chicken bouillon cube...</td>\n",
       "      <td>13</td>\n",
       "    </tr>\n",
       "    <tr>\n",
       "      <th>4</th>\n",
       "      <td>chinese  candy</td>\n",
       "      <td>23933</td>\n",
       "      <td>15</td>\n",
       "      <td>35268</td>\n",
       "      <td>2002-03-29</td>\n",
       "      <td>['15-minutes-or-less', 'time-to-make', 'course...</td>\n",
       "      <td>[232.7, 21.0, 77.0, 4.0, 6.0, 38.0, 8.0]</td>\n",
       "      <td>4</td>\n",
       "      <td>['melt butterscotch chips in heavy saucepan ov...</td>\n",
       "      <td>a little different, and oh so good. i include ...</td>\n",
       "      <td>['butterscotch chips', 'chinese noodles', 'sal...</td>\n",
       "      <td>3</td>\n",
       "    </tr>\n",
       "  </tbody>\n",
       "</table>\n",
       "</div>"
      ],
      "text/plain": [
       "                              name     id  minutes  contributor_id  \\\n",
       "0         bananas 4 ice cream  pie  70971      180          102353   \n",
       "1          beat this  banana bread  75452       70           15892   \n",
       "2    better than sex  strawberries  42198     1460           41531   \n",
       "3  better then bush s  baked beans  67547     2970           85627   \n",
       "4                   chinese  candy  23933       15           35268   \n",
       "\n",
       "    submitted                                               tags  \\\n",
       "0  2003-09-10  ['weeknight', 'time-to-make', 'course', 'main-...   \n",
       "1  2003-11-04  ['weeknight', 'time-to-make', 'course', 'main-...   \n",
       "2  2002-10-03  ['weeknight', 'time-to-make', 'course', 'main-...   \n",
       "3  2003-07-26  ['weeknight', 'time-to-make', 'course', 'main-...   \n",
       "4  2002-03-29  ['15-minutes-or-less', 'time-to-make', 'course...   \n",
       "\n",
       "                                           nutrition  n_steps  \\\n",
       "0  [4270.8, 254.0, 1306.0, 111.0, 127.0, 431.0, 2...        8   \n",
       "1  [2669.3, 160.0, 976.0, 107.0, 62.0, 310.0, 138.0]       12   \n",
       "2      [734.1, 66.0, 199.0, 10.0, 10.0, 117.0, 28.0]        8   \n",
       "3       [462.4, 28.0, 214.0, 69.0, 14.0, 29.0, 23.0]        9   \n",
       "4           [232.7, 21.0, 77.0, 4.0, 6.0, 38.0, 8.0]        4   \n",
       "\n",
       "                                               steps  \\\n",
       "0  ['crumble cookies into a 9-inch pie plate , or...   \n",
       "1  ['preheat oven to 350 degrees', 'butter two 9x...   \n",
       "2  ['crush vanilla wafers into fine crumbs and li...   \n",
       "3  ['in a very large sauce pan cover the beans an...   \n",
       "4  ['melt butterscotch chips in heavy saucepan ov...   \n",
       "\n",
       "                                         description  \\\n",
       "0                                                NaN   \n",
       "1                                from ann hodgman's    \n",
       "2  simple but sexy. this was in my local newspape...   \n",
       "3  i'd have to say that this is a labor of love d...   \n",
       "4  a little different, and oh so good. i include ...   \n",
       "\n",
       "                                         ingredients  n_ingredients  \n",
       "0  ['chocolate sandwich style cookies', 'chocolat...              6  \n",
       "1  ['sugar', 'unsalted butter', 'bananas', 'eggs'...              9  \n",
       "2  ['vanilla wafers', 'butter', 'powdered sugar',...              7  \n",
       "3  ['great northern bean', 'chicken bouillon cube...             13  \n",
       "4  ['butterscotch chips', 'chinese noodles', 'sal...              3  "
      ]
     },
     "execution_count": 64,
     "metadata": {},
     "output_type": "execute_result"
    }
   ],
   "source": [
    "# recipe information\n",
    "recipes.head()"
   ]
  },
  {
   "cell_type": "code",
   "execution_count": 65,
   "metadata": {},
   "outputs": [
    {
     "data": {
      "text/html": [
       "<div>\n",
       "<style scoped>\n",
       "    .dataframe tbody tr th:only-of-type {\n",
       "        vertical-align: middle;\n",
       "    }\n",
       "\n",
       "    .dataframe tbody tr th {\n",
       "        vertical-align: top;\n",
       "    }\n",
       "\n",
       "    .dataframe thead th {\n",
       "        text-align: right;\n",
       "    }\n",
       "</style>\n",
       "<table border=\"1\" class=\"dataframe\">\n",
       "  <thead>\n",
       "    <tr style=\"text-align: right;\">\n",
       "      <th></th>\n",
       "      <th>id</th>\n",
       "      <th>minutes</th>\n",
       "      <th>contributor_id</th>\n",
       "      <th>n_steps</th>\n",
       "      <th>n_ingredients</th>\n",
       "    </tr>\n",
       "  </thead>\n",
       "  <tbody>\n",
       "    <tr>\n",
       "      <th>count</th>\n",
       "      <td>38636.000000</td>\n",
       "      <td>3.863600e+04</td>\n",
       "      <td>3.863600e+04</td>\n",
       "      <td>38636.000000</td>\n",
       "      <td>38636.000000</td>\n",
       "    </tr>\n",
       "    <tr>\n",
       "      <th>mean</th>\n",
       "      <td>193975.615980</td>\n",
       "      <td>5.569485e+04</td>\n",
       "      <td>4.374955e+06</td>\n",
       "      <td>9.603427</td>\n",
       "      <td>8.935630</td>\n",
       "    </tr>\n",
       "    <tr>\n",
       "      <th>std</th>\n",
       "      <td>137631.486315</td>\n",
       "      <td>1.092531e+07</td>\n",
       "      <td>8.823688e+07</td>\n",
       "      <td>5.931588</td>\n",
       "      <td>3.722484</td>\n",
       "    </tr>\n",
       "    <tr>\n",
       "      <th>min</th>\n",
       "      <td>62.000000</td>\n",
       "      <td>0.000000e+00</td>\n",
       "      <td>2.700000e+01</td>\n",
       "      <td>1.000000</td>\n",
       "      <td>1.000000</td>\n",
       "    </tr>\n",
       "    <tr>\n",
       "      <th>25%</th>\n",
       "      <td>76392.250000</td>\n",
       "      <td>2.000000e+01</td>\n",
       "      <td>4.653400e+04</td>\n",
       "      <td>6.000000</td>\n",
       "      <td>6.000000</td>\n",
       "    </tr>\n",
       "    <tr>\n",
       "      <th>50%</th>\n",
       "      <td>168196.500000</td>\n",
       "      <td>3.800000e+01</td>\n",
       "      <td>1.338420e+05</td>\n",
       "      <td>8.000000</td>\n",
       "      <td>9.000000</td>\n",
       "    </tr>\n",
       "    <tr>\n",
       "      <th>75%</th>\n",
       "      <td>295416.250000</td>\n",
       "      <td>6.500000e+01</td>\n",
       "      <td>3.305450e+05</td>\n",
       "      <td>12.000000</td>\n",
       "      <td>11.000000</td>\n",
       "    </tr>\n",
       "    <tr>\n",
       "      <th>max</th>\n",
       "      <td>537485.000000</td>\n",
       "      <td>2.147484e+09</td>\n",
       "      <td>2.002248e+09</td>\n",
       "      <td>110.000000</td>\n",
       "      <td>43.000000</td>\n",
       "    </tr>\n",
       "  </tbody>\n",
       "</table>\n",
       "</div>"
      ],
      "text/plain": [
       "                  id       minutes  contributor_id       n_steps  \\\n",
       "count   38636.000000  3.863600e+04    3.863600e+04  38636.000000   \n",
       "mean   193975.615980  5.569485e+04    4.374955e+06      9.603427   \n",
       "std    137631.486315  1.092531e+07    8.823688e+07      5.931588   \n",
       "min        62.000000  0.000000e+00    2.700000e+01      1.000000   \n",
       "25%     76392.250000  2.000000e+01    4.653400e+04      6.000000   \n",
       "50%    168196.500000  3.800000e+01    1.338420e+05      8.000000   \n",
       "75%    295416.250000  6.500000e+01    3.305450e+05     12.000000   \n",
       "max    537485.000000  2.147484e+09    2.002248e+09    110.000000   \n",
       "\n",
       "       n_ingredients  \n",
       "count   38636.000000  \n",
       "mean        8.935630  \n",
       "std         3.722484  \n",
       "min         1.000000  \n",
       "25%         6.000000  \n",
       "50%         9.000000  \n",
       "75%        11.000000  \n",
       "max        43.000000  "
      ]
     },
     "execution_count": 65,
     "metadata": {},
     "output_type": "execute_result"
    }
   ],
   "source": [
    "# numeric summary\n",
    "recipes.describe()"
   ]
  },
  {
   "cell_type": "markdown",
   "metadata": {},
   "source": [
    "It appears there are some interesting columns that we can use to characterize each recipe. For this example, we are going to use columns `minutes`, `tags` and `n_ingredients`. You are encouraged to try using other features and different processing steps.\n",
    " \n",
    "Columns `minutes` and `n_ingredients` are going to be rescaled to a normal standard distribution with `StandardScaler()`. Column `tags` is going to be transformed in an one-hot enconding style of transformation.  The column is going to be split into several columns, each representing one of the possible tags. When a recipe has a specific tag, the value of the corresponding feature is given value 1. If the recipe does not have that tag, then the respective feature has value 0."
   ]
  },
  {
   "cell_type": "markdown",
   "metadata": {},
   "source": [
    "#### Rescaling `minutes` and `n_ingredients`"
   ]
  },
  {
   "cell_type": "markdown",
   "metadata": {},
   "source": [
    "Before rescaling, notice that there is one recipe that takes 2147483647 minutes or around 4085 years!"
   ]
  },
  {
   "cell_type": "code",
   "execution_count": 66,
   "metadata": {},
   "outputs": [
    {
     "data": {
      "text/html": [
       "<div>\n",
       "<style scoped>\n",
       "    .dataframe tbody tr th:only-of-type {\n",
       "        vertical-align: middle;\n",
       "    }\n",
       "\n",
       "    .dataframe tbody tr th {\n",
       "        vertical-align: top;\n",
       "    }\n",
       "\n",
       "    .dataframe thead th {\n",
       "        text-align: right;\n",
       "    }\n",
       "</style>\n",
       "<table border=\"1\" class=\"dataframe\">\n",
       "  <thead>\n",
       "    <tr style=\"text-align: right;\">\n",
       "      <th></th>\n",
       "      <th>name</th>\n",
       "      <th>id</th>\n",
       "      <th>minutes</th>\n",
       "      <th>contributor_id</th>\n",
       "      <th>submitted</th>\n",
       "      <th>tags</th>\n",
       "      <th>nutrition</th>\n",
       "      <th>n_steps</th>\n",
       "      <th>steps</th>\n",
       "      <th>description</th>\n",
       "      <th>ingredients</th>\n",
       "      <th>n_ingredients</th>\n",
       "    </tr>\n",
       "  </thead>\n",
       "  <tbody>\n",
       "    <tr>\n",
       "      <th>24259</th>\n",
       "      <td>no bake granola balls</td>\n",
       "      <td>261647</td>\n",
       "      <td>2147483647</td>\n",
       "      <td>464080</td>\n",
       "      <td>2007-10-26</td>\n",
       "      <td>['60-minutes-or-less', 'time-to-make', 'course...</td>\n",
       "      <td>[330.3, 23.0, 110.0, 4.0, 15.0, 24.0, 15.0]</td>\n",
       "      <td>9</td>\n",
       "      <td>['preheat the oven to 350 degrees', 'spread oa...</td>\n",
       "      <td>healthy snacks that kids (and grown ups) will ...</td>\n",
       "      <td>['rolled oats', 'unsweetened dried shredded co...</td>\n",
       "      <td>8</td>\n",
       "    </tr>\n",
       "  </tbody>\n",
       "</table>\n",
       "</div>"
      ],
      "text/plain": [
       "                        name      id     minutes  contributor_id   submitted  \\\n",
       "24259  no bake granola balls  261647  2147483647          464080  2007-10-26   \n",
       "\n",
       "                                                    tags  \\\n",
       "24259  ['60-minutes-or-less', 'time-to-make', 'course...   \n",
       "\n",
       "                                         nutrition  n_steps  \\\n",
       "24259  [330.3, 23.0, 110.0, 4.0, 15.0, 24.0, 15.0]        9   \n",
       "\n",
       "                                                   steps  \\\n",
       "24259  ['preheat the oven to 350 degrees', 'spread oa...   \n",
       "\n",
       "                                             description  \\\n",
       "24259  healthy snacks that kids (and grown ups) will ...   \n",
       "\n",
       "                                             ingredients  n_ingredients  \n",
       "24259  ['rolled oats', 'unsweetened dried shredded co...              8  "
      ]
     },
     "execution_count": 66,
     "metadata": {},
     "output_type": "execute_result"
    }
   ],
   "source": [
    "recipes.loc[recipes[\"minutes\"] == recipes[\"minutes\"].max()]"
   ]
  },
  {
   "cell_type": "markdown",
   "metadata": {},
   "source": [
    "This is clearly a mistake. To simplify, we are going to remove this recipe manually to prevent the outlier to disrupt the rescaling."
   ]
  },
  {
   "cell_type": "code",
   "execution_count": 67,
   "metadata": {},
   "outputs": [
    {
     "data": {
      "text/html": [
       "<div>\n",
       "<style scoped>\n",
       "    .dataframe tbody tr th:only-of-type {\n",
       "        vertical-align: middle;\n",
       "    }\n",
       "\n",
       "    .dataframe tbody tr th {\n",
       "        vertical-align: top;\n",
       "    }\n",
       "\n",
       "    .dataframe thead th {\n",
       "        text-align: right;\n",
       "    }\n",
       "</style>\n",
       "<table border=\"1\" class=\"dataframe\">\n",
       "  <thead>\n",
       "    <tr style=\"text-align: right;\">\n",
       "      <th></th>\n",
       "      <th>id</th>\n",
       "      <th>minutes</th>\n",
       "      <th>n_ingredients</th>\n",
       "    </tr>\n",
       "  </thead>\n",
       "  <tbody>\n",
       "    <tr>\n",
       "      <th>0</th>\n",
       "      <td>70971</td>\n",
       "      <td>0.040799</td>\n",
       "      <td>-0.788628</td>\n",
       "    </tr>\n",
       "    <tr>\n",
       "      <th>1</th>\n",
       "      <td>75452</td>\n",
       "      <td>-0.025590</td>\n",
       "      <td>0.017286</td>\n",
       "    </tr>\n",
       "    <tr>\n",
       "      <th>2</th>\n",
       "      <td>42198</td>\n",
       "      <td>0.813321</td>\n",
       "      <td>-0.519990</td>\n",
       "    </tr>\n",
       "    <tr>\n",
       "      <th>3</th>\n",
       "      <td>67547</td>\n",
       "      <td>1.724656</td>\n",
       "      <td>1.091838</td>\n",
       "    </tr>\n",
       "    <tr>\n",
       "      <th>4</th>\n",
       "      <td>23933</td>\n",
       "      <td>-0.058784</td>\n",
       "      <td>-1.594542</td>\n",
       "    </tr>\n",
       "  </tbody>\n",
       "</table>\n",
       "</div>"
      ],
      "text/plain": [
       "      id   minutes  n_ingredients\n",
       "0  70971  0.040799      -0.788628\n",
       "1  75452 -0.025590       0.017286\n",
       "2  42198  0.813321      -0.519990\n",
       "3  67547  1.724656       1.091838\n",
       "4  23933 -0.058784      -1.594542"
      ]
     },
     "execution_count": 67,
     "metadata": {},
     "output_type": "execute_result"
    }
   ],
   "source": [
    "recipes_rescale = recipes.copy()\n",
    "\n",
    "recipes_rescale = recipes_rescale[[\"id\",\"minutes\", \"n_ingredients\"]]\n",
    "\n",
    "# remove outlier\n",
    "recipes_rescale = recipes_rescale.loc[recipes[\"minutes\"] < recipes[\"minutes\"].max()]\n",
    "\n",
    "min_max_scaler = StandardScaler()\n",
    "recipes_rescale[[\"minutes\", \"n_ingredients\"]] = min_max_scaler.fit_transform(recipes_rescale[[\"minutes\", \"n_ingredients\"]])\n",
    "recipes_rescale.head()"
   ]
  },
  {
   "cell_type": "markdown",
   "metadata": {},
   "source": [
    "#### Encoding `tags`\n",
    "\n",
    "As explained before, the `tags` is going to be expanded into a series of columns, each representing a specific tag. For every recipe, if it contains a specific tags, the value of the corresponding column will be 1, otherwise it will be 0."
   ]
  },
  {
   "cell_type": "code",
   "execution_count": 68,
   "metadata": {},
   "outputs": [
    {
     "data": {
      "text/html": [
       "<div>\n",
       "<style scoped>\n",
       "    .dataframe tbody tr th:only-of-type {\n",
       "        vertical-align: middle;\n",
       "    }\n",
       "\n",
       "    .dataframe tbody tr th {\n",
       "        vertical-align: top;\n",
       "    }\n",
       "\n",
       "    .dataframe thead th {\n",
       "        text-align: right;\n",
       "    }\n",
       "</style>\n",
       "<table border=\"1\" class=\"dataframe\">\n",
       "  <thead>\n",
       "    <tr style=\"text-align: right;\">\n",
       "      <th></th>\n",
       "      <th>id</th>\n",
       "      <th></th>\n",
       "      <th>1-day-or-more</th>\n",
       "      <th>15-minutes-or-less</th>\n",
       "      <th>3-steps-or-less</th>\n",
       "      <th>30-minutes-or-less</th>\n",
       "      <th>4-hours-or-less</th>\n",
       "      <th>5-ingredients-or-less</th>\n",
       "      <th>60-minutes-or-less</th>\n",
       "      <th>a1-sauce</th>\n",
       "      <th>...</th>\n",
       "      <th>whitefish</th>\n",
       "      <th>whole-chicken</th>\n",
       "      <th>whole-duck</th>\n",
       "      <th>whole-turkey</th>\n",
       "      <th>wild-game</th>\n",
       "      <th>wings</th>\n",
       "      <th>winter</th>\n",
       "      <th>yams-sweet-potatoes</th>\n",
       "      <th>yeast</th>\n",
       "      <th>zucchini</th>\n",
       "    </tr>\n",
       "  </thead>\n",
       "  <tbody>\n",
       "    <tr>\n",
       "      <th>0</th>\n",
       "      <td>70971</td>\n",
       "      <td>0</td>\n",
       "      <td>0</td>\n",
       "      <td>0</td>\n",
       "      <td>0</td>\n",
       "      <td>0</td>\n",
       "      <td>1</td>\n",
       "      <td>0</td>\n",
       "      <td>0</td>\n",
       "      <td>0</td>\n",
       "      <td>...</td>\n",
       "      <td>0</td>\n",
       "      <td>0</td>\n",
       "      <td>0</td>\n",
       "      <td>0</td>\n",
       "      <td>0</td>\n",
       "      <td>0</td>\n",
       "      <td>0</td>\n",
       "      <td>0</td>\n",
       "      <td>0</td>\n",
       "      <td>0</td>\n",
       "    </tr>\n",
       "    <tr>\n",
       "      <th>1</th>\n",
       "      <td>75452</td>\n",
       "      <td>0</td>\n",
       "      <td>0</td>\n",
       "      <td>0</td>\n",
       "      <td>0</td>\n",
       "      <td>0</td>\n",
       "      <td>1</td>\n",
       "      <td>0</td>\n",
       "      <td>0</td>\n",
       "      <td>0</td>\n",
       "      <td>...</td>\n",
       "      <td>0</td>\n",
       "      <td>0</td>\n",
       "      <td>0</td>\n",
       "      <td>0</td>\n",
       "      <td>0</td>\n",
       "      <td>0</td>\n",
       "      <td>0</td>\n",
       "      <td>0</td>\n",
       "      <td>0</td>\n",
       "      <td>0</td>\n",
       "    </tr>\n",
       "    <tr>\n",
       "      <th>2</th>\n",
       "      <td>42198</td>\n",
       "      <td>0</td>\n",
       "      <td>1</td>\n",
       "      <td>0</td>\n",
       "      <td>0</td>\n",
       "      <td>0</td>\n",
       "      <td>0</td>\n",
       "      <td>0</td>\n",
       "      <td>0</td>\n",
       "      <td>0</td>\n",
       "      <td>...</td>\n",
       "      <td>0</td>\n",
       "      <td>0</td>\n",
       "      <td>0</td>\n",
       "      <td>0</td>\n",
       "      <td>0</td>\n",
       "      <td>0</td>\n",
       "      <td>0</td>\n",
       "      <td>0</td>\n",
       "      <td>0</td>\n",
       "      <td>0</td>\n",
       "    </tr>\n",
       "    <tr>\n",
       "      <th>3</th>\n",
       "      <td>67547</td>\n",
       "      <td>0</td>\n",
       "      <td>1</td>\n",
       "      <td>0</td>\n",
       "      <td>0</td>\n",
       "      <td>0</td>\n",
       "      <td>0</td>\n",
       "      <td>0</td>\n",
       "      <td>0</td>\n",
       "      <td>0</td>\n",
       "      <td>...</td>\n",
       "      <td>0</td>\n",
       "      <td>0</td>\n",
       "      <td>0</td>\n",
       "      <td>0</td>\n",
       "      <td>0</td>\n",
       "      <td>0</td>\n",
       "      <td>0</td>\n",
       "      <td>0</td>\n",
       "      <td>0</td>\n",
       "      <td>0</td>\n",
       "    </tr>\n",
       "    <tr>\n",
       "      <th>4</th>\n",
       "      <td>23933</td>\n",
       "      <td>0</td>\n",
       "      <td>0</td>\n",
       "      <td>1</td>\n",
       "      <td>0</td>\n",
       "      <td>0</td>\n",
       "      <td>0</td>\n",
       "      <td>1</td>\n",
       "      <td>0</td>\n",
       "      <td>0</td>\n",
       "      <td>...</td>\n",
       "      <td>0</td>\n",
       "      <td>0</td>\n",
       "      <td>0</td>\n",
       "      <td>0</td>\n",
       "      <td>0</td>\n",
       "      <td>0</td>\n",
       "      <td>0</td>\n",
       "      <td>0</td>\n",
       "      <td>0</td>\n",
       "      <td>0</td>\n",
       "    </tr>\n",
       "  </tbody>\n",
       "</table>\n",
       "<p>5 rows × 496 columns</p>\n",
       "</div>"
      ],
      "text/plain": [
       "      id     1-day-or-more  15-minutes-or-less  3-steps-or-less  \\\n",
       "0  70971  0              0                   0                0   \n",
       "1  75452  0              0                   0                0   \n",
       "2  42198  0              1                   0                0   \n",
       "3  67547  0              1                   0                0   \n",
       "4  23933  0              0                   1                0   \n",
       "\n",
       "   30-minutes-or-less  4-hours-or-less  5-ingredients-or-less  \\\n",
       "0                   0                1                      0   \n",
       "1                   0                1                      0   \n",
       "2                   0                0                      0   \n",
       "3                   0                0                      0   \n",
       "4                   0                0                      1   \n",
       "\n",
       "   60-minutes-or-less  a1-sauce  ...  whitefish  whole-chicken  whole-duck  \\\n",
       "0                   0         0  ...          0              0           0   \n",
       "1                   0         0  ...          0              0           0   \n",
       "2                   0         0  ...          0              0           0   \n",
       "3                   0         0  ...          0              0           0   \n",
       "4                   0         0  ...          0              0           0   \n",
       "\n",
       "   whole-turkey  wild-game  wings  winter  yams-sweet-potatoes  yeast  \\\n",
       "0             0          0      0       0                    0      0   \n",
       "1             0          0      0       0                    0      0   \n",
       "2             0          0      0       0                    0      0   \n",
       "3             0          0      0       0                    0      0   \n",
       "4             0          0      0       0                    0      0   \n",
       "\n",
       "   zucchini  \n",
       "0         0  \n",
       "1         0  \n",
       "2         0  \n",
       "3         0  \n",
       "4         0  \n",
       "\n",
       "[5 rows x 496 columns]"
      ]
     },
     "execution_count": 68,
     "metadata": {},
     "output_type": "execute_result"
    }
   ],
   "source": [
    "recipes_encoding = recipes.copy()\n",
    "# convert string of list of strings into list of strings\n",
    "recipes_encoding[\"tags\"] = recipes_encoding[\"tags\"].apply(eval)\n",
    "# split each value from list into its own column, one-hot enconding style\n",
    "tags_exploded = recipes_encoding['tags'].explode()\n",
    "recipes_encoding = recipes_encoding[['id']].join(pd.crosstab(tags_exploded.index, tags_exploded))\n",
    "recipes_encoding.head()"
   ]
  },
  {
   "cell_type": "markdown",
   "metadata": {},
   "source": [
    "#### Considerations on tags that appear only once.\n",
    "\n",
    "There are tags that only appear on a single recipe as we can see in the next cell. These tags won't help us connect similar recipes so they are useless for content-based recommendations. Of course, with time, more recipes may have these tags. These tags may now convey useful information about the relationship between recipe and should be considered when retraining the models."
   ]
  },
  {
   "cell_type": "code",
   "execution_count": 69,
   "metadata": {},
   "outputs": [
    {
     "data": {
      "text/plain": [
       "college                             1\n",
       "beef-kidney                         1\n",
       "pot-pie                             1\n",
       "pickeral                            1\n",
       "chinese-new-year                    1\n",
       "octopus                             1\n",
       "bear                                1\n",
       "stews-poultry                       1\n",
       "april-fools-day                     1\n",
       "irish-st-patricks-day               1\n",
       "laotian                             1\n",
       "georgian                            1\n",
       "mongolian                           1\n",
       "quail                               2\n",
       "congolese                           2\n",
       "angolan                             2\n",
       "goose                               2\n",
       "halloween-cakes                     2\n",
       "fillings-and-frostings-chocolate    2\n",
       "pasta-elbow-macaroni                2\n",
       "dtype: int64"
      ]
     },
     "execution_count": 69,
     "metadata": {},
     "output_type": "execute_result"
    }
   ],
   "source": [
    "# some examples of tags that only appear on one recipe\n",
    "pd.Series(recipes_encoding.drop(columns=[\"id\"]).sum()).sort_values()[:20]"
   ]
  },
  {
   "cell_type": "code",
   "execution_count": 70,
   "metadata": {},
   "outputs": [],
   "source": [
    "# filter out tags associated with a single recipe\n",
    "recipes_encoding = recipes_encoding[recipes_encoding.columns[recipes_encoding.sum()>1]]"
   ]
  },
  {
   "cell_type": "markdown",
   "metadata": {},
   "source": [
    "#### Joining features"
   ]
  },
  {
   "cell_type": "code",
   "execution_count": 71,
   "metadata": {},
   "outputs": [
    {
     "data": {
      "text/html": [
       "<div>\n",
       "<style scoped>\n",
       "    .dataframe tbody tr th:only-of-type {\n",
       "        vertical-align: middle;\n",
       "    }\n",
       "\n",
       "    .dataframe tbody tr th {\n",
       "        vertical-align: top;\n",
       "    }\n",
       "\n",
       "    .dataframe thead th {\n",
       "        text-align: right;\n",
       "    }\n",
       "</style>\n",
       "<table border=\"1\" class=\"dataframe\">\n",
       "  <thead>\n",
       "    <tr style=\"text-align: right;\">\n",
       "      <th></th>\n",
       "      <th>id</th>\n",
       "      <th>minutes</th>\n",
       "      <th>n_ingredients</th>\n",
       "      <th></th>\n",
       "      <th>1-day-or-more</th>\n",
       "      <th>15-minutes-or-less</th>\n",
       "      <th>3-steps-or-less</th>\n",
       "      <th>30-minutes-or-less</th>\n",
       "      <th>4-hours-or-less</th>\n",
       "      <th>5-ingredients-or-less</th>\n",
       "      <th>...</th>\n",
       "      <th>whitefish</th>\n",
       "      <th>whole-chicken</th>\n",
       "      <th>whole-duck</th>\n",
       "      <th>whole-turkey</th>\n",
       "      <th>wild-game</th>\n",
       "      <th>wings</th>\n",
       "      <th>winter</th>\n",
       "      <th>yams-sweet-potatoes</th>\n",
       "      <th>yeast</th>\n",
       "      <th>zucchini</th>\n",
       "    </tr>\n",
       "  </thead>\n",
       "  <tbody>\n",
       "    <tr>\n",
       "      <th>0</th>\n",
       "      <td>70971</td>\n",
       "      <td>0.040799</td>\n",
       "      <td>-0.788628</td>\n",
       "      <td>0</td>\n",
       "      <td>0</td>\n",
       "      <td>0</td>\n",
       "      <td>0</td>\n",
       "      <td>0</td>\n",
       "      <td>1</td>\n",
       "      <td>0</td>\n",
       "      <td>...</td>\n",
       "      <td>0</td>\n",
       "      <td>0</td>\n",
       "      <td>0</td>\n",
       "      <td>0</td>\n",
       "      <td>0</td>\n",
       "      <td>0</td>\n",
       "      <td>0</td>\n",
       "      <td>0</td>\n",
       "      <td>0</td>\n",
       "      <td>0</td>\n",
       "    </tr>\n",
       "    <tr>\n",
       "      <th>1</th>\n",
       "      <td>75452</td>\n",
       "      <td>-0.025590</td>\n",
       "      <td>0.017286</td>\n",
       "      <td>0</td>\n",
       "      <td>0</td>\n",
       "      <td>0</td>\n",
       "      <td>0</td>\n",
       "      <td>0</td>\n",
       "      <td>1</td>\n",
       "      <td>0</td>\n",
       "      <td>...</td>\n",
       "      <td>0</td>\n",
       "      <td>0</td>\n",
       "      <td>0</td>\n",
       "      <td>0</td>\n",
       "      <td>0</td>\n",
       "      <td>0</td>\n",
       "      <td>0</td>\n",
       "      <td>0</td>\n",
       "      <td>0</td>\n",
       "      <td>0</td>\n",
       "    </tr>\n",
       "    <tr>\n",
       "      <th>2</th>\n",
       "      <td>42198</td>\n",
       "      <td>0.813321</td>\n",
       "      <td>-0.519990</td>\n",
       "      <td>0</td>\n",
       "      <td>1</td>\n",
       "      <td>0</td>\n",
       "      <td>0</td>\n",
       "      <td>0</td>\n",
       "      <td>0</td>\n",
       "      <td>0</td>\n",
       "      <td>...</td>\n",
       "      <td>0</td>\n",
       "      <td>0</td>\n",
       "      <td>0</td>\n",
       "      <td>0</td>\n",
       "      <td>0</td>\n",
       "      <td>0</td>\n",
       "      <td>0</td>\n",
       "      <td>0</td>\n",
       "      <td>0</td>\n",
       "      <td>0</td>\n",
       "    </tr>\n",
       "    <tr>\n",
       "      <th>3</th>\n",
       "      <td>67547</td>\n",
       "      <td>1.724656</td>\n",
       "      <td>1.091838</td>\n",
       "      <td>0</td>\n",
       "      <td>1</td>\n",
       "      <td>0</td>\n",
       "      <td>0</td>\n",
       "      <td>0</td>\n",
       "      <td>0</td>\n",
       "      <td>0</td>\n",
       "      <td>...</td>\n",
       "      <td>0</td>\n",
       "      <td>0</td>\n",
       "      <td>0</td>\n",
       "      <td>0</td>\n",
       "      <td>0</td>\n",
       "      <td>0</td>\n",
       "      <td>0</td>\n",
       "      <td>0</td>\n",
       "      <td>0</td>\n",
       "      <td>0</td>\n",
       "    </tr>\n",
       "    <tr>\n",
       "      <th>4</th>\n",
       "      <td>23933</td>\n",
       "      <td>-0.058784</td>\n",
       "      <td>-1.594542</td>\n",
       "      <td>0</td>\n",
       "      <td>0</td>\n",
       "      <td>1</td>\n",
       "      <td>0</td>\n",
       "      <td>0</td>\n",
       "      <td>0</td>\n",
       "      <td>1</td>\n",
       "      <td>...</td>\n",
       "      <td>0</td>\n",
       "      <td>0</td>\n",
       "      <td>0</td>\n",
       "      <td>0</td>\n",
       "      <td>0</td>\n",
       "      <td>0</td>\n",
       "      <td>0</td>\n",
       "      <td>0</td>\n",
       "      <td>0</td>\n",
       "      <td>0</td>\n",
       "    </tr>\n",
       "  </tbody>\n",
       "</table>\n",
       "<p>5 rows × 485 columns</p>\n",
       "</div>"
      ],
      "text/plain": [
       "      id   minutes  n_ingredients     1-day-or-more  15-minutes-or-less  \\\n",
       "0  70971  0.040799      -0.788628  0              0                   0   \n",
       "1  75452 -0.025590       0.017286  0              0                   0   \n",
       "2  42198  0.813321      -0.519990  0              1                   0   \n",
       "3  67547  1.724656       1.091838  0              1                   0   \n",
       "4  23933 -0.058784      -1.594542  0              0                   1   \n",
       "\n",
       "   3-steps-or-less  30-minutes-or-less  4-hours-or-less  \\\n",
       "0                0                   0                1   \n",
       "1                0                   0                1   \n",
       "2                0                   0                0   \n",
       "3                0                   0                0   \n",
       "4                0                   0                0   \n",
       "\n",
       "   5-ingredients-or-less  ...  whitefish  whole-chicken  whole-duck  \\\n",
       "0                      0  ...          0              0           0   \n",
       "1                      0  ...          0              0           0   \n",
       "2                      0  ...          0              0           0   \n",
       "3                      0  ...          0              0           0   \n",
       "4                      1  ...          0              0           0   \n",
       "\n",
       "   whole-turkey  wild-game  wings  winter  yams-sweet-potatoes  yeast  \\\n",
       "0             0          0      0       0                    0      0   \n",
       "1             0          0      0       0                    0      0   \n",
       "2             0          0      0       0                    0      0   \n",
       "3             0          0      0       0                    0      0   \n",
       "4             0          0      0       0                    0      0   \n",
       "\n",
       "   zucchini  \n",
       "0         0  \n",
       "1         0  \n",
       "2         0  \n",
       "3         0  \n",
       "4         0  \n",
       "\n",
       "[5 rows x 485 columns]"
      ]
     },
     "execution_count": 71,
     "metadata": {},
     "output_type": "execute_result"
    }
   ],
   "source": [
    "recipe_features_df = recipes_rescale.merge(recipes_encoding, on=\"id\")\n",
    "recipe_features_df.head()"
   ]
  },
  {
   "cell_type": "markdown",
   "metadata": {},
   "source": [
    "#### Formating recipe features\n",
    "\n",
    "In this step, we format the recipe features dataframe in a way that we can iterate and feed the `lightFM` model.\n",
    "We define `id` as index and rename the columns to increasing integers formatted as strings. We do this because `lightFM` does not deal well with some of the characters used on the tags. Since identifying the features is not important for our model, we'll leave them as strings of integers."
   ]
  },
  {
   "cell_type": "code",
   "execution_count": 72,
   "metadata": {},
   "outputs": [
    {
     "data": {
      "text/html": [
       "<div>\n",
       "<style scoped>\n",
       "    .dataframe tbody tr th:only-of-type {\n",
       "        vertical-align: middle;\n",
       "    }\n",
       "\n",
       "    .dataframe tbody tr th {\n",
       "        vertical-align: top;\n",
       "    }\n",
       "\n",
       "    .dataframe thead th {\n",
       "        text-align: right;\n",
       "    }\n",
       "</style>\n",
       "<table border=\"1\" class=\"dataframe\">\n",
       "  <thead>\n",
       "    <tr style=\"text-align: right;\">\n",
       "      <th></th>\n",
       "      <th>0</th>\n",
       "      <th>1</th>\n",
       "      <th>2</th>\n",
       "      <th>3</th>\n",
       "      <th>4</th>\n",
       "      <th>5</th>\n",
       "      <th>6</th>\n",
       "      <th>7</th>\n",
       "      <th>8</th>\n",
       "      <th>9</th>\n",
       "      <th>...</th>\n",
       "      <th>474</th>\n",
       "      <th>475</th>\n",
       "      <th>476</th>\n",
       "      <th>477</th>\n",
       "      <th>478</th>\n",
       "      <th>479</th>\n",
       "      <th>480</th>\n",
       "      <th>481</th>\n",
       "      <th>482</th>\n",
       "      <th>483</th>\n",
       "    </tr>\n",
       "    <tr>\n",
       "      <th>id</th>\n",
       "      <th></th>\n",
       "      <th></th>\n",
       "      <th></th>\n",
       "      <th></th>\n",
       "      <th></th>\n",
       "      <th></th>\n",
       "      <th></th>\n",
       "      <th></th>\n",
       "      <th></th>\n",
       "      <th></th>\n",
       "      <th></th>\n",
       "      <th></th>\n",
       "      <th></th>\n",
       "      <th></th>\n",
       "      <th></th>\n",
       "      <th></th>\n",
       "      <th></th>\n",
       "      <th></th>\n",
       "      <th></th>\n",
       "      <th></th>\n",
       "      <th></th>\n",
       "    </tr>\n",
       "  </thead>\n",
       "  <tbody>\n",
       "    <tr>\n",
       "      <th>70971</th>\n",
       "      <td>0.040799</td>\n",
       "      <td>-0.788628</td>\n",
       "      <td>0</td>\n",
       "      <td>0</td>\n",
       "      <td>0</td>\n",
       "      <td>0</td>\n",
       "      <td>0</td>\n",
       "      <td>1</td>\n",
       "      <td>0</td>\n",
       "      <td>0</td>\n",
       "      <td>...</td>\n",
       "      <td>0</td>\n",
       "      <td>0</td>\n",
       "      <td>0</td>\n",
       "      <td>0</td>\n",
       "      <td>0</td>\n",
       "      <td>0</td>\n",
       "      <td>0</td>\n",
       "      <td>0</td>\n",
       "      <td>0</td>\n",
       "      <td>0</td>\n",
       "    </tr>\n",
       "    <tr>\n",
       "      <th>75452</th>\n",
       "      <td>-0.025590</td>\n",
       "      <td>0.017286</td>\n",
       "      <td>0</td>\n",
       "      <td>0</td>\n",
       "      <td>0</td>\n",
       "      <td>0</td>\n",
       "      <td>0</td>\n",
       "      <td>1</td>\n",
       "      <td>0</td>\n",
       "      <td>0</td>\n",
       "      <td>...</td>\n",
       "      <td>0</td>\n",
       "      <td>0</td>\n",
       "      <td>0</td>\n",
       "      <td>0</td>\n",
       "      <td>0</td>\n",
       "      <td>0</td>\n",
       "      <td>0</td>\n",
       "      <td>0</td>\n",
       "      <td>0</td>\n",
       "      <td>0</td>\n",
       "    </tr>\n",
       "    <tr>\n",
       "      <th>42198</th>\n",
       "      <td>0.813321</td>\n",
       "      <td>-0.519990</td>\n",
       "      <td>0</td>\n",
       "      <td>1</td>\n",
       "      <td>0</td>\n",
       "      <td>0</td>\n",
       "      <td>0</td>\n",
       "      <td>0</td>\n",
       "      <td>0</td>\n",
       "      <td>0</td>\n",
       "      <td>...</td>\n",
       "      <td>0</td>\n",
       "      <td>0</td>\n",
       "      <td>0</td>\n",
       "      <td>0</td>\n",
       "      <td>0</td>\n",
       "      <td>0</td>\n",
       "      <td>0</td>\n",
       "      <td>0</td>\n",
       "      <td>0</td>\n",
       "      <td>0</td>\n",
       "    </tr>\n",
       "    <tr>\n",
       "      <th>67547</th>\n",
       "      <td>1.724656</td>\n",
       "      <td>1.091838</td>\n",
       "      <td>0</td>\n",
       "      <td>1</td>\n",
       "      <td>0</td>\n",
       "      <td>0</td>\n",
       "      <td>0</td>\n",
       "      <td>0</td>\n",
       "      <td>0</td>\n",
       "      <td>0</td>\n",
       "      <td>...</td>\n",
       "      <td>0</td>\n",
       "      <td>0</td>\n",
       "      <td>0</td>\n",
       "      <td>0</td>\n",
       "      <td>0</td>\n",
       "      <td>0</td>\n",
       "      <td>0</td>\n",
       "      <td>0</td>\n",
       "      <td>0</td>\n",
       "      <td>0</td>\n",
       "    </tr>\n",
       "    <tr>\n",
       "      <th>23933</th>\n",
       "      <td>-0.058784</td>\n",
       "      <td>-1.594542</td>\n",
       "      <td>0</td>\n",
       "      <td>0</td>\n",
       "      <td>1</td>\n",
       "      <td>0</td>\n",
       "      <td>0</td>\n",
       "      <td>0</td>\n",
       "      <td>1</td>\n",
       "      <td>0</td>\n",
       "      <td>...</td>\n",
       "      <td>0</td>\n",
       "      <td>0</td>\n",
       "      <td>0</td>\n",
       "      <td>0</td>\n",
       "      <td>0</td>\n",
       "      <td>0</td>\n",
       "      <td>0</td>\n",
       "      <td>0</td>\n",
       "      <td>0</td>\n",
       "      <td>0</td>\n",
       "    </tr>\n",
       "  </tbody>\n",
       "</table>\n",
       "<p>5 rows × 484 columns</p>\n",
       "</div>"
      ],
      "text/plain": [
       "              0         1  2  3  4  5  6  7  8  9  ...  474  475  476  477  \\\n",
       "id                                                 ...                       \n",
       "70971  0.040799 -0.788628  0  0  0  0  0  1  0  0  ...    0    0    0    0   \n",
       "75452 -0.025590  0.017286  0  0  0  0  0  1  0  0  ...    0    0    0    0   \n",
       "42198  0.813321 -0.519990  0  1  0  0  0  0  0  0  ...    0    0    0    0   \n",
       "67547  1.724656  1.091838  0  1  0  0  0  0  0  0  ...    0    0    0    0   \n",
       "23933 -0.058784 -1.594542  0  0  1  0  0  0  1  0  ...    0    0    0    0   \n",
       "\n",
       "       478  479  480  481  482  483  \n",
       "id                                   \n",
       "70971    0    0    0    0    0    0  \n",
       "75452    0    0    0    0    0    0  \n",
       "42198    0    0    0    0    0    0  \n",
       "67547    0    0    0    0    0    0  \n",
       "23933    0    0    0    0    0    0  \n",
       "\n",
       "[5 rows x 484 columns]"
      ]
     },
     "execution_count": 72,
     "metadata": {},
     "output_type": "execute_result"
    }
   ],
   "source": [
    "recipe_features_df.set_index(\"id\", drop=True, inplace=True)\n",
    "recipe_features_df.columns = [str(i) for i in range(len(recipe_features_df.columns))]\n",
    "recipe_features_df.head()"
   ]
  },
  {
   "cell_type": "markdown",
   "metadata": {},
   "source": [
    "To feed our receipe features we are using the method [build_item_features](https://making.lyst.com/lightfm/docs/lightfm.data.html?highlight=build_item_features#lightfm.data.Dataset.build_item_features) with an iterable of form `(item id, {feature name: feature weight})`. We can create such an iterable with the dataframe method `itertuples`."
   ]
  },
  {
   "cell_type": "code",
   "execution_count": 73,
   "metadata": {
    "scrolled": true
   },
   "outputs": [],
   "source": [
    "recipe_generator = recipe_features_df.itertuples(index=True, name=None)"
   ]
  },
  {
   "cell_type": "markdown",
   "metadata": {},
   "source": [
    "We replicate the steps performed for the collaborative filtering with some additions: \n",
    "\n",
    "1. include `item_features=recipe_generator` while fitting the dataset.\n",
    "2. create a new object (`item_features`) that will store the item features.\n",
    "3. include the new `item features` while fitting the model."
   ]
  },
  {
   "cell_type": "code",
   "execution_count": 74,
   "metadata": {},
   "outputs": [],
   "source": [
    "content_dataset = lfmDataset()\n",
    "content_dataset.fit(data_train['user_id'], data_train[\"recipe_id\"], item_features=recipe_generator)"
   ]
  },
  {
   "cell_type": "code",
   "execution_count": 75,
   "metadata": {},
   "outputs": [],
   "source": [
    "item_features = content_dataset.build_item_features(recipe_generator)\n",
    "(interactions, weights) = content_dataset.build_interactions((row for row in data_train.values))"
   ]
  },
  {
   "cell_type": "code",
   "execution_count": 76,
   "metadata": {},
   "outputs": [
    {
     "data": {
      "text/plain": [
       "<lightfm.lightfm.LightFM at 0x7f725eba8700>"
      ]
     },
     "execution_count": 76,
     "metadata": {},
     "output_type": "execute_result"
    }
   ],
   "source": [
    "content_model = LightFM(loss='warp')\n",
    "content_model.fit(interactions, item_features=item_features)"
   ]
  },
  {
   "cell_type": "markdown",
   "metadata": {},
   "source": [
    "### 5.2 Content-based recommendations for validation data\n",
    "\n",
    "Once the dataset is prepared and the model is fitted, we can reuse the function `lightFM_recommendations` by adding the argument `item_features = item_features`."
   ]
  },
  {
   "cell_type": "code",
   "execution_count": 77,
   "metadata": {},
   "outputs": [
    {
     "name": "stdout",
     "output_type": "stream",
     "text": [
      "Recommendations were saved on file content_recommendations_VAL.csv.\n"
     ]
    }
   ],
   "source": [
    "content_reco_val = lightFM_recommendations(content_dataset,\n",
    "                                           content_model,\n",
    "                                           users_val,\n",
    "                                           non_pers_recommendations,\n",
    "                                           k_top=k_top,\n",
    "                                           item_features = item_features)\n",
    "save_recommendations(content_reco_val, \"content_recommendations_VAL\")"
   ]
  },
  {
   "cell_type": "markdown",
   "metadata": {},
   "source": [
    "#### Validation evaluation"
   ]
  },
  {
   "cell_type": "code",
   "execution_count": 78,
   "metadata": {},
   "outputs": [
    {
     "data": {
      "text/plain": [
       "6.98909700866648e-05"
      ]
     },
     "execution_count": 78,
     "metadata": {},
     "output_type": "execute_result"
    }
   ],
   "source": [
    "evaluate_solution('content_recommendations_VAL', 'validation_recommendations')"
   ]
  },
  {
   "cell_type": "markdown",
   "metadata": {},
   "source": [
    "### 5.3 Content-based recommendations for test data"
   ]
  },
  {
   "cell_type": "code",
   "execution_count": 79,
   "metadata": {},
   "outputs": [
    {
     "name": "stdout",
     "output_type": "stream",
     "text": [
      "Recommendations were saved on file content_recommendations_TEST.csv.\n"
     ]
    }
   ],
   "source": [
    "content_reco_test = lightFM_recommendations(content_dataset,\n",
    "                                            content_model,\n",
    "                                            users_test,\n",
    "                                            non_pers_recommendations,\n",
    "                                            k_top=k_top,\n",
    "                                            item_features = item_features)\n",
    "save_recommendations(content_reco_test, \"content_recommendations_TEST\")"
   ]
  },
  {
   "cell_type": "markdown",
   "metadata": {},
   "source": [
    "#### Test evaluation"
   ]
  },
  {
   "cell_type": "code",
   "execution_count": 80,
   "metadata": {},
   "outputs": [
    {
     "data": {
      "text/plain": [
       "2.3745492236600714e-06"
      ]
     },
     "execution_count": 80,
     "metadata": {},
     "output_type": "execute_result"
    }
   ],
   "source": [
    "evaluate_solution('content_recommendations_TEST')"
   ]
  },
  {
   "cell_type": "markdown",
   "metadata": {},
   "source": [
    "#### Clean up"
   ]
  },
  {
   "cell_type": "code",
   "execution_count": 81,
   "metadata": {},
   "outputs": [
    {
     "data": {
      "text/plain": [
       "0"
      ]
     },
     "execution_count": 81,
     "metadata": {},
     "output_type": "execute_result"
    }
   ],
   "source": [
    "del (recipes_rescale,\n",
    "     recipes_encoding,\n",
    "     recipe_features_df,\n",
    "     interactions,\n",
    "     recipe_generator,\n",
    "     content_dataset,\n",
    "     content_model,\n",
    "     content_reco_val,\n",
    "     content_reco_test)\n",
    "gc.collect()"
   ]
  },
  {
   "cell_type": "markdown",
   "metadata": {},
   "source": [
    "## 6. Collaborative recommendations with Surprise"
   ]
  },
  {
   "cell_type": "markdown",
   "metadata": {},
   "source": [
    "[Surprise](http://surpriselib.com/) is a [SciKit](https://www.scipy.org/scikits.html), i.e. an add-on package for SciPy, that can be use to build recommender systems for explicit rating data. It doesn't support content-based information though.\n",
    "\n",
    "We start by preparing the data and the loader. These will be use by method `load_from_df` to load the data into a dataset object. The dataframe to be loaded **must specifically** have the columns `userID`, `itemID` and `rating`. Because of this, we need to rename our columns."
   ]
  },
  {
   "cell_type": "code",
   "execution_count": 82,
   "metadata": {},
   "outputs": [
    {
     "data": {
      "text/plain": [
       "<surprise.dataset.DatasetAutoFolds at 0x7f725f247820>"
      ]
     },
     "execution_count": 82,
     "metadata": {},
     "output_type": "execute_result"
    }
   ],
   "source": [
    "data_train_surprise = data_train.copy().rename(columns={\"user_id\":\"userID\", \"recipe_id\":\"itemID\"})\n",
    "\n",
    "# a reader is required in load_from_df\n",
    "reader = Reader(rating_scale=(1, 5))\n",
    "\n",
    "# The columns must correspond to user id, item id and ratings (in that order).\n",
    "data_surprise = sDataset.load_from_df(data_train_surprise[['userID', 'itemID', 'rating']], reader)\n",
    "data_surprise"
   ]
  },
  {
   "cell_type": "markdown",
   "metadata": {},
   "source": [
    "Since we already split the data intro training and validation, we can use all training data as the train set. You can use all data for training with method `build_full_trainset()`. If wanted to split you data with `Surprise`, you could use function [`train_test_split`](https://surprise.readthedocs.io/en/stable/getting_started.html#train-test-split-and-the-fit-method) or with some [cross-validations strategies](https://surprise.readthedocs.io/en/stable/model_selection.html#cross-validation-iterators-api)."
   ]
  },
  {
   "cell_type": "code",
   "execution_count": 83,
   "metadata": {},
   "outputs": [],
   "source": [
    "# Retrieve the trainset.\n",
    "trainset = data_surprise.build_full_trainset()"
   ]
  },
  {
   "cell_type": "markdown",
   "metadata": {},
   "source": [
    "#### Model"
   ]
  },
  {
   "cell_type": "markdown",
   "metadata": {},
   "source": [
    "One of the available `Surprise` models is the [`KNNBasic`](https://surprise.readthedocs.io/en/stable/knn_inspired.html) model. This a basic collaborative filtering algorithm. We could say it's an improved version of the algorithm that we developed on BLU10. One issue with this model is that the similarity matrixes generated while training the model are not sparse, but dense. This means that, even for moderately large datasets, the model will use gigabytes of memory which isn't feasible for most consumer PCs.\n",
    "\n",
    "As an alternative, will use the [`SVD`](https://surprise.readthedocs.io/en/stable/matrix_factorization.html#surprise.prediction_algorithms.matrix_factorization.SVD) which is based on matrix factorization to approximate the rating matrix using lower ranking matrixes. [Here's](https://cs.carleton.edu/cs_comps/0607/recommend/recommender/svd.html) a brief summary of usage of SVD. `Surprise's SVD` use stochastic gradient descent to minimize the error between the estimated rating matrix and the actual rating matrix during training."
   ]
  },
  {
   "cell_type": "code",
   "execution_count": 84,
   "metadata": {},
   "outputs": [
    {
     "data": {
      "text/plain": [
       "<surprise.prediction_algorithms.matrix_factorization.SVD at 0x7f726695e970>"
      ]
     },
     "execution_count": 84,
     "metadata": {},
     "output_type": "execute_result"
    }
   ],
   "source": [
    "svdmodel = SVD(random_state=123)\n",
    "svdmodel.fit(trainset)"
   ]
  },
  {
   "cell_type": "markdown",
   "metadata": {},
   "source": [
    "#### Generate all user/item combinations\n",
    "\n",
    "To make recommendations using the Surprise module, we need to provide the `.predict` method of the model with the user ID / item ID pair of which we want the rating. After having the rating all of items for a given user, we can order the best rated items and select the best to recommend.\n",
    "\n",
    "The steps followed in the next cell are:\n",
    "\n",
    "1. Select the users that we want to recommend to.\n",
    "2. Create 3 lists: one to place user IDs, one to place item IDs and another to place the respective rating. The lists are created empty with size `nr. users * nr. items` to allocate all user/item combinations.\n",
    "3. For each user/item combination, predict rating.\n",
    "4. Store user id, item id and rating on increasing indexes on the list."
   ]
  },
  {
   "cell_type": "code",
   "execution_count": 85,
   "metadata": {},
   "outputs": [],
   "source": [
    "# select a few users\n",
    "users_surprise = [1232131231, 1498649, 99136, 83961]\n",
    "\n",
    "recipe_ids = recipes[\"id\"].unique()\n",
    "\n",
    "# calculate the list size beforehand \n",
    "test_total_len = len(users_surprise) * len(recipe_ids)\n",
    "\n",
    "# to avoid appending lists\n",
    "user_id_pred = [None] * test_total_len\n",
    "recipe_id_pred = [None] * test_total_len\n",
    "rating_pred = [None] * test_total_len\n",
    "\n",
    "index_counter = 0\n",
    "for user in users_surprise:\n",
    "    for recipe in recipe_ids:\n",
    "        \n",
    "        prediction = svdmodel.predict(user, recipe)\n",
    "        user_id_pred[index_counter] = prediction.uid\n",
    "        recipe_id_pred[index_counter] = prediction.iid\n",
    "        rating_pred[index_counter] = prediction.est\n",
    "        \n",
    "        index_counter += 1"
   ]
  },
  {
   "cell_type": "markdown",
   "metadata": {},
   "source": [
    "From the lists above we can build a predictive rating dataframe to then select best 50 items per user."
   ]
  },
  {
   "cell_type": "code",
   "execution_count": 86,
   "metadata": {},
   "outputs": [
    {
     "data": {
      "text/html": [
       "<div>\n",
       "<style scoped>\n",
       "    .dataframe tbody tr th:only-of-type {\n",
       "        vertical-align: middle;\n",
       "    }\n",
       "\n",
       "    .dataframe tbody tr th {\n",
       "        vertical-align: top;\n",
       "    }\n",
       "\n",
       "    .dataframe thead th {\n",
       "        text-align: right;\n",
       "    }\n",
       "</style>\n",
       "<table border=\"1\" class=\"dataframe\">\n",
       "  <thead>\n",
       "    <tr style=\"text-align: right;\">\n",
       "      <th></th>\n",
       "      <th>recipe_id</th>\n",
       "      <th>user_id</th>\n",
       "      <th>rating</th>\n",
       "    </tr>\n",
       "  </thead>\n",
       "  <tbody>\n",
       "    <tr>\n",
       "      <th>0</th>\n",
       "      <td>70971</td>\n",
       "      <td>1232131231</td>\n",
       "      <td>4.695461</td>\n",
       "    </tr>\n",
       "    <tr>\n",
       "      <th>1</th>\n",
       "      <td>75452</td>\n",
       "      <td>1232131231</td>\n",
       "      <td>4.724772</td>\n",
       "    </tr>\n",
       "    <tr>\n",
       "      <th>2</th>\n",
       "      <td>42198</td>\n",
       "      <td>1232131231</td>\n",
       "      <td>4.724308</td>\n",
       "    </tr>\n",
       "    <tr>\n",
       "      <th>3</th>\n",
       "      <td>67547</td>\n",
       "      <td>1232131231</td>\n",
       "      <td>4.649798</td>\n",
       "    </tr>\n",
       "    <tr>\n",
       "      <th>4</th>\n",
       "      <td>23933</td>\n",
       "      <td>1232131231</td>\n",
       "      <td>4.728331</td>\n",
       "    </tr>\n",
       "  </tbody>\n",
       "</table>\n",
       "</div>"
      ],
      "text/plain": [
       "   recipe_id     user_id    rating\n",
       "0      70971  1232131231  4.695461\n",
       "1      75452  1232131231  4.724772\n",
       "2      42198  1232131231  4.724308\n",
       "3      67547  1232131231  4.649798\n",
       "4      23933  1232131231  4.728331"
      ]
     },
     "execution_count": 86,
     "metadata": {},
     "output_type": "execute_result"
    }
   ],
   "source": [
    "collab_pred_dict = {'recipe_id': recipe_id_pred,\n",
    "                'user_id': user_id_pred,\n",
    "                'rating': rating_pred}\n",
    "collab_pred_df = pd.DataFrame(collab_pred_dict)\n",
    "collab_pred_df.head()"
   ]
  },
  {
   "cell_type": "markdown",
   "metadata": {},
   "source": [
    "#### Selecting top recommendations\n",
    "\n",
    "We now use the function that we defined earlier to select the best k recommendations for each user."
   ]
  },
  {
   "cell_type": "code",
   "execution_count": 87,
   "metadata": {},
   "outputs": [
    {
     "data": {
      "text/html": [
       "<div>\n",
       "<style scoped>\n",
       "    .dataframe tbody tr th:only-of-type {\n",
       "        vertical-align: middle;\n",
       "    }\n",
       "\n",
       "    .dataframe tbody tr th {\n",
       "        vertical-align: top;\n",
       "    }\n",
       "\n",
       "    .dataframe thead th {\n",
       "        text-align: right;\n",
       "    }\n",
       "</style>\n",
       "<table border=\"1\" class=\"dataframe\">\n",
       "  <thead>\n",
       "    <tr style=\"text-align: right;\">\n",
       "      <th></th>\n",
       "      <th>0</th>\n",
       "      <th>1</th>\n",
       "      <th>2</th>\n",
       "      <th>3</th>\n",
       "      <th>4</th>\n",
       "      <th>5</th>\n",
       "      <th>6</th>\n",
       "      <th>7</th>\n",
       "      <th>8</th>\n",
       "      <th>9</th>\n",
       "      <th>...</th>\n",
       "      <th>41</th>\n",
       "      <th>42</th>\n",
       "      <th>43</th>\n",
       "      <th>44</th>\n",
       "      <th>45</th>\n",
       "      <th>46</th>\n",
       "      <th>47</th>\n",
       "      <th>48</th>\n",
       "      <th>49</th>\n",
       "      <th>50</th>\n",
       "    </tr>\n",
       "  </thead>\n",
       "  <tbody>\n",
       "    <tr>\n",
       "      <th>0</th>\n",
       "      <td>83961</td>\n",
       "      <td>115923</td>\n",
       "      <td>116103</td>\n",
       "      <td>116501</td>\n",
       "      <td>117153</td>\n",
       "      <td>117629</td>\n",
       "      <td>118309</td>\n",
       "      <td>118386</td>\n",
       "      <td>118424</td>\n",
       "      <td>118639</td>\n",
       "      <td>...</td>\n",
       "      <td>131216</td>\n",
       "      <td>131285</td>\n",
       "      <td>131443</td>\n",
       "      <td>131468</td>\n",
       "      <td>131566</td>\n",
       "      <td>131994</td>\n",
       "      <td>132102</td>\n",
       "      <td>132351</td>\n",
       "      <td>132441</td>\n",
       "      <td>132553</td>\n",
       "    </tr>\n",
       "    <tr>\n",
       "      <th>1</th>\n",
       "      <td>99136</td>\n",
       "      <td>85786</td>\n",
       "      <td>109358</td>\n",
       "      <td>95151</td>\n",
       "      <td>110532</td>\n",
       "      <td>114685</td>\n",
       "      <td>94125</td>\n",
       "      <td>86342</td>\n",
       "      <td>78155</td>\n",
       "      <td>96658</td>\n",
       "      <td>...</td>\n",
       "      <td>88617</td>\n",
       "      <td>80003</td>\n",
       "      <td>114605</td>\n",
       "      <td>94995</td>\n",
       "      <td>103253</td>\n",
       "      <td>108686</td>\n",
       "      <td>110264</td>\n",
       "      <td>100025</td>\n",
       "      <td>83292</td>\n",
       "      <td>97146</td>\n",
       "    </tr>\n",
       "    <tr>\n",
       "      <th>2</th>\n",
       "      <td>1498649</td>\n",
       "      <td>47150</td>\n",
       "      <td>70722</td>\n",
       "      <td>56515</td>\n",
       "      <td>71896</td>\n",
       "      <td>76049</td>\n",
       "      <td>55489</td>\n",
       "      <td>47706</td>\n",
       "      <td>39519</td>\n",
       "      <td>58022</td>\n",
       "      <td>...</td>\n",
       "      <td>49981</td>\n",
       "      <td>41367</td>\n",
       "      <td>75969</td>\n",
       "      <td>56359</td>\n",
       "      <td>64617</td>\n",
       "      <td>70050</td>\n",
       "      <td>71628</td>\n",
       "      <td>61389</td>\n",
       "      <td>44656</td>\n",
       "      <td>58510</td>\n",
       "    </tr>\n",
       "    <tr>\n",
       "      <th>3</th>\n",
       "      <td>1232131231</td>\n",
       "      <td>8514</td>\n",
       "      <td>32086</td>\n",
       "      <td>17879</td>\n",
       "      <td>33260</td>\n",
       "      <td>37413</td>\n",
       "      <td>16853</td>\n",
       "      <td>9070</td>\n",
       "      <td>883</td>\n",
       "      <td>19386</td>\n",
       "      <td>...</td>\n",
       "      <td>11345</td>\n",
       "      <td>2731</td>\n",
       "      <td>37333</td>\n",
       "      <td>17723</td>\n",
       "      <td>25981</td>\n",
       "      <td>31414</td>\n",
       "      <td>32992</td>\n",
       "      <td>22753</td>\n",
       "      <td>6020</td>\n",
       "      <td>19874</td>\n",
       "    </tr>\n",
       "  </tbody>\n",
       "</table>\n",
       "<p>4 rows × 51 columns</p>\n",
       "</div>"
      ],
      "text/plain": [
       "           0       1       2       3       4       5       6       7       8   \\\n",
       "0       83961  115923  116103  116501  117153  117629  118309  118386  118424   \n",
       "1       99136   85786  109358   95151  110532  114685   94125   86342   78155   \n",
       "2     1498649   47150   70722   56515   71896   76049   55489   47706   39519   \n",
       "3  1232131231    8514   32086   17879   33260   37413   16853    9070     883   \n",
       "\n",
       "       9   ...      41      42      43      44      45      46      47  \\\n",
       "0  118639  ...  131216  131285  131443  131468  131566  131994  132102   \n",
       "1   96658  ...   88617   80003  114605   94995  103253  108686  110264   \n",
       "2   58022  ...   49981   41367   75969   56359   64617   70050   71628   \n",
       "3   19386  ...   11345    2731   37333   17723   25981   31414   32992   \n",
       "\n",
       "       48      49      50  \n",
       "0  132351  132441  132553  \n",
       "1  100025   83292   97146  \n",
       "2   61389   44656   58510  \n",
       "3   22753    6020   19874  \n",
       "\n",
       "[4 rows x 51 columns]"
      ]
     },
     "execution_count": 87,
     "metadata": {},
     "output_type": "execute_result"
    }
   ],
   "source": [
    "val_collab_recommendations = top_items_per_user(collab_pred_df, \"user_id\", \"rating\")\n",
    "val_collab_recommendations"
   ]
  },
  {
   "cell_type": "markdown",
   "metadata": {},
   "source": [
    "We now bave recommendations using the `Surprise` package!\n",
    "\n",
    "We can generalize this whole process with a function."
   ]
  },
  {
   "cell_type": "code",
   "execution_count": 88,
   "metadata": {},
   "outputs": [],
   "source": [
    "def surprise_recommendations(data,\n",
    "                            model,\n",
    "                            user_id_ext_list,\n",
    "                            item_id_ext_list,\n",
    "                            k_top: int = 50,\n",
    "                            columns_dict: dict = {\"user_id\":\"userID\", \"recipe_id\":\"itemID\"}):    \n",
    "    \"\"\"\n",
    "    Create output dataframe with recommendations based on dataset, Surprise model, list of users and list of items.\n",
    "    \n",
    "    This function produces recommendations for users specified in user_id_ext_list\n",
    "    \n",
    "    \n",
    "    \n",
    "    \n",
    "    Parameters:\n",
    "    -----------\n",
    "    data: dataframe with ratings for each user-item pair\n",
    "    \n",
    "    model: untrained Surprise model\n",
    "    \n",
    "    user_id_ext_list: list of user external IDs to predict\n",
    "    \n",
    "    user_id_ext_list: list of item external IDs to predict\n",
    "    \n",
    "    k_top: number of recommendations to create per user\n",
    "    \n",
    "    columns_dict: dictionary that converts old column names into Surprise compatible names.\n",
    "    \n",
    "    Returns:\n",
    "    --------\n",
    "    final_reco_df: dataframe with users' recommendations\n",
    "    The first column has the users' ID and the remaining columns have the recommendations\n",
    "    \"\"\"\n",
    "    \n",
    "    data_surprise = data.copy().rename(columns= columns_dict)\n",
    "\n",
    "    # A reader is still needed but only the rating_scale param is required\n",
    "    reader = Reader(rating_scale=(data_surprise['rating'].min(), data_surprise['rating'].max()))\n",
    "\n",
    "    # The columns must correspond to user id, item id and ratings (in that order).\n",
    "    dataset_surprise = sDataset.load_from_df(data_surprise[['userID', 'itemID', 'rating']], reader)\n",
    "\n",
    "    # Retrieve the trainset\n",
    "    trainset = dataset_surprise.build_full_trainset()\n",
    "    \n",
    "    # fit the model\n",
    "    model.fit(trainset)\n",
    "    \n",
    "    # calculate the list size beforehand \n",
    "    total_len_pred = len(user_id_ext_list) * len(item_id_ext_list)\n",
    "\n",
    "    # to avoid appending lists\n",
    "    user_id_pred = [None] * total_len_pred\n",
    "    recipe_id_pred = [None] * total_len_pred\n",
    "    rating_pred = [None] * total_len_pred\n",
    "\n",
    "    index_counter = 0\n",
    "    for user in user_id_ext_list:\n",
    "        for recipe in item_id_ext_list:\n",
    "\n",
    "            prediction = model.predict(user, recipe)\n",
    "            user_id_pred[index_counter] = prediction.uid\n",
    "            recipe_id_pred[index_counter] = prediction.iid\n",
    "            rating_pred[index_counter] = prediction.est\n",
    "\n",
    "            index_counter += 1\n",
    "            \n",
    "            # Stop execution if memory is almost full\n",
    "            memory_circuit_breaker(memory_limit_perc)\n",
    "    \n",
    "    model_pred_dict = {'recipe_id': recipe_id_pred,\n",
    "                'user_id': user_id_pred,\n",
    "                'rating': rating_pred}\n",
    "    model_pred_df = pd.DataFrame(model_pred_dict)\n",
    "    \n",
    "    model_recommendations = top_items_per_user(model_pred_df, \"user_id\", \"rating\")\n",
    "    \n",
    "    return model_recommendations"
   ]
  },
  {
   "cell_type": "markdown",
   "metadata": {},
   "source": [
    "Let's try with some users."
   ]
  },
  {
   "cell_type": "code",
   "execution_count": 89,
   "metadata": {},
   "outputs": [
    {
     "data": {
      "text/html": [
       "<div>\n",
       "<style scoped>\n",
       "    .dataframe tbody tr th:only-of-type {\n",
       "        vertical-align: middle;\n",
       "    }\n",
       "\n",
       "    .dataframe tbody tr th {\n",
       "        vertical-align: top;\n",
       "    }\n",
       "\n",
       "    .dataframe thead th {\n",
       "        text-align: right;\n",
       "    }\n",
       "</style>\n",
       "<table border=\"1\" class=\"dataframe\">\n",
       "  <thead>\n",
       "    <tr style=\"text-align: right;\">\n",
       "      <th></th>\n",
       "      <th>0</th>\n",
       "      <th>1</th>\n",
       "      <th>2</th>\n",
       "      <th>3</th>\n",
       "      <th>4</th>\n",
       "      <th>5</th>\n",
       "      <th>6</th>\n",
       "      <th>7</th>\n",
       "      <th>8</th>\n",
       "      <th>9</th>\n",
       "      <th>...</th>\n",
       "      <th>41</th>\n",
       "      <th>42</th>\n",
       "      <th>43</th>\n",
       "      <th>44</th>\n",
       "      <th>45</th>\n",
       "      <th>46</th>\n",
       "      <th>47</th>\n",
       "      <th>48</th>\n",
       "      <th>49</th>\n",
       "      <th>50</th>\n",
       "    </tr>\n",
       "  </thead>\n",
       "  <tbody>\n",
       "    <tr>\n",
       "      <th>0</th>\n",
       "      <td>83961</td>\n",
       "      <td>115923</td>\n",
       "      <td>116103</td>\n",
       "      <td>116501</td>\n",
       "      <td>117153</td>\n",
       "      <td>117629</td>\n",
       "      <td>118309</td>\n",
       "      <td>118386</td>\n",
       "      <td>118424</td>\n",
       "      <td>118639</td>\n",
       "      <td>...</td>\n",
       "      <td>131216</td>\n",
       "      <td>131285</td>\n",
       "      <td>131443</td>\n",
       "      <td>131468</td>\n",
       "      <td>131566</td>\n",
       "      <td>131994</td>\n",
       "      <td>132102</td>\n",
       "      <td>132351</td>\n",
       "      <td>132441</td>\n",
       "      <td>132553</td>\n",
       "    </tr>\n",
       "    <tr>\n",
       "      <th>1</th>\n",
       "      <td>99136</td>\n",
       "      <td>85786</td>\n",
       "      <td>109358</td>\n",
       "      <td>95151</td>\n",
       "      <td>110532</td>\n",
       "      <td>114685</td>\n",
       "      <td>94125</td>\n",
       "      <td>86342</td>\n",
       "      <td>78155</td>\n",
       "      <td>96658</td>\n",
       "      <td>...</td>\n",
       "      <td>88617</td>\n",
       "      <td>80003</td>\n",
       "      <td>114605</td>\n",
       "      <td>94995</td>\n",
       "      <td>103253</td>\n",
       "      <td>108686</td>\n",
       "      <td>110264</td>\n",
       "      <td>100025</td>\n",
       "      <td>83292</td>\n",
       "      <td>97146</td>\n",
       "    </tr>\n",
       "    <tr>\n",
       "      <th>2</th>\n",
       "      <td>1498649</td>\n",
       "      <td>47150</td>\n",
       "      <td>70722</td>\n",
       "      <td>56515</td>\n",
       "      <td>71896</td>\n",
       "      <td>76049</td>\n",
       "      <td>55489</td>\n",
       "      <td>47706</td>\n",
       "      <td>39519</td>\n",
       "      <td>58022</td>\n",
       "      <td>...</td>\n",
       "      <td>49981</td>\n",
       "      <td>41367</td>\n",
       "      <td>75969</td>\n",
       "      <td>56359</td>\n",
       "      <td>64617</td>\n",
       "      <td>70050</td>\n",
       "      <td>71628</td>\n",
       "      <td>61389</td>\n",
       "      <td>44656</td>\n",
       "      <td>58510</td>\n",
       "    </tr>\n",
       "    <tr>\n",
       "      <th>3</th>\n",
       "      <td>1232131231</td>\n",
       "      <td>8514</td>\n",
       "      <td>32086</td>\n",
       "      <td>17879</td>\n",
       "      <td>33260</td>\n",
       "      <td>37413</td>\n",
       "      <td>16853</td>\n",
       "      <td>9070</td>\n",
       "      <td>883</td>\n",
       "      <td>19386</td>\n",
       "      <td>...</td>\n",
       "      <td>11345</td>\n",
       "      <td>2731</td>\n",
       "      <td>37333</td>\n",
       "      <td>17723</td>\n",
       "      <td>25981</td>\n",
       "      <td>31414</td>\n",
       "      <td>32992</td>\n",
       "      <td>22753</td>\n",
       "      <td>6020</td>\n",
       "      <td>19874</td>\n",
       "    </tr>\n",
       "  </tbody>\n",
       "</table>\n",
       "<p>4 rows × 51 columns</p>\n",
       "</div>"
      ],
      "text/plain": [
       "           0       1       2       3       4       5       6       7       8   \\\n",
       "0       83961  115923  116103  116501  117153  117629  118309  118386  118424   \n",
       "1       99136   85786  109358   95151  110532  114685   94125   86342   78155   \n",
       "2     1498649   47150   70722   56515   71896   76049   55489   47706   39519   \n",
       "3  1232131231    8514   32086   17879   33260   37413   16853    9070     883   \n",
       "\n",
       "       9   ...      41      42      43      44      45      46      47  \\\n",
       "0  118639  ...  131216  131285  131443  131468  131566  131994  132102   \n",
       "1   96658  ...   88617   80003  114605   94995  103253  108686  110264   \n",
       "2   58022  ...   49981   41367   75969   56359   64617   70050   71628   \n",
       "3   19386  ...   11345    2731   37333   17723   25981   31414   32992   \n",
       "\n",
       "       48      49      50  \n",
       "0  132351  132441  132553  \n",
       "1  100025   83292   97146  \n",
       "2   61389   44656   58510  \n",
       "3   22753    6020   19874  \n",
       "\n",
       "[4 rows x 51 columns]"
      ]
     },
     "execution_count": 89,
     "metadata": {},
     "output_type": "execute_result"
    }
   ],
   "source": [
    "users_surprise = [1232131231, 1498649, 99136, 83961]\n",
    "\n",
    "surprise_recommendations(data_train,\n",
    "                         SVD(random_state=123),\n",
    "                         users_surprise,\n",
    "                         recipes[\"id\"].unique(),\n",
    "                         k_top)"
   ]
  },
  {
   "cell_type": "markdown",
   "metadata": {},
   "source": [
    "Excellent! We now can recommend recipes for our validation and test users using `surprise_recommendations`, store our results with `save_recommendations` and evaluate our results."
   ]
  },
  {
   "cell_type": "markdown",
   "metadata": {},
   "source": [
    "### 6.1 Collaborative filtering recommendations for validation data (with Surprise)\n",
    "\n",
    "Unfortunately, the process that we used for a couple of users is not by any means efficient. It takes a lot of time to compute for the validation and test users. If you can parallelize the executions maybe you can run it in useful time. As it stands, it's not recommended to use `Surprise` for anything other than small datasets and a low number of users.\n",
    "\n",
    "The codes to make the recommendations are below, but are commented."
   ]
  },
  {
   "cell_type": "code",
   "execution_count": 90,
   "metadata": {},
   "outputs": [],
   "source": [
    "#collab_reco_surprise_val = surprise_recommendations(data_train,\n",
    "#                                                    SVD(random_state=123),\n",
    "#                                                    users_val,\n",
    "#                                                    recipes[\"id\"].unique(),\n",
    "#                                                    k_top)\n",
    "#save_recommendations(collab_reco_surprise_val, \"collaborative_recommendations_surprise_VAL\")"
   ]
  },
  {
   "cell_type": "markdown",
   "metadata": {},
   "source": [
    "#### Validation evaluation"
   ]
  },
  {
   "cell_type": "code",
   "execution_count": 91,
   "metadata": {},
   "outputs": [],
   "source": [
    "#evaluate_solution('collaborative_recommendations_surprise_VAL', 'validation_recommendations')"
   ]
  },
  {
   "cell_type": "markdown",
   "metadata": {},
   "source": [
    "### 6.2 Collaborative filtering recommendations for test data (with Surprise)"
   ]
  },
  {
   "cell_type": "code",
   "execution_count": 92,
   "metadata": {},
   "outputs": [],
   "source": [
    "#collab_reco_surprise_test = surprise_recommendations(data_train,\n",
    "#                                                     SVD(random_state=123),\n",
    "#                                                     users_test,\n",
    "#                                                     recipes[\"id\"].unique(),\n",
    "#                                                     k_top)\n",
    "#save_recommendations(collab_reco_surprise_test, \"collaborative_recommendations_surprise_TEST\")"
   ]
  },
  {
   "cell_type": "markdown",
   "metadata": {},
   "source": [
    "#### Test evaluation"
   ]
  },
  {
   "cell_type": "code",
   "execution_count": 93,
   "metadata": {},
   "outputs": [],
   "source": [
    "#evaluate_solution('collaborative_recommendations_surprise_TEST')"
   ]
  },
  {
   "cell_type": "markdown",
   "metadata": {},
   "source": [
    "### On new users\n",
    "\n",
    "New users are given the mean rating for all training data ratings. This will probably be worse than non-personalized recommendations.\n",
    "As an exercise, modify the previous function (or create a new one) to replace the recommendations for users that we don't have any information."
   ]
  },
  {
   "cell_type": "markdown",
   "metadata": {},
   "source": [
    "## 7. Model selection\n",
    "\n",
    "It's the end of the day and we have to deliver a model. To simplify, we are going to select the model with best score on the validation data. Remember that the test data is hidden. We just use it to simulate the portal.\n",
    "\n",
    "The `map@50` values of other models are:\n",
    "\n",
    "Non-personalized recommendations:\n",
    "- Validation: 0.0\n",
    "- Test: 4.651674179825267e-06\n",
    "\n",
    "Collaborative recommendations:\n",
    "- Validation: 9.318796011555306e-05\n",
    "- Test: 3.583748452090996e-06\n",
    "\n",
    "Content-based:\n",
    "- Validation: 6.98909700866648e-05\n",
    "- Test: 3.2054271072713093e-06\n",
    "\n",
    "Based on the validation results, we would select the collaborative-filtering model since it has the largest validation`map@50`.\n",
    "\n",
    "Later, it's a good idea to automatize the model selection process to compare many more models and parameters."
   ]
  },
  {
   "cell_type": "markdown",
   "metadata": {},
   "source": [
    "## 8. Next steps"
   ]
  },
  {
   "cell_type": "markdown",
   "metadata": {},
   "source": [
    "We have successfully trained a couple of recommendation models to recommend recipes to our users!\n",
    "\n",
    "Both you and your boss are happy... for now. There is still a lot to be done. Just like with other machine learning applications, recommendations models are not a \"build once and it's done\" kind of deal. We won't go in much detail here because most of these considerations were already discussed on previous learning units. \n",
    "\n",
    "Here are a couple of suggestions that you **should** try to implement (on another notebook):\n",
    "\n",
    "- Cross-validation: Here we have used out-of-sample validation and selected the best model. Try to implement cross-validation using the module's own methods or create your own pipelines.\n",
    "\n",
    "- Hyperparameter tuning: We haven't performed any hyperparameter tuning on this workflow. Use hyperparameter tuning to explore more models and find better ones.\n",
    "\n",
    "- Modify code: It feels like some of the examples in this workflow are not to your liking? Then modify them and make them your own. Make changes to simplify your work.\n",
    "\n",
    "- Other modules: Try to use other recommender systems modules to see if they are simpler to use, give better results or present other advantages. You can check [this GitHub repo](https://github.com/microsoft/recommenders) with a vast selection of recommender system modules with examples. Remember that you should know, to a certain degree, how the model you are using works and what are its limitations.\n",
    " \n",
    "- More data: You can try, with this or another dataset, to gradually introduce data to the model to simulate new data streaming in. Make use of methods that allow to directly fit new data (usually called someting like [fit_partial](https://making.lyst.com/lightfm/docs/lightfm.html#lightfm.LightFM.fit_partial), for example) or batch train your model each time.\n",
    "\n",
    "- Different data: Practice your modelling skills with other data sets. See what changes you need to carry out when the data has different properties.\n"
   ]
  }
 ],
 "metadata": {
  "kernelspec": {
   "display_name": "Python 3 (ipykernel)",
   "language": "python",
   "name": "python3"
  },
  "language_info": {
   "codemirror_mode": {
    "name": "ipython",
    "version": 3
   },
   "file_extension": ".py",
   "mimetype": "text/x-python",
   "name": "python",
   "nbconvert_exporter": "python",
   "pygments_lexer": "ipython3",
   "version": "3.8.15"
  }
 },
 "nbformat": 4,
 "nbformat_minor": 2
}
