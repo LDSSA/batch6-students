{
 "cells": [
  {
   "cell_type": "markdown",
   "id": "29fa1514",
   "metadata": {
    "deletable": false,
    "editable": false,
    "nbgrader": {
     "grade": false,
     "grade_id": "cell-1bd4194db78c2f35",
     "locked": true,
     "schema_version": 3,
     "solution": false,
     "task": false
    }
   },
   "source": [
    "# SLU06 - Dealing with Data Problems\n"
   ]
  },
  {
   "cell_type": "code",
   "execution_count": null,
   "id": "12fd71c2",
   "metadata": {
    "deletable": false,
    "editable": false,
    "nbgrader": {
     "grade": false,
     "grade_id": "cell-b15be3cd61e549f0",
     "locked": true,
     "schema_version": 3,
     "solution": false,
     "task": false
    }
   },
   "outputs": [],
   "source": [
    "import os\n",
    "import pandas as pd\n",
    "import numpy as np\n",
    "import copy\n",
    "import hashlib\n",
    "import json\n",
    "import warnings\n",
    "import calendar\n",
    "import datetime\n",
    "warnings.filterwarnings('ignore')\n",
    "import pycountry_convert as cc"
   ]
  },
  {
   "cell_type": "markdown",
   "id": "55edcc82",
   "metadata": {
    "deletable": false,
    "editable": false,
    "nbgrader": {
     "grade": false,
     "grade_id": "cell-37c8582828957176",
     "locked": true,
     "schema_version": 3,
     "solution": false,
     "task": false
    }
   },
   "source": [
    "Welcome to the wonderful world of Data Cleanup! In the real would, a lot of good people are spending a lot of time  cleaning datasets and getting them down to a form with which they can work. \n",
    "\n",
    "There is one thing that you should always keep in mind when working with data:\n",
    "\n",
    "<img src=\"media/clean-you-must.jpg\"/>\n",
    "\n",
    "Let's get our hands dirty."
   ]
  },
  {
   "cell_type": "markdown",
   "id": "33154d65",
   "metadata": {
    "deletable": false,
    "editable": false,
    "nbgrader": {
     "grade": false,
     "grade_id": "cell-6c0c96d2c5e113da",
     "locked": true,
     "schema_version": 3,
     "solution": false,
     "task": false
    }
   },
   "source": [
    "## The CR hotels\n",
    "\n",
    "You took a job as a data scientist in the fancy CR hotel imperium. Your first task is to clean a dataset of reservations from 2015 to 2017. You need to get it nice and tidy before it can be analysed.\n",
    "\n",
    "Here is the data dictionary for the dataset:\n",
    "- **hotel:** Resort Hotel or City Hotel\n",
    "- **is_canceled:** Value indicating if the booking was canceled (1) or not (0)\n",
    "- **lead_time:** Number of days that elapsed between the date of the booking and the arrival date\n",
    "- **arrival_date**: Arrival date formatted as \"Month Day Year\"\n",
    "- **stays_in_weekend_nights:** Number of weekend nights (Saturday or Sunday) the guest booked at the hotel\n",
    "- **stays_in_week_nights:** Number of week nights (Monday to Friday) the guest booked at the hotel\n",
    "- **adults**: Number of adults\n",
    "- **is_repeated_guest:** Value indicating if the booking is from a repeated guest (1) or not (0)\n",
    "- **previous_cancelations:** Number of previous bookings that were canceled by the customer prior to the current booking\n",
    "- **agent:** ID of the travel agency that made the booking\n",
    "- **adr:** Average Daily Rate defined as the total price of the stay divided by the number of staying nights\n",
    "- **total_of_special_requests:** Number of special requests made by the customer (e.g. twin bed or high floor)\n",
    "- **reservation_status:** Last status of the reservation, assuming one of three categories: Canceled – booking was canceled by the customer; Check-Out – customer checked in and out of the hotel; No-Show – customer did not check in and did not inform the hotel of the reason why\n",
    "- **reservation_status_date:** Date at which the last status was set. This variable can be used in conjunction with the ReservationStatus to understand when was the booking canceled or when did the customer check out of the hotel"
   ]
  },
  {
   "cell_type": "markdown",
   "id": "67a1322c",
   "metadata": {
    "deletable": false,
    "editable": false,
    "nbgrader": {
     "grade": false,
     "grade_id": "cell-ed9eb16417949aa8",
     "locked": true,
     "schema_version": 3,
     "solution": false,
     "task": false
    }
   },
   "source": [
    "### Exercise 1.1\n",
    "\n",
    "Let's start by importing the dataset and taking a look at it. The dataset is located in the `data` folder, in a file named `crset_hotel_bookings.csv`. This file came straight out of MS Excel, so the values are separated by semicolons. Load the dataset into the `df_crset` dataframe."
   ]
  },
  {
   "cell_type": "code",
   "execution_count": null,
   "id": "e073e7ea",
   "metadata": {
    "deletable": false,
    "nbgrader": {
     "grade": false,
     "grade_id": "cell-5a996a1055302b2b",
     "locked": false,
     "schema_version": 3,
     "solution": true,
     "task": false
    }
   },
   "outputs": [],
   "source": [
    "# use pandas to load the data into the df_crset dataframe\n",
    "# df_crset = ... \n",
    "\n",
    "# YOUR CODE HERE\n",
    "raise NotImplementedError()"
   ]
  },
  {
   "cell_type": "code",
   "execution_count": null,
   "id": "1d4ae9f8",
   "metadata": {
    "deletable": false,
    "editable": false,
    "nbgrader": {
     "grade": true,
     "grade_id": "cell-fe56bb53bb1f1d79",
     "locked": true,
     "points": 1,
     "schema_version": 3,
     "solution": false,
     "task": false
    }
   },
   "outputs": [],
   "source": [
    "assert isinstance(df_crset, pd.DataFrame), \"df_crset should be a dataframe\"\n",
    "assert df_crset.shape == (119390, 14), \"The shape of the dataframe is different then expected. Are you using the right separator?\"\n",
    "df_crset.head()"
   ]
  },
  {
   "cell_type": "markdown",
   "id": "b09543de",
   "metadata": {
    "deletable": false,
    "editable": false,
    "nbgrader": {
     "grade": false,
     "grade_id": "cell-146cafc7a2652077",
     "locked": true,
     "schema_version": 3,
     "solution": false,
     "task": false
    }
   },
   "source": [
    "### Exercise 1.2 - Arrival Date \n",
    "\n",
    "Let's start by cleaning the arrival date. According to the data dictionary and the first 5 rows of the dataframe, the `arrival_date` stores a string with the month spelled out, the day in numeral and the year in numeral.\n",
    "\n",
    "Create a function called `format_arrival_date()` that extracts the day, month, and year values from this column and stores this information in new columns `arrival_date_month`, `arrival_date_day` and `arrival_date_year`. All values should be integers. Remove the  `arrival_data` column and return the cleaned dataframe. \n",
    "\n",
    "You can use the `calendar.month_name` function from the [calendar python module](https://docs.python.org/3/library/calendar.html#module-calendar) and pandas `map()` method."
   ]
  },
  {
   "cell_type": "code",
   "execution_count": null,
   "id": "8c0c9ecc",
   "metadata": {
    "deletable": false,
    "nbgrader": {
     "grade": false,
     "grade_id": "cell-1a9e5315472efa42",
     "locked": false,
     "schema_version": 3,
     "solution": true,
     "task": false
    }
   },
   "outputs": [],
   "source": [
    "def format_arrival_date(df: pd.DataFrame)->pd.DataFrame:\n",
    "    \"\"\"\n",
    "    This function cleans the \"arrival_date\" column\n",
    "    \"\"\"\n",
    "\n",
    "    # YOUR CODE HERE\n",
    "    raise NotImplementedError()\n"
   ]
  },
  {
   "cell_type": "code",
   "execution_count": null,
   "id": "22a496df",
   "metadata": {
    "deletable": false,
    "editable": false,
    "nbgrader": {
     "grade": true,
     "grade_id": "cell-84b728608f1e6121",
     "locked": true,
     "points": 3,
     "schema_version": 3,
     "solution": false,
     "task": false
    }
   },
   "outputs": [],
   "source": [
    "clean_arrival = format_arrival_date(df_crset)\n",
    "assert isinstance(clean_arrival, pd.DataFrame), \"The function should return a dataframe.\"\n",
    "assert clean_arrival.shape == (119390, 16), \"The shape of the dataframe is different then expected.\"\n",
    "assert 'arrival_date' not in clean_arrival.columns, \"You should remove the old arrival_date column.\"\n",
    "assert 'arrival_date_month' in clean_arrival.columns, \"You're missing the arrival_date_month column. Have you named the new column correctly?\"\n",
    "assert 'arrival_date_day' in clean_arrival.columns, \"You're missing the arrival_date_day column. Have you named the new column correctly?\"\n",
    "assert 'arrival_date_year'  in clean_arrival.columns, \"You're missing the arrival_date_year column. Have you named the new column correctly?\"\n",
    "assert all(isinstance(item, int) for item in clean_arrival.arrival_date_month), \"Months should be saved as integers.\" \n",
    "assert all(isinstance(item, int) for item in clean_arrival.arrival_date_day), \"Days should be saved as integers.\"\n",
    "assert all(isinstance(item, int) for item in clean_arrival.arrival_date_year), \"Years should be saved as integers.\"\n",
    "assert hashlib.sha256(json.dumps(str(clean_arrival.arrival_date_month.sum())).encode()).hexdigest() == 'd3d4cd02abe661b2bc608a13cc791e7543da035d1c729ce171b1fda52effd8c8', \"Something is wrong with your month conversion.\"\n",
    "assert hashlib.sha256(json.dumps(str(clean_arrival.arrival_date_day.sum())).encode()).hexdigest() == '4db570fffca303e3eeb7ec3bc940a3812f8466a3b6e0d8b44633eaabde411ed4', \"Something is wrong with your day conversion.\"\n",
    "assert hashlib.sha256(json.dumps(str(clean_arrival.arrival_date_year.sum())).encode()).hexdigest() == '2f83dbe44d408f6735bc778eed604edf730377524018bb9f6a176e503511d033', \"Something is wrong with your year conversion.\""
   ]
  },
  {
   "cell_type": "markdown",
   "id": "1f21efdb",
   "metadata": {
    "deletable": false,
    "editable": false,
    "nbgrader": {
     "grade": false,
     "grade_id": "cell-0aae65323a8f3cd7",
     "locked": true,
     "schema_version": 3,
     "solution": false,
     "task": false
    }
   },
   "source": [
    "### Exercise 1.3 - Week of year \n",
    "\n",
    "Create a function named `get_week_of_year` that takes the newly created columns `arrival_date_month`, `arrival_date_day` and `arrival_date_year` and creates a new variable in the same dataframe called `arrival_date_week_number` with the week number of the arrival date.\n",
    "\n",
    "You can use the `date.isocalendar()` method from the [datetime python module](https://docs.python.org/3/library/datetime.html) and pandas `apply()` method."
   ]
  },
  {
   "cell_type": "code",
   "execution_count": null,
   "id": "6ec4b219",
   "metadata": {
    "deletable": false,
    "nbgrader": {
     "grade": false,
     "grade_id": "cell-17e544d51f94b90d",
     "locked": false,
     "schema_version": 3,
     "solution": true,
     "task": false
    }
   },
   "outputs": [],
   "source": [
    "def get_week_of_year(df: pd.DataFrame)->pd.DataFrame:\n",
    "    \"\"\"\n",
    "    This function gets the arrival week of the year\n",
    "    \"\"\"\n",
    "    \n",
    "    # YOUR CODE HERE\n",
    "    raise NotImplementedError()\n"
   ]
  },
  {
   "cell_type": "code",
   "execution_count": null,
   "id": "4c7b45ef",
   "metadata": {
    "deletable": false,
    "editable": false,
    "nbgrader": {
     "grade": true,
     "grade_id": "cell-95be98d8d4000854",
     "locked": true,
     "points": 2,
     "schema_version": 3,
     "solution": false,
     "task": false
    }
   },
   "outputs": [],
   "source": [
    "clean_arrival_week_of_year = get_week_of_year(clean_arrival)\n",
    "assert isinstance(clean_arrival_week_of_year, pd.DataFrame), \"The function should return a dataframe.\"\n",
    "assert clean_arrival_week_of_year.shape == (119390, 17), \"The shape of the dataframe is different then expected. Have you saved the new column?\"\n",
    "assert 'arrival_date_week_number' in clean_arrival_week_of_year.columns, \"You're missing the clean_arrival_week_of_year column. Have you named the new column correctly?\"\n",
    "assert all(isinstance(item, int) for item in clean_arrival_week_of_year.arrival_date_week_number), \"The values in the new column should be integers.\" \n",
    "assert hashlib.sha256(json.dumps(str(clean_arrival_week_of_year.arrival_date_week_number)).encode()).hexdigest() == 'fbd3bdce9f2b3a1aff60369c351a1ceb63a167a80d78b140859af7f687cd76a3', \"Something is wrong with your data conversion.\""
   ]
  },
  {
   "cell_type": "markdown",
   "id": "d9ec2745",
   "metadata": {
    "deletable": false,
    "editable": false,
    "nbgrader": {
     "grade": false,
     "grade_id": "cell-369a1d17c3e8446e",
     "locked": true,
     "schema_version": 3,
     "solution": false,
     "task": false
    }
   },
   "source": [
    "### Exercise 1.4 - The reservation status date\n",
    "\n",
    "Do the same processing as for the `arrival_date` column but this time for the `reservation_status_date` - extract the day, month, year, and week number and store them in new columns as integers. The columns should be named `reservation_status_date_day`, `reservation_status_date_month` and so on. Remove the `reservation_status_date` column and return the cleaned dataframe.\n",
    "\n",
    "All the steps should be done in a single function named `process_reservation_status_date()`. "
   ]
  },
  {
   "cell_type": "code",
   "execution_count": null,
   "id": "0c8251ce",
   "metadata": {
    "deletable": false,
    "nbgrader": {
     "grade": false,
     "grade_id": "cell-ee2bd2e0dd4325d4",
     "locked": false,
     "schema_version": 3,
     "solution": true,
     "task": false
    }
   },
   "outputs": [],
   "source": [
    "def process_reservation_status_date(df: pd.DataFrame)->pd.DataFrame:\n",
    "    \"\"\"\n",
    "    This function cleans \"reservation_status_date\" column\n",
    "    \"\"\"\n",
    "    \n",
    "    # YOUR CODE HERE\n",
    "    raise NotImplementedError()\n"
   ]
  },
  {
   "cell_type": "code",
   "execution_count": null,
   "id": "10a9da7f",
   "metadata": {
    "deletable": false,
    "editable": false,
    "nbgrader": {
     "grade": true,
     "grade_id": "cell-193cad2450ea0bf1",
     "locked": true,
     "points": 2,
     "schema_version": 3,
     "solution": false,
     "task": false
    }
   },
   "outputs": [],
   "source": [
    "clean_status_date = process_reservation_status_date(clean_arrival_week_of_year)\n",
    "assert isinstance(clean_status_date, pd.DataFrame), \"The function should return a dataframe.\"\n",
    "assert clean_status_date.shape == (119390, 20), \"The shape of the dataframe is different then expected. Have you dropped the old reservation_status_date column?\"\n",
    "assert 'reservation_status_date' not in clean_status_date.columns, \"You should remove the old reservation_status_date column.\"\n",
    "assert 'reservation_status_date_day' in clean_status_date.columns, \"You're missing the day column. Have you named the new column correctly?\"\n",
    "assert 'reservation_status_date_month' in clean_status_date.columns, \"You're missing the month column. Have you named the new column correctly?\"\n",
    "assert 'reservation_status_date_year'  in clean_status_date.columns, \"You're missing the year column. Have you named the new column correctly?\"\n",
    "assert 'reservation_status_date_week_number'  in clean_status_date.columns, \"You're missing the week number column. Have you named the new column correctly?\"\n",
    "assert all(isinstance(item, int) for item in clean_status_date.reservation_status_date_day), \"Days should be integers.\" \n",
    "assert all(isinstance(item, int) for item in clean_status_date.reservation_status_date_month), \"Months should be integers.\"\n",
    "assert all(isinstance(item, int) for item in clean_status_date.reservation_status_date_year), \"Years should be integers.\"\n",
    "assert all(isinstance(item, int) for item in clean_status_date.reservation_status_date_week_number), \"Week of the year should an integer.\"\n",
    "assert hashlib.sha256(json.dumps(str(clean_status_date.reservation_status_date_week_number)).encode()).hexdigest() == '035d73f3bf98929a3e2d1ea7b1dd02645a86cc8f1d751dd088533b0e11de0352', \"Something is wrong with your data conversion in reservation_status_date_week_number.\"\n",
    "assert hashlib.sha256(json.dumps(str(clean_status_date.reservation_status_date_month.sum())).encode()).hexdigest() == '8505858d4a9ee251ff772f4486d8b18f63e2d2015da3ab435371a604800b8f69', \"Something is wrong with your month conversion.\"\n",
    "assert hashlib.sha256(json.dumps(str(clean_status_date.reservation_status_date_day.sum())).encode()).hexdigest() == 'f8c8d1439b0d0d51ea8a9dc900dc4309b7364a5c4791b417c0e6a5cc093fc9b8', \"Something is wrong with your day conversion.\"\n",
    "assert hashlib.sha256(json.dumps(str(clean_status_date.reservation_status_date_year.sum())).encode()).hexdigest() == '0c1465052551cc91c40abbd465ae0337ebc526a00b5b536b9d8bfbe8cc35ef3f', \"Something is wrong with your year conversion.\""
   ]
  },
  {
   "cell_type": "markdown",
   "id": "4da3a726",
   "metadata": {
    "deletable": false,
    "editable": false,
    "nbgrader": {
     "grade": false,
     "grade_id": "cell-d69a24deae33480f",
     "locked": true,
     "schema_version": 3,
     "solution": false,
     "task": false
    }
   },
   "source": [
    "### Exercise 2 - Missing data\n",
    "\n",
    "Let's now look at missing data."
   ]
  },
  {
   "cell_type": "code",
   "execution_count": null,
   "id": "8cb40a1c",
   "metadata": {
    "deletable": false,
    "editable": false,
    "nbgrader": {
     "grade": false,
     "grade_id": "cell-ce64ab16d825c70a",
     "locked": true,
     "schema_version": 3,
     "solution": false,
     "task": false
    }
   },
   "outputs": [],
   "source": [
    "np.sum(clean_status_date.isnull())"
   ]
  },
  {
   "cell_type": "markdown",
   "id": "3eb30d33",
   "metadata": {
    "deletable": false,
    "editable": false,
    "nbgrader": {
     "grade": false,
     "grade_id": "cell-353131a991a26281",
     "locked": true,
     "schema_version": 3,
     "solution": false,
     "task": false
    }
   },
   "source": [
    "There's over 16000 missing values in the `agent` column, representing over 10% of the total observations and we need to do something about it. \n",
    "\n",
    "Usually if more than 70% of values in a column are missing and there is no way to fill them in, then the column can be completely dropped from the dataset. Our `agent` column is a categorical variable that represents the ID of the travel agency that made the booking. We can fill out the missing values with a new category named `unknown`.\n",
    "\n",
    "Create a new function named `impute_agents` that does exactly that."
   ]
  },
  {
   "cell_type": "code",
   "execution_count": null,
   "id": "207e2f67",
   "metadata": {
    "deletable": false,
    "nbgrader": {
     "grade": false,
     "grade_id": "cell-d68349ea8576483b",
     "locked": false,
     "schema_version": 3,
     "solution": true,
     "task": false
    }
   },
   "outputs": [],
   "source": [
    "def impute_agents(df: pd.DataFrame)->pd.DataFrame:\n",
    "    \"\"\"\n",
    "    This function imputs the missing values in the agents column with a new 'unknown' category\n",
    "    \"\"\"\n",
    "\n",
    "    # YOUR CODE HERE\n",
    "    raise NotImplementedError()\n"
   ]
  },
  {
   "cell_type": "code",
   "execution_count": null,
   "id": "741ba7af",
   "metadata": {
    "deletable": false,
    "editable": false,
    "nbgrader": {
     "grade": true,
     "grade_id": "cell-9f1a5fbc7a6ae9af",
     "locked": true,
     "points": 1,
     "schema_version": 3,
     "solution": false,
     "task": false
    }
   },
   "outputs": [],
   "source": [
    "imputed_df = impute_agents(clean_status_date) \n",
    "assert isinstance(imputed_df, pd.DataFrame), \"The fucntion should return a dataframe.\"\n",
    "assert hashlib.sha256(json.dumps(str(imputed_df.agent)).encode()).hexdigest() == 'e88eaebe8668246fc74259c12ea8e38311c86ec96a73e2a8de26eb30bb7aefb9', \"Something is wrong with your data imputation.\" \n",
    "assert hashlib.sha256(json.dumps(sorted(imputed_df.agent[imputed_df.agent == 'unknown'].sum())).encode()).hexdigest() == 'bb80fda4a664ce06ee5d39edb0488f95a9496f1a7dde86e8b750246967e5a921', \"Did you fill in all the missing values?\""
   ]
  },
  {
   "cell_type": "markdown",
   "id": "e54052ae",
   "metadata": {
    "deletable": false,
    "editable": false,
    "nbgrader": {
     "grade": false,
     "grade_id": "cell-1104cbd5e6c54200",
     "locked": true,
     "schema_version": 3,
     "solution": false,
     "task": false
    }
   },
   "source": [
    "## Exercise 3 - Drop duplicates\n",
    "\n",
    "The last thing you need to ensure is that yourdataset doesn't have any duplicated data.\n",
    "Create a short function to remove duplicates!"
   ]
  },
  {
   "cell_type": "code",
   "execution_count": null,
   "id": "06e2c0d0",
   "metadata": {
    "deletable": false,
    "nbgrader": {
     "grade": false,
     "grade_id": "cell-f5a89d600ba6117e",
     "locked": false,
     "schema_version": 3,
     "solution": true,
     "task": false
    }
   },
   "outputs": [],
   "source": [
    "def drop_duplicated_entries(df: pd.DataFrame)->pd.DataFrame:\n",
    "    \"\"\"\n",
    "    This function drops duplicates from the dataframe\n",
    "    \"\"\"\n",
    "\n",
    "    # YOUR CODE HERE\n",
    "    raise NotImplementedError()\n",
    "    "
   ]
  },
  {
   "cell_type": "code",
   "execution_count": null,
   "id": "22a0142c",
   "metadata": {
    "deletable": false,
    "editable": false,
    "nbgrader": {
     "grade": true,
     "grade_id": "cell-922e485e37aa2f9f",
     "locked": true,
     "points": 1,
     "schema_version": 3,
     "solution": false,
     "task": false
    }
   },
   "outputs": [],
   "source": [
    "clean_crset_df = drop_duplicated_entries(imputed_df)\n",
    "assert isinstance(clean_crset_df, pd.DataFrame), \"The function should return a dataframe.\"\n",
    "assert clean_crset_df.shape == (82870, 20), \"The shape of the dataframe is different then expected. Have you removed all the duplicated rows?\" "
   ]
  },
  {
   "cell_type": "markdown",
   "id": "6ba45d4f",
   "metadata": {
    "deletable": false,
    "editable": false,
    "nbgrader": {
     "grade": false,
     "grade_id": "cell-30d6a0e2608a4104",
     "locked": true,
     "schema_version": 3,
     "solution": false,
     "task": false
    }
   },
   "source": [
    "Congratulations! The *CRSet() Hotel* dataset is looking very clean and tidy!\n",
    "<img src=\"https://static.toiimg.com/thumb/msid-78693940,width-1200,height-900,resizemode-4/.jpg\" width=\"400\">"
   ]
  },
  {
   "cell_type": "markdown",
   "id": "df04f119",
   "metadata": {
    "deletable": false,
    "editable": false,
    "nbgrader": {
     "grade": false,
     "grade_id": "cell-a40891aaf441e092",
     "locked": true,
     "schema_version": 3,
     "solution": false,
     "task": false
    }
   },
   "source": [
    "## A mess to be tidied up\n",
    "\n",
    "You decided to switch to a more interesting job with the World Health Organization analyzing disease incidence across the world. Your first task is to analyse the incidence of tuberculosis between 1989 and 2008. WHO has been recording the cases all over the world. They have good intentions, but not very good methods to store data."
   ]
  },
  {
   "cell_type": "markdown",
   "id": "a6b64653",
   "metadata": {
    "deletable": false,
    "editable": false,
    "nbgrader": {
     "grade": false,
     "grade_id": "cell-a98e3be81938db57",
     "locked": true,
     "schema_version": 3,
     "solution": false,
     "task": false
    }
   },
   "source": [
    "<img src=\"media/tbc.png\"  width=\"400\">"
   ]
  },
  {
   "cell_type": "markdown",
   "id": "c4e4567e",
   "metadata": {
    "deletable": false,
    "editable": false,
    "nbgrader": {
     "grade": false,
     "grade_id": "cell-c6502825d7d92e1b",
     "locked": true,
     "schema_version": 3,
     "solution": false,
     "task": false
    }
   },
   "source": [
    "Let's have a look:"
   ]
  },
  {
   "cell_type": "code",
   "execution_count": null,
   "id": "28dd3487",
   "metadata": {
    "deletable": false,
    "editable": false,
    "nbgrader": {
     "grade": false,
     "grade_id": "cell-a9540248bf5e9462",
     "locked": true,
     "schema_version": 3,
     "solution": false,
     "task": false
    }
   },
   "outputs": [],
   "source": [
    "df_tb_who = pd.read_csv(os.path.join('data', 'tb.csv'), sep=',')\n",
    "df_tb_who.head()"
   ]
  },
  {
   "cell_type": "markdown",
   "id": "b2572cda",
   "metadata": {
    "deletable": false,
    "editable": false,
    "nbgrader": {
     "grade": false,
     "grade_id": "cell-6ca615b5895620ad",
     "locked": true,
     "schema_version": 3,
     "solution": false,
     "task": false
    }
   },
   "source": [
    "The dataset contains counts of confirmed tuberculosis cases by country, year and demographic group. The demographic data contains information on sex (*m* for male and *f* for female)  and age (*0-14, 15-24, 25-34, 35-44, 45-54, 55-64* and *65+*). Except for the column `year`, the column names are not very intuitive. The column `iso2` contains the country code in [iso2 format](https://www.iso.org/iso-3166-country-codes.html). The remaining columns are actually joint realizations of two variables: `sex` and `age`. "
   ]
  },
  {
   "cell_type": "markdown",
   "id": "4469df8f",
   "metadata": {
    "deletable": false,
    "editable": false,
    "nbgrader": {
     "grade": false,
     "grade_id": "cell-49eb1d7688de9aaf",
     "locked": true,
     "schema_version": 3,
     "solution": false,
     "task": false
    }
   },
   "source": [
    "## Exercise 4 - Country \n",
    "\n",
    "Start by addressing the `iso2` column. Save in a new `country` column the corresponding country name from the iso2 code. The [pycountry-convert](https://pypi.org/project/pycountry-convert/) package is your friend! It's already imported as `cc`.\n",
    "\n",
    "First, create a function `get_country` that converts the iso2 code to country name. If the name cannot be retrieved, the function should return the original iso2 code. Afterwards copy the who dataframe to new `df_tb_who_country` dataframe, apply the function and drop the `iso2` column."
   ]
  },
  {
   "cell_type": "code",
   "execution_count": null,
   "id": "ecc1c7c2",
   "metadata": {
    "deletable": false,
    "nbgrader": {
     "grade": false,
     "grade_id": "cell-c70d7302fbae72b0",
     "locked": false,
     "schema_version": 3,
     "solution": true,
     "task": false
    }
   },
   "outputs": [],
   "source": [
    "# YOUR CODE HERE\n",
    "raise NotImplementedError()\n",
    "\n",
    "#def get_country():\n",
    "\n",
    "#df_tb_who_country = ..."
   ]
  },
  {
   "cell_type": "code",
   "execution_count": null,
   "id": "59c2191b",
   "metadata": {
    "deletable": false,
    "editable": false,
    "nbgrader": {
     "grade": true,
     "grade_id": "cell-78a9eaeaa51da8b0",
     "locked": true,
     "points": 2,
     "schema_version": 3,
     "solution": false,
     "task": false
    }
   },
   "outputs": [],
   "source": [
    "assert isinstance(df_tb_who_country, pd.DataFrame), \"The result should be a dataframe.\"\n",
    "assert 'iso2' not in df_tb_who_country.columns, \"You should drop the original iso2 column.\"\n",
    "assert 'country' in df_tb_who_country.columns, \"Have you stored the results in a new column named 'country'?\"\n",
    "assert hashlib.sha256(json.dumps(sorted(df_tb_who_country['country'].unique())).encode()).hexdigest() == '40515e68a196feaac974999d8d4fa9f3dd814e1bde66243a968fadf41a8e84de', \"Have you converted the iso2 codes to the country NAME?\""
   ]
  },
  {
   "cell_type": "markdown",
   "id": "7cc97eb6",
   "metadata": {
    "deletable": false,
    "editable": false,
    "nbgrader": {
     "grade": false,
     "grade_id": "cell-2a3a6625daad01dc",
     "locked": true,
     "schema_version": 3,
     "solution": false,
     "task": false
    }
   },
   "source": [
    "## Exercise 5 - the melt function\n",
    "\n",
    "This is our dataframe with country names:"
   ]
  },
  {
   "cell_type": "code",
   "execution_count": null,
   "id": "ade46c46",
   "metadata": {
    "deletable": false,
    "editable": false,
    "nbgrader": {
     "grade": false,
     "grade_id": "cell-6398f5af771f0b5e",
     "locked": true,
     "schema_version": 3,
     "solution": false,
     "task": false
    }
   },
   "outputs": [],
   "source": [
    "df_tb_who_country.head()"
   ]
  },
  {
   "cell_type": "markdown",
   "id": "81c86519",
   "metadata": {
    "deletable": false,
    "editable": false,
    "nbgrader": {
     "grade": false,
     "grade_id": "cell-5ef9ec3150c7e630",
     "locked": true,
     "schema_version": 3,
     "solution": false,
     "task": false
    }
   },
   "source": [
    "Before we can continue, we need to tidy it up. Of all the columns, only two are variables, `year` and `country`. All the other column names are values. \n",
    "\n",
    "Use the function `melt()` to tidy the dataframe and store it in `tidy_tb`. Keep the `country` and `year` columns and melt all the other columns. Store the melted column names in the variable `column_name` and their values in variable `cases`."
   ]
  },
  {
   "cell_type": "code",
   "execution_count": null,
   "id": "628adf15",
   "metadata": {
    "deletable": false,
    "nbgrader": {
     "grade": false,
     "grade_id": "cell-6fd55136526d1de2",
     "locked": false,
     "schema_version": 3,
     "solution": true,
     "task": false
    }
   },
   "outputs": [],
   "source": [
    "#tidy_tb = pd.melt(...)\n",
    "# YOUR CODE HERE\n",
    "raise NotImplementedError()"
   ]
  },
  {
   "cell_type": "code",
   "execution_count": null,
   "id": "5386385b",
   "metadata": {
    "deletable": false,
    "editable": false,
    "nbgrader": {
     "grade": true,
     "grade_id": "cell-c7b7f19a19d6be01",
     "locked": true,
     "points": 2,
     "schema_version": 3,
     "solution": false,
     "task": false
    }
   },
   "outputs": [],
   "source": [
    "assert isinstance(tidy_tb, pd.DataFrame), \"The result should be a dataframe.\"\n",
    "assert tidy_tb.shape == (121149, 4), \"Your dataframe doesn't have the expected shape. Have you melted the dataframe correctly?\"\n",
    "assert \"column_name\" in tidy_tb.columns, \"The variables other than 'country' and 'year' should be stored in a column named 'column_name'.\"\n",
    "assert \"cases\" in tidy_tb.columns, \"Number of cases should be stored in a column named 'cases'.\"\n",
    "assert hashlib.sha256(json.dumps(sorted(tidy_tb['column_name'])).encode()).hexdigest() == '4ba594d958d63b5bab87fe50944b16f30a93824e56fa331d5d9b59dddf285e35', \"The column_name column doesn't look as expected\" \n",
    "assert hashlib.sha256(json.dumps(sorted(tidy_tb['cases'])).encode()).hexdigest() == '8a294cd49c8fc1b29b60893e45426a80cb9681be4c699ae950c7103552cc7153', \"The cases column doesn't look as expected\""
   ]
  },
  {
   "cell_type": "markdown",
   "id": "0e50503c",
   "metadata": {
    "deletable": false,
    "editable": false,
    "nbgrader": {
     "grade": false,
     "grade_id": "cell-a3c6930dbf5b9ef6",
     "locked": true,
     "schema_version": 3,
     "solution": false,
     "task": false
    }
   },
   "source": [
    "## Exercise 6 - Data cleanup\n",
    "\n",
    "Our dataframe is tidy, but it's not clean. From the `tidy_tb` dataframe, drop all the rows where `cases` **OR** `country` is null, as we just don't have any information and we cannot guess the number of cases or the country of origin. Convert the `cases` column to `int`. Save the final dataframe in `clean_tidy_tb` sorted by `country`, `year`, and `column_name`. The indexes should be reset (with `drop=True`)."
   ]
  },
  {
   "cell_type": "code",
   "execution_count": null,
   "id": "4c0eed30",
   "metadata": {
    "deletable": false,
    "nbgrader": {
     "grade": false,
     "grade_id": "cell-9577b6eba97000ae",
     "locked": false,
     "schema_version": 3,
     "solution": true,
     "task": false
    }
   },
   "outputs": [],
   "source": [
    "# YOUR CODE HERE\n",
    "raise NotImplementedError()"
   ]
  },
  {
   "cell_type": "code",
   "execution_count": null,
   "id": "54623e4e",
   "metadata": {
    "deletable": false,
    "editable": false,
    "nbgrader": {
     "grade": true,
     "grade_id": "cell-42fd7bf741b61410",
     "locked": true,
     "points": 2,
     "schema_version": 3,
     "solution": false,
     "task": false
    }
   },
   "outputs": [],
   "source": [
    "assert isinstance(clean_tidy_tb, pd.DataFrame), \"The result should be a dataframe.\"\n",
    "assert clean_tidy_tb.shape == (38619, 4), \"The shape of the dataframe is not correct.\"\n",
    "assert hashlib.sha256(json.dumps(sorted(tidy_tb['country'])).encode()).hexdigest() == '43543c9e06fe9846897c269db635da02fc76dae4527775062a2f66efc707e87e', \"There is something wrong with the values in the country column.\"\n",
    "assert hashlib.sha256(json.dumps(sorted(tidy_tb['cases'])).encode()).hexdigest() == '8a294cd49c8fc1b29b60893e45426a80cb9681be4c699ae950c7103552cc7153', \"There is something wrong with the values in the cases column.\""
   ]
  },
  {
   "cell_type": "markdown",
   "id": "64d5939a",
   "metadata": {
    "deletable": false,
    "editable": false,
    "nbgrader": {
     "grade": false,
     "grade_id": "cell-efe3c1f80a242099",
     "locked": true,
     "schema_version": 3,
     "solution": false,
     "task": false
    }
   },
   "source": [
    "## Exercise 7 - Multiple Variables stored in one Column\n",
    "\n",
    "Our `clean_tidy_tb` is looking better, but now we need to address the problem of having multiple variables stored in the `column_name` column. Let's fix that in a few steps."
   ]
  },
  {
   "cell_type": "markdown",
   "id": "2cd605ef",
   "metadata": {
    "deletable": false,
    "editable": false,
    "nbgrader": {
     "grade": false,
     "grade_id": "cell-29b2aec2de48149d",
     "locked": true,
     "schema_version": 3,
     "solution": false,
     "task": false
    }
   },
   "source": [
    "### Exercise 7.1 \n",
    "\n",
    "From the `column_name` column, extract the codes for female/male to a new column named `sex` and the codes for the age to a new column `age`. Use pandas `str.extract` to do this. Drop all missing values afterwards."
   ]
  },
  {
   "cell_type": "code",
   "execution_count": null,
   "id": "93348cec",
   "metadata": {
    "deletable": false,
    "nbgrader": {
     "grade": false,
     "grade_id": "cell-010b213892a15dcd",
     "locked": false,
     "schema_version": 3,
     "solution": true,
     "task": false
    }
   },
   "outputs": [],
   "source": [
    "#clean_tidy_tb[[\"sex\", \"age\"]] =\n",
    "\n",
    "# YOUR CODE HERE\n",
    "raise NotImplementedError()"
   ]
  },
  {
   "cell_type": "code",
   "execution_count": null,
   "id": "99c275ac",
   "metadata": {
    "deletable": false,
    "editable": false,
    "nbgrader": {
     "grade": true,
     "grade_id": "cell-59b3a28814a74234",
     "locked": true,
     "points": 2,
     "schema_version": 3,
     "solution": false,
     "task": false
    }
   },
   "outputs": [],
   "source": [
    "assert isinstance(clean_tidy_tb, pd.DataFrame), \"The result should be a dataframe.\"\n",
    "assert clean_tidy_tb.shape == (35552, 6), \"The shape of your dataframe is off. Have you dropped the missing values?\"\n",
    "assert hashlib.sha256(json.dumps(sorted(clean_tidy_tb['sex'].unique())).encode()).hexdigest() == '1a336f5ee71cf591bfd047e8facc048011b4b2bb760743e979ebe7c445dacf1b', \"The values in the sex column are not ok.\"\n",
    "assert hashlib.sha256(json.dumps(sorted(clean_tidy_tb['age'].unique())).encode()).hexdigest() == '70a6918917681862857b955b14e70f7bc68d0050382ef81945fe963e48135f10', \"The values in the age column are not ok.\""
   ]
  },
  {
   "cell_type": "markdown",
   "id": "58e9fade",
   "metadata": {
    "deletable": false,
    "editable": false,
    "nbgrader": {
     "grade": false,
     "grade_id": "cell-bda729060158f3aa",
     "locked": true,
     "schema_version": 3,
     "solution": false,
     "task": false
    }
   },
   "source": [
    "### Exercise 7.2\n",
    "\n",
    "The values in the `age` column are not very easy to understand. Use the `decode_age` dictionary to convert them to a more readable format. Drop any row where the values could not be converted."
   ]
  },
  {
   "cell_type": "code",
   "execution_count": null,
   "id": "bdb47e10",
   "metadata": {
    "deletable": false,
    "editable": false,
    "nbgrader": {
     "grade": false,
     "grade_id": "cell-dc2eced9420c20b8",
     "locked": true,
     "schema_version": 3,
     "solution": false,
     "task": false
    }
   },
   "outputs": [],
   "source": [
    "decode_age =   {\n",
    "        \"014\": \"0-14\",\n",
    "        \"1524\": \"15-24\",\n",
    "        \"2534\": \"25-34\",\n",
    "        \"3544\": \"35-44\",\n",
    "        \"4554\": \"45-54\",\n",
    "        \"5564\": \"55-64\",\n",
    "        \"65\": \"65+\",\n",
    "        \"u\": \"unknown\",\n",
    "    }"
   ]
  },
  {
   "cell_type": "code",
   "execution_count": null,
   "id": "65beb34c",
   "metadata": {
    "deletable": false,
    "nbgrader": {
     "grade": false,
     "grade_id": "cell-5da3dd934bfb0944",
     "locked": false,
     "schema_version": 3,
     "solution": true,
     "task": false
    }
   },
   "outputs": [],
   "source": [
    "# clean_tidy_tb[\"age\"] = ...\n",
    "\n",
    "# YOUR CODE HERE\n",
    "raise NotImplementedError()"
   ]
  },
  {
   "cell_type": "code",
   "execution_count": null,
   "id": "f9b7800d",
   "metadata": {
    "deletable": false,
    "editable": false,
    "nbgrader": {
     "grade": true,
     "grade_id": "cell-d6f8a9b49d1bb1f6",
     "locked": true,
     "points": 1,
     "schema_version": 3,
     "solution": false,
     "task": false
    }
   },
   "outputs": [],
   "source": [
    "assert hashlib.sha256(json.dumps(sorted(clean_tidy_tb['age'].unique())).encode()).hexdigest() == '8135dd0c090f9073cbb69a7bbacefd8ad0ecdb6e26415ece93e3fb5f8f5d17e6', \"The decoding did not work as expected.\""
   ]
  },
  {
   "cell_type": "markdown",
   "id": "0a5e8e05",
   "metadata": {
    "deletable": false,
    "editable": false,
    "nbgrader": {
     "grade": false,
     "grade_id": "cell-33c22bb906ad7ae8",
     "locked": true,
     "schema_version": 3,
     "solution": false,
     "task": false
    }
   },
   "source": [
    "### Exercise 7.3\n",
    "\n",
    "Finally, save in `final_tb_df` the dataframe with just the columns \"country\", \"year\", \"sex\", \"age\" and \"cases\"."
   ]
  },
  {
   "cell_type": "code",
   "execution_count": null,
   "id": "d7260cee",
   "metadata": {
    "deletable": false,
    "nbgrader": {
     "grade": false,
     "grade_id": "cell-740d1b402b3e1cdd",
     "locked": false,
     "schema_version": 3,
     "solution": true,
     "task": false
    }
   },
   "outputs": [],
   "source": [
    "# final_tb_df = ...\n",
    "# YOUR CODE HERE\n",
    "raise NotImplementedError()"
   ]
  },
  {
   "cell_type": "code",
   "execution_count": null,
   "id": "858119af",
   "metadata": {
    "deletable": false,
    "editable": false,
    "nbgrader": {
     "grade": true,
     "grade_id": "cell-ebe6d59edb53d1bf",
     "locked": true,
     "points": 1,
     "schema_version": 3,
     "solution": false,
     "task": false
    }
   },
   "outputs": [],
   "source": [
    "assert isinstance(final_tb_df, pd.DataFrame), \"The result should be a dataframe.\"\n",
    "assert final_tb_df.shape == (33962, 5), \"The shape of your dataframe is off.\"\n",
    "assert sorted(final_tb_df.columns) == ['age', 'cases', 'country', 'sex', 'year'], \"The column names are not as expected.\""
   ]
  },
  {
   "cell_type": "markdown",
   "id": "412717aa",
   "metadata": {
    "deletable": false,
    "editable": false,
    "nbgrader": {
     "grade": false,
     "grade_id": "cell-e4c77887957ce018",
     "locked": true,
     "schema_version": 3,
     "solution": false,
     "task": false
    }
   },
   "source": [
    "Congratulations!!! You're a data cleaning master!"
   ]
  },
  {
   "cell_type": "markdown",
   "id": "0381a077",
   "metadata": {
    "deletable": false,
    "editable": false,
    "nbgrader": {
     "grade": false,
     "grade_id": "cell-5b67eb1dc4a3d834",
     "locked": true,
     "schema_version": 3,
     "solution": false,
     "task": false
    }
   },
   "source": [
    "<img src=\"media/good-job.jpg\"  width=\"400\">"
   ]
  }
 ],
 "metadata": {
  "kernelspec": {
   "display_name": "Python 3 (ipykernel)",
   "language": "python",
   "name": "python3"
  },
  "language_info": {
   "codemirror_mode": {
    "name": "ipython",
    "version": 3
   },
   "file_extension": ".py",
   "mimetype": "text/x-python",
   "name": "python",
   "nbconvert_exporter": "python",
   "pygments_lexer": "ipython3",
   "version": "3.8.13"
  }
 },
 "nbformat": 4,
 "nbformat_minor": 5
}
