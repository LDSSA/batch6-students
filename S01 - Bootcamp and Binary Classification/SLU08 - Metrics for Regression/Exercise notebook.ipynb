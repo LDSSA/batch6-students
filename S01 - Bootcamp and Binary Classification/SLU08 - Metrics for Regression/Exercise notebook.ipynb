{
 "cells": [
  {
   "cell_type": "markdown",
   "metadata": {
    "deletable": false,
    "editable": false,
    "nbgrader": {
     "grade": false,
     "grade_id": "cell-68fa160327bd350b",
     "locked": true,
     "schema_version": 3,
     "solution": false
    }
   },
   "source": [
    "## SLU08 - Metrics for Regression: Exercise Notebook\n",
    "\n",
    "In this notebook, you will implement:\n",
    "\n",
    "    - Mean Absolute Error (MAE)\n",
    "    - Mean Squared Error (MSE)\n",
    "    - Root Mean Squared Error (RMSE)\n",
    "    - Coefficient of Determination (R²)\n",
    "    - Adjusted R²\n",
    "    - Scikitlearn metrics\n",
    "    - Using metrics for k-fold cross validation\n"
   ]
  },
  {
   "cell_type": "markdown",
   "metadata": {
    "deletable": false,
    "editable": false,
    "nbgrader": {
     "grade": false,
     "grade_id": "cell-517511ad73591944",
     "locked": true,
     "schema_version": 3,
     "solution": false
    }
   },
   "source": [
    "Start by loading the data we will use to fit a linear regression and fitting the LinearRegression estimator from scikitlearn:"
   ]
  },
  {
   "cell_type": "code",
   "execution_count": null,
   "metadata": {
    "deletable": false,
    "editable": false,
    "nbgrader": {
     "grade": false,
     "grade_id": "cell-c3b5b62586587194",
     "locked": true,
     "schema_version": 3,
     "solution": false
    }
   },
   "outputs": [],
   "source": [
    "# Base imports\n",
    "import numpy as np\n",
    "import pandas as pd\n",
    "from sklearn.datasets import load_diabetes\n",
    "from sklearn.linear_model import LinearRegression\n",
    "\n",
    "data = load_diabetes()\n",
    "\n",
    "x = pd.DataFrame(data['data'], columns=data['feature_names'])\n",
    "y = pd.Series(data['target'])\n",
    "x.head()"
   ]
  },
  {
   "cell_type": "code",
   "execution_count": null,
   "metadata": {
    "deletable": false,
    "editable": false,
    "nbgrader": {
     "grade": false,
     "grade_id": "cell-7aed052cfe019718",
     "locked": true,
     "schema_version": 3,
     "solution": false
    }
   },
   "outputs": [],
   "source": [
    "np.random.seed(42)\n",
    "\n",
    "x_diabetes = x.values\n",
    "y_diabetes = y.values\n",
    "\n",
    "lr = LinearRegression()\n",
    "lr.fit(x_diabetes, y_diabetes)\n",
    "\n",
    "y_hat_diabetes = lr.predict(x_diabetes)\n",
    "betas_diabetes = pd.Series([lr.intercept_] + list(lr.coef_))"
   ]
  },
  {
   "cell_type": "markdown",
   "metadata": {
    "deletable": false,
    "editable": false,
    "nbgrader": {
     "grade": false,
     "grade_id": "cell-ec6525e56e745670",
     "locked": true,
     "schema_version": 3,
     "solution": false
    }
   },
   "source": [
    "## 1 Metrics\n",
    "\n",
    "We will start by covering the metrics we learned in the unit, in particular a set of related metrics:\n",
    "\n",
    "- Mean Absolute Error\n",
    "\n",
    "$$MAE = \\frac{1}{N} \\sum_{n=1}^N \\left| y_n - \\hat{y}_n \\right|$$\n",
    "\n",
    "- Mean Squared Error\n",
    "\n",
    "$$MSE = \\frac{1}{N} \\sum_{n=1}^N (y_n - \\hat{y}_n)^2$$\n",
    "\n",
    "- Root Mean Squared Error\n",
    "\n",
    "$$RMSE = \\sqrt{MSE}$$"
   ]
  },
  {
   "cell_type": "markdown",
   "metadata": {
    "deletable": false,
    "editable": false,
    "nbgrader": {
     "grade": false,
     "grade_id": "cell-837cf48e25ab03b4",
     "locked": true,
     "schema_version": 3,
     "solution": false,
     "task": false
    }
   },
   "source": [
    "### 1.1 Mean Absolute Error\n",
    "\n",
    "First, implement the Mean Absolute Error in the function below. "
   ]
  },
  {
   "cell_type": "code",
   "execution_count": null,
   "metadata": {
    "deletable": false,
    "nbgrader": {
     "grade": false,
     "grade_id": "cell-dcd192e5ea083015",
     "locked": false,
     "schema_version": 3,
     "solution": true,
     "task": false
    }
   },
   "outputs": [],
   "source": [
    "def mean_absolute_error(y, y_pred): \n",
    "    \"\"\"\n",
    "    Args: \n",
    "        y_pred : numpy.array with shape (num_samples,) - predictions\n",
    "        y : numpy.array with shape (num_samples,) - labels \n",
    "        \n",
    "    Returns: \n",
    "        mae : float with Mean Absolute Error\n",
    "    \"\"\"\n",
    "    # 1) Compute the error.\n",
    "    # error = ...\n",
    "    # YOUR CODE HERE\n",
    "    raise NotImplementedError()\n",
    "    \n",
    "    # 2) Compute the absolute value of the errors for each sample\n",
    "    # abs_error = ...\n",
    "    # YOUR CODE HERE\n",
    "    raise NotImplementedError()\n",
    "    \n",
    "    # 3) Compute the mean of the absolute value of the errors\n",
    "    # mae = ...\n",
    "    # YOUR CODE HERE\n",
    "    raise NotImplementedError()\n",
    "    \n",
    "    return mae"
   ]
  },
  {
   "cell_type": "markdown",
   "metadata": {
    "deletable": false,
    "editable": false,
    "nbgrader": {
     "grade": false,
     "grade_id": "cell-91cd8d2ed341da1d",
     "locked": true,
     "schema_version": 3,
     "solution": false,
     "task": false
    }
   },
   "source": [
    "Check the outputs of your function match the results below:"
   ]
  },
  {
   "cell_type": "code",
   "execution_count": null,
   "metadata": {
    "deletable": false,
    "editable": false,
    "nbgrader": {
     "grade": true,
     "grade_id": "cell-3b7c2a2b912ddacd",
     "locked": true,
     "points": 2,
     "schema_version": 3,
     "solution": false,
     "task": false
    }
   },
   "outputs": [],
   "source": [
    "mae = mean_absolute_error(y_diabetes, y_hat_diabetes)\n",
    "print('Mean Absolute Error Diabetes dataset: {}'.format(mae))\n",
    "np.testing.assert_almost_equal(mae, 43.2773, 3)\n"
   ]
  },
  {
   "cell_type": "markdown",
   "metadata": {
    "deletable": false,
    "editable": false,
    "nbgrader": {
     "grade": false,
     "grade_id": "cell-6e19afebf9f22bab",
     "locked": true,
     "schema_version": 3,
     "solution": false
    }
   },
   "source": [
    "### 1.2 Mean Squared Error\n",
    "\n",
    "Implement the mean squared error in the next function:"
   ]
  },
  {
   "cell_type": "code",
   "execution_count": null,
   "metadata": {
    "deletable": false,
    "nbgrader": {
     "grade": false,
     "grade_id": "cell-d7a35367fa5f0f10",
     "locked": false,
     "schema_version": 3,
     "solution": true
    }
   },
   "outputs": [],
   "source": [
    "def mean_squared_error(y, y_pred): \n",
    "    \"\"\"\n",
    "    Args: \n",
    "        y_pred : numpy.array with shape (num_samples,) - predictions\n",
    "        y : numpy.array with shape (num_samples,) - labels \n",
    "        \n",
    "    Returns: \n",
    "        mse : float with Mean Squared Error Value\n",
    "\n",
    "    \"\"\"\n",
    "    # 1) Compute the error.\n",
    "    # error = ...\n",
    "    # YOUR CODE HERE\n",
    "    raise NotImplementedError()\n",
    "    \n",
    "    # 2) Compute the squared value of the errors for each sample\n",
    "    # squared_error = ...\n",
    "    # YOUR CODE HERE\n",
    "    raise NotImplementedError()\n",
    "    \n",
    "    # 3) Compute the mean squared value of the errors\n",
    "    # mse = ...\n",
    "    # YOUR CODE HERE\n",
    "    raise NotImplementedError()\n",
    "    \n",
    "    return mse"
   ]
  },
  {
   "cell_type": "markdown",
   "metadata": {
    "deletable": false,
    "editable": false,
    "nbgrader": {
     "grade": false,
     "grade_id": "cell-cb656ddb462c6d28",
     "locked": true,
     "schema_version": 3,
     "solution": false
    }
   },
   "source": [
    "Check the outputs of your function match the results below:"
   ]
  },
  {
   "cell_type": "code",
   "execution_count": null,
   "metadata": {
    "deletable": false,
    "editable": false,
    "nbgrader": {
     "grade": true,
     "grade_id": "cell-8ea8afca85e2b4bd",
     "locked": true,
     "points": 2,
     "schema_version": 3,
     "solution": false
    }
   },
   "outputs": [],
   "source": [
    "mse = mean_squared_error(y_diabetes, y_hat_diabetes)\n",
    "print('Mean Squared Error Diabetes dataset: {}'.format(mse))\n",
    "np.testing.assert_almost_equal(mse, 2859.6903, 3)\n"
   ]
  },
  {
   "cell_type": "markdown",
   "metadata": {
    "deletable": false,
    "editable": false,
    "nbgrader": {
     "grade": false,
     "grade_id": "cell-ef21594b53b9934a",
     "locked": true,
     "schema_version": 3,
     "solution": false,
     "task": false
    }
   },
   "source": [
    "### 1.3 Root Mean Squared Error\n",
    "Implement the root mean squared error in the function below:"
   ]
  },
  {
   "cell_type": "code",
   "execution_count": null,
   "metadata": {
    "deletable": false,
    "nbgrader": {
     "grade": false,
     "grade_id": "cell-ca7af06ca3e16ffb",
     "locked": false,
     "schema_version": 3,
     "solution": true,
     "task": false
    }
   },
   "outputs": [],
   "source": [
    "def root_mean_squared_error(y, y_pred): \n",
    "    \"\"\"\n",
    "    Args: \n",
    "        y_pred : numpy.array with shape (num_samples,) - predictions\n",
    "        y : numpy.array with shape (num_samples,) - labels \n",
    "        \n",
    "    Returns: \n",
    "        mse : float with the Root Mean Squared Error Value\n",
    "    \"\"\"\n",
    "    # 1) Compute the mean squared error. \n",
    "    # mse = ...\n",
    "    # YOUR CODE HERE\n",
    "    raise NotImplementedError()\n",
    "    \n",
    "    # 2) Compute the root square.\n",
    "    # rmse = ...\n",
    "    # YOUR CODE HERE\n",
    "    raise NotImplementedError()\n",
    "    \n",
    "    return rmse"
   ]
  },
  {
   "cell_type": "markdown",
   "metadata": {
    "deletable": false,
    "editable": false,
    "nbgrader": {
     "grade": false,
     "grade_id": "cell-2c5f410a55fefeed",
     "locked": true,
     "schema_version": 3,
     "solution": false,
     "task": false
    }
   },
   "source": [
    "Check the outputs of your function match the results below:"
   ]
  },
  {
   "cell_type": "code",
   "execution_count": null,
   "metadata": {
    "deletable": false,
    "editable": false,
    "nbgrader": {
     "grade": true,
     "grade_id": "cell-727b81ef1259e266",
     "locked": true,
     "points": 2,
     "schema_version": 3,
     "solution": false,
     "task": false
    }
   },
   "outputs": [],
   "source": [
    "rmse = root_mean_squared_error(y_diabetes, y_hat_diabetes)\n",
    "print('Root Mean Squared Error Diabetes dataset: {}'.format(rmse))\n",
    "np.testing.assert_almost_equal(rmse, 53.4760, 3)\n"
   ]
  },
  {
   "cell_type": "markdown",
   "metadata": {
    "deletable": false,
    "editable": false,
    "nbgrader": {
     "grade": false,
     "grade_id": "cell-7247af52a77608d5",
     "locked": true,
     "schema_version": 3,
     "solution": false
    }
   },
   "source": [
    "Next we will focus on the Coefficient of Determination - $R^2$ - and its adjusted form. See the equations below:\n",
    "\n",
    "- $R^2$ score \n",
    "\n",
    "$$R² = 1 - \\frac{MSE(y, \\hat{y})}{MSE(y, \\bar{y})} \n",
    "= 1 - \\frac{\\frac{1}{N} \\sum_{n=1}^N (y_n - \\hat{y}_n)^2}{\\frac{1}{N} \\sum_{n=1}^N (y_n - \\bar{y})^2}\n",
    "= 1 - \\frac{\\sum_{n=1}^N (y_n - \\hat{y}_n)^2}{\\sum_{n=1}^N (y_n - \\bar{y})^2}$$\n",
    "\n",
    "where $$\\bar{y} = \\frac{1}{N} \\sum_{n=1}^N y_n$$\n",
    "\n",
    "- Adjusted $R^2$ score \n",
    "\n",
    "$$\\bar{R}^2 = 1 - \\frac{N - 1}{N - K - 1} (1 - R^2)$$\n",
    "\n",
    "where $N$ is the number of observations in the dataset used for training the model (i.e. number of rows of the pandas dataframe) and $K$ is the number of features used by your model (i.e. number of columns of the pandas dataframe)\n",
    "\n",
    "\n",
    "### 1.4 R² score\n",
    "\n",
    "Now implement the $R^2$ score in the function below:"
   ]
  },
  {
   "cell_type": "code",
   "execution_count": null,
   "metadata": {
    "deletable": false,
    "nbgrader": {
     "grade": false,
     "grade_id": "cell-51f11aef440a31c5",
     "locked": false,
     "schema_version": 3,
     "solution": true
    }
   },
   "outputs": [],
   "source": [
    "def r_squared(y, y_pred): \n",
    "    \"\"\"\n",
    "    Args: \n",
    "        y_pred : numpy.array with shape (num_samples,) - predictions\n",
    "        y : numpy.array with shape (num_samples,) - labels \n",
    "        \n",
    "    Returns: \n",
    "        r2 : float with R squared value\n",
    "    \"\"\"\n",
    "\n",
    "    # 1) Compute labels mean.\n",
    "    # y_mean = ...\n",
    "    # YOUR CODE HERE\n",
    "    raise NotImplementedError()\n",
    "\n",
    "    # 2) Compute the mean squared error between the target and the predictions.\n",
    "    # mse_pred = ...\n",
    "    # YOUR CODE HERE\n",
    "    raise NotImplementedError()\n",
    "    \n",
    "    # 3) Compute the mean squared error between the target and its mean.\n",
    "    # YOUR CODE HERE\n",
    "    raise NotImplementedError()\n",
    "    \n",
    "    # 4) Finally, compute R²\n",
    "    # r2 = ...\n",
    "    # YOUR CODE HERE\n",
    "    raise NotImplementedError()\n",
    "    \n",
    "    return r2"
   ]
  },
  {
   "cell_type": "markdown",
   "metadata": {
    "deletable": false,
    "editable": false,
    "nbgrader": {
     "grade": false,
     "grade_id": "cell-1063e13d06463111",
     "locked": true,
     "schema_version": 3,
     "solution": false
    }
   },
   "source": [
    "Check the outputs of your function match the results below:"
   ]
  },
  {
   "cell_type": "code",
   "execution_count": null,
   "metadata": {
    "deletable": false,
    "editable": false,
    "nbgrader": {
     "grade": true,
     "grade_id": "cell-7fb94c0cc204ea9b",
     "locked": true,
     "points": 3,
     "schema_version": 3,
     "solution": false
    }
   },
   "outputs": [],
   "source": [
    "r2 = r_squared(y_diabetes, y_hat_diabetes)\n",
    "print('R² Diabetes dataset: {}'.format(r2))\n",
    "np.testing.assert_almost_equal(r2, 0.5177, 3)\n"
   ]
  },
  {
   "cell_type": "markdown",
   "metadata": {
    "deletable": false,
    "editable": false,
    "nbgrader": {
     "grade": false,
     "grade_id": "cell-e5687e52ae19a518",
     "locked": true,
     "schema_version": 3,
     "solution": false
    }
   },
   "source": [
    "### 1.5 Adjusted R² score\n",
    "\n",
    "Then implement the adjusted $R^2$ score in the function below:"
   ]
  },
  {
   "cell_type": "code",
   "execution_count": null,
   "metadata": {
    "deletable": false,
    "nbgrader": {
     "grade": false,
     "grade_id": "cell-b35baba302fa675b",
     "locked": false,
     "schema_version": 3,
     "solution": true
    }
   },
   "outputs": [],
   "source": [
    "def adjusted_r_squared(y, y_pred, K):\n",
    "    \"\"\"\n",
    "    Args: \n",
    "        y : numpy.array with shape (num_samples,) - labels \n",
    "        y_pred : numpy.array with shape (num_samples,) - predictions\n",
    "        K : integer - Number of features used in the model that computed y_hat.\n",
    "\n",
    "    Returns: \n",
    "        r2_adj : float with adjusted R squared value\n",
    "    \"\"\"\n",
    "    \n",
    "    # 1) Compute R².\n",
    "    # r2 = ...\n",
    "    # YOUR CODE HERE\n",
    "    raise NotImplementedError()\n",
    "    \n",
    "    # 2) Get number of samples \n",
    "    # N = ...\n",
    "    # YOUR CODE HERE\n",
    "    raise NotImplementedError()\n",
    "\n",
    "    # 3) Adjust R²\n",
    "    # r2_adj = ...\n",
    "    # YOUR CODE HERE\n",
    "    raise NotImplementedError()\n",
    "    \n",
    "    return r2_adj"
   ]
  },
  {
   "cell_type": "markdown",
   "metadata": {
    "deletable": false,
    "editable": false,
    "nbgrader": {
     "grade": false,
     "grade_id": "cell-32b7193c2bd18cd3",
     "locked": true,
     "schema_version": 3,
     "solution": false
    }
   },
   "source": [
    "Check the outputs of your function match the results below:"
   ]
  },
  {
   "cell_type": "code",
   "execution_count": null,
   "metadata": {
    "deletable": false,
    "editable": false,
    "nbgrader": {
     "grade": true,
     "grade_id": "cell-2f310b9310e8fc38",
     "locked": true,
     "points": 3,
     "schema_version": 3,
     "solution": false
    }
   },
   "outputs": [],
   "source": [
    "r2 = adjusted_r_squared(y_diabetes, y_hat_diabetes, x_diabetes.shape[1])\n",
    "print('Adjusted R² Diabetes dataset: {}'.format(r2))\n",
    "np.testing.assert_almost_equal(r2, 0.5065, 3)\n"
   ]
  },
  {
   "cell_type": "markdown",
   "metadata": {
    "deletable": false,
    "editable": false,
    "nbgrader": {
     "grade": false,
     "grade_id": "cell-56bdb7b77c9bc15b",
     "locked": true,
     "schema_version": 3,
     "solution": false
    }
   },
   "source": [
    "## 2 Scikit-Learn metrics\n",
    "\n",
    "As you know, scikitlearn also already provides you with implementations of these metrics: \n",
    "\n",
    "- `sklearn.metrics.mean_absolute_error`\n",
    "- `sklearn.metrics.mean_squared_error`\n",
    "- `sklearn.metrics.r2_score`\n",
    "- `sklearn.linear_model.LinearRegression.score` "
   ]
  },
  {
   "cell_type": "code",
   "execution_count": null,
   "metadata": {
    "deletable": false,
    "editable": false,
    "nbgrader": {
     "grade": false,
     "grade_id": "cell-4f974da1ba19fbc4",
     "locked": true,
     "schema_version": 3,
     "solution": false
    }
   },
   "outputs": [],
   "source": [
    "# Import sklearn metrics\n",
    "from sklearn import metrics as sklearn_metrics"
   ]
  },
  {
   "cell_type": "markdown",
   "metadata": {
    "deletable": false,
    "editable": false,
    "nbgrader": {
     "grade": false,
     "grade_id": "cell-c80d8cb59ab1e49e",
     "locked": true,
     "schema_version": 3,
     "solution": false
    }
   },
   "source": [
    "#### 2.1 Root Mean Squared Error\n",
    "\n",
    "Implement the root mean squared error functions below with scikitlearn:"
   ]
  },
  {
   "cell_type": "code",
   "execution_count": null,
   "metadata": {
    "deletable": false,
    "nbgrader": {
     "grade": false,
     "grade_id": "cell-91685e84daf075d0",
     "locked": false,
     "schema_version": 3,
     "solution": true
    }
   },
   "outputs": [],
   "source": [
    "def sklearn_root_mean_squared_error(y, y_pred): \n",
    "    \"\"\"\n",
    "    Args: \n",
    "        y_pred : numpy.array with shape (num_samples,) - predictions\n",
    "        y : numpy.array with shape (num_samples,) - labels \n",
    "        \n",
    "    Returns: \n",
    "        rmse : float with Root Mean Squared Error\n",
    "    \"\"\"\n",
    "    # YOUR CODE HERE\n",
    "    raise NotImplementedError()"
   ]
  },
  {
   "cell_type": "markdown",
   "metadata": {
    "deletable": false,
    "editable": false,
    "nbgrader": {
     "grade": false,
     "grade_id": "cell-44bf1a140786fac4",
     "locked": true,
     "schema_version": 3,
     "solution": false
    }
   },
   "source": [
    "Make sure your function passes the tests below:"
   ]
  },
  {
   "cell_type": "code",
   "execution_count": null,
   "metadata": {
    "deletable": false,
    "editable": false,
    "nbgrader": {
     "grade": true,
     "grade_id": "cell-bb0647e6f49b6b36",
     "locked": true,
     "points": 2,
     "schema_version": 3,
     "solution": false
    }
   },
   "outputs": [],
   "source": [
    "rmse = sklearn_root_mean_squared_error(y_diabetes, y_hat_diabetes)\n",
    "print('Sklearn RMSE Diabetes dataset: {}'.format(rmse))\n",
    "np.testing.assert_almost_equal(rmse, 53.4760, 3)\n"
   ]
  },
  {
   "cell_type": "markdown",
   "metadata": {
    "deletable": false,
    "editable": false,
    "nbgrader": {
     "grade": false,
     "grade_id": "cell-483ede84836e8211",
     "locked": true,
     "schema_version": 3,
     "solution": false
    }
   },
   "source": [
    "#### 2.2  Adjusted R² score\n",
    "\n",
    "Implement the adjusted R² score below using scikitlearn:"
   ]
  },
  {
   "cell_type": "code",
   "execution_count": null,
   "metadata": {
    "deletable": false,
    "nbgrader": {
     "grade": false,
     "grade_id": "cell-bc8ebf5c8c8c6e23",
     "locked": false,
     "schema_version": 3,
     "solution": true
    }
   },
   "outputs": [],
   "source": [
    "def sklearn_adjusted_r_squared(y, y_pred, K): \n",
    "    \"\"\"\n",
    "    Args: \n",
    "        y_pred : numpy.array with shape (num_samples,) - predictions\n",
    "        y : numpy.array with shape (num_samples,) - labels \n",
    "        K : integer - Number of features used in the model that computed y_hat.\n",
    "\n",
    "    Returns: \n",
    "        r2_adj : float with adjusted R squared value\n",
    "    \"\"\"\n",
    "    # YOUR CODE HERE\n",
    "    raise NotImplementedError()"
   ]
  },
  {
   "cell_type": "markdown",
   "metadata": {
    "deletable": false,
    "editable": false,
    "nbgrader": {
     "grade": false,
     "grade_id": "cell-df5035b5103e0f49",
     "locked": true,
     "schema_version": 3,
     "solution": false
    }
   },
   "source": [
    "Make sure your function passes the tests below:"
   ]
  },
  {
   "cell_type": "code",
   "execution_count": null,
   "metadata": {
    "deletable": false,
    "editable": false,
    "nbgrader": {
     "grade": true,
     "grade_id": "cell-f53ac73f1b9e0e25",
     "locked": true,
     "points": 3,
     "schema_version": 3,
     "solution": false
    }
   },
   "outputs": [],
   "source": [
    "r2 = sklearn_adjusted_r_squared(y_diabetes, y_hat_diabetes, x_diabetes.shape[1])\n",
    "print('Sklearn Adjusted R² Diabetes dataset: {}'.format(r2))\n",
    "np.testing.assert_almost_equal(r2, 0.5065, 3)\n"
   ]
  },
  {
   "cell_type": "markdown",
   "metadata": {
    "deletable": false,
    "editable": false,
    "nbgrader": {
     "grade": false,
     "grade_id": "cell-1d4eac2c0c131600",
     "locked": true,
     "schema_version": 3,
     "solution": false
    }
   },
   "source": [
    "Finally, compare the sklearn-based metrics with your own for the diabetes dataset:"
   ]
  },
  {
   "cell_type": "code",
   "execution_count": null,
   "metadata": {
    "deletable": false,
    "editable": false,
    "nbgrader": {
     "grade": false,
     "grade_id": "cell-a640ee4b962fead1",
     "locked": true,
     "schema_version": 3,
     "solution": false
    }
   },
   "outputs": [],
   "source": [
    "MAE = mean_absolute_error(y_diabetes, y_hat_diabetes)\n",
    "MSE = mean_squared_error(y_diabetes, y_hat_diabetes)\n",
    "RMSE = root_mean_squared_error(y_diabetes, y_hat_diabetes)\n",
    "R2 = r_squared(y_diabetes, y_hat_diabetes)\n",
    "R2_adj = adjusted_r_squared(y_diabetes, y_hat_diabetes, x_diabetes.shape[1])\n",
    "\n",
    "print('Metric for diabetes dataset with base implementation:')\n",
    "print('Mean Absolute Error diabetes dataset: {}'.format(MAE))\n",
    "print('Mean Squared Error diabetes dataset: {}'.format(MSE))\n",
    "print('Root Mean Squared Error diabetes dataset: {}'.format(RMSE))\n",
    "print('R² diabetes dataset: {}'.format(R2))\n",
    "print('Adjusted R² diabetes dataset: {}'.format(R2_adj))\n",
    "print('\\n')\n",
    "\n",
    "SK_MAE = sklearn_metrics.mean_absolute_error(y_diabetes, y_hat_diabetes)\n",
    "SK_MSE = sklearn_metrics.mean_squared_error(y_diabetes, y_hat_diabetes)\n",
    "SK_RMSE = sklearn_root_mean_squared_error(y_diabetes, y_hat_diabetes)\n",
    "SK_R2 = sklearn_metrics.r2_score(y_diabetes, y_hat_diabetes)\n",
    "SK_R2_adj = sklearn_adjusted_r_squared(y_diabetes, y_hat_diabetes, x_diabetes.shape[1])\n",
    "\n",
    "print('Metric for diabetes dataset with scikitlearn:')\n",
    "print('Mean Absolute Error diabetes dataset: {}'.format(SK_MAE))\n",
    "print('Mean Squared Error diabetes dataset: {}'.format(SK_MSE))\n",
    "print('Root Mean Squared Error diabetes dataset: {}'.format(SK_RMSE))\n",
    "print('R² diabetes dataset: {}'.format(SK_R2))\n",
    "print('Adjusted R² diabetes dataset: {}'.format(SK_R2_adj))\n"
   ]
  },
  {
   "cell_type": "markdown",
   "metadata": {
    "deletable": false,
    "editable": false,
    "nbgrader": {
     "grade": false,
     "grade_id": "cell-4db11cce9296226a",
     "locked": true,
     "schema_version": 3,
     "solution": false
    }
   },
   "source": [
    "## 3 Using the Metrics\n",
    "\n",
    "Now you'll use the metrics to fit and check performance of your LinearRegression and SGDRegressor, using the hold-out method, just as you learnt in the Learning notebook. Your function should be able to calculate any of the 3 sklearn defined metrics presented previously in this notebook, depending on your *scoring* parameter.\n",
    "\n",
    "Implement the missing steps below:\n"
   ]
  },
  {
   "cell_type": "code",
   "execution_count": null,
   "metadata": {
    "deletable": false,
    "nbgrader": {
     "grade": false,
     "grade_id": "cell-3897cdeea2d9f3c1",
     "locked": false,
     "schema_version": 3,
     "solution": true
    }
   },
   "outputs": [],
   "source": [
    "from sklearn.model_selection import train_test_split\n",
    "from sklearn import metrics\n",
    "from sklearn import linear_model\n",
    "\n",
    "def estimate_metrics_holdout(X, y, clf_choice='linear', scoring='mean_absolute_error'):\n",
    "    \"\"\"\n",
    "    Args: \n",
    "        X : numpy.array with shape (num_samples, num_features) - sample data\n",
    "        y : numpy.array with shape (num_samples,) - sample labels \n",
    "        clf_choice: choice of estimator \n",
    "        scoring : scoring function as per sklearn notation\n",
    "\n",
    "    Returns: \n",
    "        clf: estimator trained with full data\n",
    "        scores : scores for each fold\n",
    "    \"\"\"\n",
    "    \n",
    "    np.random.seed(42)\n",
    "    \n",
    "    if clf_choice == 'linear':\n",
    "        clf = linear_model.LinearRegression()\n",
    "    elif clf_choice == 'sgd':\n",
    "        clf = linear_model.SGDRegressor(max_iter=10000, random_state=42)\n",
    "    else:\n",
    "        print('Invalid estimator')\n",
    "        return None\n",
    "    \n",
    "    # Split your data into train and test (use a test size of 0.4 and a random_state = 42)\n",
    "    # YOUR CODE HERE\n",
    "    raise NotImplementedError()\n",
    "    \n",
    "    # Train your model using your train data\n",
    "    # YOUR CODE HERE\n",
    "    raise NotImplementedError()\n",
    "    \n",
    "    # Use your model to create predictions on your test dataset (y_hat = ...)\n",
    "    # YOUR CODE HERE\n",
    "    raise NotImplementedError()\n",
    "    \n",
    "    # Calculate scores depending on the scoring function\n",
    "    # YOUR CODE HERE\n",
    "    raise NotImplementedError()\n",
    "    \n",
    "    return clf, scores\n"
   ]
  },
  {
   "cell_type": "markdown",
   "metadata": {
    "deletable": false,
    "editable": false,
    "nbgrader": {
     "grade": false,
     "grade_id": "cell-0b40e60f00f4f1fa",
     "locked": true,
     "schema_version": 3,
     "solution": false
    }
   },
   "source": [
    "Let's calculate our metrics for the several cases and get the average error:"
   ]
  },
  {
   "cell_type": "code",
   "execution_count": null,
   "metadata": {
    "deletable": false,
    "editable": false,
    "nbgrader": {
     "grade": true,
     "grade_id": "cell-5565c9de30569d21",
     "locked": true,
     "points": 3,
     "schema_version": 3,
     "solution": false
    }
   },
   "outputs": [],
   "source": [
    "clf_lr, mae_lr = estimate_metrics_holdout(x_diabetes, y_diabetes, clf_choice='linear', scoring='mean_absolute_error')\n",
    "np.testing.assert_almost_equal(mae_lr.mean(), 42.4965, 2)\n",
    "\n",
    "clf_sgd, mae_sgd = estimate_metrics_holdout(x_diabetes, y_diabetes, clf_choice='sgd', scoring='mean_absolute_error')\n",
    "np.testing.assert_almost_equal(mae_sgd.mean(), 42.9081, 2)\n",
    "\n",
    "clf_lr, mse_lr = estimate_metrics_holdout(x_diabetes, y_diabetes, clf_choice='linear', scoring='mean_squared_error')\n",
    "np.testing.assert_almost_equal(mse_lr.mean(), 2832.9913, 2)\n",
    "\n",
    "clf_sgd, mse_sgd = estimate_metrics_holdout(x_diabetes, y_diabetes, clf_choice='sgd', scoring='mean_squared_error')\n",
    "np.testing.assert_almost_equal(mse_sgd.mean(), 2871.8621, 2)\n",
    "\n",
    "clf_lr, r2_lr = estimate_metrics_holdout(x_diabetes, y_diabetes, clf_choice='linear', scoring='r2_score')\n",
    "np.testing.assert_almost_equal(r2_lr.mean(), 0.5157, 2)\n",
    "\n",
    "clf_sgd, r2_sgd = estimate_metrics_holdout(x_diabetes, y_diabetes, clf_choice='sgd', scoring='r2_score')\n",
    "np.testing.assert_almost_equal(r2_sgd.mean(), 0.5091, 2)\n"
   ]
  },
  {
   "cell_type": "code",
   "execution_count": null,
   "metadata": {
    "deletable": false,
    "editable": false,
    "nbgrader": {
     "grade": false,
     "grade_id": "cell-ab0dd49b541e6962",
     "locked": true,
     "schema_version": 3,
     "solution": false,
     "task": false
    }
   },
   "outputs": [],
   "source": [
    "print('Hold-out method evaluation for Diabetes dataset:')\n",
    "\n",
    "print('MAE with Linear Regression: {}'.format(mae_lr.mean()))\n",
    "print('MAE with SGD: {}'.format(mae_sgd.mean()))\n",
    "print('MSE with Linear Regression: {}'.format(mse_lr.mean()))\n",
    "print('MSE with SGD: {}'.format(mse_sgd.mean()))\n",
    "print('R² Score with Linear Regression: {}'.format(r2_lr.mean()))\n",
    "print('R² Score with SGD: {}'.format(r2_sgd.mean()))"
   ]
  },
  {
   "cell_type": "markdown",
   "metadata": {
    "deletable": false,
    "editable": false,
    "nbgrader": {
     "grade": false,
     "grade_id": "cell-43b6b9c2168188fc",
     "locked": true,
     "schema_version": 3,
     "solution": false,
     "task": false
    }
   },
   "source": [
    "For this particular case it seems that the linear regression generalises better than the SGD regressor. It's important to remember that the SGD regressor is at a slight disadvantage, because we didn't check the data distribution to understand if it has appropriate scaling. Remember that SGD will be sensitive to this, while linear regression won't. Feel free to replicate these exercises but applying min-max scaling beforehand and check the new results!"
   ]
  },
  {
   "cell_type": "code",
   "execution_count": null,
   "metadata": {},
   "outputs": [],
   "source": []
  }
 ],
 "metadata": {
  "kernelspec": {
   "display_name": "Python 3 (ipykernel)",
   "language": "python",
   "name": "python3"
  },
  "language_info": {
   "codemirror_mode": {
    "name": "ipython",
    "version": 3
   },
   "file_extension": ".py",
   "mimetype": "text/x-python",
   "name": "python",
   "nbconvert_exporter": "python",
   "pygments_lexer": "ipython3",
   "version": "3.8.12"
  }
 },
 "nbformat": 4,
 "nbformat_minor": 2
}
