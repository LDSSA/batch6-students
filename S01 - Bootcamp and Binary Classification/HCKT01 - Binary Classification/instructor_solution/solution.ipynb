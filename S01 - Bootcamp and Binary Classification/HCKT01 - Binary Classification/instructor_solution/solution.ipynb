{
 "cells": [
  {
   "cell_type": "markdown",
   "metadata": {},
   "source": [
    "\n",
    "# Hackathon - Binary Classification - Solutions"
   ]
  },
  {
   "cell_type": "markdown",
   "metadata": {},
   "source": [
    "In this notebook you will find the instructor's solution to the hackathon. This is one approach of many possible.\n",
    "The main goal is to provide you a baseline that you can modify/expand upon and show you how to take advantage of sklearn's pipeline to simplify your workflow."
   ]
  },
  {
   "cell_type": "markdown",
   "metadata": {},
   "source": [
    "### Import the necessary libraries"
   ]
  },
  {
   "cell_type": "code",
   "execution_count": 2,
   "metadata": {},
   "outputs": [],
   "source": [
    "# Import basic libraries\n",
    "import pandas as pd\n",
    "import numpy as np\n",
    "import matplotlib.pyplot as plt \n",
    "\n",
    "# Sklearn libraries\n",
    "from sklearn.pipeline import Pipeline\n",
    "from sklearn.model_selection import train_test_split\n",
    "from sklearn.impute import SimpleImputer\n",
    "from sklearn.ensemble import RandomForestClassifier\n",
    "from sklearn.svm import SVC\n",
    "from sklearn.metrics import confusion_matrix,roc_auc_score,roc_curve,classification_report,auc\n",
    "from sklearn.base import BaseEstimator, TransformerMixin # to create classes\n",
    "from sklearn.preprocessing import RobustScaler\n",
    "from sklearn.linear_model import LogisticRegression\n",
    "from sklearn.compose import ColumnTransformer\n",
    "\n",
    "# Category encoders\n",
    "from category_encoders import OneHotEncoder, TargetEncoder"
   ]
  },
  {
   "cell_type": "markdown",
   "metadata": {},
   "source": [
    "#### Import the dataset"
   ]
  },
  {
   "cell_type": "code",
   "execution_count": 3,
   "metadata": {},
   "outputs": [],
   "source": [
    "# You might have to change this path or the location of this file\n",
    "data = pd.read_csv('data/train.csv').set_index(\"id\")"
   ]
  },
  {
   "cell_type": "code",
   "execution_count": 4,
   "metadata": {
    "scrolled": true
   },
   "outputs": [
    {
     "data": {
      "text/html": [
       "<div>\n",
       "<style scoped>\n",
       "    .dataframe tbody tr th:only-of-type {\n",
       "        vertical-align: middle;\n",
       "    }\n",
       "\n",
       "    .dataframe tbody tr th {\n",
       "        vertical-align: top;\n",
       "    }\n",
       "\n",
       "    .dataframe thead th {\n",
       "        text-align: right;\n",
       "    }\n",
       "</style>\n",
       "<table border=\"1\" class=\"dataframe\">\n",
       "  <thead>\n",
       "    <tr style=\"text-align: right;\">\n",
       "      <th></th>\n",
       "      <th>user_address</th>\n",
       "      <th>user_balance_usd</th>\n",
       "      <th>user_balance_coin_a</th>\n",
       "      <th>user_historical_transactions_10s</th>\n",
       "      <th>user_historical_transactions_30s</th>\n",
       "      <th>exchange_a_price</th>\n",
       "      <th>exchange_b_price</th>\n",
       "      <th>exchange_a_volatility</th>\n",
       "      <th>exchange_b_volatility</th>\n",
       "      <th>anonymous</th>\n",
       "      <th>result</th>\n",
       "    </tr>\n",
       "    <tr>\n",
       "      <th>id</th>\n",
       "      <th></th>\n",
       "      <th></th>\n",
       "      <th></th>\n",
       "      <th></th>\n",
       "      <th></th>\n",
       "      <th></th>\n",
       "      <th></th>\n",
       "      <th></th>\n",
       "      <th></th>\n",
       "      <th></th>\n",
       "      <th></th>\n",
       "    </tr>\n",
       "  </thead>\n",
       "  <tbody>\n",
       "    <tr>\n",
       "      <th>8</th>\n",
       "      <td>0x930B</td>\n",
       "      <td>84139.092267</td>\n",
       "      <td>44.193560</td>\n",
       "      <td>0</td>\n",
       "      <td>0</td>\n",
       "      <td>66.742521</td>\n",
       "      <td>66.8325</td>\n",
       "      <td>very high</td>\n",
       "      <td>0.000367</td>\n",
       "      <td>A113</td>\n",
       "      <td>0</td>\n",
       "    </tr>\n",
       "    <tr>\n",
       "      <th>12</th>\n",
       "      <td>0x5779</td>\n",
       "      <td>34609.449276</td>\n",
       "      <td>331.501171</td>\n",
       "      <td>0</td>\n",
       "      <td>0</td>\n",
       "      <td>41.429574</td>\n",
       "      <td>41.5401</td>\n",
       "      <td>low</td>\n",
       "      <td>0.000695</td>\n",
       "      <td>M958</td>\n",
       "      <td>0</td>\n",
       "    </tr>\n",
       "    <tr>\n",
       "      <th>28</th>\n",
       "      <td>0x5779</td>\n",
       "      <td>30598.783296</td>\n",
       "      <td>1581.902691</td>\n",
       "      <td>0</td>\n",
       "      <td>0</td>\n",
       "      <td>35.817631</td>\n",
       "      <td>35.8701</td>\n",
       "      <td>very low</td>\n",
       "      <td>0.000431</td>\n",
       "      <td>F255</td>\n",
       "      <td>0</td>\n",
       "    </tr>\n",
       "    <tr>\n",
       "      <th>50</th>\n",
       "      <td>0x5779</td>\n",
       "      <td>20992.680359</td>\n",
       "      <td>1260.406181</td>\n",
       "      <td>0</td>\n",
       "      <td>0</td>\n",
       "      <td>47.711827</td>\n",
       "      <td>47.8233</td>\n",
       "      <td>low</td>\n",
       "      <td>0.000456</td>\n",
       "      <td>F2332</td>\n",
       "      <td>0</td>\n",
       "    </tr>\n",
       "    <tr>\n",
       "      <th>56</th>\n",
       "      <td>0xD47A</td>\n",
       "      <td>120838.946555</td>\n",
       "      <td>180.090128</td>\n",
       "      <td>0</td>\n",
       "      <td>0</td>\n",
       "      <td>52.812842</td>\n",
       "      <td>52.6869</td>\n",
       "      <td>low</td>\n",
       "      <td>NaN</td>\n",
       "      <td>A198</td>\n",
       "      <td>0</td>\n",
       "    </tr>\n",
       "  </tbody>\n",
       "</table>\n",
       "</div>"
      ],
      "text/plain": [
       "   user_address  user_balance_usd  user_balance_coin_a  \\\n",
       "id                                                       \n",
       "8        0x930B      84139.092267            44.193560   \n",
       "12       0x5779      34609.449276           331.501171   \n",
       "28       0x5779      30598.783296          1581.902691   \n",
       "50       0x5779      20992.680359          1260.406181   \n",
       "56       0xD47A     120838.946555           180.090128   \n",
       "\n",
       "    user_historical_transactions_10s  user_historical_transactions_30s  \\\n",
       "id                                                                       \n",
       "8                                  0                                 0   \n",
       "12                                 0                                 0   \n",
       "28                                 0                                 0   \n",
       "50                                 0                                 0   \n",
       "56                                 0                                 0   \n",
       "\n",
       "    exchange_a_price  exchange_b_price exchange_a_volatility  \\\n",
       "id                                                             \n",
       "8          66.742521           66.8325             very high   \n",
       "12         41.429574           41.5401                   low   \n",
       "28         35.817631           35.8701              very low   \n",
       "50         47.711827           47.8233                   low   \n",
       "56         52.812842           52.6869                   low   \n",
       "\n",
       "    exchange_b_volatility anonymous  result  \n",
       "id                                           \n",
       "8                0.000367      A113       0  \n",
       "12               0.000695      M958       0  \n",
       "28               0.000431      F255       0  \n",
       "50               0.000456     F2332       0  \n",
       "56                    NaN      A198       0  "
      ]
     },
     "execution_count": 4,
     "metadata": {},
     "output_type": "execute_result"
    }
   ],
   "source": [
    "data.head()"
   ]
  },
  {
   "cell_type": "markdown",
   "metadata": {},
   "source": [
    "### EDA (Exploratory Dataset Analysis)"
   ]
  },
  {
   "cell_type": "markdown",
   "metadata": {},
   "source": [
    "Let's start by checking the data types we are dealing with."
   ]
  },
  {
   "cell_type": "code",
   "execution_count": 5,
   "metadata": {},
   "outputs": [
    {
     "data": {
      "text/plain": [
       "user_address                         object\n",
       "user_balance_usd                    float64\n",
       "user_balance_coin_a                 float64\n",
       "user_historical_transactions_10s      int64\n",
       "user_historical_transactions_30s      int64\n",
       "exchange_a_price                    float64\n",
       "exchange_b_price                    float64\n",
       "exchange_a_volatility                object\n",
       "exchange_b_volatility               float64\n",
       "anonymous                            object\n",
       "result                                int64\n",
       "dtype: object"
      ]
     },
     "execution_count": 5,
     "metadata": {},
     "output_type": "execute_result"
    }
   ],
   "source": [
    "data.dtypes"
   ]
  },
  {
   "cell_type": "markdown",
   "metadata": {},
   "source": [
    "Let's check the number of unique values in our dataset."
   ]
  },
  {
   "cell_type": "code",
   "execution_count": 6,
   "metadata": {},
   "outputs": [
    {
     "data": {
      "text/plain": [
       "user_address                             8\n",
       "user_balance_usd                    338487\n",
       "user_balance_coin_a                 338487\n",
       "user_historical_transactions_10s         4\n",
       "user_historical_transactions_30s         7\n",
       "exchange_a_price                     55178\n",
       "exchange_b_price                     32414\n",
       "exchange_a_volatility                    5\n",
       "exchange_b_volatility               329314\n",
       "anonymous                             4080\n",
       "result                                   2\n",
       "dtype: int64"
      ]
     },
     "execution_count": 6,
     "metadata": {},
     "output_type": "execute_result"
    }
   ],
   "source": [
    "data.nunique()"
   ]
  },
  {
   "cell_type": "markdown",
   "metadata": {},
   "source": [
    "Let's check if we have any missing values to worry about."
   ]
  },
  {
   "cell_type": "code",
   "execution_count": 7,
   "metadata": {},
   "outputs": [
    {
     "data": {
      "text/plain": [
       "user_address                            0\n",
       "user_balance_usd                        0\n",
       "user_balance_coin_a                     0\n",
       "user_historical_transactions_10s        0\n",
       "user_historical_transactions_30s        0\n",
       "exchange_a_price                    28642\n",
       "exchange_b_price                        0\n",
       "exchange_a_volatility               15210\n",
       "exchange_b_volatility                7922\n",
       "anonymous                               0\n",
       "result                                  0\n",
       "dtype: int64"
      ]
     },
     "execution_count": 7,
     "metadata": {},
     "output_type": "execute_result"
    }
   ],
   "source": [
    "data.isna().sum()"
   ]
  },
  {
   "cell_type": "markdown",
   "metadata": {},
   "source": [
    "There are a lot of missing values here. We will have to find a way to deal with them..."
   ]
  },
  {
   "cell_type": "markdown",
   "metadata": {},
   "source": [
    "What about correlation?"
   ]
  },
  {
   "cell_type": "code",
   "execution_count": 8,
   "metadata": {},
   "outputs": [
    {
     "data": {
      "text/html": [
       "<div>\n",
       "<style scoped>\n",
       "    .dataframe tbody tr th:only-of-type {\n",
       "        vertical-align: middle;\n",
       "    }\n",
       "\n",
       "    .dataframe tbody tr th {\n",
       "        vertical-align: top;\n",
       "    }\n",
       "\n",
       "    .dataframe thead th {\n",
       "        text-align: right;\n",
       "    }\n",
       "</style>\n",
       "<table border=\"1\" class=\"dataframe\">\n",
       "  <thead>\n",
       "    <tr style=\"text-align: right;\">\n",
       "      <th></th>\n",
       "      <th>user_balance_usd</th>\n",
       "      <th>user_balance_coin_a</th>\n",
       "      <th>user_historical_transactions_10s</th>\n",
       "      <th>user_historical_transactions_30s</th>\n",
       "      <th>exchange_a_price</th>\n",
       "      <th>exchange_b_price</th>\n",
       "      <th>exchange_b_volatility</th>\n",
       "      <th>result</th>\n",
       "    </tr>\n",
       "  </thead>\n",
       "  <tbody>\n",
       "    <tr>\n",
       "      <th>user_balance_usd</th>\n",
       "      <td>1.000000</td>\n",
       "      <td>-0.587663</td>\n",
       "      <td>NaN</td>\n",
       "      <td>NaN</td>\n",
       "      <td>NaN</td>\n",
       "      <td>NaN</td>\n",
       "      <td>NaN</td>\n",
       "      <td>NaN</td>\n",
       "    </tr>\n",
       "    <tr>\n",
       "      <th>user_balance_coin_a</th>\n",
       "      <td>-0.587663</td>\n",
       "      <td>1.000000</td>\n",
       "      <td>NaN</td>\n",
       "      <td>NaN</td>\n",
       "      <td>-0.314347</td>\n",
       "      <td>NaN</td>\n",
       "      <td>NaN</td>\n",
       "      <td>NaN</td>\n",
       "    </tr>\n",
       "    <tr>\n",
       "      <th>user_historical_transactions_10s</th>\n",
       "      <td>NaN</td>\n",
       "      <td>NaN</td>\n",
       "      <td>1.000000</td>\n",
       "      <td>0.526806</td>\n",
       "      <td>NaN</td>\n",
       "      <td>NaN</td>\n",
       "      <td>NaN</td>\n",
       "      <td>0.354665</td>\n",
       "    </tr>\n",
       "    <tr>\n",
       "      <th>user_historical_transactions_30s</th>\n",
       "      <td>NaN</td>\n",
       "      <td>NaN</td>\n",
       "      <td>0.526806</td>\n",
       "      <td>1.000000</td>\n",
       "      <td>NaN</td>\n",
       "      <td>NaN</td>\n",
       "      <td>NaN</td>\n",
       "      <td>0.421841</td>\n",
       "    </tr>\n",
       "    <tr>\n",
       "      <th>exchange_a_price</th>\n",
       "      <td>NaN</td>\n",
       "      <td>-0.314347</td>\n",
       "      <td>NaN</td>\n",
       "      <td>NaN</td>\n",
       "      <td>1.000000</td>\n",
       "      <td>0.371172</td>\n",
       "      <td>NaN</td>\n",
       "      <td>NaN</td>\n",
       "    </tr>\n",
       "    <tr>\n",
       "      <th>exchange_b_price</th>\n",
       "      <td>NaN</td>\n",
       "      <td>NaN</td>\n",
       "      <td>NaN</td>\n",
       "      <td>NaN</td>\n",
       "      <td>0.371172</td>\n",
       "      <td>1.000000</td>\n",
       "      <td>NaN</td>\n",
       "      <td>NaN</td>\n",
       "    </tr>\n",
       "    <tr>\n",
       "      <th>exchange_b_volatility</th>\n",
       "      <td>NaN</td>\n",
       "      <td>NaN</td>\n",
       "      <td>NaN</td>\n",
       "      <td>NaN</td>\n",
       "      <td>NaN</td>\n",
       "      <td>NaN</td>\n",
       "      <td>1.0</td>\n",
       "      <td>NaN</td>\n",
       "    </tr>\n",
       "    <tr>\n",
       "      <th>result</th>\n",
       "      <td>NaN</td>\n",
       "      <td>NaN</td>\n",
       "      <td>0.354665</td>\n",
       "      <td>0.421841</td>\n",
       "      <td>NaN</td>\n",
       "      <td>NaN</td>\n",
       "      <td>NaN</td>\n",
       "      <td>1.000000</td>\n",
       "    </tr>\n",
       "  </tbody>\n",
       "</table>\n",
       "</div>"
      ],
      "text/plain": [
       "                                  user_balance_usd  user_balance_coin_a  \\\n",
       "user_balance_usd                          1.000000            -0.587663   \n",
       "user_balance_coin_a                      -0.587663             1.000000   \n",
       "user_historical_transactions_10s               NaN                  NaN   \n",
       "user_historical_transactions_30s               NaN                  NaN   \n",
       "exchange_a_price                               NaN            -0.314347   \n",
       "exchange_b_price                               NaN                  NaN   \n",
       "exchange_b_volatility                          NaN                  NaN   \n",
       "result                                         NaN                  NaN   \n",
       "\n",
       "                                  user_historical_transactions_10s  \\\n",
       "user_balance_usd                                               NaN   \n",
       "user_balance_coin_a                                            NaN   \n",
       "user_historical_transactions_10s                          1.000000   \n",
       "user_historical_transactions_30s                          0.526806   \n",
       "exchange_a_price                                               NaN   \n",
       "exchange_b_price                                               NaN   \n",
       "exchange_b_volatility                                          NaN   \n",
       "result                                                    0.354665   \n",
       "\n",
       "                                  user_historical_transactions_30s  \\\n",
       "user_balance_usd                                               NaN   \n",
       "user_balance_coin_a                                            NaN   \n",
       "user_historical_transactions_10s                          0.526806   \n",
       "user_historical_transactions_30s                          1.000000   \n",
       "exchange_a_price                                               NaN   \n",
       "exchange_b_price                                               NaN   \n",
       "exchange_b_volatility                                          NaN   \n",
       "result                                                    0.421841   \n",
       "\n",
       "                                  exchange_a_price  exchange_b_price  \\\n",
       "user_balance_usd                               NaN               NaN   \n",
       "user_balance_coin_a                      -0.314347               NaN   \n",
       "user_historical_transactions_10s               NaN               NaN   \n",
       "user_historical_transactions_30s               NaN               NaN   \n",
       "exchange_a_price                          1.000000          0.371172   \n",
       "exchange_b_price                          0.371172          1.000000   \n",
       "exchange_b_volatility                          NaN               NaN   \n",
       "result                                         NaN               NaN   \n",
       "\n",
       "                                  exchange_b_volatility    result  \n",
       "user_balance_usd                                    NaN       NaN  \n",
       "user_balance_coin_a                                 NaN       NaN  \n",
       "user_historical_transactions_10s                    NaN  0.354665  \n",
       "user_historical_transactions_30s                    NaN  0.421841  \n",
       "exchange_a_price                                    NaN       NaN  \n",
       "exchange_b_price                                    NaN       NaN  \n",
       "exchange_b_volatility                               1.0       NaN  \n",
       "result                                              NaN  1.000000  "
      ]
     },
     "execution_count": 8,
     "metadata": {},
     "output_type": "execute_result"
    }
   ],
   "source": [
    "data.corr()[data.corr().abs() > 0.3]"
   ]
  },
  {
   "cell_type": "markdown",
   "metadata": {},
   "source": [
    "Let's also check if are dealing with an imbalanced dataset."
   ]
  },
  {
   "cell_type": "code",
   "execution_count": 9,
   "metadata": {},
   "outputs": [
    {
     "data": {
      "image/png": "[encoded data removed]",
      "text/plain": [
       "<Figure size 640x480 with 1 Axes>"
      ]
     },
     "metadata": {},
     "output_type": "display_data"
    }
   ],
   "source": [
    "# Checking if the dataset is imbalanced \n",
    "data[\"result\"].value_counts(normalize=True).plot(kind=\"bar\")\n",
    "plt.title('Target Distribution')\n",
    "plt.xlabel(\"Transaction occurred (No=0, Yes=1)\")\n",
    "plt.ylabel(\"Perc. of events\");"
   ]
  },
  {
   "cell_type": "markdown",
   "metadata": {},
   "source": [
    "### Fix Dataset Issues"
   ]
  },
  {
   "cell_type": "code",
   "execution_count": 12,
   "metadata": {},
   "outputs": [],
   "source": [
    "OUTLIER_PRICES_THRESH = 0.25\n",
    "\n",
    "class PriceColsFix(BaseEstimator, TransformerMixin):\n",
    "    def __init__(self):\n",
    "        pass\n",
    "    def fit(self, X=None, y=None, **fit_params):\n",
    "        self.exchange_b_price_median = X['exchange_b_price'].median()\n",
    "        return self\n",
    "    \n",
    "    def transform(self, data):\n",
    "        X = data.copy()\n",
    "        # handle missing values\n",
    "        X['exchange_a_price'].fillna(X['exchange_b_price'], inplace=True)\n",
    "        X['exchange_b_price'].fillna(X['exchange_a_price'], inplace=True)\n",
    "        \n",
    "        # handle outliers\n",
    "        mask = (X['exchange_a_price'] / X['exchange_b_price'] -1).abs() > OUTLIER_PRICES_THRESH\n",
    "        X['exchange_a_price'] = np.where(mask, np.nan, X['exchange_a_price'])\n",
    "        X['exchange_b_price'] = np.where(mask, np.nan, X['exchange_b_price'])\n",
    "        \n",
    "        # replace all remaining missing value with the median\n",
    "        X['exchange_a_price'].fillna(self.exchange_b_price_median, inplace=True)\n",
    "        X['exchange_b_price'].fillna(self.exchange_b_price_median, inplace=True)\n",
    "        return X "
   ]
  },
  {
   "cell_type": "code",
   "execution_count": 13,
   "metadata": {},
   "outputs": [],
   "source": [
    "class UserAddressColFix(BaseEstimator, TransformerMixin):\n",
    "    def __init__(self):\n",
    "        pass\n",
    "    def fit(self, X=None, y=None, **fit_params):\n",
    "        return self\n",
    "    \n",
    "    def transform(self, data):\n",
    "        X = data.copy()\n",
    "        # remove capitalization\n",
    "        X[\"user_address\"] = X[\"user_address\"].str.lower()\n",
    "        return X "
   ]
  },
  {
   "cell_type": "markdown",
   "metadata": {},
   "source": [
    "### Feature Engineering"
   ]
  },
  {
   "cell_type": "code",
   "execution_count": 14,
   "metadata": {},
   "outputs": [],
   "source": [
    "class Profit(BaseEstimator, TransformerMixin):\n",
    "    def __init__(self):\n",
    "        pass\n",
    "    def fit(self, X=None, y=None, **fit_params):\n",
    "        return self\n",
    "    def transform(self, data):\n",
    "        X = data.copy()\n",
    "        X[\"profit\"] = (X['exchange_a_price'] / X['exchange_b_price'] -1).abs()\n",
    "        return X "
   ]
  },
  {
   "cell_type": "code",
   "execution_count": 15,
   "metadata": {},
   "outputs": [],
   "source": [
    "class BalanceUSDPerc(BaseEstimator, TransformerMixin):\n",
    "    def __init__(self):\n",
    "        pass\n",
    "    def fit(self, X=None, y=None, **fit_params):\n",
    "        return self\n",
    "    def transform(self, data):\n",
    "        X = data.copy()\n",
    "        balance_coin_usd = X[\"user_balance_coin_a\"] * X['exchange_b_price']\n",
    "        X[\"balance_usd_perc\"] = (X['user_balance_usd']) / (X['user_balance_usd'] + balance_coin_usd)\n",
    "        return X "
   ]
  },
  {
   "cell_type": "code",
   "execution_count": 16,
   "metadata": {},
   "outputs": [],
   "source": [
    "class ExchangeHighestPrice(BaseEstimator, TransformerMixin):\n",
    "    def __init__(self):\n",
    "        pass\n",
    "    def fit(self, X=None, y=None, **fit_params):\n",
    "        return self\n",
    "    def transform(self, data):\n",
    "        X = data.copy()\n",
    "        X[\"exchange_highest_price\"] = (data[\"exchange_a_price\"] > data[\"exchange_b_price\"]).map({True:1, False:0})\n",
    "        return X "
   ]
  },
  {
   "cell_type": "markdown",
   "metadata": {},
   "source": [
    "### Creating the Model "
   ]
  },
  {
   "cell_type": "markdown",
   "metadata": {},
   "source": [
    "Preparing the dataset for the split"
   ]
  },
  {
   "cell_type": "code",
   "execution_count": 17,
   "metadata": {},
   "outputs": [],
   "source": [
    "X = data.drop(columns=['result'])\n",
    "y = data['result']"
   ]
  },
  {
   "cell_type": "markdown",
   "metadata": {},
   "source": [
    "Splitting the dataset between test and train"
   ]
  },
  {
   "cell_type": "code",
   "execution_count": 18,
   "metadata": {},
   "outputs": [],
   "source": [
    "X_train, X_test, y_train, y_test = train_test_split(X,\n",
    "                                                    y,\n",
    "                                                    test_size=0.25)"
   ]
  },
  {
   "cell_type": "markdown",
   "metadata": {},
   "source": [
    "Creating the pipeline"
   ]
  },
  {
   "cell_type": "code",
   "execution_count": 19,
   "metadata": {},
   "outputs": [],
   "source": [
    "num_cols = [\n",
    "    'profit', # new column\n",
    "    'balance_usd_perc', # new column\n",
    "    'exchange_highest_price', # new column\n",
    "    'exchange_a_price',\n",
    "    'exchange_b_price',\n",
    "    'exchange_b_volatility',\n",
    "    'user_balance_usd',\n",
    "    'user_balance_coin_a',\n",
    "    'user_historical_transactions_10s',\n",
    "    'user_historical_transactions_30s',\n",
    "]\n",
    "cat_onehot_cols = [\n",
    "    \"exchange_a_volatility\",\n",
    "    \"user_address\"\n",
    "]\n",
    "cat_target_cols = [\n",
    "    \"anonymous\"\n",
    "]\n",
    "\n",
    "num_transformer = Pipeline(steps=[\n",
    "    ('fillna', SimpleImputer(strategy='median')),\n",
    "    ('scaler', RobustScaler())\n",
    "])\n",
    "cat_onehot_transformer = Pipeline(steps=[\n",
    "    (\"cat_encoder1\", OneHotEncoder())\n",
    "])\n",
    "\n",
    "cat_target_transformer = Pipeline(steps=[\n",
    "    (\"cat_encoder2\", TargetEncoder())\n",
    "])\n",
    "\n",
    "preprocessor = ColumnTransformer(\n",
    "    transformers=[\n",
    "    ('num', num_transformer, num_cols),\n",
    "    ('cat1', cat_onehot_transformer, cat_onehot_cols),\n",
    "    ('cat2', cat_target_transformer, cat_target_cols),\n",
    "])"
   ]
  },
  {
   "cell_type": "code",
   "execution_count": 21,
   "metadata": {},
   "outputs": [],
   "source": [
    "pipeline = Pipeline([\n",
    "    (\"fix_price_columns\", PriceColsFix()),\n",
    "    (\"fix_address_column\", UserAddressColFix()),\n",
    "    (\"feat_engineering_1\", Profit()),\n",
    "    (\"feat_engineering_2\", BalanceUSDPerc()),\n",
    "    (\"feat_engineering_3\", ExchangeHighestPrice()),\n",
    "    (\"preprocessor\", preprocessor),\n",
    "    ('model', RandomForestClassifier(random_state=42))\n",
    "])"
   ]
  },
  {
   "cell_type": "markdown",
   "metadata": {},
   "source": [
    "Train the model and generate the predictions"
   ]
  },
  {
   "cell_type": "code",
   "execution_count": 22,
   "metadata": {},
   "outputs": [
    {
     "name": "stderr",
     "output_type": "stream",
     "text": [
      "/home/wramos/Desktop/2022_hack1/env2/lib/python3.8/site-packages/category_encoders/utils.py:21: FutureWarning: is_categorical is deprecated and will be removed in a future version.  Use is_categorical_dtype instead\n",
      "  elif pd.api.types.is_categorical(cols):\n",
      "/home/wramos/Desktop/2022_hack1/env2/lib/python3.8/site-packages/category_encoders/utils.py:21: FutureWarning: is_categorical is deprecated and will be removed in a future version.  Use is_categorical_dtype instead\n",
      "  elif pd.api.types.is_categorical(cols):\n"
     ]
    },
    {
     "data": {
      "text/plain": [
       "Pipeline(steps=[('fix_price_columns', PriceColsFix()),\n",
       "                ('fix_address_column', UserAddressColFix()),\n",
       "                ('feat_engineering_1', Profit()),\n",
       "                ('feat_engineering_2', BalanceUSDPerc()),\n",
       "                ('feat_engineering_3', ExchangeHighestPrice()),\n",
       "                ('preprocessor',\n",
       "                 ColumnTransformer(transformers=[('num',\n",
       "                                                  Pipeline(steps=[('fillna',\n",
       "                                                                   SimpleImputer(strategy='median')),\n",
       "                                                                  ('scaler',\n",
       "                                                                   RobustScale...\n",
       "                                                   'exchange_b_volatility',\n",
       "                                                   'user_balance_usd',\n",
       "                                                   'user_balance_coin_a',\n",
       "                                                   'user_historical_transactions_10s',\n",
       "                                                   'user_historical_transactions_30s']),\n",
       "                                                 ('cat1',\n",
       "                                                  Pipeline(steps=[('cat_encoder1',\n",
       "                                                                   OneHotEncoder())]),\n",
       "                                                  ['exchange_a_volatility',\n",
       "                                                   'user_address']),\n",
       "                                                 ('cat2',\n",
       "                                                  Pipeline(steps=[('cat_encoder2',\n",
       "                                                                   TargetEncoder())]),\n",
       "                                                  ['anonymous'])])),\n",
       "                ('model', RandomForestClassifier(random_state=42))])"
      ]
     },
     "execution_count": 22,
     "metadata": {},
     "output_type": "execute_result"
    }
   ],
   "source": [
    "pipeline.fit(X_train, y_train)"
   ]
  },
  {
   "cell_type": "code",
   "execution_count": 23,
   "metadata": {},
   "outputs": [],
   "source": [
    "y_scores = pipeline.predict_proba(X_test)[:,1]"
   ]
  },
  {
   "cell_type": "code",
   "execution_count": 24,
   "metadata": {
    "scrolled": true
   },
   "outputs": [
    {
     "name": "stdout",
     "output_type": "stream",
     "text": [
      "Score: 0.873\n"
     ]
    },
    {
     "data": {
      "image/png": "[encoded data removed]",
      "text/plain": [
       "<Figure size 640x480 with 1 Axes>"
      ]
     },
     "metadata": {},
     "output_type": "display_data"
    }
   ],
   "source": [
    "fpr, tpr, threshold = roc_curve(y_test, y_scores)\n",
    "roc_auc = auc(fpr, tpr)\n",
    "\n",
    "plt.title('Receiver Operating Characteristic')\n",
    "plt.plot(fpr, tpr, 'b', label = 'AUC = %0.2f' % roc_auc)\n",
    "plt.legend(loc = 'lower right')\n",
    "plt.plot([0, 1], [0, 1],'r--')\n",
    "plt.xlim([0, 1])\n",
    "plt.ylim([0, 1])\n",
    "plt.ylabel('True Positive Rate')\n",
    "plt.xlabel('False Positive Rate')\n",
    "print(\"Score: \"+ str(round(roc_auc,3)))\n",
    "plt.show()"
   ]
  },
  {
   "cell_type": "markdown",
   "metadata": {},
   "source": [
    "#### Check final score using the test set"
   ]
  },
  {
   "cell_type": "markdown",
   "metadata": {},
   "source": [
    "Load the test set"
   ]
  },
  {
   "cell_type": "code",
   "execution_count": 25,
   "metadata": {},
   "outputs": [],
   "source": [
    "test = pd.read_csv('data/test.csv').set_index(\"id\")"
   ]
  },
  {
   "cell_type": "markdown",
   "metadata": {},
   "source": [
    "Use the pipeline to get predictions (very simple!)"
   ]
  },
  {
   "cell_type": "code",
   "execution_count": 26,
   "metadata": {
    "scrolled": true
   },
   "outputs": [],
   "source": [
    "y_scores_final = pipeline.predict_proba(test)[:,1]"
   ]
  },
  {
   "cell_type": "markdown",
   "metadata": {},
   "source": [
    "Prepare the submissions file"
   ]
  },
  {
   "cell_type": "code",
   "execution_count": 27,
   "metadata": {},
   "outputs": [],
   "source": [
    "submission = pd.Series(y_scores_final,index=test.index, name='id')\n",
    "submission.to_csv(\"submission.csv\")"
   ]
  },
  {
   "cell_type": "markdown",
   "metadata": {},
   "source": [
    "This should get you a 0.874!"
   ]
  },
  {
   "cell_type": "markdown",
   "metadata": {},
   "source": [
    "# ignore this"
   ]
  },
  {
   "cell_type": "code",
   "execution_count": 28,
   "metadata": {},
   "outputs": [],
   "source": [
    "from portal.score import load, validate, score"
   ]
  },
  {
   "cell_type": "code",
   "execution_count": 29,
   "metadata": {},
   "outputs": [],
   "source": [
    "y_pred = load(\"submission.csv\")\n",
    "y_true = load(\"portal/data\")"
   ]
  },
  {
   "cell_type": "code",
   "execution_count": 30,
   "metadata": {},
   "outputs": [
    {
     "data": {
      "text/plain": [
       "True"
      ]
     },
     "execution_count": 30,
     "metadata": {},
     "output_type": "execute_result"
    }
   ],
   "source": [
    "validate(y_true, y_pred)"
   ]
  },
  {
   "cell_type": "code",
   "execution_count": 31,
   "metadata": {},
   "outputs": [
    {
     "data": {
      "text/plain": [
       "0.8736825427308298"
      ]
     },
     "execution_count": 31,
     "metadata": {},
     "output_type": "execute_result"
    }
   ],
   "source": [
    "score(y_true, y_pred)"
   ]
  },
  {
   "cell_type": "code",
   "execution_count": 32,
   "metadata": {},
   "outputs": [
    {
     "data": {
      "text/plain": [
       "(112830, 2)"
      ]
     },
     "execution_count": 32,
     "metadata": {},
     "output_type": "execute_result"
    }
   ],
   "source": [
    "pd.read_csv(\"data/sample_submission.csv\").shape"
   ]
  },
  {
   "cell_type": "code",
   "execution_count": 33,
   "metadata": {},
   "outputs": [
    {
     "data": {
      "text/plain": [
       "(112830, 11)"
      ]
     },
     "execution_count": 33,
     "metadata": {},
     "output_type": "execute_result"
    }
   ],
   "source": [
    "pd.read_csv(\"data/test.csv\").shape"
   ]
  },
  {
   "cell_type": "code",
   "execution_count": null,
   "metadata": {},
   "outputs": [],
   "source": []
  }
 ],
 "metadata": {
  "kernelspec": {
   "display_name": "Python 3 (ipykernel)",
   "language": "python",
   "name": "python3"
  },
  "language_info": {
   "codemirror_mode": {
    "name": "ipython",
    "version": 3
   },
   "file_extension": ".py",
   "mimetype": "text/x-python",
   "name": "python",
   "nbconvert_exporter": "python",
   "pygments_lexer": "ipython3",
   "version": "3.8.10"
  }
 },
 "nbformat": 4,
 "nbformat_minor": 4
}
