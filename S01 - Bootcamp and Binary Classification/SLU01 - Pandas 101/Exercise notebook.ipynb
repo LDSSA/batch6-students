{
 "cells": [
  {
   "cell_type": "markdown",
   "metadata": {
    "deletable": false,
    "editable": false,
    "nbgrader": {
     "grade": false,
     "grade_id": "cell-da2dce3c3cde2481",
     "locked": true,
     "schema_version": 3,
     "solution": false,
     "task": false
    }
   },
   "source": [
    "# SLU01 - Pandas 101: Exercise notebook"
   ]
  },
  {
   "cell_type": "code",
   "execution_count": null,
   "metadata": {
    "deletable": false,
    "editable": false,
    "nbgrader": {
     "grade": false,
     "grade_id": "cell-5be461f9535e38ef",
     "locked": true,
     "schema_version": 3,
     "solution": false,
     "task": false
    }
   },
   "outputs": [],
   "source": [
    "# First things first, import:\n",
    "import pandas as pd\n",
    "import numpy as np\n",
    "import hashlib"
   ]
  },
  {
   "cell_type": "markdown",
   "metadata": {
    "deletable": false,
    "editable": false,
    "nbgrader": {
     "grade": false,
     "grade_id": "cell-284c29675c074ad2",
     "locked": true,
     "schema_version": 3,
     "solution": false,
     "task": false
    }
   },
   "source": [
    "- In this notebook the following is tested:\n",
    "\n",
    "    - Creating pandas Series\n",
    "    - Creating pandas DataFrame\n",
    "    - Load a dataset from a file\n",
    "    - Preview a dataframe\n",
    "    - Convert datatypes in DataFrame"
   ]
  },
  {
   "cell_type": "markdown",
   "metadata": {
    "deletable": false,
    "editable": false,
    "nbgrader": {
     "grade": false,
     "grade_id": "cell-271c2a4c67a910b1",
     "locked": true,
     "schema_version": 3,
     "solution": false,
     "task": false
    }
   },
   "source": [
    "## Exercise 1: Series"
   ]
  },
  {
   "cell_type": "markdown",
   "metadata": {
    "deletable": false,
    "editable": false,
    "nbgrader": {
     "grade": false,
     "grade_id": "cell-5df2f4729d57dc2c",
     "locked": true,
     "schema_version": 3,
     "solution": false,
     "task": false
    }
   },
   "source": [
    "### 1.1 Create a pandas Series from a list."
   ]
  },
  {
   "cell_type": "markdown",
   "metadata": {
    "deletable": false,
    "editable": false,
    "nbgrader": {
     "grade": false,
     "grade_id": "cell-698c87018adbfca5",
     "locked": true,
     "schema_version": 3,
     "solution": false,
     "task": false
    }
   },
   "source": [
    "Create a `list` with the names of the items given in the cell below. Then create a `Series` using that list, using the order provided.\n",
    "\n",
    "Note: Let pandas generate the index on its own. Also, don't forget to delete the raise error!"
   ]
  },
  {
   "cell_type": "code",
   "execution_count": null,
   "metadata": {
    "deletable": false,
    "nbgrader": {
     "grade": false,
     "grade_id": "cell-d0be99db1c88ce43",
     "locked": false,
     "schema_version": 3,
     "solution": true,
     "task": false
    }
   },
   "outputs": [],
   "source": [
    "# items (each of type string): beef, cheese, pulses, nuts, grains\n",
    "# items_list = \n",
    "\n",
    "# Create a series with the items above, and call it items_series\n",
    "# items_series = \n",
    "\n",
    "# YOUR CODE HERE\n",
    "\n",
    "# YOUR CODE HERE\n",
    "raise NotImplementedError()"
   ]
  },
  {
   "cell_type": "code",
   "execution_count": null,
   "metadata": {
    "deletable": false,
    "editable": false,
    "nbgrader": {
     "grade": false,
     "grade_id": "cell-5f8266a7e866c326",
     "locked": true,
     "schema_version": 3,
     "solution": false,
     "task": false
    }
   },
   "outputs": [],
   "source": [
    "# run this cell to see the results \n",
    "items_series"
   ]
  },
  {
   "cell_type": "code",
   "execution_count": null,
   "metadata": {
    "deletable": false,
    "editable": false,
    "nbgrader": {
     "grade": true,
     "grade_id": "cell-0344c841b5dac488",
     "locked": true,
     "points": 2,
     "schema_version": 3,
     "solution": false,
     "task": false
    }
   },
   "outputs": [],
   "source": [
    "assert(isinstance(items_list, list)), \"The data structure used is not the correct one.\"\n",
    "assert(len([i for i in items_list if not isinstance(i, str)]) == 0), \"The items inside the list should be of type string.\"\n",
    "assert(len(items_series) == 5), \"The length of the list is not correct.\"\n",
    "assert(sum([x == y for x, y in zip(items_list, items_series.values.tolist())]) == 5), \"The items don't seem correct.\"\n",
    "assert(np.equal(items_series.index.to_numpy(), np.arange(0, 5)).sum() == 5), \"The index doesn't seem correct.\""
   ]
  },
  {
   "cell_type": "markdown",
   "metadata": {
    "deletable": false,
    "editable": false,
    "nbgrader": {
     "grade": false,
     "grade_id": "cell-c90b1f8712d3b59c",
     "locked": true,
     "schema_version": 3,
     "solution": false,
     "task": false
    }
   },
   "source": [
    "### 1.2 CO<sub>2</sub> equivalents"
   ]
  },
  {
   "cell_type": "markdown",
   "metadata": {
    "deletable": false,
    "editable": false,
    "nbgrader": {
     "grade": false,
     "grade_id": "cell-3087c1871ca920e9",
     "locked": true,
     "schema_version": 3,
     "solution": false,
     "task": false
    }
   },
   "source": [
    "Let's now use the `items_list` as index and build a `Series` containing the kg CO<sub>2</sub> equivalents per item (the amount of CO<sub>2</sub> corresponding to the warming effect of greenhouse gases emitted during production of the item, [ref](https://doi.org/10.1126/science.aaq0216))."
   ]
  },
  {
   "cell_type": "code",
   "execution_count": null,
   "metadata": {
    "deletable": false,
    "editable": false,
    "nbgrader": {
     "grade": false,
     "grade_id": "cell-28516449982ab767",
     "locked": true,
     "schema_version": 3,
     "solution": false,
     "task": false
    }
   },
   "outputs": [],
   "source": [
    "# RUN THIS CELL FIRST\n",
    "# kg CO2 equivalents of the foods in items_list:\n",
    "food_CO2 = np.array([50, 11, 0.8, 0.3, 2.7]) "
   ]
  },
  {
   "cell_type": "code",
   "execution_count": null,
   "metadata": {
    "deletable": false,
    "nbgrader": {
     "grade": false,
     "grade_id": "cell-2d2283c13fa0600e",
     "locked": false,
     "schema_version": 3,
     "solution": true,
     "task": false
    }
   },
   "outputs": [],
   "source": [
    "# Create a series which has items_list (created in exercise 1.1) as index, \n",
    "# and the respective value in the food_CO2 list given in the cell above as values.\n",
    "# CO2_eq = \n",
    "\n",
    "# YOUR CODE HERE\n",
    "\n",
    "# YOUR CODE HERE\n",
    "raise NotImplementedError()"
   ]
  },
  {
   "cell_type": "code",
   "execution_count": null,
   "metadata": {
    "deletable": false,
    "editable": false,
    "nbgrader": {
     "grade": false,
     "grade_id": "cell-350b5e2353446f9f",
     "locked": true,
     "schema_version": 3,
     "solution": false,
     "task": false
    }
   },
   "outputs": [],
   "source": [
    "# run this cell to see the results \n",
    "CO2_eq"
   ]
  },
  {
   "cell_type": "code",
   "execution_count": null,
   "metadata": {
    "deletable": false,
    "editable": false,
    "nbgrader": {
     "grade": true,
     "grade_id": "cell-096e084aeb31ba69",
     "locked": true,
     "points": 2,
     "schema_version": 3,
     "solution": false,
     "task": false
    }
   },
   "outputs": [],
   "source": [
    "assert (isinstance(CO2_eq, pd.Series)), \"CO2_eq is not a series.\"\n",
    "assert(len(CO2_eq==5)), \"The length of CO2_eq is not correct.\"\n",
    "assert(CO2_eq[-3] == 0.8), 'Something is wrong with the values of the series. Did you use food_CO2?'\n",
    "assert(CO2_eq.index[1] == 'cheese'), 'The order of the index is not correct.'"
   ]
  },
  {
   "cell_type": "markdown",
   "metadata": {
    "deletable": false,
    "editable": false,
    "nbgrader": {
     "grade": false,
     "grade_id": "cell-f1ceac100057579f",
     "locked": true,
     "schema_version": 3,
     "solution": false,
     "task": false
    }
   },
   "source": [
    "Cool! In 1 exercise you learned 2 things:\n",
    "- that a pandas Series can be built using several data structures, such as lists or numpy arrays\n",
    "- that if you want to reduce your carbon footprint and help save the planet, you should turn to a plant-based diet (<300 g meat and <1.7 kg dairy per week, see here: https://takethejump.org/)\n",
    "😃 🌍"
   ]
  },
  {
   "cell_type": "markdown",
   "metadata": {
    "deletable": false,
    "editable": false,
    "nbgrader": {
     "grade": false,
     "grade_id": "cell-fd427a357cc3cf29",
     "locked": true,
     "schema_version": 3,
     "solution": false,
     "task": false
    }
   },
   "source": [
    "## Exercise 2: DataFrames\n",
    "\n",
    "The goal of this exercise is to create a simple DataFrame from several data structures."
   ]
  },
  {
   "cell_type": "code",
   "execution_count": null,
   "metadata": {
    "deletable": false,
    "editable": false,
    "nbgrader": {
     "grade": false,
     "grade_id": "cell-47e3f0e9ade0d953",
     "locked": true,
     "schema_version": 3,
     "solution": false,
     "task": false
    }
   },
   "outputs": [],
   "source": [
    "# RUN THIS CELL FIRST\n",
    "# this is the data you'll use to fill each column of your dataframe\n",
    "emojis = ['Face with Tears of Joy', 'Red Heart', 'Rolling on the Floor Laughing', 'Thumbs Up']\n",
    "search_engines = np.array(['Google', 'Bing', 'Yahoo!', 'Baidu'])\n",
    "social_network = ['Facebook', 'Instagram', 'TikTok', 'Twitter']\n",
    "social_network_active_users = [2700000000, 1200000000, 700000000, 20000000]"
   ]
  },
  {
   "cell_type": "code",
   "execution_count": null,
   "metadata": {
    "deletable": false,
    "nbgrader": {
     "grade": false,
     "grade_id": "cell-b5c9767e3556cd9b",
     "locked": false,
     "schema_version": 3,
     "solution": true,
     "task": false
    }
   },
   "outputs": [],
   "source": [
    "# Add the data from the lists emojis, search_engines, social_network, and social_network_active_users \n",
    "# to a dictionary called most_popular_2021_dictionary:\n",
    "#   - use the 4 variables created in the cell above to fill the data for each key\n",
    "#   - each key should be a string containing the name of the corresponding variable.\n",
    "# most_popular_2021_dictionary = \n",
    "\n",
    "# Create a dataframe called most_popular_2021_df\n",
    "#   - set an index with the values 'first', 'second', 'third', 'fourth'\n",
    "#   - use the dictionary created above to populate the dataframe.\n",
    "# most_popular_2021_df = ...\n",
    "\n",
    "\n",
    "# YOUR CODE HERE\n",
    "\n",
    "# YOUR CODE HERE\n",
    "raise NotImplementedError()"
   ]
  },
  {
   "cell_type": "code",
   "execution_count": null,
   "metadata": {
    "deletable": false,
    "editable": false,
    "nbgrader": {
     "grade": true,
     "grade_id": "cell-a4ab78569f17b22b",
     "locked": true,
     "points": 2,
     "schema_version": 3,
     "solution": false,
     "task": false
    }
   },
   "outputs": [],
   "source": [
    "assert(isinstance(most_popular_2021_dictionary,dict)), 'Something is wrong! most_popular_2021_dictionary is not a dictionary.'\n",
    "assert(isinstance(most_popular_2021_df, pd.DataFrame)), 'most_popular_2021 is not a DataFrame'\n",
    "assert(most_popular_2021_df['emojis'].tolist()==emojis), \"The emojis column doesn't look right.\"\n",
    "assert(most_popular_2021_df['search_engines'].tolist()==list(search_engines)), \"The search_engines column doesn't look right.\"\n",
    "assert(most_popular_2021_df['social_network'].tolist()==social_network), \"The social_network column doesn't look right.\"\n",
    "assert(most_popular_2021_df.shape == (4, 4)), 'The size of the dataframe is not correct.'\n",
    "assert(most_popular_2021_df.index.tolist() != ('first', 'second', 'third', 'fourth')), 'The index is not correct. Reread the instructions.'"
   ]
  },
  {
   "cell_type": "markdown",
   "metadata": {
    "deletable": false,
    "editable": false,
    "nbgrader": {
     "grade": false,
     "grade_id": "cell-a9be7d364fff8062",
     "locked": true,
     "schema_version": 3,
     "solution": false,
     "task": false
    }
   },
   "source": [
    "## Exercise 3: Loading DataFrames from files"
   ]
  },
  {
   "cell_type": "markdown",
   "metadata": {
    "deletable": false,
    "editable": false,
    "nbgrader": {
     "grade": false,
     "grade_id": "cell-b539b29d4bf9bbdf",
     "locked": true,
     "schema_version": 3,
     "solution": false,
     "task": false
    }
   },
   "source": [
    "### 3.1 Load a dataset into a `ds_jobs` dataframe\n",
    "Let's load a dataset with data about data science job applicants. It is a subset from a Kaggle dataset available [here](https://www.kaggle.com/datasets/arashnic/hr-analytics-job-change-of-data-scientists)."
   ]
  },
  {
   "cell_type": "code",
   "execution_count": null,
   "metadata": {
    "deletable": false,
    "nbgrader": {
     "grade": false,
     "grade_id": "cell-6f209833953ab9cf",
     "locked": false,
     "schema_version": 3,
     "solution": true,
     "task": false
    }
   },
   "outputs": [],
   "source": [
    "# Load the dataset from the file located at data/ds_jobs.csv.\n",
    "# ds_jobs = \n",
    "\n",
    "# YOUR CODE HERE\n",
    "\n",
    "# YOUR CODE HERE\n",
    "raise NotImplementedError()"
   ]
  },
  {
   "cell_type": "code",
   "execution_count": null,
   "metadata": {
    "deletable": false,
    "editable": false,
    "nbgrader": {
     "grade": false,
     "grade_id": "cell-5b36486d3ce89890",
     "locked": true,
     "schema_version": 3,
     "solution": false,
     "task": false
    }
   },
   "outputs": [],
   "source": [
    "# Print the dataframe head() to get an idea of what you've just loaded.\n",
    "ds_jobs.head()"
   ]
  },
  {
   "cell_type": "code",
   "execution_count": null,
   "metadata": {
    "deletable": false,
    "editable": false,
    "nbgrader": {
     "grade": true,
     "grade_id": "cell-a08b45d8b2814c8f",
     "locked": true,
     "points": 1,
     "schema_version": 3,
     "solution": false,
     "task": false
    }
   },
   "outputs": [],
   "source": [
    "assert(isinstance(ds_jobs, pd.DataFrame)), \"Something is wrong. ds_jobs does not look like a dataframe.\"\n",
    "assert(ds_jobs.shape == (1003, 9)), \"The shape is not correct. Did you follow all the instructions in the comments?\"\n",
    "assert(sum(ds_jobs.columns == ['id', 'g', 'exp', 'enr', 'ed', 'm', 'y_exp', 't_job', 'cdi']) == 9), \"The columns don't look right.\"\n",
    "assert(ds_jobs.id[3] == 27385 and ds_jobs.id[552] == 13748), \"The id looks wrong.\"\n",
    "assert(ds_jobs.id.max() == 33343), \"Something is wrong. Did you follow all the instructions in the comments?\"\n",
    "assert(ds_jobs.enr[446] == 'no_enrollment'), \"Something is wrong. Did you follow all the instructions in the comments?\""
   ]
  },
  {
   "cell_type": "markdown",
   "metadata": {
    "deletable": false,
    "editable": false,
    "nbgrader": {
     "grade": false,
     "grade_id": "cell-e48d5b6749cf42b8",
     "locked": true,
     "schema_version": 3,
     "solution": false,
     "task": false
    }
   },
   "source": [
    "### 3.2 Load a dataset, but this time better"
   ]
  },
  {
   "cell_type": "markdown",
   "metadata": {
    "deletable": false,
    "editable": false,
    "nbgrader": {
     "grade": false,
     "grade_id": "cell-6248e95f4b1a33b7",
     "locked": true,
     "schema_version": 3,
     "solution": false,
     "task": false
    }
   },
   "source": [
    "Notice that the column names in the ds_jobs dataframe are not very informative. This is not very useful to someone looking at the data. Instead we want to load the dataset with the following `column names`:\n",
    "- `'id'`\n",
    "- `'gender'`\n",
    "- `'relevant_experience'` - whether the candidate has experience in the field\n",
    "- `'enrollment_type'` - full or part time\n",
    "- `'education'` - highest attained education\n",
    "- `'major'` - major subject at university\n",
    "- `'years_of_experience'` - years of job experience\n",
    "- `'time_since_last_job'` - years passed since last job\n",
    "- `'city_development_index'` - development level of home city"
   ]
  },
  {
   "cell_type": "code",
   "execution_count": null,
   "metadata": {
    "deletable": false,
    "nbgrader": {
     "grade": false,
     "grade_id": "cell-8e15e2392133ead5",
     "locked": false,
     "schema_version": 3,
     "solution": true,
     "task": false
    }
   },
   "outputs": [],
   "source": [
    "# Load the file at 'data/ds_jobs.csv' into a dataframe ds_jobs.\n",
    "# set the column names to 'id', 'gender', 'relevant_experience', 'enrollment_type', 'education', 'major',\n",
    "# 'years_of_experience', 'time_since_last_job', 'city_development_index' in this order.\n",
    "# You will need to check the documentation at \n",
    "# https://pandas.pydata.org/pandas-docs/stable/reference/api/pandas.read_csv.html to see how you can do this.\n",
    "# ds_jobs = \n",
    "\n",
    "\n",
    "# YOUR CODE HERE\n",
    "\n",
    "# YOUR CODE HERE\n",
    "raise NotImplementedError()"
   ]
  },
  {
   "cell_type": "code",
   "execution_count": null,
   "metadata": {
    "deletable": false,
    "editable": false,
    "nbgrader": {
     "grade": false,
     "grade_id": "cell-81403c2cff465367",
     "locked": true,
     "schema_version": 3,
     "solution": false,
     "task": false
    }
   },
   "outputs": [],
   "source": [
    "# Print the dataframe head() to get an idea of what you've just loaded.\n",
    "ds_jobs.head()"
   ]
  },
  {
   "cell_type": "code",
   "execution_count": null,
   "metadata": {
    "deletable": false,
    "editable": false,
    "nbgrader": {
     "grade": true,
     "grade_id": "cell-4457e5154efddfdf",
     "locked": true,
     "points": 2,
     "schema_version": 3,
     "solution": false,
     "task": false
    }
   },
   "outputs": [],
   "source": [
    "assert(isinstance(ds_jobs, pd.DataFrame)), \"Something is wrong. ds_jobs does not look like a dataframe.\"\n",
    "assert(ds_jobs.shape == (1003, 9)), \"The shape is not correct. Did you follow all the instructions in the comments?\"\n",
    "assert(ds_jobs.shape != (1004, 9)), \"Something is wrowg. You have 1 more row than expected. Did you tell pandas to use the 1st row as header?\"\n",
    "assert(sum(ds_jobs.columns == ['id', 'gender', 'relevant_experience', 'enrollment_type', 'education',\n",
    "       'major', 'years_of_experience', 'time_since_last_job',\n",
    "       'city_development_index']) == 9), \"Don't forget to tell pandas the new column names.\"\n",
    "assert(ds_jobs.id[6] == 21465 and ds_jobs.id[553] == 24331), \"The index looks wrong.\"\n",
    "assert(ds_jobs.education[5] == 'Masters'), \"Something is wrong. Did you follow all the instructions in the comments?\"\n",
    "assert(ds_jobs.city_development_index.max() >= 0.949), \"Something is wrong. Did you follow all the instructions in the comments?\"\n",
    "assert(ds_jobs.education[11] == 'Graduate'), \"Something is wrong. Did you follow all the instructions in the comments?\""
   ]
  },
  {
   "cell_type": "markdown",
   "metadata": {
    "deletable": false,
    "editable": false,
    "nbgrader": {
     "grade": false,
     "grade_id": "cell-b29ec5a0c9771c31",
     "locked": true,
     "schema_version": 3,
     "solution": false,
     "task": false
    }
   },
   "source": [
    "### 3.3 Preview the datatypes"
   ]
  },
  {
   "cell_type": "code",
   "execution_count": null,
   "metadata": {
    "deletable": false,
    "nbgrader": {
     "grade": false,
     "grade_id": "cell-e9e62f9d35948d34",
     "locked": false,
     "schema_version": 3,
     "solution": true,
     "task": false
    }
   },
   "outputs": [],
   "source": [
    "# Store the datatypes of all columns of ds_jobs in ds_jobs_dtypes.\n",
    "# Use the method you learned in the learning notebook.\n",
    "# ds_jobs_dtypes = \n",
    "\n",
    "# Note: if you used the correct method, \n",
    "# the result will be a pandas series containing the datatypes of each column,\n",
    "# with the index formed by the column names\n",
    "\n",
    "# YOUR CODE HERE\n",
    "\n",
    "# YOUR CODE HERE\n",
    "raise NotImplementedError()"
   ]
  },
  {
   "cell_type": "code",
   "execution_count": null,
   "metadata": {
    "deletable": false,
    "editable": false,
    "nbgrader": {
     "grade": false,
     "grade_id": "cell-e3795ce1ef7efed6",
     "locked": true,
     "schema_version": 3,
     "solution": false,
     "task": false
    }
   },
   "outputs": [],
   "source": [
    "# Check your output - there should be object, float, bool, and integer types.\n",
    "ds_jobs_dtypes"
   ]
  },
  {
   "cell_type": "code",
   "execution_count": null,
   "metadata": {
    "deletable": false,
    "editable": false,
    "nbgrader": {
     "grade": true,
     "grade_id": "cell-efab0f02db3e97d7",
     "locked": true,
     "points": 2,
     "schema_version": 3,
     "solution": false,
     "task": false
    }
   },
   "outputs": [],
   "source": [
    "assert(sum([x in ds_jobs_dtypes.index for x in ds_jobs.columns]) == 9), \"The index of ds_jobs_dtypes should contain all columns in ds_jobs.\"\n",
    "assert(hashlib.sha256(str(ds_jobs_dtypes['relevant_experience']).encode()).hexdigest() == 'b760f44fa5965c2474a3b471467a22c43185152129295af588b022ae50b50903'), \"The dtype of column 'relevant_experience' is not as expected.\""
   ]
  },
  {
   "cell_type": "markdown",
   "metadata": {
    "deletable": false,
    "editable": false,
    "nbgrader": {
     "grade": false,
     "grade_id": "cell-e73c7e894cb3fb98",
     "locked": true,
     "schema_version": 3,
     "solution": false,
     "task": false
    }
   },
   "source": [
    "### 3.4 Set the correct datatypes\n",
    "The datatypes in `ds_jobs` were infered, so all `strings` are set as `objects`. Convert all these datatypes to `string` using a function you learned in the learning notebook."
   ]
  },
  {
   "cell_type": "code",
   "execution_count": null,
   "metadata": {
    "deletable": false,
    "nbgrader": {
     "grade": false,
     "grade_id": "cell-383fa34cad0538db",
     "locked": false,
     "schema_version": 3,
     "solution": true,
     "task": false
    }
   },
   "outputs": [],
   "source": [
    "# Set the correct datatypes in the ds_jobs dataframe - convert the objects to strings.\n",
    "# Store the new dtypes in the variable ds_jobs_dtypes_converted.\n",
    "# ds_jobs = \n",
    "# ds_jobs_dtypes_converted = \n",
    "\n",
    "# YOUR CODE HERE\n",
    "\n",
    "# YOUR CODE HERE\n",
    "raise NotImplementedError()"
   ]
  },
  {
   "cell_type": "code",
   "execution_count": null,
   "metadata": {
    "deletable": false,
    "editable": false,
    "nbgrader": {
     "grade": false,
     "grade_id": "cell-5a110459c2e3c1b4",
     "locked": true,
     "schema_version": 3,
     "solution": false,
     "task": false
    }
   },
   "outputs": [],
   "source": [
    "# Check you solution and compare it to the result of exercise 3.3. There will be pandas datatypes now (all or\n",
    "# some, depending on which method you used).\n",
    "ds_jobs_dtypes_converted"
   ]
  },
  {
   "cell_type": "code",
   "execution_count": null,
   "metadata": {
    "deletable": false,
    "editable": false,
    "nbgrader": {
     "grade": true,
     "grade_id": "cell-bbb1770c9e8e0521",
     "locked": true,
     "points": 1,
     "schema_version": 3,
     "solution": false,
     "task": false
    }
   },
   "outputs": [],
   "source": [
    "assert(sum([x in ds_jobs_dtypes_converted.index for x in ds_jobs.columns]) == 9), \"The index of ds_jobs_dtypes_converted should contain all columns in ds_jobs.\"\n",
    "assert(hashlib.sha256(str(ds_jobs_dtypes_converted['relevant_experience'])[:4].encode()).hexdigest() == 'b760f44fa5965c2474a3b471467a22c43185152129295af588b022ae50b50903'), \"The dtype of column 'relevant_experience' is not as expected.\"\n",
    "assert(hashlib.sha256(str(ds_jobs_dtypes_converted['city_development_index']).lower().encode()).hexdigest() == '6bd2a66c4467bc379fd21e11d74bfa2b0f8205baf39eefc20b2c4fecb198dd48'), \"The dtype of column 'city_development_index' is not as expected.\"\n",
    "assert(hashlib.sha256(str(ds_jobs_dtypes_converted['time_since_last_job']).encode()).hexdigest()=='473287f8298dba7163a897908958f7c0eae733e25d2e027992ea2edc9bed2fa8'), \"The dtype of column 'time_since_last_job' is not as expected.\""
   ]
  },
  {
   "cell_type": "markdown",
   "metadata": {
    "deletable": false,
    "editable": false,
    "nbgrader": {
     "grade": false,
     "grade_id": "cell-54a30579d70bf53c",
     "locked": true,
     "schema_version": 3,
     "solution": false,
     "task": false
    }
   },
   "source": [
    "### 3.5 Get information about the dataframe size\n",
    "Use a method you learned in the learning notebook to retrieve the `number of rows` and the `number of columns` in the ds_jobs dataframe.\n",
    "\n"
   ]
  },
  {
   "cell_type": "code",
   "execution_count": null,
   "metadata": {
    "deletable": false,
    "nbgrader": {
     "grade": false,
     "grade_id": "cell-e4bf7a0d20b4d075",
     "locked": false,
     "schema_version": 3,
     "solution": true,
     "task": false
    }
   },
   "outputs": [],
   "source": [
    "# number_of_rows = \n",
    "# number_of_columns = \n",
    "\n",
    "# YOUR CODE HERE\n",
    "\n",
    "# YOUR CODE HERE\n",
    "raise NotImplementedError()"
   ]
  },
  {
   "cell_type": "code",
   "execution_count": null,
   "metadata": {
    "deletable": false,
    "editable": false,
    "nbgrader": {
     "grade": true,
     "grade_id": "cell-a6082129b0c73871",
     "locked": true,
     "points": 2,
     "schema_version": 3,
     "solution": false,
     "task": false
    }
   },
   "outputs": [],
   "source": [
    "assert(hashlib.sha256(str(int(number_of_rows)).encode()).hexdigest() == '8c9a013ab70c0434313e3e881c310b9ff24aff1075255ceede3f2c239c231623'), \"The number of rows is not correct.\"\n",
    "assert(hashlib.sha256(str(int(number_of_columns)).encode()).hexdigest() == '19581e27de7ced00ff1ce50b2047e7a567c76b1cbaebabe5ef03f7c3017bb5b7'), \"The number of columns is not correct.\""
   ]
  },
  {
   "cell_type": "markdown",
   "metadata": {
    "deletable": false,
    "editable": false,
    "nbgrader": {
     "grade": false,
     "grade_id": "cell-b77ba46636c548d4",
     "locked": true,
     "schema_version": 3,
     "solution": false,
     "task": false
    }
   },
   "source": [
    "### 3.6 Load a json file into a dataframe\n",
    "Let's load a new dataframe called hdi from the file stored at `data/HDI.json`. It's the human development index statistics in the years 1990-2019, a subset of a kaggle dataset available [here](https://www.kaggle.com/datasets/elmartini/human-development-index-historical-data)."
   ]
  },
  {
   "cell_type": "code",
   "execution_count": null,
   "metadata": {
    "deletable": false,
    "nbgrader": {
     "grade": false,
     "grade_id": "cell-23ac4f8fe231e90c",
     "locked": false,
     "schema_version": 3,
     "solution": true,
     "task": false
    }
   },
   "outputs": [],
   "source": [
    "# Load the datafile from data/HDI.json and store it in the variable hdi. Use the appropriate method for json files.\n",
    "# hdi = \n",
    "\n",
    "#YOUR CODE HERE\n",
    "\n",
    "# YOUR CODE HERE\n",
    "raise NotImplementedError()"
   ]
  },
  {
   "cell_type": "code",
   "execution_count": null,
   "metadata": {
    "deletable": false,
    "editable": false,
    "nbgrader": {
     "grade": false,
     "grade_id": "cell-8aa6d60f3822c0bd",
     "locked": true,
     "schema_version": 3,
     "solution": false,
     "task": false
    }
   },
   "outputs": [],
   "source": [
    "# Preview your dataframe\n",
    "hdi.head()"
   ]
  },
  {
   "cell_type": "code",
   "execution_count": null,
   "metadata": {
    "deletable": false,
    "editable": false,
    "nbgrader": {
     "grade": true,
     "grade_id": "cell-71ea15bcdf2d8056",
     "locked": true,
     "points": 1,
     "schema_version": 3,
     "solution": false,
     "task": false
    }
   },
   "outputs": [],
   "source": [
    "assert(isinstance(hdi, pd.DataFrame)), \"Something is wrong. hdi does not look like a dataframe.\"\n",
    "assert(hdi.shape == (189, 9)), \"The shape is not correct. Did you follow all the instructions in the comments?\"\n",
    "assert(sum(hdi.columns == ['HDI Rank', 'Country', '1990', '1995', '2000', '2005', '2010', '2015',\n",
    "       '2019']) == 9), \"The columns don't look right.\"\n",
    "assert(hdi.Country[13] == 'Bangladesh' and hdi.Country[52] == 'El Salvador'), \"The Country column looks wrong.\"\n",
    "assert(sum(hdi['HDI Rank']) > 136), \"Something is wrong. Did you follow all the instructions in the comments?\"\n",
    "assert(sum(hdi['HDI Rank']) == 17914), \"Something is wrong. Did you follow all the instructions in the comments?\""
   ]
  },
  {
   "cell_type": "markdown",
   "metadata": {
    "deletable": false,
    "editable": false,
    "nbgrader": {
     "grade": false,
     "grade_id": "cell-2b45ce53733500d7",
     "locked": true,
     "schema_version": 3,
     "solution": false,
     "task": false
    }
   },
   "source": [
    "### 3.7 Get a numpy array of column names\n",
    "Store the names of the `columns` in the hdi dataframe as a `numpy array`."
   ]
  },
  {
   "cell_type": "code",
   "execution_count": null,
   "metadata": {
    "deletable": false,
    "nbgrader": {
     "grade": false,
     "grade_id": "cell-4fd5c93627335cd6",
     "locked": false,
     "schema_version": 3,
     "solution": true,
     "task": false
    }
   },
   "outputs": [],
   "source": [
    "# First extract the columns into hdi_cols.\n",
    "# hdi_cols = \n",
    "\n",
    "# Then convert the output into a NumPy array.\n",
    "# hdi_cols_array = \n",
    "\n",
    "#YOUR CODE HERE\n",
    "\n",
    "# YOUR CODE HERE\n",
    "raise NotImplementedError()"
   ]
  },
  {
   "cell_type": "code",
   "execution_count": null,
   "metadata": {
    "deletable": false,
    "editable": false,
    "nbgrader": {
     "grade": false,
     "grade_id": "cell-50b947a14ec26208",
     "locked": true,
     "schema_version": 3,
     "solution": false,
     "task": false
    }
   },
   "outputs": [],
   "source": [
    "# Always preview your variables to see the result of the operations.\n",
    "print(hdi_cols, type(hdi_cols), \"\\n\", sep=\"\\n\")\n",
    "print(hdi_cols_array, type(hdi_cols_array), sep=\"\\n\")"
   ]
  },
  {
   "cell_type": "code",
   "execution_count": null,
   "metadata": {
    "deletable": false,
    "editable": false,
    "nbgrader": {
     "grade": true,
     "grade_id": "cell-4dce9e138896815d",
     "locked": true,
     "points": 2,
     "schema_version": 3,
     "solution": false,
     "task": false
    }
   },
   "outputs": [],
   "source": [
    "assert(isinstance(hdi_cols, pd.core.indexes.base.Index)), \"Use the method you learned to extract the columns into hdi_cols.\"\n",
    "assert(len(hdi_cols) == 9), \"There are 9 columns in the hdi dataframe. Did you extract them all? Also, make sure you don't change the variable hdi.\"\n",
    "assert(isinstance(hdi_cols_array, np.ndarray)), \"The hdi_cols_array does not look like a numpy array.\""
   ]
  },
  {
   "cell_type": "markdown",
   "metadata": {
    "deletable": false,
    "editable": false,
    "nbgrader": {
     "grade": false,
     "grade_id": "cell-7bd117128c56d41d",
     "locked": true,
     "schema_version": 3,
     "solution": false,
     "task": false
    }
   },
   "source": [
    "### 3.8 Extract the index as a numpy array\n",
    "Do the same as in exercise 3.7, but not for the index of hdi."
   ]
  },
  {
   "cell_type": "code",
   "execution_count": null,
   "metadata": {
    "deletable": false,
    "nbgrader": {
     "grade": false,
     "grade_id": "cell-3681531b79d28fd3",
     "locked": false,
     "schema_version": 3,
     "solution": true,
     "task": false
    }
   },
   "outputs": [],
   "source": [
    "# Extract the index using the method you learned.\n",
    "# hdi_index = \n",
    "\n",
    "# Convert it to a numpy array.\n",
    "# hdi_index_array = \n",
    "\n",
    "# YOUR CODE HERE\n",
    "\n",
    "# YOUR CODE HERE\n",
    "raise NotImplementedError()"
   ]
  },
  {
   "cell_type": "code",
   "execution_count": null,
   "metadata": {
    "deletable": false,
    "editable": false,
    "nbgrader": {
     "grade": true,
     "grade_id": "cell-1bf51b9a2de225bc",
     "locked": true,
     "points": 1,
     "schema_version": 3,
     "solution": false,
     "task": false
    }
   },
   "outputs": [],
   "source": [
    "assert(isinstance(hdi_index, pd.core.indexes.base.Index)), \"Use the method you learned to extract the index into hdi_index.\"\n",
    "assert(len(hdi_index) == 189), \"The length of the hdi_index variable is incorrect.\"\n",
    "assert(sum(hdi_index_array) == 17766), \"Something is wrong with the index array.\"\n",
    "assert(isinstance(hdi_index_array, np.ndarray)), \"The hdi_index_array does not look like a numpy array.\""
   ]
  },
  {
   "cell_type": "markdown",
   "metadata": {
    "deletable": false,
    "editable": false,
    "nbgrader": {
     "grade": false,
     "grade_id": "cell-dcbdaacfb8bdd16d",
     "locked": true,
     "schema_version": 3,
     "solution": false,
     "task": false
    }
   },
   "source": [
    "\n",
    "### 3.9 Describe the data in your dataframe\n",
    "Last but not least, remember how you can get some stats and info on your dataframe? If you don't, make sure to reread the learning notebook. If you do, let's jump to this final exercise.\n",
    "\n",
    "Using only the two methods you learned to get information and statistics on a dataframe answer the three questions in the cell below manually."
   ]
  },
  {
   "cell_type": "code",
   "execution_count": null,
   "metadata": {},
   "outputs": [],
   "source": [
    "# Use this draft cell to print stuff to help you answer the questions below.\n"
   ]
  },
  {
   "cell_type": "code",
   "execution_count": null,
   "metadata": {
    "deletable": false,
    "nbgrader": {
     "grade": false,
     "grade_id": "cell-3fd00abe2d329bde",
     "locked": false,
     "schema_version": 3,
     "solution": true,
     "task": false
    }
   },
   "outputs": [],
   "source": [
    "# Question 1\n",
    "# What is the mean value for HDI in the year 2019 (rounded to 2 decimal points)?\n",
    "# mean_HDI_2019 = \n",
    "\n",
    "# Question 2\n",
    "# What is the maximum value for HDI in the year 1995 (round to 2 decimal points)?\n",
    "# max_HDI_1995 = \n",
    "\n",
    "# Question 3 \n",
    "# How many non-null entries do we have for the year 1990? Store the answer as an integer.\n",
    "# nonnull_HDI_1990 = \n",
    "\n",
    "\n",
    "# YOUR CODE HERE\n",
    "\n",
    "# YOUR CODE HERE\n",
    "raise NotImplementedError()"
   ]
  },
  {
   "cell_type": "code",
   "execution_count": null,
   "metadata": {
    "deletable": false,
    "editable": false,
    "nbgrader": {
     "grade": true,
     "grade_id": "cell-ea52883fc83bdbfb",
     "locked": true,
     "points": 2,
     "schema_version": 3,
     "solution": false,
     "task": false
    }
   },
   "outputs": [],
   "source": [
    "assert (isinstance(mean_HDI_2019, float)), \"mean_HDI_2019 should be a float.\"\n",
    "assert (isinstance(max_HDI_1995, float)), \"max_HDI_1995 should be a float.\"\n",
    "assert (isinstance(nonnull_HDI_1990, int)), \"nonnull_HDI_1990 should be an integer.\"\n",
    "np.testing.assert_almost_equal(float(mean_HDI_2019), 0.72, 2), \"mean_HDI_2019 does not look right.\"\n",
    "np.testing.assert_almost_equal(float(max_HDI_1995), 0.89, 2), \"max_HDI_1995 does not look right.\"\n",
    "assert(hashlib.sha256(str(int(nonnull_HDI_1990)).encode()).hexdigest() == '5ec1a0c99d428601ce42b407ae9c675e0836a8ba591c8ca6e2a2cf5563d97ff0'), \"nonnull_HDI_1990 does not look right.\""
   ]
  }
 ],
 "metadata": {
  "kernelspec": {
   "display_name": "Python 3 (ipykernel)",
   "language": "python",
   "name": "python3"
  },
  "language_info": {
   "codemirror_mode": {
    "name": "ipython",
    "version": 3
   },
   "file_extension": ".py",
   "mimetype": "text/x-python",
   "name": "python",
   "nbconvert_exporter": "python",
   "pygments_lexer": "ipython3",
   "version": "3.8.13"
  },
  "toc": {
   "base_numbering": 1,
   "nav_menu": {},
   "number_sections": true,
   "sideBar": true,
   "skip_h1_title": false,
   "title_cell": "Table of Contents",
   "title_sidebar": "Contents",
   "toc_cell": false,
   "toc_position": {},
   "toc_section_display": true,
   "toc_window_display": false
  }
 },
 "nbformat": 4,
 "nbformat_minor": 4
}
