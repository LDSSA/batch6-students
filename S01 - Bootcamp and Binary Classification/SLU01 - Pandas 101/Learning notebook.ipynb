{
 "cells": [
  {
   "cell_type": "markdown",
   "metadata": {
    "nbgrader": {
     "grade": false,
     "grade_id": "cell-207b22920389703c",
     "locked": true,
     "schema_version": 3,
     "solution": false,
     "task": false
    }
   },
   "source": [
    "# SLU01 - Pandas 101: Learning notebook\n",
    "\n",
    "\n",
    "In this notebook we will cover the following:\n",
    "\n",
    "[1. What is Pandas](#1.-What-is-pandas?)  \n",
    "[2. Series](#2.-Series)   \n",
    "&emsp;[2.1 Datatypes](#2.1-Datatypes)  \n",
    "&emsp;[2.2 Indexing](#2.2-Indexing)  \n",
    "&emsp;[2.3 Extracting data from series](#2.3-Extracting-data-from-series)  \n",
    "[3. Dataframes](#3.-DataFrames)   \n",
    "&emsp;[3.1 Making dataframes from series](#3.1-Making-dataframes-from-series)  \n",
    "&emsp;[3.2 What if my data isn't a pandas Series?](#3.2-What-if-my-data-isn't-a-pandas-Series?)  \n",
    "&emsp;[3.3 Getting the index and column values](#3.3-Getting-the-index-and-column-values)  \n",
    "[4. Previewing and describing a DataFrame](#4.-Previewing-and-describing-a-DataFrame)  \n",
    "&emsp;[4.1 Previewing the DataFrame or part of it](#4.1-Previewing-the-DataFrame-or-part-of-it)  \n",
    "&emsp;[4.2 Retrieving DataFrame information](#4.2-Retrieving-DataFrame-information)  \n",
    "[5. Reading data from files into pandas dataframes](#5.-Reading-data-from-files-into-pandas-dataframes)  \n",
    "[6. Writing data from pandas into files](#6.-Writing-data-from-pandas-into-files)"
   ]
  },
  {
   "cell_type": "markdown",
   "metadata": {},
   "source": [
    "So you want to be a data scientist! In the first few learning units, we'll be dealing with the data part. The science comes later.\n",
    "\n",
    "The first thing we need to do after collecting data is to store it. People have stored all kinds of data in all kinds of media: stone tables, tree bark markings, books, files, drawings, photographs, CDs, oral history... you name it. As a data scientist, you are most likely to encounter data in a digital format, a more or less useful one (e.g. text files, json files, databases, excel files, screenshots of excel files, digital images). You will often have to extract the data into more easily manageable form, typically some kind of table. Here we will talk about data in this final, tabular form, and a Python package that helps you deal with it - pandas."
   ]
  },
  {
   "cell_type": "markdown",
   "metadata": {},
   "source": [
    "<img src=\"media/data_storage_media.jpg\" width=\"900\"/>"
   ]
  },
  {
   "cell_type": "markdown",
   "metadata": {
    "nbgrader": {
     "grade": false,
     "grade_id": "cell-c99f620826679b53",
     "locked": true,
     "schema_version": 3,
     "solution": false,
     "task": false
    }
   },
   "source": [
    "## 1. What is `pandas`?"
   ]
  },
  {
   "cell_type": "markdown",
   "metadata": {
    "nbgrader": {
     "grade": false,
     "grade_id": "cell-4b62b3544b778058",
     "locked": true,
     "schema_version": 3,
     "solution": false,
     "task": false
    }
   },
   "source": [
    "`pandas` is a data manipulation and analysis tool designed to make data cleaning and analysis in Python fast and easy.  It contains tabular data structures and I/O tools for them. It is highly optimized for performance, as data scientists usually deal with large amounts of data.\n",
    "\n",
    "In this notebook, you will learn about pandas data structures and importing/exporting of data between these data structures and files.\n",
    "\n",
    "We will import pandas as `pd`. This is standard practice commonly used in documentation and usage examples and is highly recommended."
   ]
  },
  {
   "cell_type": "code",
   "execution_count": 1,
   "metadata": {},
   "outputs": [],
   "source": [
    "import pandas as pd\n",
    "import numpy as np"
   ]
  },
  {
   "cell_type": "markdown",
   "metadata": {},
   "source": [
    "Pandas has two main **data structures**:"
   ]
  },
  {
   "cell_type": "markdown",
   "metadata": {},
   "source": [
    "- **Series** - A 1-dimensional array of data of the same type. The documentation on Series is available on the `pandas.Series` [documentation page](https://pandas.pydata.org/pandas-docs/stable/reference/api/pandas.Series.html). Below is a Series example containing Pokémon names. \n",
    "\n",
    "![Pandas Series](media/series.png \"Pandas Series\")"
   ]
  },
  {
   "cell_type": "markdown",
   "metadata": {},
   "source": [
    "- **DataFrame** - A 2D, potentially heterogenous, tabular structure. It can be thought of as a container of Series. It is also possible to have 1-dimensional dataframes (dataframes with one column). The documentation on DataFrame is available on the `pandas.DataFrame` [documentation page](https://pandas.pydata.org/pandas-docs/stable/reference/api/pandas.DataFrame.html) Below is an example of a DataFrame with Pokémon characteristics. Notice the different datatypes - numeric, string, and boolean.\n",
    "\n",
    "![Pandas DataFrame](media/dataframe.PNG \"Pandas Dataframe\")"
   ]
  },
  {
   "cell_type": "markdown",
   "metadata": {},
   "source": [
    "Notice that both Series and DataFrame are **indexed** (row labels in the leftmost column). In the following two sections, we will see how Series/DataFrame can be instantiated (created) and explore their attributes and methods. If you don't remember what are attributes and methods, review the prep course chapters on objects.\n"
   ]
  },
  {
   "cell_type": "markdown",
   "metadata": {},
   "source": [
    "## 2. Series"
   ]
  },
  {
   "cell_type": "markdown",
   "metadata": {},
   "source": [
    "**Creating a series** in pandas is very easy - calling the `pd.Series` object and passing it data. We will start by creating a series of integers. One option how to pass the data is a **list**."
   ]
  },
  {
   "cell_type": "code",
   "execution_count": 2,
   "metadata": {},
   "outputs": [
    {
     "data": {
      "text/plain": [
       "0    10\n",
       "1     3\n",
       "2     5\n",
       "3     1\n",
       "4    12\n",
       "dtype: int64"
      ]
     },
     "execution_count": 2,
     "metadata": {},
     "output_type": "execute_result"
    }
   ],
   "source": [
    "s1 = pd.Series([10, 3, 5, 1, 12])\n",
    "s1"
   ]
  },
  {
   "cell_type": "markdown",
   "metadata": {},
   "source": [
    "The series is always **indexed**. This time, we did not explicitly define an index, therefore it was created automatically as a sequence of consecutive integers from 0 to the length of the data minus 1. The data in the series is ordered in the same way as in the list we passed. Pandas also correctly interpreted the integer datatype, `int64`, as shown below the printed series."
   ]
  },
  {
   "cell_type": "markdown",
   "metadata": {},
   "source": [
    "Let's see what happens when we pass a list containing **floats**:"
   ]
  },
  {
   "cell_type": "code",
   "execution_count": 3,
   "metadata": {},
   "outputs": [
    {
     "data": {
      "text/plain": [
       "0    5.0\n",
       "1    2.0\n",
       "2    5.2\n",
       "3    1.6\n",
       "4   -0.6\n",
       "5    6.0\n",
       "dtype: float64"
      ]
     },
     "execution_count": 3,
     "metadata": {},
     "output_type": "execute_result"
    }
   ],
   "source": [
    "s2 = pd.Series([5, 2, 5.2, 1.6, -0.6,6])\n",
    "s2"
   ]
  },
  {
   "cell_type": "markdown",
   "metadata": {},
   "source": [
    "Although the list contained both **integers** and **floats**, the series datatype is now `float64`, the more inclusive datatype, and the **integers** were promoted to **floats**. This is because by definition **Series cannot contain different datatypes**."
   ]
  },
  {
   "cell_type": "markdown",
   "metadata": {},
   "source": [
    "Next, let's pass a list of **strings**:"
   ]
  },
  {
   "cell_type": "code",
   "execution_count": 4,
   "metadata": {
    "scrolled": true
   },
   "outputs": [
    {
     "data": {
      "text/plain": [
       "0       Google\n",
       "1    Microsoft\n",
       "2     Facebook\n",
       "3        Apple\n",
       "dtype: object"
      ]
     },
     "execution_count": 4,
     "metadata": {},
     "output_type": "execute_result"
    }
   ],
   "source": [
    "s3 = pd.Series([\"Google\", \"Microsoft\", \"Facebook\", \"Apple\"])\n",
    "s3"
   ]
  },
  {
   "cell_type": "markdown",
   "metadata": {},
   "source": [
    "Ok, this time the datatype is `object`. What happens if we pass a mix of stuff? "
   ]
  },
  {
   "cell_type": "code",
   "execution_count": 5,
   "metadata": {},
   "outputs": [
    {
     "data": {
      "text/plain": [
       "0               1\n",
       "1             2.3\n",
       "2    omg a string\n",
       "3               2\n",
       "dtype: object"
      ]
     },
     "execution_count": 5,
     "metadata": {},
     "output_type": "execute_result"
    }
   ],
   "source": [
    "s4 = pd.Series([1, 2.3, \"omg a string\", 2])\n",
    "s4"
   ]
  },
  {
   "cell_type": "markdown",
   "metadata": {},
   "source": [
    "An `object` again! Time to make a small detour to datatypes."
   ]
  },
  {
   "cell_type": "markdown",
   "metadata": {},
   "source": [
    "### 2.1 Datatypes\n",
    "Pandas is intimately connected to NumPy and also uses its datatypes `float`, `int`, `bool`, `timedelta64[ns]` and `datetime64[ns]`. In pandas, all of these are **64bit** types, regardless of the operating system. In addition, pandas has its own so-called **extension datatypes**, e.g `strings`, `periods`, `intervals`, `categoricals`. You can see the full list [here](https://pandas.pydata.org/docs/user_guide/basics.html#dtypes) "
   ]
  },
  {
   "cell_type": "markdown",
   "metadata": {},
   "source": [
    "Let's look at our two series with object datatypes, `s3` and `s4`. While `s4` contains different kinds of data, `s3` only has strings and it's better to make this clear with the correct datatype. To make `s3` of string datatype, we have to pass the `dtype` argument when defining the series, like this:"
   ]
  },
  {
   "cell_type": "code",
   "execution_count": 6,
   "metadata": {},
   "outputs": [
    {
     "data": {
      "text/plain": [
       "0       Google\n",
       "1    Microsoft\n",
       "2     Facebook\n",
       "3        Apple\n",
       "dtype: string"
      ]
     },
     "execution_count": 6,
     "metadata": {},
     "output_type": "execute_result"
    }
   ],
   "source": [
    "s3 = pd.Series([\"Google\", \"Microsoft\", \"Facebook\", \"Apple\"],dtype='string')\n",
    "s3"
   ]
  },
  {
   "cell_type": "markdown",
   "metadata": {},
   "source": [
    "The `string` dtype did not exist in older versions of pandas. Now it is recommended to use the `string` datatype for text data for several reasons.\n",
    "1. First, a `string` series will not let you store anything but text data, but it can easily happen unintentionally in an `object` series. \n",
    "2. Second, there are datatype specific operations, such as selecting dataframe columns by datatype. Datatype `string` allows you to specifically select just text, unlike the `object` dtype. \n",
    "3. Third, the `string` datatype clearly identifies the contents of a series or dataframe column as text, while it is not so clear with the `object`datatype."
   ]
  },
  {
   "cell_type": "markdown",
   "metadata": {},
   "source": [
    "Series (and DataFrame as we will see later) has a class attribute that shows us their datatype. It's called `dtype` and can be used like this:"
   ]
  },
  {
   "cell_type": "code",
   "execution_count": 7,
   "metadata": {},
   "outputs": [
    {
     "data": {
      "text/plain": [
       "dtype('O')"
      ]
     },
     "execution_count": 7,
     "metadata": {},
     "output_type": "execute_result"
    }
   ],
   "source": [
    "s4.dtype"
   ]
  },
  {
   "cell_type": "markdown",
   "metadata": {},
   "source": [
    "Although the data type of `s4` is an `object`, its elements retain their own datatype. It can be seen with the `type()` function:"
   ]
  },
  {
   "cell_type": "code",
   "execution_count": 8,
   "metadata": {},
   "outputs": [
    {
     "name": "stdout",
     "output_type": "stream",
     "text": [
      "The first element of s4, '1', is of type <class 'int'>\n",
      "The second element of s4, '2.3', is of type <class 'float'>\n",
      "The first element of s4, 'omg a string', is of type <class 'str'>\n"
     ]
    }
   ],
   "source": [
    "print(f\"The first element of s4, '{s4[0]}', is of type {type(s4[0])}\")\n",
    "print(f\"The second element of s4, '{s4[1]}', is of type {type(s4[1])}\")\n",
    "print(f\"The first element of s4, '{s4[2]}', is of type {type(s4[2])}\")"
   ]
  },
  {
   "cell_type": "markdown",
   "metadata": {},
   "source": [
    "Pandas has several functions for **datatype conversion**: `to_numeric`, `to_datetime`, `to_timedelta`, `astype`. The first three are used to convert 1D objects to a specific datatype, while the last converts to the datatype specified by the user. \n",
    "\n",
    "A typical usage example is to convert string data to a numeric format:"
   ]
  },
  {
   "cell_type": "code",
   "execution_count": 9,
   "metadata": {},
   "outputs": [
    {
     "data": {
      "text/plain": [
       "0    1\n",
       "1    2\n",
       "2    3\n",
       "dtype: int64"
      ]
     },
     "execution_count": 9,
     "metadata": {},
     "output_type": "execute_result"
    }
   ],
   "source": [
    "pd.to_numeric(pd.Series(['1','2','3']))"
   ]
  },
  {
   "cell_type": "markdown",
   "metadata": {},
   "source": [
    "What if the input contains nonnumeric elements? We can use the `errors` argument to specify what to do. In this case, we choose to coerce the nonnumeric elements and they were converted to NaN."
   ]
  },
  {
   "cell_type": "code",
   "execution_count": 10,
   "metadata": {},
   "outputs": [
    {
     "data": {
      "text/plain": [
       "0    1.0\n",
       "1    2.3\n",
       "2    NaN\n",
       "3    2.0\n",
       "dtype: float64"
      ]
     },
     "execution_count": 10,
     "metadata": {},
     "output_type": "execute_result"
    }
   ],
   "source": [
    "pd.to_numeric(s4,errors='coerce')"
   ]
  },
  {
   "cell_type": "markdown",
   "metadata": {},
   "source": [
    "`astype` can also be applied to 2D objects, like dataframes. Here we use it to convert a float series to a string. Notice the different syntax:"
   ]
  },
  {
   "cell_type": "code",
   "execution_count": 11,
   "metadata": {},
   "outputs": [
    {
     "data": {
      "text/plain": [
       "0     5.0\n",
       "1     2.0\n",
       "2     5.2\n",
       "3     1.6\n",
       "4    -0.6\n",
       "5     6.0\n",
       "dtype: string"
      ]
     },
     "execution_count": 11,
     "metadata": {},
     "output_type": "execute_result"
    }
   ],
   "source": [
    "s2.astype('string')"
   ]
  },
  {
   "cell_type": "markdown",
   "metadata": {},
   "source": [
    "One more important point: in general, operating on data structures does **not change** the original data structure, but produces a **copy** of it. This ensures that you don't change your data structures unless you really want to. Many functions and methods have a `copy` or `inplace` argument for this purpose (set to `True` and `False` by default, respectively). To change the original data structure, you need to assign the result to it."
   ]
  },
  {
   "cell_type": "code",
   "execution_count": 12,
   "metadata": {},
   "outputs": [
    {
     "data": {
      "text/plain": [
       "0               1\n",
       "1             2.3\n",
       "2    omg a string\n",
       "3               2\n",
       "dtype: object"
      ]
     },
     "execution_count": 12,
     "metadata": {},
     "output_type": "execute_result"
    }
   ],
   "source": [
    "# s4 remained unchanged after the previous astype() operation.\n",
    "s4"
   ]
  },
  {
   "cell_type": "code",
   "execution_count": 13,
   "metadata": {},
   "outputs": [
    {
     "data": {
      "text/plain": [
       "0    1.0\n",
       "1    2.3\n",
       "2    NaN\n",
       "3    2.0\n",
       "dtype: float64"
      ]
     },
     "execution_count": 13,
     "metadata": {},
     "output_type": "execute_result"
    }
   ],
   "source": [
    "# Now we change it.\n",
    "s4=pd.to_numeric(s4,errors='coerce')\n",
    "s4"
   ]
  },
  {
   "cell_type": "markdown",
   "metadata": {},
   "source": [
    "### 2.2 Indexing "
   ]
  },
  {
   "cell_type": "markdown",
   "metadata": {},
   "source": [
    "We have already mentioned that `Series` and `DataFrame` are indexed. The previous examples had the default index, a sequence of consecutive integers starting with 0. It is possible to pass an explicit index using the `index` argument:"
   ]
  },
  {
   "cell_type": "code",
   "execution_count": 14,
   "metadata": {},
   "outputs": [
    {
     "data": {
      "text/plain": [
       "Google       Larry\n",
       "Microsoft     Bill\n",
       "Facebook      Mark\n",
       "Apple        Steve\n",
       "dtype: string"
      ]
     },
     "execution_count": 14,
     "metadata": {},
     "output_type": "execute_result"
    }
   ],
   "source": [
    "s5 = pd.Series(data=[\"Larry\", \"Bill\", \"Mark\", \"Steve\"], \n",
    "               index=[\"Google\", \"Microsoft\", \"Facebook\", \"Apple\"],\n",
    "               dtype='string')\n",
    "s5"
   ]
  },
  {
   "cell_type": "markdown",
   "metadata": {},
   "source": [
    "Index can be used for selecting rows in the series:"
   ]
  },
  {
   "cell_type": "code",
   "execution_count": 15,
   "metadata": {},
   "outputs": [
    {
     "data": {
      "text/plain": [
       "'Larry'"
      ]
     },
     "execution_count": 15,
     "metadata": {},
     "output_type": "execute_result"
    }
   ],
   "source": [
    "s5['Google']"
   ]
  },
  {
   "cell_type": "markdown",
   "metadata": {},
   "source": [
    "We can also call the series elements by their position. Even negative indexing is allowed:"
   ]
  },
  {
   "cell_type": "code",
   "execution_count": 16,
   "metadata": {},
   "outputs": [
    {
     "data": {
      "text/plain": [
       "'Steve'"
      ]
     },
     "execution_count": 16,
     "metadata": {},
     "output_type": "execute_result"
    }
   ],
   "source": [
    "s5[-1]"
   ]
  },
  {
   "cell_type": "markdown",
   "metadata": {},
   "source": [
    "The index attribute returns the `index` object, containing the sequence of all the row labels:"
   ]
  },
  {
   "cell_type": "code",
   "execution_count": 17,
   "metadata": {},
   "outputs": [
    {
     "data": {
      "text/plain": [
       "Index(['Google', 'Microsoft', 'Facebook', 'Apple'], dtype='object')"
      ]
     },
     "execution_count": 17,
     "metadata": {},
     "output_type": "execute_result"
    }
   ],
   "source": [
    "s5.index"
   ]
  },
  {
   "cell_type": "markdown",
   "metadata": {},
   "source": [
    "Another way to define an index is to create a series from a `dictionary`. The `keys` will become the `indices` and the `values` will be the `data` in the series."
   ]
  },
  {
   "cell_type": "code",
   "execution_count": 18,
   "metadata": {},
   "outputs": [
    {
     "data": {
      "text/plain": [
       "Google       Larry\n",
       "Microsoft     Bill\n",
       "Facebook      Mark\n",
       "Apple        Steve\n",
       "dtype: string"
      ]
     },
     "execution_count": 18,
     "metadata": {},
     "output_type": "execute_result"
    }
   ],
   "source": [
    "my_dict = {\"Google\": \"Larry\",\n",
    "           \"Microsoft\": \"Bill\",\n",
    "           \"Facebook\": \"Mark\",\n",
    "           \"Apple\": \"Steve\"}\n",
    "\n",
    "s6 = pd.Series(my_dict,dtype='string')\n",
    "s6"
   ]
  },
  {
   "cell_type": "markdown",
   "metadata": {},
   "source": [
    "When we define a series from a dictionary, but still pass an index, the dictionary values corresponding to the keys in the index will be **pulled out**:"
   ]
  },
  {
   "cell_type": "code",
   "execution_count": 19,
   "metadata": {},
   "outputs": [
    {
     "data": {
      "text/plain": [
       "Facebook     Mark\n",
       "Google      Larry\n",
       "Apple       Steve\n",
       "Google      Larry\n",
       "dtype: string"
      ]
     },
     "execution_count": 19,
     "metadata": {},
     "output_type": "execute_result"
    }
   ],
   "source": [
    "s7 = pd.Series(my_dict,dtype='string',index=['Facebook','Google','Apple','Google'])\n",
    "s7"
   ]
  },
  {
   "cell_type": "markdown",
   "metadata": {},
   "source": [
    "Yes, some values in the index repeat! This is allowed in pandas."
   ]
  },
  {
   "cell_type": "markdown",
   "metadata": {},
   "source": [
    "<img src=\"media/no-problem-panda-approves.jpg\" width=\"400\"/>"
   ]
  },
  {
   "cell_type": "markdown",
   "metadata": {},
   "source": [
    "### 2.3 Extracting data from series\n",
    "Sometimes you need to extract the data from your series and have it in the form of an array. There are two ways how to do it: the `to_numpy()` method and the `array` attribute. In both cases, we get an array, but `to_numpy()` returns a `NumPy array` and `array` returns a `pandas ExtensionArray` with pandas own datatypes. There is not much difference when dealing with numeric data:"
   ]
  },
  {
   "cell_type": "code",
   "execution_count": 20,
   "metadata": {},
   "outputs": [
    {
     "data": {
      "text/plain": [
       "array([ 5. ,  2. ,  5.2,  1.6, -0.6,  6. ])"
      ]
     },
     "execution_count": 20,
     "metadata": {},
     "output_type": "execute_result"
    }
   ],
   "source": [
    "s2.to_numpy()"
   ]
  },
  {
   "cell_type": "code",
   "execution_count": 21,
   "metadata": {},
   "outputs": [
    {
     "data": {
      "text/plain": [
       "<PandasArray>\n",
       "[5.0, 2.0, 5.2, 1.6, -0.6, 6.0]\n",
       "Length: 6, dtype: float64"
      ]
     },
     "execution_count": 21,
     "metadata": {},
     "output_type": "execute_result"
    }
   ],
   "source": [
    "s2.array"
   ]
  },
  {
   "cell_type": "markdown",
   "metadata": {},
   "source": [
    "Both arrays are of type `float`. In case of non-numeric datatypes, it is more complicated, because `to_numpy()` has to coerce the datatypes that NumPy does not support. With a string series, the output is `string` or `object`:"
   ]
  },
  {
   "cell_type": "code",
   "execution_count": 22,
   "metadata": {},
   "outputs": [
    {
     "data": {
      "text/plain": [
       "<StringArray>\n",
       "['Larry', 'Bill', 'Mark', 'Steve']\n",
       "Length: 4, dtype: string"
      ]
     },
     "execution_count": 22,
     "metadata": {},
     "output_type": "execute_result"
    }
   ],
   "source": [
    "s5.array"
   ]
  },
  {
   "cell_type": "code",
   "execution_count": 23,
   "metadata": {},
   "outputs": [
    {
     "data": {
      "text/plain": [
       "array(['Larry', 'Bill', 'Mark', 'Steve'], dtype=object)"
      ]
     },
     "execution_count": 23,
     "metadata": {},
     "output_type": "execute_result"
    }
   ],
   "source": [
    "s5.to_numpy()"
   ]
  },
  {
   "cell_type": "markdown",
   "metadata": {},
   "source": [
    "We can use the same syntax for `index`:"
   ]
  },
  {
   "cell_type": "code",
   "execution_count": 24,
   "metadata": {},
   "outputs": [
    {
     "data": {
      "text/plain": [
       "<PandasArray>\n",
       "['Google', 'Microsoft', 'Facebook', 'Apple']\n",
       "Length: 4, dtype: object"
      ]
     },
     "execution_count": 24,
     "metadata": {},
     "output_type": "execute_result"
    }
   ],
   "source": [
    "s5.index.array"
   ]
  },
  {
   "cell_type": "code",
   "execution_count": 25,
   "metadata": {},
   "outputs": [
    {
     "data": {
      "text/plain": [
       "array(['Google', 'Microsoft', 'Facebook', 'Apple'], dtype=object)"
      ]
     },
     "execution_count": 25,
     "metadata": {},
     "output_type": "execute_result"
    }
   ],
   "source": [
    "s5.index.to_numpy()"
   ]
  },
  {
   "cell_type": "markdown",
   "metadata": {},
   "source": [
    "Which option should you choose, `array` or `to_numpy()`? That depends on how you plan to use the output. If it's going to serve as input into a function, check what that function asks for. Different functions and methods will accept either a `pandas ExtensionArray` or a `NumPy array`. Note that the `Series` itself is also a valid argument to most NumPy functions.\n",
    "\n",
    "There is another option which you may see in code using older versions of pandas, the `values` attribute. It is recommended to avoid it because in case your series contains pandas extension datatypes, it is unclear whether `values` returns a `pandas ExtensionArray` or a `NumPy array`."
   ]
  },
  {
   "cell_type": "code",
   "execution_count": 26,
   "metadata": {},
   "outputs": [
    {
     "data": {
      "text/plain": [
       "<StringArray>\n",
       "['Larry', 'Bill', 'Mark', 'Steve']\n",
       "Length: 4, dtype: string"
      ]
     },
     "execution_count": 26,
     "metadata": {},
     "output_type": "execute_result"
    }
   ],
   "source": [
    "s5.values "
   ]
  },
  {
   "cell_type": "markdown",
   "metadata": {},
   "source": [
    "## 3. DataFrames"
   ]
  },
  {
   "cell_type": "markdown",
   "metadata": {},
   "source": [
    "As mentioned previously, a `DataFrame` is a 2D tabular structure (think Excel sheet). It's the most commonly used data structure in pandas. The documentation for `DataFrame` is available [here](https://pandas.pydata.org/pandas-docs/stable/generated/pandas.DataFrame.html)."
   ]
  },
  {
   "cell_type": "markdown",
   "metadata": {},
   "source": [
    "Let's **create** our first dataframe: "
   ]
  },
  {
   "cell_type": "code",
   "execution_count": 27,
   "metadata": {},
   "outputs": [
    {
     "data": {
      "text/html": [
       "<div>\n",
       "<style scoped>\n",
       "    .dataframe tbody tr th:only-of-type {\n",
       "        vertical-align: middle;\n",
       "    }\n",
       "\n",
       "    .dataframe tbody tr th {\n",
       "        vertical-align: top;\n",
       "    }\n",
       "\n",
       "    .dataframe thead th {\n",
       "        text-align: right;\n",
       "    }\n",
       "</style>\n",
       "<table border=\"1\" class=\"dataframe\">\n",
       "  <thead>\n",
       "    <tr style=\"text-align: right;\">\n",
       "      <th></th>\n",
       "      <th>0</th>\n",
       "    </tr>\n",
       "  </thead>\n",
       "  <tbody>\n",
       "    <tr>\n",
       "      <th>0</th>\n",
       "      <td>10</td>\n",
       "    </tr>\n",
       "    <tr>\n",
       "      <th>1</th>\n",
       "      <td>122</td>\n",
       "    </tr>\n",
       "    <tr>\n",
       "      <th>2</th>\n",
       "      <td>1</td>\n",
       "    </tr>\n",
       "  </tbody>\n",
       "</table>\n",
       "</div>"
      ],
      "text/plain": [
       "     0\n",
       "0   10\n",
       "1  122\n",
       "2    1"
      ]
     },
     "execution_count": 27,
     "metadata": {},
     "output_type": "execute_result"
    }
   ],
   "source": [
    "df1 = pd.DataFrame([10,122,1])\n",
    "df1"
   ]
  },
  {
   "cell_type": "markdown",
   "metadata": {},
   "source": [
    "Now this might look like a pandas Series on the first sight, but it behaves differently in some ways (and similarly in others). The `DataFrame` has an index as a Series, but additionally it has column names (the zero above the  horizontal line in this example). Remember that when printing Series, pandas automatically printed the `datatype`? It does not happen with the DataFrame. The DataFrame as a whole does not have a datatype, but each of its columns does. \n",
    "\n",
    "Let's print the dataframe column. We use **square brackets** with the column name to select it. In this case, the **column name** is just a number. (If you remember from the Series section, this was the way to select the Series rows - the first difference!)  \n",
    "A DataFrame column called in this way is actually a pandas `Series`."
   ]
  },
  {
   "cell_type": "code",
   "execution_count": 28,
   "metadata": {},
   "outputs": [
    {
     "data": {
      "text/plain": [
       "0     10\n",
       "1    122\n",
       "2      1\n",
       "Name: 0, dtype: int64"
      ]
     },
     "execution_count": 28,
     "metadata": {},
     "output_type": "execute_result"
    }
   ],
   "source": [
    "df1[0] "
   ]
  },
  {
   "cell_type": "markdown",
   "metadata": {},
   "source": [
    "There is another way to select a column using **two pairs of square brackets**:"
   ]
  },
  {
   "cell_type": "code",
   "execution_count": 29,
   "metadata": {},
   "outputs": [
    {
     "data": {
      "text/html": [
       "<div>\n",
       "<style scoped>\n",
       "    .dataframe tbody tr th:only-of-type {\n",
       "        vertical-align: middle;\n",
       "    }\n",
       "\n",
       "    .dataframe tbody tr th {\n",
       "        vertical-align: top;\n",
       "    }\n",
       "\n",
       "    .dataframe thead th {\n",
       "        text-align: right;\n",
       "    }\n",
       "</style>\n",
       "<table border=\"1\" class=\"dataframe\">\n",
       "  <thead>\n",
       "    <tr style=\"text-align: right;\">\n",
       "      <th></th>\n",
       "      <th>0</th>\n",
       "    </tr>\n",
       "  </thead>\n",
       "  <tbody>\n",
       "    <tr>\n",
       "      <th>0</th>\n",
       "      <td>10</td>\n",
       "    </tr>\n",
       "    <tr>\n",
       "      <th>1</th>\n",
       "      <td>122</td>\n",
       "    </tr>\n",
       "    <tr>\n",
       "      <th>2</th>\n",
       "      <td>1</td>\n",
       "    </tr>\n",
       "  </tbody>\n",
       "</table>\n",
       "</div>"
      ],
      "text/plain": [
       "     0\n",
       "0   10\n",
       "1  122\n",
       "2    1"
      ]
     },
     "execution_count": 29,
     "metadata": {},
     "output_type": "execute_result"
    }
   ],
   "source": [
    "df1[[0]]"
   ]
  },
  {
   "cell_type": "markdown",
   "metadata": {},
   "source": [
    "You probably guessed by the look of it that this is a `DataFrame`! **Remember**: **one** pair of brackets --> `Series`, **two pairs** of brackets --> `DataFrame`.\n",
    "\n",
    "But how can you select a DataFrame row? Like this, selecting by **row name**:"
   ]
  },
  {
   "cell_type": "code",
   "execution_count": 30,
   "metadata": {},
   "outputs": [
    {
     "data": {
      "text/plain": [
       "0    10\n",
       "Name: 0, dtype: int64"
      ]
     },
     "execution_count": 30,
     "metadata": {},
     "output_type": "execute_result"
    }
   ],
   "source": [
    "df1.loc[0]"
   ]
  },
  {
   "cell_type": "markdown",
   "metadata": {},
   "source": [
    "Or like this, selecting by **row position**:"
   ]
  },
  {
   "cell_type": "code",
   "execution_count": 31,
   "metadata": {},
   "outputs": [
    {
     "data": {
      "text/plain": [
       "0    10\n",
       "Name: 0, dtype: int64"
      ]
     },
     "execution_count": 31,
     "metadata": {},
     "output_type": "execute_result"
    }
   ],
   "source": [
    "df1.iloc[0]"
   ]
  },
  {
   "cell_type": "markdown",
   "metadata": {},
   "source": [
    "Now on to a dataframe with more columns. We will also pass a list of `column names` and another list for the `index`, using the appropriate arguments."
   ]
  },
  {
   "cell_type": "code",
   "execution_count": 32,
   "metadata": {},
   "outputs": [
    {
     "data": {
      "text/html": [
       "<div>\n",
       "<style scoped>\n",
       "    .dataframe tbody tr th:only-of-type {\n",
       "        vertical-align: middle;\n",
       "    }\n",
       "\n",
       "    .dataframe tbody tr th {\n",
       "        vertical-align: top;\n",
       "    }\n",
       "\n",
       "    .dataframe thead th {\n",
       "        text-align: right;\n",
       "    }\n",
       "</style>\n",
       "<table border=\"1\" class=\"dataframe\">\n",
       "  <thead>\n",
       "    <tr style=\"text-align: right;\">\n",
       "      <th></th>\n",
       "      <th>col1</th>\n",
       "      <th>col2</th>\n",
       "      <th>col3</th>\n",
       "    </tr>\n",
       "  </thead>\n",
       "  <tbody>\n",
       "    <tr>\n",
       "      <th>row1</th>\n",
       "      <td>1</td>\n",
       "      <td>2</td>\n",
       "      <td>7</td>\n",
       "    </tr>\n",
       "    <tr>\n",
       "      <th>row2</th>\n",
       "      <td>4.2</td>\n",
       "      <td>6.1</td>\n",
       "      <td>-4.1</td>\n",
       "    </tr>\n",
       "    <tr>\n",
       "      <th>row3</th>\n",
       "      <td>a</td>\n",
       "      <td>b</td>\n",
       "      <td>z</td>\n",
       "    </tr>\n",
       "  </tbody>\n",
       "</table>\n",
       "</div>"
      ],
      "text/plain": [
       "     col1 col2 col3\n",
       "row1    1    2    7\n",
       "row2  4.2  6.1 -4.1\n",
       "row3    a    b    z"
      ]
     },
     "execution_count": 32,
     "metadata": {},
     "output_type": "execute_result"
    }
   ],
   "source": [
    "# ignore the weird spacing, it's just to make clear that we have 3 lists of 3 elements\n",
    "# notice that this is a list of lists\n",
    "\n",
    "df2 = pd.DataFrame([[1,   2,   7],  \n",
    "                    [4.2, 6.1, -4.1], \n",
    "                    [\"a\", \"b\", \"z\"] ],\n",
    "                    columns=['col1','col2','col3'],  # <- column names\n",
    "                    index=['row1','row2','row3'])    # <- row names\n",
    "df2"
   ]
  },
  {
   "cell_type": "markdown",
   "metadata": {},
   "source": [
    "Hmm, this might be surprising, but that's the way it is - each list is a row, not a column. What to do if you need the lists to become columns? Instead of passing the three lists inside another list, put them into a dictionary. You get the column names for free this time."
   ]
  },
  {
   "cell_type": "code",
   "execution_count": 33,
   "metadata": {
    "scrolled": true
   },
   "outputs": [
    {
     "data": {
      "text/html": [
       "<div>\n",
       "<style scoped>\n",
       "    .dataframe tbody tr th:only-of-type {\n",
       "        vertical-align: middle;\n",
       "    }\n",
       "\n",
       "    .dataframe tbody tr th {\n",
       "        vertical-align: top;\n",
       "    }\n",
       "\n",
       "    .dataframe thead th {\n",
       "        text-align: right;\n",
       "    }\n",
       "</style>\n",
       "<table border=\"1\" class=\"dataframe\">\n",
       "  <thead>\n",
       "    <tr style=\"text-align: right;\">\n",
       "      <th></th>\n",
       "      <th>col1</th>\n",
       "      <th>col2</th>\n",
       "      <th>col3</th>\n",
       "    </tr>\n",
       "  </thead>\n",
       "  <tbody>\n",
       "    <tr>\n",
       "      <th>row1</th>\n",
       "      <td>1</td>\n",
       "      <td>4.2</td>\n",
       "      <td>a</td>\n",
       "    </tr>\n",
       "    <tr>\n",
       "      <th>row2</th>\n",
       "      <td>2</td>\n",
       "      <td>6.1</td>\n",
       "      <td>b</td>\n",
       "    </tr>\n",
       "    <tr>\n",
       "      <th>row3</th>\n",
       "      <td>7</td>\n",
       "      <td>-4.1</td>\n",
       "      <td>z</td>\n",
       "    </tr>\n",
       "  </tbody>\n",
       "</table>\n",
       "</div>"
      ],
      "text/plain": [
       "      col1  col2 col3\n",
       "row1     1   4.2    a\n",
       "row2     2   6.1    b\n",
       "row3     7  -4.1    z"
      ]
     },
     "execution_count": 33,
     "metadata": {},
     "output_type": "execute_result"
    }
   ],
   "source": [
    "df3=pd.DataFrame({ 'col1':[1,   2,   7],  \n",
    "                   'col2':[4.2, 6.1, -4.1], \n",
    "                   'col3':[\"a\", \"b\", \"z\"] },\n",
    "                   index=['row1','row2','row3'])\n",
    "df3"
   ]
  },
  {
   "cell_type": "markdown",
   "metadata": {},
   "source": [
    "Very often, your data comes in lists, including the column names. It's easy to zip them into a `dictionary`..."
   ]
  },
  {
   "cell_type": "code",
   "execution_count": 34,
   "metadata": {},
   "outputs": [],
   "source": [
    "company = [\"PiggyVest\",\"Bumble\",\"Backstage Capital\",\"Blendoor\",\"LungXpert\", \"Cisco\",\"Eventbrite\",\n",
    "                \"Adafruit Industries\",\"Verge Genomics\",\"23andme\"]\n",
    "founder_name = [\"Odunayo\",\"Whitney\",\"Arlan\",\"Stephanie\",\"Sasikala\",\"Sandy\",\"Julia\",\"Limor\",\"Alice\",\"Anne\"]\n",
    "founder_surname = [\"Eweniyi\",\"Wolfe Heard\",\"Hamilton\",\"Lampkin\",\"Devi\",\"Lerner\",\"Hartz\",\"Fried\",\"Zhang\",\"Wojcicki\"]\n",
    "column_names=[\"company\",\"founder_name\",\"founder_surname\"]"
   ]
  },
  {
   "cell_type": "code",
   "execution_count": 35,
   "metadata": {},
   "outputs": [],
   "source": [
    "tech_companies_dictionary=dict(zip(column_names,[company,founder_name,founder_surname]))"
   ]
  },
  {
   "cell_type": "markdown",
   "metadata": {},
   "source": [
    "... then pass it to the `DataFrame`:"
   ]
  },
  {
   "cell_type": "code",
   "execution_count": 36,
   "metadata": {},
   "outputs": [
    {
     "data": {
      "text/html": [
       "<div>\n",
       "<style scoped>\n",
       "    .dataframe tbody tr th:only-of-type {\n",
       "        vertical-align: middle;\n",
       "    }\n",
       "\n",
       "    .dataframe tbody tr th {\n",
       "        vertical-align: top;\n",
       "    }\n",
       "\n",
       "    .dataframe thead th {\n",
       "        text-align: right;\n",
       "    }\n",
       "</style>\n",
       "<table border=\"1\" class=\"dataframe\">\n",
       "  <thead>\n",
       "    <tr style=\"text-align: right;\">\n",
       "      <th></th>\n",
       "      <th>company</th>\n",
       "      <th>founder_name</th>\n",
       "      <th>founder_surname</th>\n",
       "    </tr>\n",
       "  </thead>\n",
       "  <tbody>\n",
       "    <tr>\n",
       "      <th>0</th>\n",
       "      <td>PiggyVest</td>\n",
       "      <td>Odunayo</td>\n",
       "      <td>Eweniyi</td>\n",
       "    </tr>\n",
       "    <tr>\n",
       "      <th>1</th>\n",
       "      <td>Bumble</td>\n",
       "      <td>Whitney</td>\n",
       "      <td>Wolfe Heard</td>\n",
       "    </tr>\n",
       "    <tr>\n",
       "      <th>2</th>\n",
       "      <td>Backstage Capital</td>\n",
       "      <td>Arlan</td>\n",
       "      <td>Hamilton</td>\n",
       "    </tr>\n",
       "    <tr>\n",
       "      <th>3</th>\n",
       "      <td>Blendoor</td>\n",
       "      <td>Stephanie</td>\n",
       "      <td>Lampkin</td>\n",
       "    </tr>\n",
       "    <tr>\n",
       "      <th>4</th>\n",
       "      <td>LungXpert</td>\n",
       "      <td>Sasikala</td>\n",
       "      <td>Devi</td>\n",
       "    </tr>\n",
       "    <tr>\n",
       "      <th>5</th>\n",
       "      <td>Cisco</td>\n",
       "      <td>Sandy</td>\n",
       "      <td>Lerner</td>\n",
       "    </tr>\n",
       "    <tr>\n",
       "      <th>6</th>\n",
       "      <td>Eventbrite</td>\n",
       "      <td>Julia</td>\n",
       "      <td>Hartz</td>\n",
       "    </tr>\n",
       "    <tr>\n",
       "      <th>7</th>\n",
       "      <td>Adafruit Industries</td>\n",
       "      <td>Limor</td>\n",
       "      <td>Fried</td>\n",
       "    </tr>\n",
       "    <tr>\n",
       "      <th>8</th>\n",
       "      <td>Verge Genomics</td>\n",
       "      <td>Alice</td>\n",
       "      <td>Zhang</td>\n",
       "    </tr>\n",
       "    <tr>\n",
       "      <th>9</th>\n",
       "      <td>23andme</td>\n",
       "      <td>Anne</td>\n",
       "      <td>Wojcicki</td>\n",
       "    </tr>\n",
       "  </tbody>\n",
       "</table>\n",
       "</div>"
      ],
      "text/plain": [
       "               company founder_name founder_surname\n",
       "0            PiggyVest      Odunayo         Eweniyi\n",
       "1               Bumble      Whitney     Wolfe Heard\n",
       "2    Backstage Capital        Arlan        Hamilton\n",
       "3             Blendoor    Stephanie         Lampkin\n",
       "4            LungXpert     Sasikala            Devi\n",
       "5                Cisco        Sandy          Lerner\n",
       "6           Eventbrite        Julia           Hartz\n",
       "7  Adafruit Industries        Limor           Fried\n",
       "8       Verge Genomics        Alice           Zhang\n",
       "9              23andme         Anne        Wojcicki"
      ]
     },
     "execution_count": 36,
     "metadata": {},
     "output_type": "execute_result"
    }
   ],
   "source": [
    "df6 = pd.DataFrame(tech_companies_dictionary)\n",
    "df6"
   ]
  },
  {
   "cell_type": "markdown",
   "metadata": {},
   "source": [
    "To make it perfect, we will also set the correct datatypes. The `convert_dtypes()` method infers the best possible datatypes. As listed with the `dtypes` attribute, each column has a specific datatype and the whole dataframe is of datatype object."
   ]
  },
  {
   "cell_type": "code",
   "execution_count": 37,
   "metadata": {},
   "outputs": [
    {
     "data": {
      "text/plain": [
       "company            string\n",
       "founder_name       string\n",
       "founder_surname    string\n",
       "dtype: object"
      ]
     },
     "execution_count": 37,
     "metadata": {},
     "output_type": "execute_result"
    }
   ],
   "source": [
    "df6=df6.convert_dtypes()\n",
    "df6.dtypes"
   ]
  },
  {
   "cell_type": "markdown",
   "metadata": {},
   "source": [
    "You might wonder if it's possible to use the `dtype` argument, as with Series. It is, but only one datatype can be set for the whole dataframe."
   ]
  },
  {
   "cell_type": "code",
   "execution_count": 38,
   "metadata": {
    "scrolled": true
   },
   "outputs": [
    {
     "data": {
      "text/plain": [
       "company            string\n",
       "founder_name       string\n",
       "founder_surname    string\n",
       "dtype: object"
      ]
     },
     "execution_count": 38,
     "metadata": {},
     "output_type": "execute_result"
    }
   ],
   "source": [
    "df6 = pd.DataFrame(tech_companies_dictionary,dtype='string')\n",
    "df6.dtypes"
   ]
  },
  {
   "cell_type": "markdown",
   "metadata": {},
   "source": [
    "### 3.1 Making dataframes from series"
   ]
  },
  {
   "cell_type": "markdown",
   "metadata": {},
   "source": [
    "Let's do the same thing again, using everything we've learned so far:"
   ]
  },
  {
   "cell_type": "code",
   "execution_count": 39,
   "metadata": {},
   "outputs": [],
   "source": [
    "# Let's say we have these lists somewhere on our computer: \n",
    "company = [\"PiggyVest\",\"Bumble\",\"Backstage Capital\",\"Blendoor\",\"LungXpert\", \"Cisco\",\"Eventbrite\",\n",
    "                \"Adafruit Industries\",\"Verge Genomics\",\"23andme\"]\n",
    "founder_name = [\"Odunayo\",\"Whitney\",\"Arlan\",\"Stephanie\",\"Sasikala\",\"Sandy\",\"Julia\",\"Limor\",\"Alice\",\"Anne\"]\n",
    "founder_surname = [\"Eweniyi\",\"Wolfe Heard\",\"Hamilton\",\"Lampkin\",\"Devi\",\"Lerner\",\"Hartz\",\"Fried\",\"Zhang\",\"Wojcicki\"]\n",
    "column_names=[\"company\",\"founder_name\",\"founder_surname\"]"
   ]
  },
  {
   "cell_type": "markdown",
   "metadata": {},
   "source": [
    "Let's make some series, using the company name as index: "
   ]
  },
  {
   "cell_type": "code",
   "execution_count": 40,
   "metadata": {},
   "outputs": [
    {
     "data": {
      "text/plain": [
       "PiggyVest                Odunayo\n",
       "Bumble                   Whitney\n",
       "Backstage Capital          Arlan\n",
       "Blendoor               Stephanie\n",
       "LungXpert               Sasikala\n",
       "Cisco                      Sandy\n",
       "Eventbrite                 Julia\n",
       "Adafruit Industries        Limor\n",
       "Verge Genomics             Alice\n",
       "23andme                     Anne\n",
       "dtype: string"
      ]
     },
     "execution_count": 40,
     "metadata": {},
     "output_type": "execute_result"
    }
   ],
   "source": [
    "series_of_founder_names = pd.Series(data=founder_name, # <-- data \n",
    "                                    index=company,     # <-- index \n",
    "                                    dtype='string')    # <-- datatype \n",
    "series_of_founder_names"
   ]
  },
  {
   "cell_type": "markdown",
   "metadata": {},
   "source": [
    "Same thing, this time for surnames: "
   ]
  },
  {
   "cell_type": "code",
   "execution_count": 41,
   "metadata": {},
   "outputs": [
    {
     "data": {
      "text/plain": [
       "PiggyVest                  Eweniyi\n",
       "Bumble                 Wolfe Heard\n",
       "Backstage Capital         Hamilton\n",
       "Blendoor                   Lampkin\n",
       "LungXpert                     Devi\n",
       "Cisco                       Lerner\n",
       "Eventbrite                   Hartz\n",
       "Adafruit Industries          Fried\n",
       "Verge Genomics               Zhang\n",
       "23andme                   Wojcicki\n",
       "dtype: string"
      ]
     },
     "execution_count": 41,
     "metadata": {},
     "output_type": "execute_result"
    }
   ],
   "source": [
    "series_of_founder_surnames = pd.Series(data=founder_surname, # <-- different data\n",
    "                                    index=company,           # <-- same index \n",
    "                                    dtype='string')          # <-- datatype   \n",
    "series_of_founder_surnames"
   ]
  },
  {
   "cell_type": "markdown",
   "metadata": {},
   "source": [
    "Now with these two series we can create a dataframe! Pandas will notice that they have the same index, and will give the dataframe that index: "
   ]
  },
  {
   "cell_type": "code",
   "execution_count": 42,
   "metadata": {},
   "outputs": [
    {
     "data": {
      "text/html": [
       "<div>\n",
       "<style scoped>\n",
       "    .dataframe tbody tr th:only-of-type {\n",
       "        vertical-align: middle;\n",
       "    }\n",
       "\n",
       "    .dataframe tbody tr th {\n",
       "        vertical-align: top;\n",
       "    }\n",
       "\n",
       "    .dataframe thead th {\n",
       "        text-align: right;\n",
       "    }\n",
       "</style>\n",
       "<table border=\"1\" class=\"dataframe\">\n",
       "  <thead>\n",
       "    <tr style=\"text-align: right;\">\n",
       "      <th></th>\n",
       "      <th>founder_name</th>\n",
       "      <th>founder_surname</th>\n",
       "    </tr>\n",
       "  </thead>\n",
       "  <tbody>\n",
       "    <tr>\n",
       "      <th>PiggyVest</th>\n",
       "      <td>Odunayo</td>\n",
       "      <td>Eweniyi</td>\n",
       "    </tr>\n",
       "    <tr>\n",
       "      <th>Bumble</th>\n",
       "      <td>Whitney</td>\n",
       "      <td>Wolfe Heard</td>\n",
       "    </tr>\n",
       "    <tr>\n",
       "      <th>Backstage Capital</th>\n",
       "      <td>Arlan</td>\n",
       "      <td>Hamilton</td>\n",
       "    </tr>\n",
       "    <tr>\n",
       "      <th>Blendoor</th>\n",
       "      <td>Stephanie</td>\n",
       "      <td>Lampkin</td>\n",
       "    </tr>\n",
       "    <tr>\n",
       "      <th>LungXpert</th>\n",
       "      <td>Sasikala</td>\n",
       "      <td>Devi</td>\n",
       "    </tr>\n",
       "    <tr>\n",
       "      <th>Cisco</th>\n",
       "      <td>Sandy</td>\n",
       "      <td>Lerner</td>\n",
       "    </tr>\n",
       "    <tr>\n",
       "      <th>Eventbrite</th>\n",
       "      <td>Julia</td>\n",
       "      <td>Hartz</td>\n",
       "    </tr>\n",
       "    <tr>\n",
       "      <th>Adafruit Industries</th>\n",
       "      <td>Limor</td>\n",
       "      <td>Fried</td>\n",
       "    </tr>\n",
       "    <tr>\n",
       "      <th>Verge Genomics</th>\n",
       "      <td>Alice</td>\n",
       "      <td>Zhang</td>\n",
       "    </tr>\n",
       "    <tr>\n",
       "      <th>23andme</th>\n",
       "      <td>Anne</td>\n",
       "      <td>Wojcicki</td>\n",
       "    </tr>\n",
       "  </tbody>\n",
       "</table>\n",
       "</div>"
      ],
      "text/plain": [
       "                    founder_name founder_surname\n",
       "PiggyVest                Odunayo         Eweniyi\n",
       "Bumble                   Whitney     Wolfe Heard\n",
       "Backstage Capital          Arlan        Hamilton\n",
       "Blendoor               Stephanie         Lampkin\n",
       "LungXpert               Sasikala            Devi\n",
       "Cisco                      Sandy          Lerner\n",
       "Eventbrite                 Julia           Hartz\n",
       "Adafruit Industries        Limor           Fried\n",
       "Verge Genomics             Alice           Zhang\n",
       "23andme                     Anne        Wojcicki"
      ]
     },
     "execution_count": 42,
     "metadata": {},
     "output_type": "execute_result"
    }
   ],
   "source": [
    "df7 = pd.DataFrame({'founder_name': series_of_founder_names,  \n",
    "                    'founder_surname': series_of_founder_surnames})\n",
    "df7"
   ]
  },
  {
   "cell_type": "markdown",
   "metadata": {},
   "source": [
    "By passing `series` (in this case sharing the index) as values of a `dictionary`, pandas is able to use the `key` value as `column` name and the `index` as the `row` name. The column and index (row) are also acessible, as will be shown below."
   ]
  },
  {
   "cell_type": "markdown",
   "metadata": {},
   "source": [
    "### 3.2 What if my data isn't a pandas Series?"
   ]
  },
  {
   "cell_type": "markdown",
   "metadata": {},
   "source": [
    "It will often happen that you have a list or an array:"
   ]
  },
  {
   "cell_type": "code",
   "execution_count": 43,
   "metadata": {},
   "outputs": [],
   "source": [
    "number_of_employees = [71, 700, 12, 20, 10, 79500, 1000, 105, 49, 683]"
   ]
  },
  {
   "cell_type": "code",
   "execution_count": 44,
   "metadata": {},
   "outputs": [
    {
     "data": {
      "text/plain": [
       "0       71\n",
       "1      700\n",
       "2       12\n",
       "3       20\n",
       "4       10\n",
       "5    79500\n",
       "6     1000\n",
       "7      105\n",
       "8       49\n",
       "9      683\n",
       "dtype: int64"
      ]
     },
     "execution_count": 44,
     "metadata": {},
     "output_type": "execute_result"
    }
   ],
   "source": [
    "series_number_of_employees = pd.Series(data=number_of_employees) # <-- data, no index \n",
    "# this has an index, although we did not pass it - Series always has an index\n",
    "series_number_of_employees"
   ]
  },
  {
   "cell_type": "markdown",
   "metadata": {},
   "source": [
    "Now, you may be tempted to add this series directly to the dataframe, and pandas won't stop you:"
   ]
  },
  {
   "cell_type": "code",
   "execution_count": 45,
   "metadata": {},
   "outputs": [
    {
     "data": {
      "text/html": [
       "<div>\n",
       "<style scoped>\n",
       "    .dataframe tbody tr th:only-of-type {\n",
       "        vertical-align: middle;\n",
       "    }\n",
       "\n",
       "    .dataframe tbody tr th {\n",
       "        vertical-align: top;\n",
       "    }\n",
       "\n",
       "    .dataframe thead th {\n",
       "        text-align: right;\n",
       "    }\n",
       "</style>\n",
       "<table border=\"1\" class=\"dataframe\">\n",
       "  <thead>\n",
       "    <tr style=\"text-align: right;\">\n",
       "      <th></th>\n",
       "      <th>founder_name</th>\n",
       "      <th>founder_surname</th>\n",
       "      <th>number_employees</th>\n",
       "    </tr>\n",
       "  </thead>\n",
       "  <tbody>\n",
       "    <tr>\n",
       "      <th>0</th>\n",
       "      <td>&lt;NA&gt;</td>\n",
       "      <td>&lt;NA&gt;</td>\n",
       "      <td>71.0</td>\n",
       "    </tr>\n",
       "    <tr>\n",
       "      <th>1</th>\n",
       "      <td>&lt;NA&gt;</td>\n",
       "      <td>&lt;NA&gt;</td>\n",
       "      <td>700.0</td>\n",
       "    </tr>\n",
       "    <tr>\n",
       "      <th>2</th>\n",
       "      <td>&lt;NA&gt;</td>\n",
       "      <td>&lt;NA&gt;</td>\n",
       "      <td>12.0</td>\n",
       "    </tr>\n",
       "    <tr>\n",
       "      <th>3</th>\n",
       "      <td>&lt;NA&gt;</td>\n",
       "      <td>&lt;NA&gt;</td>\n",
       "      <td>20.0</td>\n",
       "    </tr>\n",
       "    <tr>\n",
       "      <th>4</th>\n",
       "      <td>&lt;NA&gt;</td>\n",
       "      <td>&lt;NA&gt;</td>\n",
       "      <td>10.0</td>\n",
       "    </tr>\n",
       "    <tr>\n",
       "      <th>5</th>\n",
       "      <td>&lt;NA&gt;</td>\n",
       "      <td>&lt;NA&gt;</td>\n",
       "      <td>79500.0</td>\n",
       "    </tr>\n",
       "    <tr>\n",
       "      <th>6</th>\n",
       "      <td>&lt;NA&gt;</td>\n",
       "      <td>&lt;NA&gt;</td>\n",
       "      <td>1000.0</td>\n",
       "    </tr>\n",
       "    <tr>\n",
       "      <th>7</th>\n",
       "      <td>&lt;NA&gt;</td>\n",
       "      <td>&lt;NA&gt;</td>\n",
       "      <td>105.0</td>\n",
       "    </tr>\n",
       "    <tr>\n",
       "      <th>8</th>\n",
       "      <td>&lt;NA&gt;</td>\n",
       "      <td>&lt;NA&gt;</td>\n",
       "      <td>49.0</td>\n",
       "    </tr>\n",
       "    <tr>\n",
       "      <th>9</th>\n",
       "      <td>&lt;NA&gt;</td>\n",
       "      <td>&lt;NA&gt;</td>\n",
       "      <td>683.0</td>\n",
       "    </tr>\n",
       "    <tr>\n",
       "      <th>23andme</th>\n",
       "      <td>Anne</td>\n",
       "      <td>Wojcicki</td>\n",
       "      <td>NaN</td>\n",
       "    </tr>\n",
       "    <tr>\n",
       "      <th>Adafruit Industries</th>\n",
       "      <td>Limor</td>\n",
       "      <td>Fried</td>\n",
       "      <td>NaN</td>\n",
       "    </tr>\n",
       "    <tr>\n",
       "      <th>Backstage Capital</th>\n",
       "      <td>Arlan</td>\n",
       "      <td>Hamilton</td>\n",
       "      <td>NaN</td>\n",
       "    </tr>\n",
       "    <tr>\n",
       "      <th>Blendoor</th>\n",
       "      <td>Stephanie</td>\n",
       "      <td>Lampkin</td>\n",
       "      <td>NaN</td>\n",
       "    </tr>\n",
       "    <tr>\n",
       "      <th>Bumble</th>\n",
       "      <td>Whitney</td>\n",
       "      <td>Wolfe Heard</td>\n",
       "      <td>NaN</td>\n",
       "    </tr>\n",
       "    <tr>\n",
       "      <th>Cisco</th>\n",
       "      <td>Sandy</td>\n",
       "      <td>Lerner</td>\n",
       "      <td>NaN</td>\n",
       "    </tr>\n",
       "    <tr>\n",
       "      <th>Eventbrite</th>\n",
       "      <td>Julia</td>\n",
       "      <td>Hartz</td>\n",
       "      <td>NaN</td>\n",
       "    </tr>\n",
       "    <tr>\n",
       "      <th>LungXpert</th>\n",
       "      <td>Sasikala</td>\n",
       "      <td>Devi</td>\n",
       "      <td>NaN</td>\n",
       "    </tr>\n",
       "    <tr>\n",
       "      <th>PiggyVest</th>\n",
       "      <td>Odunayo</td>\n",
       "      <td>Eweniyi</td>\n",
       "      <td>NaN</td>\n",
       "    </tr>\n",
       "    <tr>\n",
       "      <th>Verge Genomics</th>\n",
       "      <td>Alice</td>\n",
       "      <td>Zhang</td>\n",
       "      <td>NaN</td>\n",
       "    </tr>\n",
       "  </tbody>\n",
       "</table>\n",
       "</div>"
      ],
      "text/plain": [
       "                    founder_name founder_surname  number_employees\n",
       "0                           <NA>            <NA>              71.0\n",
       "1                           <NA>            <NA>             700.0\n",
       "2                           <NA>            <NA>              12.0\n",
       "3                           <NA>            <NA>              20.0\n",
       "4                           <NA>            <NA>              10.0\n",
       "5                           <NA>            <NA>           79500.0\n",
       "6                           <NA>            <NA>            1000.0\n",
       "7                           <NA>            <NA>             105.0\n",
       "8                           <NA>            <NA>              49.0\n",
       "9                           <NA>            <NA>             683.0\n",
       "23andme                     Anne        Wojcicki               NaN\n",
       "Adafruit Industries        Limor           Fried               NaN\n",
       "Backstage Capital          Arlan        Hamilton               NaN\n",
       "Blendoor               Stephanie         Lampkin               NaN\n",
       "Bumble                   Whitney     Wolfe Heard               NaN\n",
       "Cisco                      Sandy          Lerner               NaN\n",
       "Eventbrite                 Julia           Hartz               NaN\n",
       "LungXpert               Sasikala            Devi               NaN\n",
       "PiggyVest                Odunayo         Eweniyi               NaN\n",
       "Verge Genomics             Alice           Zhang               NaN"
      ]
     },
     "execution_count": 45,
     "metadata": {},
     "output_type": "execute_result"
    }
   ],
   "source": [
    "df8 = pd.DataFrame({'founder_name': series_of_founder_names,  \n",
    "                    'founder_surname': series_of_founder_surnames,\n",
    "                    'number_employees': series_number_of_employees})\n",
    "df8"
   ]
  },
  {
   "cell_type": "markdown",
   "metadata": {},
   "source": [
    "It worked, but not as you might have expected. The two series with the same index were combined into the same rows, but the `series_number_of_employees` series has another index, so separate rows were created. Moreover, the index was **ordered** upon creating the dataframe, unlike in the case of `df7`. Remember to **think about the index** when combining `series` into `dataframes`!"
   ]
  },
  {
   "cell_type": "markdown",
   "metadata": {},
   "source": [
    "Let's repair our dataframe first before moving on:"
   ]
  },
  {
   "cell_type": "code",
   "execution_count": 46,
   "metadata": {},
   "outputs": [
    {
     "data": {
      "text/html": [
       "<div>\n",
       "<style scoped>\n",
       "    .dataframe tbody tr th:only-of-type {\n",
       "        vertical-align: middle;\n",
       "    }\n",
       "\n",
       "    .dataframe tbody tr th {\n",
       "        vertical-align: top;\n",
       "    }\n",
       "\n",
       "    .dataframe thead th {\n",
       "        text-align: right;\n",
       "    }\n",
       "</style>\n",
       "<table border=\"1\" class=\"dataframe\">\n",
       "  <thead>\n",
       "    <tr style=\"text-align: right;\">\n",
       "      <th></th>\n",
       "      <th>founder_name</th>\n",
       "      <th>founder_surname</th>\n",
       "      <th>number_employees</th>\n",
       "    </tr>\n",
       "  </thead>\n",
       "  <tbody>\n",
       "    <tr>\n",
       "      <th>PiggyVest</th>\n",
       "      <td>Odunayo</td>\n",
       "      <td>Eweniyi</td>\n",
       "      <td>71</td>\n",
       "    </tr>\n",
       "    <tr>\n",
       "      <th>Bumble</th>\n",
       "      <td>Whitney</td>\n",
       "      <td>Wolfe Heard</td>\n",
       "      <td>700</td>\n",
       "    </tr>\n",
       "    <tr>\n",
       "      <th>Backstage Capital</th>\n",
       "      <td>Arlan</td>\n",
       "      <td>Hamilton</td>\n",
       "      <td>12</td>\n",
       "    </tr>\n",
       "    <tr>\n",
       "      <th>Blendoor</th>\n",
       "      <td>Stephanie</td>\n",
       "      <td>Lampkin</td>\n",
       "      <td>20</td>\n",
       "    </tr>\n",
       "    <tr>\n",
       "      <th>LungXpert</th>\n",
       "      <td>Sasikala</td>\n",
       "      <td>Devi</td>\n",
       "      <td>10</td>\n",
       "    </tr>\n",
       "    <tr>\n",
       "      <th>Cisco</th>\n",
       "      <td>Sandy</td>\n",
       "      <td>Lerner</td>\n",
       "      <td>79500</td>\n",
       "    </tr>\n",
       "    <tr>\n",
       "      <th>Eventbrite</th>\n",
       "      <td>Julia</td>\n",
       "      <td>Hartz</td>\n",
       "      <td>1000</td>\n",
       "    </tr>\n",
       "    <tr>\n",
       "      <th>Adafruit Industries</th>\n",
       "      <td>Limor</td>\n",
       "      <td>Fried</td>\n",
       "      <td>105</td>\n",
       "    </tr>\n",
       "    <tr>\n",
       "      <th>Verge Genomics</th>\n",
       "      <td>Alice</td>\n",
       "      <td>Zhang</td>\n",
       "      <td>49</td>\n",
       "    </tr>\n",
       "    <tr>\n",
       "      <th>23andme</th>\n",
       "      <td>Anne</td>\n",
       "      <td>Wojcicki</td>\n",
       "      <td>683</td>\n",
       "    </tr>\n",
       "  </tbody>\n",
       "</table>\n",
       "</div>"
      ],
      "text/plain": [
       "                    founder_name founder_surname  number_employees\n",
       "PiggyVest                Odunayo         Eweniyi                71\n",
       "Bumble                   Whitney     Wolfe Heard               700\n",
       "Backstage Capital          Arlan        Hamilton                12\n",
       "Blendoor               Stephanie         Lampkin                20\n",
       "LungXpert               Sasikala            Devi                10\n",
       "Cisco                      Sandy          Lerner             79500\n",
       "Eventbrite                 Julia           Hartz              1000\n",
       "Adafruit Industries        Limor           Fried               105\n",
       "Verge Genomics             Alice           Zhang                49\n",
       "23andme                     Anne        Wojcicki               683"
      ]
     },
     "execution_count": 46,
     "metadata": {},
     "output_type": "execute_result"
    }
   ],
   "source": [
    "series_number_of_employees_indexed = pd.Series(data=number_of_employees,index=company)\n",
    "df9 = pd.DataFrame({'founder_name': series_of_founder_names,  \n",
    "                    'founder_surname': series_of_founder_surnames,\n",
    "                    'number_employees': series_number_of_employees_indexed})\n",
    "df9"
   ]
  },
  {
   "cell_type": "markdown",
   "metadata": {},
   "source": [
    "### 3.3 Getting the index and column values "
   ]
  },
  {
   "cell_type": "markdown",
   "metadata": {},
   "source": [
    "The `DataFrame` object contains a few attributes that are useful for getting an overview of your data.\n",
    "\n",
    "Get the index (row names), with `.index`: "
   ]
  },
  {
   "cell_type": "code",
   "execution_count": 47,
   "metadata": {},
   "outputs": [
    {
     "data": {
      "text/plain": [
       "Index(['PiggyVest', 'Bumble', 'Backstage Capital', 'Blendoor', 'LungXpert',\n",
       "       'Cisco', 'Eventbrite', 'Adafruit Industries', 'Verge Genomics',\n",
       "       '23andme'],\n",
       "      dtype='object')"
      ]
     },
     "execution_count": 47,
     "metadata": {},
     "output_type": "execute_result"
    }
   ],
   "source": [
    "df9.index"
   ]
  },
  {
   "cell_type": "markdown",
   "metadata": {},
   "source": [
    "Get the column names, with `.columns`: "
   ]
  },
  {
   "cell_type": "code",
   "execution_count": 48,
   "metadata": {},
   "outputs": [
    {
     "data": {
      "text/plain": [
       "Index(['founder_name', 'founder_surname', 'number_employees'], dtype='object')"
      ]
     },
     "execution_count": 48,
     "metadata": {},
     "output_type": "execute_result"
    }
   ],
   "source": [
    "df9.columns"
   ]
  },
  {
   "cell_type": "markdown",
   "metadata": {},
   "source": [
    "Among other things, this might be used to **iterate** over the column names:"
   ]
  },
  {
   "cell_type": "code",
   "execution_count": 49,
   "metadata": {},
   "outputs": [
    {
     "name": "stdout",
     "output_type": "stream",
     "text": [
      "founder_name\n",
      "founder_surname\n",
      "number_employees\n"
     ]
    }
   ],
   "source": [
    "for col in df9.columns:\n",
    "    print(col)"
   ]
  },
  {
   "cell_type": "markdown",
   "metadata": {},
   "source": [
    "We can also use `dtypes` to know the type of each column in the dataframe:"
   ]
  },
  {
   "cell_type": "code",
   "execution_count": 50,
   "metadata": {},
   "outputs": [
    {
     "data": {
      "text/plain": [
       "founder_name        string\n",
       "founder_surname     string\n",
       "number_employees     int64\n",
       "dtype: object"
      ]
     },
     "execution_count": 50,
     "metadata": {},
     "output_type": "execute_result"
    }
   ],
   "source": [
    "df9.dtypes"
   ]
  },
  {
   "cell_type": "markdown",
   "metadata": {},
   "source": [
    "To get the underlying data as an array, use `.to_numpy`. The array will be 2D, as the dataframe. The DataFrame object does not have the method `.array`. It still has `.values`."
   ]
  },
  {
   "cell_type": "code",
   "execution_count": 51,
   "metadata": {},
   "outputs": [
    {
     "data": {
      "text/plain": [
       "array([['Odunayo', 'Eweniyi', 71],\n",
       "       ['Whitney', 'Wolfe Heard', 700],\n",
       "       ['Arlan', 'Hamilton', 12],\n",
       "       ['Stephanie', 'Lampkin', 20],\n",
       "       ['Sasikala', 'Devi', 10],\n",
       "       ['Sandy', 'Lerner', 79500],\n",
       "       ['Julia', 'Hartz', 1000],\n",
       "       ['Limor', 'Fried', 105],\n",
       "       ['Alice', 'Zhang', 49],\n",
       "       ['Anne', 'Wojcicki', 683]], dtype=object)"
      ]
     },
     "execution_count": 51,
     "metadata": {},
     "output_type": "execute_result"
    }
   ],
   "source": [
    "df9.to_numpy()"
   ]
  },
  {
   "cell_type": "code",
   "execution_count": 52,
   "metadata": {},
   "outputs": [
    {
     "data": {
      "text/plain": [
       "array([['Odunayo', 'Eweniyi', 71],\n",
       "       ['Whitney', 'Wolfe Heard', 700],\n",
       "       ['Arlan', 'Hamilton', 12],\n",
       "       ['Stephanie', 'Lampkin', 20],\n",
       "       ['Sasikala', 'Devi', 10],\n",
       "       ['Sandy', 'Lerner', 79500],\n",
       "       ['Julia', 'Hartz', 1000],\n",
       "       ['Limor', 'Fried', 105],\n",
       "       ['Alice', 'Zhang', 49],\n",
       "       ['Anne', 'Wojcicki', 683]], dtype=object)"
      ]
     },
     "execution_count": 52,
     "metadata": {},
     "output_type": "execute_result"
    }
   ],
   "source": [
    "df9.values"
   ]
  },
  {
   "cell_type": "markdown",
   "metadata": {},
   "source": [
    "## 4. Previewing and describing a DataFrame"
   ]
  },
  {
   "cell_type": "markdown",
   "metadata": {},
   "source": [
    "### 4.1 Previewing the DataFrame or part of it"
   ]
  },
  {
   "cell_type": "markdown",
   "metadata": {},
   "source": [
    "In a jupyter notebook, calling a DataFrame will display it (as seen previously):"
   ]
  },
  {
   "cell_type": "code",
   "execution_count": 53,
   "metadata": {},
   "outputs": [
    {
     "data": {
      "text/html": [
       "<div>\n",
       "<style scoped>\n",
       "    .dataframe tbody tr th:only-of-type {\n",
       "        vertical-align: middle;\n",
       "    }\n",
       "\n",
       "    .dataframe tbody tr th {\n",
       "        vertical-align: top;\n",
       "    }\n",
       "\n",
       "    .dataframe thead th {\n",
       "        text-align: right;\n",
       "    }\n",
       "</style>\n",
       "<table border=\"1\" class=\"dataframe\">\n",
       "  <thead>\n",
       "    <tr style=\"text-align: right;\">\n",
       "      <th></th>\n",
       "      <th>founder_name</th>\n",
       "      <th>founder_surname</th>\n",
       "      <th>number_employees</th>\n",
       "    </tr>\n",
       "  </thead>\n",
       "  <tbody>\n",
       "    <tr>\n",
       "      <th>PiggyVest</th>\n",
       "      <td>Odunayo</td>\n",
       "      <td>Eweniyi</td>\n",
       "      <td>71</td>\n",
       "    </tr>\n",
       "    <tr>\n",
       "      <th>Bumble</th>\n",
       "      <td>Whitney</td>\n",
       "      <td>Wolfe Heard</td>\n",
       "      <td>700</td>\n",
       "    </tr>\n",
       "    <tr>\n",
       "      <th>Backstage Capital</th>\n",
       "      <td>Arlan</td>\n",
       "      <td>Hamilton</td>\n",
       "      <td>12</td>\n",
       "    </tr>\n",
       "    <tr>\n",
       "      <th>Blendoor</th>\n",
       "      <td>Stephanie</td>\n",
       "      <td>Lampkin</td>\n",
       "      <td>20</td>\n",
       "    </tr>\n",
       "    <tr>\n",
       "      <th>LungXpert</th>\n",
       "      <td>Sasikala</td>\n",
       "      <td>Devi</td>\n",
       "      <td>10</td>\n",
       "    </tr>\n",
       "    <tr>\n",
       "      <th>Cisco</th>\n",
       "      <td>Sandy</td>\n",
       "      <td>Lerner</td>\n",
       "      <td>79500</td>\n",
       "    </tr>\n",
       "    <tr>\n",
       "      <th>Eventbrite</th>\n",
       "      <td>Julia</td>\n",
       "      <td>Hartz</td>\n",
       "      <td>1000</td>\n",
       "    </tr>\n",
       "    <tr>\n",
       "      <th>Adafruit Industries</th>\n",
       "      <td>Limor</td>\n",
       "      <td>Fried</td>\n",
       "      <td>105</td>\n",
       "    </tr>\n",
       "    <tr>\n",
       "      <th>Verge Genomics</th>\n",
       "      <td>Alice</td>\n",
       "      <td>Zhang</td>\n",
       "      <td>49</td>\n",
       "    </tr>\n",
       "    <tr>\n",
       "      <th>23andme</th>\n",
       "      <td>Anne</td>\n",
       "      <td>Wojcicki</td>\n",
       "      <td>683</td>\n",
       "    </tr>\n",
       "  </tbody>\n",
       "</table>\n",
       "</div>"
      ],
      "text/plain": [
       "                    founder_name founder_surname  number_employees\n",
       "PiggyVest                Odunayo         Eweniyi                71\n",
       "Bumble                   Whitney     Wolfe Heard               700\n",
       "Backstage Capital          Arlan        Hamilton                12\n",
       "Blendoor               Stephanie         Lampkin                20\n",
       "LungXpert               Sasikala            Devi                10\n",
       "Cisco                      Sandy          Lerner             79500\n",
       "Eventbrite                 Julia           Hartz              1000\n",
       "Adafruit Industries        Limor           Fried               105\n",
       "Verge Genomics             Alice           Zhang                49\n",
       "23andme                     Anne        Wojcicki               683"
      ]
     },
     "execution_count": 53,
     "metadata": {},
     "output_type": "execute_result"
    }
   ],
   "source": [
    "df9"
   ]
  },
  {
   "cell_type": "markdown",
   "metadata": {},
   "source": [
    "If the dataframe has a lot of entries, it will be only partially displayed. Nonetheless, it might still be too much information being displayed at once. An alternative are the `.head()` and `.tail()` methods which print only a certain number of entries from the top and bottom of the dataframe, respectively."
   ]
  },
  {
   "cell_type": "code",
   "execution_count": 54,
   "metadata": {},
   "outputs": [
    {
     "data": {
      "text/html": [
       "<div>\n",
       "<style scoped>\n",
       "    .dataframe tbody tr th:only-of-type {\n",
       "        vertical-align: middle;\n",
       "    }\n",
       "\n",
       "    .dataframe tbody tr th {\n",
       "        vertical-align: top;\n",
       "    }\n",
       "\n",
       "    .dataframe thead th {\n",
       "        text-align: right;\n",
       "    }\n",
       "</style>\n",
       "<table border=\"1\" class=\"dataframe\">\n",
       "  <thead>\n",
       "    <tr style=\"text-align: right;\">\n",
       "      <th></th>\n",
       "      <th>founder_name</th>\n",
       "      <th>founder_surname</th>\n",
       "      <th>number_employees</th>\n",
       "    </tr>\n",
       "  </thead>\n",
       "  <tbody>\n",
       "    <tr>\n",
       "      <th>PiggyVest</th>\n",
       "      <td>Odunayo</td>\n",
       "      <td>Eweniyi</td>\n",
       "      <td>71</td>\n",
       "    </tr>\n",
       "    <tr>\n",
       "      <th>Bumble</th>\n",
       "      <td>Whitney</td>\n",
       "      <td>Wolfe Heard</td>\n",
       "      <td>700</td>\n",
       "    </tr>\n",
       "  </tbody>\n",
       "</table>\n",
       "</div>"
      ],
      "text/plain": [
       "          founder_name founder_surname  number_employees\n",
       "PiggyVest      Odunayo         Eweniyi                71\n",
       "Bumble         Whitney     Wolfe Heard               700"
      ]
     },
     "execution_count": 54,
     "metadata": {},
     "output_type": "execute_result"
    }
   ],
   "source": [
    "df9.head(n=2)"
   ]
  },
  {
   "cell_type": "code",
   "execution_count": 55,
   "metadata": {},
   "outputs": [
    {
     "data": {
      "text/html": [
       "<div>\n",
       "<style scoped>\n",
       "    .dataframe tbody tr th:only-of-type {\n",
       "        vertical-align: middle;\n",
       "    }\n",
       "\n",
       "    .dataframe tbody tr th {\n",
       "        vertical-align: top;\n",
       "    }\n",
       "\n",
       "    .dataframe thead th {\n",
       "        text-align: right;\n",
       "    }\n",
       "</style>\n",
       "<table border=\"1\" class=\"dataframe\">\n",
       "  <thead>\n",
       "    <tr style=\"text-align: right;\">\n",
       "      <th></th>\n",
       "      <th>founder_name</th>\n",
       "      <th>founder_surname</th>\n",
       "      <th>number_employees</th>\n",
       "    </tr>\n",
       "  </thead>\n",
       "  <tbody>\n",
       "    <tr>\n",
       "      <th>Verge Genomics</th>\n",
       "      <td>Alice</td>\n",
       "      <td>Zhang</td>\n",
       "      <td>49</td>\n",
       "    </tr>\n",
       "    <tr>\n",
       "      <th>23andme</th>\n",
       "      <td>Anne</td>\n",
       "      <td>Wojcicki</td>\n",
       "      <td>683</td>\n",
       "    </tr>\n",
       "  </tbody>\n",
       "</table>\n",
       "</div>"
      ],
      "text/plain": [
       "               founder_name founder_surname  number_employees\n",
       "Verge Genomics        Alice           Zhang                49\n",
       "23andme                Anne        Wojcicki               683"
      ]
     },
     "execution_count": 55,
     "metadata": {},
     "output_type": "execute_result"
    }
   ],
   "source": [
    "df9.tail(n=2)"
   ]
  },
  {
   "cell_type": "markdown",
   "metadata": {},
   "source": [
    "### 4.2 Retrieving DataFrame information"
   ]
  },
  {
   "cell_type": "markdown",
   "metadata": {},
   "source": [
    "[`.shape`](https://pandas.pydata.org/pandas-docs/version/0.17.0/generated/pandas.DataFrame.shape.html) returns a tuple with the dimensions of the dataframe (number_of_rows, number_of_columns)."
   ]
  },
  {
   "cell_type": "code",
   "execution_count": 56,
   "metadata": {},
   "outputs": [
    {
     "data": {
      "text/plain": [
       "(10, 3)"
      ]
     },
     "execution_count": 56,
     "metadata": {},
     "output_type": "execute_result"
    }
   ],
   "source": [
    "df9.shape"
   ]
  },
  {
   "cell_type": "markdown",
   "metadata": {},
   "source": [
    "With [`.info()`](https://pandas.pydata.org/pandas-docs/stable/generated/pandas.DataFrame.info.html), we obtain:\n",
    "- the number of entries\n",
    "- the number of columns\n",
    "- the title of each column\n",
    "- the number of entries that in fact exists in each column (does not consider missing values!)\n",
    "- the type of data of the entries of a given column."
   ]
  },
  {
   "cell_type": "code",
   "execution_count": 57,
   "metadata": {},
   "outputs": [
    {
     "name": "stdout",
     "output_type": "stream",
     "text": [
      "<class 'pandas.core.frame.DataFrame'>\n",
      "Index: 10 entries, PiggyVest to 23andme\n",
      "Data columns (total 3 columns):\n",
      " #   Column            Non-Null Count  Dtype \n",
      "---  ------            --------------  ----- \n",
      " 0   founder_name      10 non-null     string\n",
      " 1   founder_surname   10 non-null     string\n",
      " 2   number_employees  10 non-null     int64 \n",
      "dtypes: int64(1), string(2)\n",
      "memory usage: 620.0+ bytes\n"
     ]
    }
   ],
   "source": [
    "df9.info()"
   ]
  },
  {
   "cell_type": "markdown",
   "metadata": {},
   "source": [
    "For the **numerical** columns it's also possible to obtain basic statistical information using [`.describe()`](https://pandas.pydata.org/pandas-docs/stable/generated/pandas.DataFrame.describe.html):\n",
    "\n",
    "- the number of rows for each numerical column\n",
    "- the mean value\n",
    "- the standard deviation\n",
    "- the minimum and maximum value\n",
    "- the median, the 25th and 75th percentile."
   ]
  },
  {
   "cell_type": "code",
   "execution_count": 58,
   "metadata": {},
   "outputs": [
    {
     "data": {
      "text/html": [
       "<div>\n",
       "<style scoped>\n",
       "    .dataframe tbody tr th:only-of-type {\n",
       "        vertical-align: middle;\n",
       "    }\n",
       "\n",
       "    .dataframe tbody tr th {\n",
       "        vertical-align: top;\n",
       "    }\n",
       "\n",
       "    .dataframe thead th {\n",
       "        text-align: right;\n",
       "    }\n",
       "</style>\n",
       "<table border=\"1\" class=\"dataframe\">\n",
       "  <thead>\n",
       "    <tr style=\"text-align: right;\">\n",
       "      <th></th>\n",
       "      <th>number_employees</th>\n",
       "    </tr>\n",
       "  </thead>\n",
       "  <tbody>\n",
       "    <tr>\n",
       "      <th>count</th>\n",
       "      <td>10.000000</td>\n",
       "    </tr>\n",
       "    <tr>\n",
       "      <th>mean</th>\n",
       "      <td>8215.000000</td>\n",
       "    </tr>\n",
       "    <tr>\n",
       "      <th>std</th>\n",
       "      <td>25049.647037</td>\n",
       "    </tr>\n",
       "    <tr>\n",
       "      <th>min</th>\n",
       "      <td>10.000000</td>\n",
       "    </tr>\n",
       "    <tr>\n",
       "      <th>25%</th>\n",
       "      <td>27.250000</td>\n",
       "    </tr>\n",
       "    <tr>\n",
       "      <th>50%</th>\n",
       "      <td>88.000000</td>\n",
       "    </tr>\n",
       "    <tr>\n",
       "      <th>75%</th>\n",
       "      <td>695.750000</td>\n",
       "    </tr>\n",
       "    <tr>\n",
       "      <th>max</th>\n",
       "      <td>79500.000000</td>\n",
       "    </tr>\n",
       "  </tbody>\n",
       "</table>\n",
       "</div>"
      ],
      "text/plain": [
       "       number_employees\n",
       "count         10.000000\n",
       "mean        8215.000000\n",
       "std        25049.647037\n",
       "min           10.000000\n",
       "25%           27.250000\n",
       "50%           88.000000\n",
       "75%          695.750000\n",
       "max        79500.000000"
      ]
     },
     "execution_count": 58,
     "metadata": {},
     "output_type": "execute_result"
    }
   ],
   "source": [
    "df9.describe()"
   ]
  },
  {
   "cell_type": "markdown",
   "metadata": {},
   "source": [
    "## 5. Reading data from files into pandas dataframes"
   ]
  },
  {
   "cell_type": "markdown",
   "metadata": {},
   "source": [
    "Pandas has functions that allow us to create `dataframes` form several different types of data `files`:\n",
    "\n",
    "- CSV\n",
    "- JSON\n",
    "- HTML\n",
    "- ... and [many more](https://pandas.pydata.org/pandas-docs/stable/user_guide/io.html)\n",
    "\n",
    "All of this is possible by using the read_*dataFormat* methods.\n",
    "\n",
    "For instance, using the 2010 census profile and housing characteristics of the city of Los Angeles ([source](https://catalog.data.gov/dataset/2010-census-populations-by-zip-code)):"
   ]
  },
  {
   "cell_type": "code",
   "execution_count": 59,
   "metadata": {},
   "outputs": [],
   "source": [
    "census_2010 = pd.read_csv(\"data/2010_Census_Populations_by_Zip_Code.csv\")"
   ]
  },
  {
   "cell_type": "markdown",
   "metadata": {},
   "source": [
    "This is the resulting dataframe:"
   ]
  },
  {
   "cell_type": "code",
   "execution_count": 60,
   "metadata": {},
   "outputs": [
    {
     "data": {
      "text/html": [
       "<div>\n",
       "<style scoped>\n",
       "    .dataframe tbody tr th:only-of-type {\n",
       "        vertical-align: middle;\n",
       "    }\n",
       "\n",
       "    .dataframe tbody tr th {\n",
       "        vertical-align: top;\n",
       "    }\n",
       "\n",
       "    .dataframe thead th {\n",
       "        text-align: right;\n",
       "    }\n",
       "</style>\n",
       "<table border=\"1\" class=\"dataframe\">\n",
       "  <thead>\n",
       "    <tr style=\"text-align: right;\">\n",
       "      <th></th>\n",
       "      <th>Zip Code</th>\n",
       "      <th>Total Population</th>\n",
       "      <th>Median Age</th>\n",
       "      <th>Total Males</th>\n",
       "      <th>Total Females</th>\n",
       "      <th>Total Households</th>\n",
       "      <th>Average Household Size</th>\n",
       "    </tr>\n",
       "  </thead>\n",
       "  <tbody>\n",
       "    <tr>\n",
       "      <th>0</th>\n",
       "      <td>91371</td>\n",
       "      <td>1</td>\n",
       "      <td>73.5</td>\n",
       "      <td>0</td>\n",
       "      <td>1</td>\n",
       "      <td>1</td>\n",
       "      <td>1.00</td>\n",
       "    </tr>\n",
       "    <tr>\n",
       "      <th>1</th>\n",
       "      <td>90001</td>\n",
       "      <td>57110</td>\n",
       "      <td>26.6</td>\n",
       "      <td>28468</td>\n",
       "      <td>28642</td>\n",
       "      <td>12971</td>\n",
       "      <td>4.40</td>\n",
       "    </tr>\n",
       "    <tr>\n",
       "      <th>2</th>\n",
       "      <td>90002</td>\n",
       "      <td>51223</td>\n",
       "      <td>25.5</td>\n",
       "      <td>24876</td>\n",
       "      <td>26347</td>\n",
       "      <td>11731</td>\n",
       "      <td>4.36</td>\n",
       "    </tr>\n",
       "    <tr>\n",
       "      <th>3</th>\n",
       "      <td>90003</td>\n",
       "      <td>66266</td>\n",
       "      <td>26.3</td>\n",
       "      <td>32631</td>\n",
       "      <td>33635</td>\n",
       "      <td>15642</td>\n",
       "      <td>4.22</td>\n",
       "    </tr>\n",
       "    <tr>\n",
       "      <th>4</th>\n",
       "      <td>90004</td>\n",
       "      <td>62180</td>\n",
       "      <td>34.8</td>\n",
       "      <td>31302</td>\n",
       "      <td>30878</td>\n",
       "      <td>22547</td>\n",
       "      <td>2.73</td>\n",
       "    </tr>\n",
       "  </tbody>\n",
       "</table>\n",
       "</div>"
      ],
      "text/plain": [
       "   Zip Code  Total Population  Median Age  Total Males  Total Females  \\\n",
       "0     91371                 1        73.5            0              1   \n",
       "1     90001             57110        26.6        28468          28642   \n",
       "2     90002             51223        25.5        24876          26347   \n",
       "3     90003             66266        26.3        32631          33635   \n",
       "4     90004             62180        34.8        31302          30878   \n",
       "\n",
       "   Total Households  Average Household Size  \n",
       "0                 1                    1.00  \n",
       "1             12971                    4.40  \n",
       "2             11731                    4.36  \n",
       "3             15642                    4.22  \n",
       "4             22547                    2.73  "
      ]
     },
     "execution_count": 60,
     "metadata": {},
     "output_type": "execute_result"
    }
   ],
   "source": [
    "census_2010.head()"
   ]
  },
  {
   "cell_type": "markdown",
   "metadata": {},
   "source": [
    "It's size is:"
   ]
  },
  {
   "cell_type": "code",
   "execution_count": 61,
   "metadata": {},
   "outputs": [
    {
     "data": {
      "text/plain": [
       "(319, 7)"
      ]
     },
     "execution_count": 61,
     "metadata": {},
     "output_type": "execute_result"
    }
   ],
   "source": [
    "census_2010.shape"
   ]
  },
  {
   "cell_type": "markdown",
   "metadata": {},
   "source": [
    "Let's use `info()` to get an overview of the column variables: "
   ]
  },
  {
   "cell_type": "code",
   "execution_count": 62,
   "metadata": {},
   "outputs": [
    {
     "name": "stdout",
     "output_type": "stream",
     "text": [
      "<class 'pandas.core.frame.DataFrame'>\n",
      "RangeIndex: 319 entries, 0 to 318\n",
      "Data columns (total 7 columns):\n",
      " #   Column                  Non-Null Count  Dtype  \n",
      "---  ------                  --------------  -----  \n",
      " 0   Zip Code                319 non-null    int64  \n",
      " 1   Total Population        319 non-null    int64  \n",
      " 2   Median Age              319 non-null    float64\n",
      " 3   Total Males             319 non-null    int64  \n",
      " 4   Total Females           319 non-null    int64  \n",
      " 5   Total Households        319 non-null    int64  \n",
      " 6   Average Household Size  319 non-null    float64\n",
      "dtypes: float64(2), int64(5)\n",
      "memory usage: 17.6 KB\n"
     ]
    }
   ],
   "source": [
    "census_2010.info()"
   ]
  },
  {
   "cell_type": "markdown",
   "metadata": {},
   "source": [
    "And `.describe()` for basic statistics:"
   ]
  },
  {
   "cell_type": "code",
   "execution_count": 63,
   "metadata": {},
   "outputs": [
    {
     "data": {
      "text/html": [
       "<div>\n",
       "<style scoped>\n",
       "    .dataframe tbody tr th:only-of-type {\n",
       "        vertical-align: middle;\n",
       "    }\n",
       "\n",
       "    .dataframe tbody tr th {\n",
       "        vertical-align: top;\n",
       "    }\n",
       "\n",
       "    .dataframe thead th {\n",
       "        text-align: right;\n",
       "    }\n",
       "</style>\n",
       "<table border=\"1\" class=\"dataframe\">\n",
       "  <thead>\n",
       "    <tr style=\"text-align: right;\">\n",
       "      <th></th>\n",
       "      <th>Zip Code</th>\n",
       "      <th>Total Population</th>\n",
       "      <th>Median Age</th>\n",
       "      <th>Total Males</th>\n",
       "      <th>Total Females</th>\n",
       "      <th>Total Households</th>\n",
       "      <th>Average Household Size</th>\n",
       "    </tr>\n",
       "  </thead>\n",
       "  <tbody>\n",
       "    <tr>\n",
       "      <th>count</th>\n",
       "      <td>319.000000</td>\n",
       "      <td>319.000000</td>\n",
       "      <td>319.000000</td>\n",
       "      <td>319.000000</td>\n",
       "      <td>319.000000</td>\n",
       "      <td>319.000000</td>\n",
       "      <td>319.000000</td>\n",
       "    </tr>\n",
       "    <tr>\n",
       "      <th>mean</th>\n",
       "      <td>91000.673981</td>\n",
       "      <td>33241.341693</td>\n",
       "      <td>36.527586</td>\n",
       "      <td>16391.564263</td>\n",
       "      <td>16849.777429</td>\n",
       "      <td>10964.570533</td>\n",
       "      <td>2.828119</td>\n",
       "    </tr>\n",
       "    <tr>\n",
       "      <th>std</th>\n",
       "      <td>908.360203</td>\n",
       "      <td>21644.417455</td>\n",
       "      <td>8.692999</td>\n",
       "      <td>10747.495566</td>\n",
       "      <td>10934.986468</td>\n",
       "      <td>6270.646400</td>\n",
       "      <td>0.835658</td>\n",
       "    </tr>\n",
       "    <tr>\n",
       "      <th>min</th>\n",
       "      <td>90001.000000</td>\n",
       "      <td>0.000000</td>\n",
       "      <td>0.000000</td>\n",
       "      <td>0.000000</td>\n",
       "      <td>0.000000</td>\n",
       "      <td>0.000000</td>\n",
       "      <td>0.000000</td>\n",
       "    </tr>\n",
       "    <tr>\n",
       "      <th>25%</th>\n",
       "      <td>90243.500000</td>\n",
       "      <td>19318.500000</td>\n",
       "      <td>32.400000</td>\n",
       "      <td>9763.500000</td>\n",
       "      <td>9633.500000</td>\n",
       "      <td>6765.500000</td>\n",
       "      <td>2.435000</td>\n",
       "    </tr>\n",
       "    <tr>\n",
       "      <th>50%</th>\n",
       "      <td>90807.000000</td>\n",
       "      <td>31481.000000</td>\n",
       "      <td>37.100000</td>\n",
       "      <td>15283.000000</td>\n",
       "      <td>16202.000000</td>\n",
       "      <td>10968.000000</td>\n",
       "      <td>2.830000</td>\n",
       "    </tr>\n",
       "    <tr>\n",
       "      <th>75%</th>\n",
       "      <td>91417.000000</td>\n",
       "      <td>44978.000000</td>\n",
       "      <td>41.000000</td>\n",
       "      <td>22219.500000</td>\n",
       "      <td>22690.500000</td>\n",
       "      <td>14889.500000</td>\n",
       "      <td>3.320000</td>\n",
       "    </tr>\n",
       "    <tr>\n",
       "      <th>max</th>\n",
       "      <td>93591.000000</td>\n",
       "      <td>105549.000000</td>\n",
       "      <td>74.000000</td>\n",
       "      <td>52794.000000</td>\n",
       "      <td>53185.000000</td>\n",
       "      <td>31087.000000</td>\n",
       "      <td>4.670000</td>\n",
       "    </tr>\n",
       "  </tbody>\n",
       "</table>\n",
       "</div>"
      ],
      "text/plain": [
       "           Zip Code  Total Population  Median Age   Total Males  \\\n",
       "count    319.000000        319.000000  319.000000    319.000000   \n",
       "mean   91000.673981      33241.341693   36.527586  16391.564263   \n",
       "std      908.360203      21644.417455    8.692999  10747.495566   \n",
       "min    90001.000000          0.000000    0.000000      0.000000   \n",
       "25%    90243.500000      19318.500000   32.400000   9763.500000   \n",
       "50%    90807.000000      31481.000000   37.100000  15283.000000   \n",
       "75%    91417.000000      44978.000000   41.000000  22219.500000   \n",
       "max    93591.000000     105549.000000   74.000000  52794.000000   \n",
       "\n",
       "       Total Females  Total Households  Average Household Size  \n",
       "count     319.000000        319.000000              319.000000  \n",
       "mean    16849.777429      10964.570533                2.828119  \n",
       "std     10934.986468       6270.646400                0.835658  \n",
       "min         0.000000          0.000000                0.000000  \n",
       "25%      9633.500000       6765.500000                2.435000  \n",
       "50%     16202.000000      10968.000000                2.830000  \n",
       "75%     22690.500000      14889.500000                3.320000  \n",
       "max     53185.000000      31087.000000                4.670000  "
      ]
     },
     "execution_count": 63,
     "metadata": {},
     "output_type": "execute_result"
    }
   ],
   "source": [
    "census_2010.describe()"
   ]
  },
  {
   "cell_type": "markdown",
   "metadata": {},
   "source": [
    "## 6. Writing data from pandas into files"
   ]
  },
  {
   "cell_type": "markdown",
   "metadata": {},
   "source": [
    "Besides reading from the disk, Pandas allows us to save our dataframe to a file."
   ]
  },
  {
   "cell_type": "code",
   "execution_count": 64,
   "metadata": {},
   "outputs": [],
   "source": [
    "census_2010.to_csv(\"data/new_csv.csv\")"
   ]
  },
  {
   "cell_type": "markdown",
   "metadata": {},
   "source": [
    "You should now have a new file called `new_csv.csv` in your `data` folder!"
   ]
  },
  {
   "cell_type": "markdown",
   "metadata": {},
   "source": [
    "The same way we can read data from various files types, we can also write data to various file types (CSV, JSON, HTML, ...) All of this is possible by using the to_*dataFormat* method, giving as an argument the path where you want to save the file. For example, you can write to the JSON format using `to_json`, or to an Excel spreadsheet using `to_excel`, and so on."
   ]
  },
  {
   "cell_type": "markdown",
   "metadata": {},
   "source": [
    "## 7. Useful links\n",
    "\n",
    "- [Pandas Getting Started tutorials](https://pandas.pydata.org/pandas-docs/stable/getting_started/intro_tutorials/index.html)\n",
    "\n",
    "- [Intro to data structures](https://pandas.pydata.org/pandas-docs/stable/dsintro.html)"
   ]
  },
  {
   "cell_type": "markdown",
   "metadata": {},
   "source": [
    "#### Image acknowledgements:\n",
    "Détail de la stèle du Code de Hammurabi, roi de Babylone (musée du Louvre): By Deror avi - Own work, CC BY-SA 3.0, https://commons.wikimedia.org/w/index.php?curid=6042133  \n",
    "First medical X-ray by Wilhelm Röntgen of his wife Anna Bertha Ludwig's hand: Wilhelm Röntgen., Public domain, via Wikimedia Commons\n",
    "Magura cave drawing: By Vislupus - Own work, CC BY-SA 4.0, https://commons.wikimedia.org/w/index.php?curid=68925028  \n",
    "Interior of the Duomo (Milan): By Darafsh - Own work, CC BY-SA 3.0, https://commons.wikimedia.org/w/index.php?curid=50973859  \n"
   ]
  }
 ],
 "metadata": {
  "kernelspec": {
   "display_name": "Python 3 (ipykernel)",
   "language": "python",
   "name": "python3"
  },
  "language_info": {
   "codemirror_mode": {
    "name": "ipython",
    "version": 3
   },
   "file_extension": ".py",
   "mimetype": "text/x-python",
   "name": "python",
   "nbconvert_exporter": "python",
   "pygments_lexer": "ipython3",
   "version": "3.8.13"
  },
  "toc": {
   "base_numbering": 1,
   "nav_menu": {},
   "number_sections": false,
   "sideBar": true,
   "skip_h1_title": false,
   "title_cell": "Table of Contents",
   "title_sidebar": "Contents",
   "toc_cell": false,
   "toc_position": {},
   "toc_section_display": true,
   "toc_window_display": false
  }
 },
 "nbformat": 4,
 "nbformat_minor": 2
}
