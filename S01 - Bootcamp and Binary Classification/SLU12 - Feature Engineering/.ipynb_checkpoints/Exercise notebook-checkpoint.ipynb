{
 "cells": [
  {
   "cell_type": "markdown",
   "metadata": {
    "nbgrader": {
     "grade": false,
     "grade_id": "cell-f16e3dd76b298ad4",
     "locked": true,
     "schema_version": 3,
     "solution": false
    }
   },
   "source": [
    "# SLU12 - Feature Engineering (aka Real World Data): Exercises notebook"
   ]
  },
  {
   "cell_type": "markdown",
   "metadata": {
    "nbgrader": {
     "grade": false,
     "grade_id": "cell-de4512a037d6b7ce",
     "locked": true,
     "schema_version": 3,
     "solution": false
    }
   },
   "source": [
    "## 1 About the data\n",
    "\n",
    "In this exercise we will be using a dataset from Zomato, adapted from [here](https://github.com/MehtaShruti/Zomato-Restaurants-Recommendations)."
   ]
  },
  {
   "cell_type": "code",
   "execution_count": 1,
   "metadata": {
    "nbgrader": {
     "grade": false,
     "grade_id": "cell-159bcb71f42e3691",
     "locked": true,
     "schema_version": 3,
     "solution": false
    }
   },
   "outputs": [
    {
     "data": {
      "text/html": [
       "<div>\n",
       "<style scoped>\n",
       "    .dataframe tbody tr th:only-of-type {\n",
       "        vertical-align: middle;\n",
       "    }\n",
       "\n",
       "    .dataframe tbody tr th {\n",
       "        vertical-align: top;\n",
       "    }\n",
       "\n",
       "    .dataframe thead th {\n",
       "        text-align: right;\n",
       "    }\n",
       "</style>\n",
       "<table border=\"1\" class=\"dataframe\">\n",
       "  <thead>\n",
       "    <tr style=\"text-align: right;\">\n",
       "      <th></th>\n",
       "      <th>Restaurant Name</th>\n",
       "      <th>City</th>\n",
       "      <th>Cuisines</th>\n",
       "      <th>Average Cost for two</th>\n",
       "      <th>Has Table booking</th>\n",
       "      <th>Has Online delivery</th>\n",
       "      <th>Price range</th>\n",
       "      <th>Aggregate rating</th>\n",
       "      <th>Rating color</th>\n",
       "      <th>Rating text</th>\n",
       "      <th>Votes</th>\n",
       "    </tr>\n",
       "  </thead>\n",
       "  <tbody>\n",
       "    <tr>\n",
       "      <th>0</th>\n",
       "      <td>Jahanpanah</td>\n",
       "      <td>Agra</td>\n",
       "      <td>North Indian, Mughlai</td>\n",
       "      <td>850</td>\n",
       "      <td>No</td>\n",
       "      <td>No</td>\n",
       "      <td>3</td>\n",
       "      <td>3.9</td>\n",
       "      <td>Yellow</td>\n",
       "      <td>Good</td>\n",
       "      <td>140</td>\n",
       "    </tr>\n",
       "    <tr>\n",
       "      <th>1</th>\n",
       "      <td>Rangrezz Restaurant</td>\n",
       "      <td>Agra</td>\n",
       "      <td>North Indian, Mughlai</td>\n",
       "      <td>700</td>\n",
       "      <td>No</td>\n",
       "      <td>No</td>\n",
       "      <td>2</td>\n",
       "      <td>3.5</td>\n",
       "      <td>Yellow</td>\n",
       "      <td>Good</td>\n",
       "      <td>71</td>\n",
       "    </tr>\n",
       "    <tr>\n",
       "      <th>2</th>\n",
       "      <td>Time2Eat - Mama Chicken</td>\n",
       "      <td>Agra</td>\n",
       "      <td>North Indian</td>\n",
       "      <td>500</td>\n",
       "      <td>No</td>\n",
       "      <td>No</td>\n",
       "      <td>2</td>\n",
       "      <td>3.6</td>\n",
       "      <td>Yellow</td>\n",
       "      <td>Good</td>\n",
       "      <td>94</td>\n",
       "    </tr>\n",
       "    <tr>\n",
       "      <th>3</th>\n",
       "      <td>Chokho Jeeman Marwari Jain Bhojanalya</td>\n",
       "      <td>Agra</td>\n",
       "      <td>Rajasthani</td>\n",
       "      <td>400</td>\n",
       "      <td>No</td>\n",
       "      <td>No</td>\n",
       "      <td>2</td>\n",
       "      <td>4.0</td>\n",
       "      <td>Green</td>\n",
       "      <td>Very Good</td>\n",
       "      <td>87</td>\n",
       "    </tr>\n",
       "    <tr>\n",
       "      <th>4</th>\n",
       "      <td>Pinch Of Spice</td>\n",
       "      <td>Agra</td>\n",
       "      <td>North Indian, Chinese, Mughlai</td>\n",
       "      <td>1000</td>\n",
       "      <td>No</td>\n",
       "      <td>No</td>\n",
       "      <td>3</td>\n",
       "      <td>4.2</td>\n",
       "      <td>Green</td>\n",
       "      <td>Very Good</td>\n",
       "      <td>177</td>\n",
       "    </tr>\n",
       "  </tbody>\n",
       "</table>\n",
       "</div>"
      ],
      "text/plain": [
       "                         Restaurant Name  City  \\\n",
       "0                             Jahanpanah  Agra   \n",
       "1                    Rangrezz Restaurant  Agra   \n",
       "2                Time2Eat - Mama Chicken  Agra   \n",
       "3  Chokho Jeeman Marwari Jain Bhojanalya  Agra   \n",
       "4                         Pinch Of Spice  Agra   \n",
       "\n",
       "                         Cuisines  Average Cost for two Has Table booking  \\\n",
       "0           North Indian, Mughlai                   850                No   \n",
       "1           North Indian, Mughlai                   700                No   \n",
       "2                    North Indian                   500                No   \n",
       "3                      Rajasthani                   400                No   \n",
       "4  North Indian, Chinese, Mughlai                  1000                No   \n",
       "\n",
       "  Has Online delivery  Price range  Aggregate rating Rating color Rating text  \\\n",
       "0                  No            3               3.9       Yellow        Good   \n",
       "1                  No            2               3.5       Yellow        Good   \n",
       "2                  No            2               3.6       Yellow        Good   \n",
       "3                  No            2               4.0        Green   Very Good   \n",
       "4                  No            3               4.2        Green   Very Good   \n",
       "\n",
       "   Votes  \n",
       "0    140  \n",
       "1     71  \n",
       "2     94  \n",
       "3     87  \n",
       "4    177  "
      ]
     },
     "execution_count": 1,
     "metadata": {},
     "output_type": "execute_result"
    }
   ],
   "source": [
    "import warnings\n",
    "warnings.filterwarnings(\"ignore\")\n",
    "\n",
    "import pandas as pd\n",
    "import numpy as np\n",
    "import math\n",
    "import matplotlib.pyplot as plt\n",
    "import category_encoders as ce\n",
    "%matplotlib inline\n",
    "import hashlib\n",
    "\n",
    "data = pd.read_csv('data/zomato.csv')\n",
    "data.head()"
   ]
  },
  {
   "cell_type": "markdown",
   "metadata": {
    "nbgrader": {
     "grade": false,
     "grade_id": "cell-a0e51493f92dd216",
     "locked": true,
     "schema_version": 3,
     "solution": false
    }
   },
   "source": [
    "The fields in this dataset have the following meaning:\n",
    "* **Restaurant Name** - name of the restaurant.\n",
    "* **City** - name of the city where the restaurant belong.\n",
    "* **Cuisines** - type of cuisine served on the restaurant.\n",
    "* **Average Cost for two** - self explanatory(as when scraped).\n",
    "* **Has Table booking** - Yes or No.\n",
    "* **Has Online delivery** - Yes or No.\n",
    "* **Price Range** - prices range from 1 to 4.\n",
    "* **Agregate rating** - overall user rating of the app (as when scraped).\n",
    "* **Rating color** - rating in color: White/ Red/ Orange/ Yeallow/ Green/ Dark Green.\n",
    "* **Rating text** - rating in text values: Not rated/ Poor / Average / Good/ Very Good/ Excellent.\n",
    "* **Votes** - number of user reviews for the restaurant (as when scraped)."
   ]
  },
  {
   "cell_type": "markdown",
   "metadata": {
    "nbgrader": {
     "grade": false,
     "grade_id": "cell-5b226bc3bf62c0ed",
     "locked": true,
     "schema_version": 3,
     "solution": false
    }
   },
   "source": [
    "The first thing we want to do is to check the dtypes of our features."
   ]
  },
  {
   "cell_type": "code",
   "execution_count": 2,
   "metadata": {
    "nbgrader": {
     "grade": false,
     "grade_id": "cell-f632f5b88c090ec1",
     "locked": true,
     "schema_version": 3,
     "solution": false
    }
   },
   "outputs": [
    {
     "data": {
      "text/plain": [
       "Restaurant Name          object\n",
       "City                     object\n",
       "Cuisines                 object\n",
       "Average Cost for two      int64\n",
       "Has Table booking        object\n",
       "Has Online delivery      object\n",
       "Price range               int64\n",
       "Aggregate rating        float64\n",
       "Rating color             object\n",
       "Rating text              object\n",
       "Votes                     int64\n",
       "dtype: object"
      ]
     },
     "execution_count": 2,
     "metadata": {},
     "output_type": "execute_result"
    }
   ],
   "source": [
    "data.dtypes"
   ]
  },
  {
   "cell_type": "markdown",
   "metadata": {
    "nbgrader": {
     "grade": false,
     "grade_id": "cell-46a98ad5fefa0ebe",
     "locked": true,
     "schema_version": 3,
     "solution": false
    }
   },
   "source": [
    "## 2 Category dtype in pandas"
   ]
  },
  {
   "cell_type": "markdown",
   "metadata": {
    "nbgrader": {
     "grade": false,
     "grade_id": "cell-2539330ad7ffa6a7",
     "locked": true,
     "schema_version": 3,
     "solution": false
    }
   },
   "source": [
    "### Exercise 1: Convert fields into category dtype (graded)\n",
    "\n",
    "The fields `Cuisines` and `Rating text` are of dtype `object` but can be converted into dtype `category`, as explained in the Learning Notebook. Moreover:\n",
    "* `Cuisines` is a *nominal* categorical field, that is, without any meaningful order;\n",
    "* `Rating text` is an *ordinal* categorical field, as its values has a natural order.\n",
    "\n",
    "In the following exercise, convert both fields into dtype `category` and, in the case of the field `Rating text`, assign a natural order for its categories.\n",
    "\n",
    "_Note:_ Regarding the \"natural order\" for the field `Rating text`, use the order shown in the field meaning. "
   ]
  },
  {
   "cell_type": "code",
   "execution_count": 3,
   "metadata": {
    "nbgrader": {
     "grade": false,
     "grade_id": "cell-3e4465f2a536b366",
     "locked": false,
     "schema_version": 3,
     "solution": true
    }
   },
   "outputs": [],
   "source": [
    "def convert_categorical_features(X, nominal_feat='Cuisines', ordinal_feat='Rating text'):\n",
    "\n",
    "    X_s = X.copy()\n",
    "    \n",
    "    ## convert nominal feature to dtype 'category'\n",
    "    # ...\n",
    "    ## create list of ordered categories for ordinal feature\n",
    "    # ordered_cats = ...\n",
    "    ## convert ordinal feature to dtype 'category'\n",
    "    # ...\n",
    "    ## Assign natural order to ordinal feature\n",
    "    # ...\n",
    "    \n",
    "    ### BEGIN SOLUTION\n",
    "    X_s[nominal_feat] = X_s[nominal_feat].astype('category')\n",
    "    ordered_cats = ['Not rated', 'Poor', 'Average', 'Good', 'Very Good','Excellent']\n",
    "    X_s[ordinal_feat] = X_s[ordinal_feat].astype('category')\n",
    "    X_s[ordinal_feat] = X_s[ordinal_feat].cat.set_categories(ordered_cats, ordered=True)\n",
    "    ### END SOLUTION\n",
    "\n",
    "    return X_s"
   ]
  },
  {
   "cell_type": "code",
   "execution_count": 4,
   "metadata": {
    "nbgrader": {
     "grade": true,
     "grade_id": "cell-0c9076faa5559934",
     "locked": true,
     "points": 4,
     "schema_version": 3,
     "solution": false
    }
   },
   "outputs": [],
   "source": [
    "\"\"\"Check that the solution is correct.\"\"\"\n",
    "X_cat_conv = convert_categorical_features(data)\n",
    "hash1_1='edb2cd3b74c999af70f0b7054990f2072dc6e10a847af6ed05954b8994b730fe'\n",
    "assert hashlib.sha256(str(X_cat_conv['Cuisines'].dtype).encode('utf-8')).hexdigest() == hash1_1, print('Not correct, try again.')\n",
    "hash1_2='edb2cd3b74c999af70f0b7054990f2072dc6e10a847af6ed05954b8994b730fe'\n",
    "assert hashlib.sha256(str(X_cat_conv['Rating text'].dtype).encode('utf-8')).hexdigest() == hash1_2, print('Not correct, try again.')\n",
    "hash1_3='ad9ebc2393e9f9e4f08a12c8cfc48bce795e73a329c6518d22f45b6318615763'\n",
    "assert hashlib.sha256(str(X_cat_conv).encode('utf-8')).hexdigest() == hash1_3, print('Not correct, try again.')\n",
    "hash1_4='83c8b46c983b9fcf3fb7863409b97fb5ce13c3c2cf49ecf1a17e5af799b9444a'\n",
    "assert hashlib.sha256(str(X_cat_conv['Rating text']).encode('utf-8')).hexdigest() == hash1_4, print('Not correct, try again.')"
   ]
  },
  {
   "cell_type": "markdown",
   "metadata": {
    "nbgrader": {
     "grade": false,
     "grade_id": "cell-531832e38e6f379e",
     "locked": true,
     "schema_version": 3,
     "solution": false
    }
   },
   "source": [
    "### Exercise 2: Encode binary field (graded)\n",
    "\n",
    "In this exercise, encode the **target variable** (column `Has Table booking`) to be `1` when a restaurant `Has Table booking` and to `0` when it doesn't.\n",
    "Do this exercise using the `map` method."
   ]
  },
  {
   "cell_type": "code",
   "execution_count": 5,
   "metadata": {
    "nbgrader": {
     "grade": false,
     "grade_id": "cell-ec7b5600256b7523",
     "locked": false,
     "schema_version": 3,
     "solution": true
    }
   },
   "outputs": [],
   "source": [
    "def encode_binary_field(f):\n",
    "\n",
    "    f_e = f.copy()\n",
    "    \n",
    "    ## create a dictionary mapping the current values to int values\n",
    "    # enconding_map = ...\n",
    "    ## change target using the mapping\n",
    "    # f_e = ...\n",
    "    \n",
    "    ### BEGIN SOLUTION\n",
    "    enconding_map = {'Yes': 1, 'No': 0}\n",
    "    f_e = f_e.map(enconding_map)\n",
    "    ### END SOLUTION\n",
    "    \n",
    "    return f_e"
   ]
  },
  {
   "cell_type": "code",
   "execution_count": 6,
   "metadata": {
    "nbgrader": {
     "grade": true,
     "grade_id": "cell-a63ec6dac3b0a300",
     "locked": true,
     "points": 2,
     "schema_version": 3,
     "solution": false
    }
   },
   "outputs": [],
   "source": [
    "\"\"\"Check that the solution is correct.\"\"\"\n",
    "f_encoded = encode_binary_field(data['Has Table booking'])\n",
    "hash2_1='5feceb66ffc86f38d952786c6d696c79c2dbc239dd4e91b46729d73a27fb57e9'\n",
    "assert hashlib.sha256(str(f_encoded[123]).encode('utf-8')).hexdigest() == hash2_1, print('Not correct, try again.')\n",
    "hash2_2='6b86b273ff34fce19d6b804eff5a3f5747ada4eaa22f1d49c01e52ddb7875b4b'\n",
    "assert hashlib.sha256(str(f_encoded[2004]).encode('utf-8')).hexdigest() == hash2_2, print('Not correct, try again.')\n",
    "hash2_3='0ffe1abd1a08215353c233d6e009613e95eec4253832a761af28ff37ac5a150c'\n",
    "assert hashlib.sha256(str(sum(f_encoded.fillna(0))).encode('utf-8')).hexdigest() == hash2_3, print('Not correct, try again.')"
   ]
  },
  {
   "cell_type": "markdown",
   "metadata": {
    "nbgrader": {
     "grade": false,
     "grade_id": "cell-1e0697ce8670cf79",
     "locked": true,
     "schema_version": 3,
     "solution": false
    }
   },
   "source": [
    "### Exercise 3: Discretize `Votes` field (graded)\n",
    "\n",
    "The field `Votes` is a continuous field, with a distribution which is, not surprisingly, very skewed to the right (remember *skewness* from SLU04?).\n"
   ]
  },
  {
   "cell_type": "code",
   "execution_count": 7,
   "metadata": {
    "nbgrader": {
     "grade": false,
     "grade_id": "cell-ada360e54d9bf9ea",
     "locked": true,
     "schema_version": 3,
     "solution": false
    }
   },
   "outputs": [
    {
     "name": "stdout",
     "output_type": "stream",
     "text": [
      "The field 'Votes' ranges from 0 to 10934\n"
     ]
    },
    {
     "data": {
      "image/png": "[encoded data removed]",
      "text/plain": [
       "<Figure size 720x432 with 1 Axes>"
      ]
     },
     "metadata": {
      "needs_background": "light"
     },
     "output_type": "display_data"
    }
   ],
   "source": [
    "data['Votes'].plot.hist(bins=100, figsize=(10,6));\n",
    "plt.xlim(0);\n",
    "plt.xlabel('Votes');\n",
    "print(\"The field 'Votes' ranges from\", data['Votes'].min(), \"to\", data['Votes'].max())"
   ]
  },
  {
   "cell_type": "markdown",
   "metadata": {
    "nbgrader": {
     "grade": false,
     "grade_id": "cell-56a34dbfc823d4de",
     "locked": true,
     "schema_version": 3,
     "solution": false
    }
   },
   "source": [
    "We will deal with the skewness in a bit. Let's first discretize this field in two ways:\n",
    "* create a new field called `discrete_votes` which is the discretization of the `Votes` field, such that the range is between 0 and 49 and the original instances are uniformly distributed;\n",
    "* create a new field called `binary_votes` which is the binarization of the `Votes` field, such that amounts smaller than `100` become `0` and amounts equal or greater than `100` become 1.\n",
    "\n",
    "Use `sklearn` transformers in this exercise."
   ]
  },
  {
   "cell_type": "code",
   "execution_count": 8,
   "metadata": {
    "nbgrader": {
     "grade": false,
     "grade_id": "cell-4720ba22be810107",
     "locked": false,
     "schema_version": 3,
     "solution": true
    }
   },
   "outputs": [],
   "source": [
    "from sklearn.preprocessing import KBinsDiscretizer\n",
    "from sklearn.preprocessing import Binarizer\n",
    "\n",
    "def discretize_votes(X):\n",
    "\n",
    "    X_a = X.copy()\n",
    "    \n",
    "    ## create new column `discrete_amount` using suitable transformer\n",
    "    # discretizer = ...\n",
    "    # ...\n",
    "    ## create new column `binary_amount` using suitable transformer\n",
    "    # binarizer = ...\n",
    "    # ...\n",
    "    \n",
    "    ### BEGIN SOLUTION\n",
    "    discretizer = KBinsDiscretizer(n_bins=50, encode='ordinal', strategy='uniform')\n",
    "    discretizer.fit(X_a[['Votes']])\n",
    "    X_a['discrete_votes'] = discretizer.transform(X_a[['Votes']])\n",
    "    binarizer = Binarizer(threshold = 100)\n",
    "    binarizer.fit(X_a[['Votes']])\n",
    "    X_a['binary_votes'] = binarizer.transform(X_a[['Votes']])\n",
    "    ### END SOLUTION\n",
    "    \n",
    "    return X_a"
   ]
  },
  {
   "cell_type": "code",
   "execution_count": 9,
   "metadata": {
    "nbgrader": {
     "grade": true,
     "grade_id": "cell-3857c30743a25a50",
     "locked": true,
     "points": 4,
     "schema_version": 3,
     "solution": false
    }
   },
   "outputs": [],
   "source": [
    "\"\"\"Check that the solution is correct.\"\"\"\n",
    "X_votes = discretize_votes(data)\n",
    "hash3_1='e29c9c180c6279b0b02abd6a1801c7c04082cf486ec027aa13515e4f3884bb6b'\n",
    "assert hashlib.sha256(str(X_votes.discrete_votes.nunique()).encode('utf-8')).hexdigest() == hash3_1, print('Not correct, try again.')\n",
    "hash3_2='7665a1519d9063ed9aad694cbe7537f7e2f6cc47d6957096ecd117af918bed77'\n",
    "assert hashlib.sha256(str(X_votes.discrete_votes.max()).encode('utf-8')).hexdigest() == hash3_2, print('Not correct, try again.')\n",
    "hash3_3='8aed642bf5118b9d3c859bd4be35ecac75b6e873cce34e7b6f554b06f75550d7'\n",
    "assert hashlib.sha256(str(X_votes.loc[123, 'discrete_votes']).encode('utf-8')).hexdigest() == hash3_3, print('Not correct, try again.')\n",
    "hash3_4='d4735e3a265e16eee03f59718b9b5d03019c07d8b6c51f90da3a666eec13ab35'\n",
    "assert hashlib.sha256(str(X_votes.binary_votes.nunique()).encode('utf-8')).hexdigest() == hash3_4, print('Not correct, try again.')\n",
    "hash3_5='6b86b273ff34fce19d6b804eff5a3f5747ada4eaa22f1d49c01e52ddb7875b4b'\n",
    "assert hashlib.sha256(str(X_votes.binary_votes.max()).encode('utf-8')).hexdigest() == hash3_5, print('Not correct, try again.')\n",
    "hash3_6='5feceb66ffc86f38d952786c6d696c79c2dbc239dd4e91b46729d73a27fb57e9'\n",
    "assert hashlib.sha256(str(X_votes.loc[123, 'binary_votes']).encode('utf-8')).hexdigest() == hash3_6, print('Not correct, try again.')"
   ]
  },
  {
   "cell_type": "markdown",
   "metadata": {
    "nbgrader": {
     "grade": false,
     "grade_id": "cell-4f4af6d4de3c102a",
     "locked": true,
     "schema_version": 3,
     "solution": false
    }
   },
   "source": [
    "Check the distribution of the two new fields you just calculated:"
   ]
  },
  {
   "cell_type": "code",
   "execution_count": 10,
   "metadata": {
    "nbgrader": {
     "grade": false,
     "grade_id": "cell-1f012f6fda3c3232",
     "locked": true,
     "schema_version": 3,
     "solution": false
    }
   },
   "outputs": [
    {
     "data": {
      "image/png": "[encoded data removed]",
      "text/plain": [
       "<Figure size 720x432 with 1 Axes>"
      ]
     },
     "metadata": {
      "needs_background": "light"
     },
     "output_type": "display_data"
    }
   ],
   "source": [
    "X_votes.discrete_votes.plot.hist(bins=40, figsize=(10,6));\n",
    "plt.xlim(0,50);\n",
    "plt.xlabel('discrete_votes');\n",
    "plt.title('Votes after discretization');"
   ]
  },
  {
   "cell_type": "code",
   "execution_count": 11,
   "metadata": {
    "nbgrader": {
     "grade": false,
     "grade_id": "cell-3db8e7b9b4ab0a02",
     "locked": true,
     "schema_version": 3,
     "solution": false
    }
   },
   "outputs": [
    {
     "data": {
      "image/png": "[encoded data removed]",
      "text/plain": [
       "<Figure size 288x288 with 1 Axes>"
      ]
     },
     "metadata": {
      "needs_background": "light"
     },
     "output_type": "display_data"
    }
   ],
   "source": [
    "X_votes.binary_votes.plot.hist(figsize=(4,4));\n",
    "plt.xlim(0,1);\n",
    "plt.xlabel('binary_votes');\n",
    "plt.title('Votes after binarization');"
   ]
  },
  {
   "cell_type": "markdown",
   "metadata": {
    "nbgrader": {
     "grade": false,
     "grade_id": "cell-c24bc27b2866af9d",
     "locked": true,
     "schema_version": 3,
     "solution": false
    }
   },
   "source": [
    "### Exercise 4: Scale `Votes` field (graded)\n",
    "\n",
    "In the Learning Notebook, you also learned that numerical data can be scaled. \n",
    "\n",
    "In this exercise, let's scale the field `Votes` in three different ways and compare the results:\n",
    "* create a new field called `minmaxscaled_votes` which scales uniformly the `Votes` field such that the values range from 0 to 1;\n",
    "* create a new field called `standardscaled_votes` which scales the `Votes` field such that the *mean* is 0 and the standard deviation is 1;\n",
    "* create a new field called `robustscaled_votes` which scales the `Votes` field such that the *median* is 0 and it is scaled according to the Interquartile Range."
   ]
  },
  {
   "cell_type": "code",
   "execution_count": 12,
   "metadata": {
    "nbgrader": {
     "grade": false,
     "grade_id": "cell-448ce1f0353e6cb8",
     "locked": false,
     "schema_version": 3,
     "solution": true
    }
   },
   "outputs": [],
   "source": [
    "from sklearn.preprocessing import MinMaxScaler\n",
    "from sklearn.preprocessing import StandardScaler\n",
    "from sklearn.preprocessing import RobustScaler\n",
    "\n",
    "def scale_votes(X):\n",
    "\n",
    "    X_s = X.copy()\n",
    "    \n",
    "    ## create new column `minmaxscaled_reviews` using suitable transformer\n",
    "    # ...\n",
    "    ## create new column `standardscaled_reviews` using suitable transformer\n",
    "    # ...\n",
    "    ## create new column `robustscaled_reviews` using suitable transformer\n",
    "    # ...\n",
    "    \n",
    "    ### BEGIN SOLUTION\n",
    "    minmaxscaler = MinMaxScaler(feature_range=(0,1))\n",
    "    minmaxscaler.fit(X_s[['Votes']])\n",
    "    X_s['minmaxscaled_votes'] = minmaxscaler.transform(X_s[['Votes']])\n",
    "    standardscaler = StandardScaler()\n",
    "    standardscaler.fit(X_s[['Votes']])\n",
    "    X_s['standardscaled_votes'] = standardscaler.transform(X_s[['Votes']])\n",
    "    robustscaler = RobustScaler()\n",
    "    robustscaler.fit(X_s[['Votes']])\n",
    "    X_s['robustscaled_votes'] = robustscaler.transform(X_s[['Votes']])\n",
    "    ### END SOLUTION\n",
    "    \n",
    "    return X_s"
   ]
  },
  {
   "cell_type": "code",
   "execution_count": 13,
   "metadata": {
    "nbgrader": {
     "grade": true,
     "grade_id": "cell-4d170aec616b4864",
     "locked": true,
     "points": 3,
     "schema_version": 3,
     "solution": false
    }
   },
   "outputs": [],
   "source": [
    "\"\"\"Check that the solution is correct.\"\"\"\n",
    "X_scaled = scale_votes(data)\n",
    "\n",
    "assert X_scaled.minmaxscaled_votes.min() == 0 , print('Not correct, try again.')\n",
    "assert X_scaled.minmaxscaled_votes.max() == 1, print('Not correct, try again.')\n",
    "assert math.isclose(X_scaled.minmaxscaled_votes.mean(), 0.0125, abs_tol = 0.0001), print('Not correct, try again.')\n",
    "assert math.isclose(X_scaled.loc[1234, 'minmaxscaled_votes'], 0.03576 , abs_tol = 0.00001), print('Not correct, try again.')\n",
    "assert math.isclose(X_scaled.standardscaled_votes.min(), -0.321, abs_tol = 0.001), print('Not correct, try again.')\n",
    "assert math.isclose(X_scaled.standardscaled_votes.max(), 25.23, abs_tol = 0.01), print('Not correct, try again.')\n",
    "assert math.isclose(X_scaled.standardscaled_votes.mean(), -2.874e-17, abs_tol = 0.01e-10), print('Not correct, try again.')\n",
    "assert math.isclose(X_scaled.loc[1234, 'standardscaled_votes'], 0.592, abs_tol = 0.01), print('Not correct, try again.')\n",
    "assert math.isclose(X_scaled.robustscaled_votes.min(), -0.25, abs_tol = 0.0001), print('Not correct, try again.')\n",
    "assert math.isclose(X_scaled.robustscaled_votes.max(), 113.65, abs_tol = 0.01), print('Not correct, try again.')\n",
    "assert math.isclose(X_scaled.robustscaled_votes.mean(), 1.1793, abs_tol = 0.001), print('Not correct, try again.')\n",
    "assert math.isclose(X_scaled.loc[1234, 'robustscaled_votes'], 3.82292, abs_tol = 0.001), print('Not correct, try again.')"
   ]
  },
  {
   "cell_type": "markdown",
   "metadata": {
    "nbgrader": {
     "grade": false,
     "grade_id": "cell-5edff988face2155",
     "locked": true,
     "schema_version": 3,
     "solution": false
    }
   },
   "source": [
    "Plot the distributions for the new fields you just calculated:"
   ]
  },
  {
   "cell_type": "code",
   "execution_count": 14,
   "metadata": {
    "nbgrader": {
     "grade": false,
     "grade_id": "cell-8f8b2b454c57ba3b",
     "locked": true,
     "schema_version": 3,
     "solution": false
    }
   },
   "outputs": [
    {
     "data": {
      "image/png": "[encoded data removed]",
      "text/plain": [
       "<Figure size 720x432 with 1 Axes>"
      ]
     },
     "metadata": {
      "needs_background": "light"
     },
     "output_type": "display_data"
    }
   ],
   "source": [
    "X_scaled.minmaxscaled_votes.plot.hist(bins=30, figsize=(10,6));\n",
    "plt.xlim(0,1);\n",
    "plt.xlabel('minmaxscaled_votes');\n",
    "plt.title('Votes after min-max scaling');"
   ]
  },
  {
   "cell_type": "code",
   "execution_count": 15,
   "metadata": {
    "nbgrader": {
     "grade": false,
     "grade_id": "cell-a6f75a8f36bac1f7",
     "locked": true,
     "schema_version": 3,
     "solution": false
    }
   },
   "outputs": [
    {
     "data": {
      "image/png": "[encoded data removed]",
      "text/plain": [
       "<Figure size 720x432 with 1 Axes>"
      ]
     },
     "metadata": {
      "needs_background": "light"
     },
     "output_type": "display_data"
    }
   ],
   "source": [
    "X_scaled.standardscaled_votes.plot.hist(bins=30, figsize=(10,6));\n",
    "plt.xlabel('standardscaled_votes');\n",
    "plt.title('Votes after standard scaling');"
   ]
  },
  {
   "cell_type": "code",
   "execution_count": 16,
   "metadata": {
    "nbgrader": {
     "grade": false,
     "grade_id": "cell-de46ac280a117e0c",
     "locked": true,
     "schema_version": 3,
     "solution": false
    }
   },
   "outputs": [
    {
     "data": {
      "image/png": "[encoded data removed]",
      "text/plain": [
       "<Figure size 720x432 with 1 Axes>"
      ]
     },
     "metadata": {
      "needs_background": "light"
     },
     "output_type": "display_data"
    }
   ],
   "source": [
    "X_scaled.robustscaled_votes.plot.hist(bins=30, figsize=(10,6));\n",
    "plt.xlabel('robustscaled_votes');\n",
    "plt.title('Votes after robust scaling');"
   ]
  },
  {
   "cell_type": "markdown",
   "metadata": {
    "nbgrader": {
     "grade": false,
     "grade_id": "cell-99f58c18d48c5f61",
     "locked": true,
     "schema_version": 3,
     "solution": false
    }
   },
   "source": [
    "### Exercise 5: Ordinal encode `Rating text` feature\n",
    "\n",
    "Finally, let's deal with the categorical features.\n",
    "\n",
    "First, create a new field called `rating_text_encoded` which is the result of ordinal encoding of the `Rating text` feature."
   ]
  },
  {
   "cell_type": "code",
   "execution_count": 17,
   "metadata": {
    "nbgrader": {
     "grade": false,
     "grade_id": "cell-19c253c171a6330a",
     "locked": false,
     "schema_version": 3,
     "solution": true
    }
   },
   "outputs": [],
   "source": [
    "def encode_rating_text(X):\n",
    "\n",
    "    X_r = X.copy()\n",
    "    \n",
    "    # create new column using suitable transformer\n",
    "    ### BEGIN SOLUTION\n",
    "    ordinalencoder = ce.ordinal.OrdinalEncoder()\n",
    "    ordinalencoder.fit(X_r[['Rating text']])\n",
    "    X_r['rating_text_encoded'] = ordinalencoder.transform(X_r[['Rating text']])\n",
    "    ### END SOLUTION\n",
    "    \n",
    "    return X_r"
   ]
  },
  {
   "cell_type": "code",
   "execution_count": 18,
   "metadata": {
    "nbgrader": {
     "grade": true,
     "grade_id": "cell-1c3c0246ee35e543",
     "locked": true,
     "points": 3,
     "schema_version": 3,
     "solution": false
    }
   },
   "outputs": [],
   "source": [
    "\"\"\"Check that the solution is correct.\"\"\"\n",
    "X_rating_text = encode_rating_text(data)\n",
    "hash5_1='bc2229666b96007e875c5f62897ee5b7648db2baa5fabf3e771afac323afbd57'\n",
    "assert hashlib.sha256(str(X_rating_text.rating_text_encoded.dtype).encode('utf-8')).hexdigest() == hash5_1, print('Not correct, try again.')\n",
    "hash5_2='6b86b273ff34fce19d6b804eff5a3f5747ada4eaa22f1d49c01e52ddb7875b4b'\n",
    "assert hashlib.sha256(str(X_rating_text.rating_text_encoded.min()).encode('utf-8')).hexdigest() == hash5_2, print('Not correct, try again.')\n",
    "hash5_3='e7f6c011776e8db7cd330b54174fd76f7d0216b612387a5ffcfb81e6f0919683'\n",
    "assert hashlib.sha256(str(X_rating_text.rating_text_encoded.max()).encode('utf-8')).hexdigest() == hash5_3, print('Not correct, try again.')\n",
    "hash5_4='d4735e3a265e16eee03f59718b9b5d03019c07d8b6c51f90da3a666eec13ab35'\n",
    "assert hashlib.sha256(str(X_rating_text.loc[1234, 'rating_text_encoded']).encode('utf-8')).hexdigest() == hash5_4, print('Not correct, try again.')"
   ]
  },
  {
   "cell_type": "markdown",
   "metadata": {
    "nbgrader": {
     "grade": false,
     "grade_id": "cell-99f58c18d48c5f62",
     "locked": true,
     "schema_version": 3,
     "solution": false
    }
   },
   "source": [
    "### Exercise 6: One-hot encode type feature\n",
    "\n",
    "Finally, perform a one-hot encoding of the `Cuisines` feature. Pay attention to the following points:\n",
    "* return the original DataFrame `X`, but with the `Cuisines` feature replaced by the new ones resulting from the one-hot encoding;\n",
    "* make sure the new features have names of the form `Cuisines_<value>`, where `<value>` is the category being indicated by that feature."
   ]
  },
  {
   "cell_type": "code",
   "execution_count": 19,
   "metadata": {
    "nbgrader": {
     "grade": false,
     "grade_id": "cell-19c253c171a6330b",
     "locked": false,
     "schema_version": 3,
     "solution": true
    }
   },
   "outputs": [],
   "source": [
    "def encode_cuisines(X):\n",
    "\n",
    "    X_t = X.copy()\n",
    "    \n",
    "    # perform one-hot encoding in X_t\n",
    "    ### BEGIN SOLUTION\n",
    "    ohe = ce.one_hot.OneHotEncoder(cols = ['Cuisines'], use_cat_names=True, handle_unknown='indicator')\n",
    "    ohe.fit(X_t)\n",
    "    X_t = ohe.transform(X_t)\n",
    "    ### END SOLUTION\n",
    "    \n",
    "    return X_t"
   ]
  },
  {
   "cell_type": "code",
   "execution_count": 20,
   "metadata": {
    "nbgrader": {
     "grade": true,
     "grade_id": "cell-1c3c0246ee35e543b",
     "locked": true,
     "points": 4,
     "schema_version": 3,
     "solution": false
    }
   },
   "outputs": [],
   "source": [
    "\"\"\"Check that the solution is correct.\"\"\"\n",
    "X_cuisines = encode_cuisines(data)\n",
    "assert X_cuisines.shape[1] > 10, print('Not correct, try again.')\n",
    "hash6_1='454f63ac30c8322997ef025edff6abd23e0dbe7b8a3d5126a894e4a168c1b59b'\n",
    "assert hashlib.sha256(str(X_cuisines.Cuisines_Mughlai.sum()).encode('utf-8')).hexdigest() == hash6_1, print('Not correct, try again.')\n",
    "hash6_2='5feceb66ffc86f38d952786c6d696c79c2dbc239dd4e91b46729d73a27fb57e9'\n",
    "assert hashlib.sha256(str(X_cuisines.loc[1234, 'Cuisines_North Indian, Chinese, Continental']).encode('utf-8')).hexdigest() == hash6_2, print('Not correct, try again.')\n",
    "hash6_3='5feceb66ffc86f38d952786c6d696c79c2dbc239dd4e91b46729d73a27fb57e9'\n",
    "assert hashlib.sha256(str(X_cuisines.loc[4322, 'Cuisines_North Indian, European']).encode('utf-8')).hexdigest() == hash6_3, print('Not correct, try again.')"
   ]
  },
  {
   "cell_type": "markdown",
   "metadata": {
    "nbgrader": {
     "grade": false,
     "grade_id": "cell-23cecc41445ac5d9",
     "locked": true,
     "schema_version": 3,
     "solution": false,
     "task": false
    }
   },
   "source": [
    "----"
   ]
  }
 ],
 "metadata": {
  "celltoolbar": "Create Assignment",
  "kernelspec": {
   "display_name": "Python 3 (ipykernel)",
   "language": "python",
   "name": "python3"
  },
  "language_info": {
   "codemirror_mode": {
    "name": "ipython",
    "version": 3
   },
   "file_extension": ".py",
   "mimetype": "text/x-python",
   "name": "python",
   "nbconvert_exporter": "python",
   "pygments_lexer": "ipython3",
   "version": "3.7.10"
  }
 },
 "nbformat": 4,
 "nbformat_minor": 2
}
