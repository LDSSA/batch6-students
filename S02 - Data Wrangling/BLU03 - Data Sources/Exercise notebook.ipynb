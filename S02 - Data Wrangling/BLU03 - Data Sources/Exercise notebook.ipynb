{
 "cells": [
  {
   "cell_type": "markdown",
   "metadata": {
    "deletable": false,
    "editable": false,
    "nbgrader": {
     "grade": false,
     "grade_id": "cell-1b6b75485105e36c",
     "locked": true,
     "schema_version": 3,
     "solution": false
    }
   },
   "source": [
    "# BLU03 - Exercises Notebook"
   ]
  },
  {
   "cell_type": "code",
   "execution_count": null,
   "metadata": {
    "deletable": false,
    "editable": false,
    "nbgrader": {
     "grade": false,
     "grade_id": "cell-ee9dcdd4eb1308b9",
     "locked": true,
     "schema_version": 3,
     "solution": false
    }
   },
   "outputs": [],
   "source": [
    "import hashlib # for grading purposes\n",
    "import math\n",
    "import numpy as np\n",
    "import pandas as pd\n",
    "import requests\n",
    "import sqlalchemy\n",
    "\n",
    "from bs4 import BeautifulSoup"
   ]
  },
  {
   "cell_type": "markdown",
   "metadata": {
    "deletable": false,
    "editable": false,
    "nbgrader": {
     "grade": false,
     "grade_id": "cell-cc67f3fcb340fbcd",
     "locked": true,
     "schema_version": 3,
     "solution": false
    }
   },
   "source": [
    "## Part A - SQL exercises\n",
    "\n",
    "### Querying a StockDatabase with a SQL client\n",
    "\n",
    "Open your favorite SQL client and connect to the StockDatabase.\n",
    "The connection settings are the following.\n",
    "\n",
    "* host: batch4-s02-db-instance.ctq2kxc7kx1i.eu-west-1.rds.amazonaws.com\n",
    "* port: 5432\n",
    "* user: ldsa_student\n",
    "* database: s02_db\n",
    "* schema: public\n",
    "* password: XXX (shared through slack)\n",
    "\n",
    "This is a different schema than the one we used in the learning notebooks (don't forget to change to this schema, see the Learning Notebook). This schema contains information about stock tickers, including their location, some financial information, and whether they are in certain indices.\n",
    "\n",
    "The tables in this schema are the following:\n",
    "\n",
    "1. Stock: has information on ticker, stock name, and sector and industry information.\n",
    "2. Financial: contains latest price and marketcap of all tickers.\n",
    "3. Location: contains information about where the company is located.\n",
    "4. Info: contains information about if a given company is in a certain index (SP500 for example).\n",
    "\n",
    "You can preview these tables using the SQL client.\n",
    "\n",
    "## Note:\n",
    "\n",
    "Since some of the table and column names are reserved names, so they have to be written in double quotes in\n",
    "the queries.  For example in the Financial table (as financial), you can call the Name column using\n",
    "`financial.\"Name\"`\n",
    "\n",
    "### Q1. What is the name of the company with ticker T\n",
    "\n",
    "Write a query that selects the name of the company that has a ticker T, and run it in the SQL client.\n",
    "\n",
    "Then, assign the result to variable q1_answer (just copy and paste the name you obtained)."
   ]
  },
  {
   "cell_type": "code",
   "execution_count": null,
   "metadata": {
    "deletable": false,
    "nbgrader": {
     "grade": false,
     "grade_id": "cell-03b22b93be7b587e",
     "locked": false,
     "schema_version": 3,
     "solution": true
    }
   },
   "outputs": [],
   "source": [
    "# YOUR CODE HERE\n",
    "raise NotImplementedError()"
   ]
  },
  {
   "cell_type": "code",
   "execution_count": null,
   "metadata": {
    "deletable": false,
    "editable": false,
    "nbgrader": {
     "grade": true,
     "grade_id": "cell-92e8f002ca863db1",
     "locked": true,
     "points": 3,
     "schema_version": 3,
     "solution": false
    }
   },
   "outputs": [],
   "source": [
    "expected_hash = '3374aaf6d4a7add286557a7003ae41a6b0b2eac3635283fcffa6ddcb1c81af56'\n",
    "assert hashlib.sha256(q1_answer.encode()).hexdigest() == expected_hash"
   ]
  },
  {
   "cell_type": "markdown",
   "metadata": {
    "deletable": false,
    "editable": false,
    "nbgrader": {
     "grade": false,
     "grade_id": "cell-010c418f563b3408",
     "locked": true,
     "schema_version": 3,
     "solution": false
    }
   },
   "source": [
    "### Q2. Count how many companies have a marketcap greater than 100 (Billion)\n",
    "\n",
    "Write a query that counts the number companies have a marketcap (`marketcap`) greater than 100 (Billion)\n",
    "\n",
    "Then, assign the result to variable q2_answer (just copy and paste the value)."
   ]
  },
  {
   "cell_type": "code",
   "execution_count": null,
   "metadata": {
    "deletable": false,
    "nbgrader": {
     "grade": false,
     "grade_id": "cell-be58fad2af1735bd",
     "locked": false,
     "schema_version": 3,
     "solution": true
    }
   },
   "outputs": [],
   "source": [
    "# YOUR CODE HERE\n",
    "raise NotImplementedError()"
   ]
  },
  {
   "cell_type": "code",
   "execution_count": null,
   "metadata": {
    "deletable": false,
    "editable": false,
    "nbgrader": {
     "grade": true,
     "grade_id": "cell-1f2f87262d1b5fc4",
     "locked": true,
     "points": 3,
     "schema_version": 3,
     "solution": false
    }
   },
   "outputs": [],
   "source": [
    "expected_hash = '349c41201b62db851192665c504b350ff98c6b45fb62a8a2161f78b6534d8de9'\n",
    "assert hashlib.sha256(str(q2_answer).encode()).hexdigest() == expected_hash"
   ]
  },
  {
   "cell_type": "markdown",
   "metadata": {
    "deletable": false,
    "editable": false,
    "nbgrader": {
     "grade": false,
     "grade_id": "cell-010c418f565b3108",
     "locked": true,
     "schema_version": 3,
     "solution": false
    }
   },
   "source": [
    "### Q3. Find the name of the financial sector company which is not in SP500 with the largest marketcap.\n",
    "\n",
    "That's quite a lot to ask!\n",
    "\n",
    "Let's break it down. Write a query that:\n",
    "\n",
    "* Finds where the company is not in the SP500 (note this is a boolean with 0 meaning not in)\n",
    "* Filters only based on the 'Financial' sector\n",
    "* Sorts by marketcap and gets the highest.\n",
    "\n",
    "Then, assign the result to variable q3_answer.\n"
   ]
  },
  {
   "cell_type": "code",
   "execution_count": null,
   "metadata": {
    "deletable": false,
    "nbgrader": {
     "grade": false,
     "grade_id": "cell-3a7464176782e2cb",
     "locked": false,
     "schema_version": 3,
     "solution": true
    }
   },
   "outputs": [],
   "source": [
    "# YOUR CODE HERE\n",
    "raise NotImplementedError()"
   ]
  },
  {
   "cell_type": "code",
   "execution_count": null,
   "metadata": {
    "deletable": false,
    "editable": false,
    "nbgrader": {
     "grade": true,
     "grade_id": "cell-f1f24a46b0d15dc9",
     "locked": true,
     "points": 2,
     "schema_version": 3,
     "solution": false
    }
   },
   "outputs": [],
   "source": [
    "expected_hash = 'a7f4a1723bf1798a9cc8d89ca7d817e414afaeadfe8f8bebe1cbfc591901fcbf'\n",
    "assert hashlib.sha256(q3_answer.encode()).hexdigest() == expected_hash"
   ]
  },
  {
   "cell_type": "markdown",
   "metadata": {
    "deletable": false,
    "editable": false,
    "nbgrader": {
     "grade": false,
     "grade_id": "cell-f1ef8aaf001e8015",
     "locked": true,
     "schema_version": 3,
     "solution": false
    }
   },
   "source": [
    "### Q4. Find what Sectors have stocks in the SP500 that are located in the state of Louisiana (LA)\n",
    "\n",
    "Write a query that gets the name of unique Sectors for stocks in the SP500 that are located in the state of LA.\n",
    "\n",
    "Order the results **by marketcap** in descending order (meaning the sector that contains the company with the highest marketcap is first). Create a list with the results, and assign it to variable q4_answer."
   ]
  },
  {
   "cell_type": "code",
   "execution_count": null,
   "metadata": {
    "deletable": false,
    "nbgrader": {
     "grade": false,
     "grade_id": "cell-645c2fbe3b16c880",
     "locked": false,
     "schema_version": 3,
     "solution": true
    }
   },
   "outputs": [],
   "source": [
    "# YOUR CODE HERE\n",
    "raise NotImplementedError()"
   ]
  },
  {
   "cell_type": "code",
   "execution_count": null,
   "metadata": {
    "deletable": false,
    "editable": false,
    "nbgrader": {
     "grade": true,
     "grade_id": "cell-41d99aabd53c87e7",
     "locked": true,
     "points": 2,
     "schema_version": 3,
     "solution": false
    }
   },
   "outputs": [],
   "source": [
    "expected_hash = 'e3468dd18bd5875af0eb0ca93b8d4857d92ffa6aaa40606bc8c673466addf1e9'\n",
    "assert hashlib.sha256(str(q4_answer).encode()).hexdigest() == expected_hash"
   ]
  },
  {
   "cell_type": "markdown",
   "metadata": {
    "deletable": false,
    "editable": false,
    "nbgrader": {
     "grade": false,
     "grade_id": "cell-24c0142cc3082a0c",
     "locked": true,
     "schema_version": 3,
     "solution": false
    }
   },
   "source": [
    "### Q5. Find out what sector had the highest average stock price (`lastprice`)\n",
    "\n",
    "Write a query to find out what sector has the highest average stock price\n",
    "\n",
    "Assign this sector to variable q5_answer_1.\n",
    "\n",
    "Also find out the max price in that sector, and assign that value to q5_answer_2.\n"
   ]
  },
  {
   "cell_type": "code",
   "execution_count": null,
   "metadata": {
    "deletable": false,
    "nbgrader": {
     "grade": false,
     "grade_id": "cell-c5ef88aa51ea99f6",
     "locked": false,
     "schema_version": 3,
     "solution": true
    }
   },
   "outputs": [],
   "source": [
    "# YOUR CODE HERE\n",
    "raise NotImplementedError()"
   ]
  },
  {
   "cell_type": "code",
   "execution_count": null,
   "metadata": {
    "deletable": false,
    "editable": false,
    "nbgrader": {
     "grade": true,
     "grade_id": "cell-f0f9a337b81de14a",
     "locked": true,
     "points": 2,
     "schema_version": 3,
     "solution": false
    }
   },
   "outputs": [],
   "source": [
    "expected_country_hash = '34a4ace130c47bbe338b0bec84f81a50759816791386555ddaccfa747c2cfa11'\n",
    "assert hashlib.sha256(q5_answer_1.encode()).hexdigest() == expected_country_hash, \"Wrong sector!\"\n",
    "\n",
    "expected_matches_hash = '9e88bc436d06d631daa2e31b55cf86a03e210af27c17c9723eef82a5003febd7'\n",
    "assert hashlib.sha256(str(q5_answer_2).encode()).hexdigest() == expected_matches_hash, \"Wrong max price!\""
   ]
  },
  {
   "cell_type": "markdown",
   "metadata": {
    "deletable": false,
    "editable": false,
    "nbgrader": {
     "grade": false,
     "grade_id": "cell-a63384ff91b49abf",
     "locked": true,
     "schema_version": 3,
     "solution": false
    }
   },
   "source": [
    "## Part B - Public APIs\n",
    "\n",
    "\n",
    "-----------------------------------\n",
    "\n",
    "In this exercises, the goal is to get data from a public API. We'll go full geek, and use a Pokemon API hosted by the LDSA for this BLU! (credit for the data goes to user `fanzeyi`on Github)\n",
    "\n",
    "The base URL of the API is the following: https://pokemon-api.lisbondatascience.org/\n",
    "\n",
    "In order to complete the exercises, you'll have to navigate to the API's documentation (`ui` endpoint) on your browser. More specifically, you'll have to learn what are the different endpoints from which you can GET information.\n",
    "\n",
    "<br>\n",
    "\n",
    "<img src=\"media/api-image.jpg\" width=600>\n",
    "\n",
    "<br>\n",
    "\n",
    "### Q6. Find all of Charmander's evolutions!\n",
    "\n",
    "As you might know, Pokemon evolve as they grow. Several Pokemon keep a similar name when they evolve. Let's consider my favourite starter Pokemon, Charmander:\n",
    "\n",
    "<br>\n",
    "\n",
    "<img src=\"media/charmander.png\" width=300>\n",
    "\n",
    "<br>\n",
    "\n",
    "Use the API to find all Charmander's evolutions! You will have to get all Pokemon with `Char` in their name, and you'll also have to filter for \"Fire\" type Pokemon, since there are a couple of results unrelated to Charmander.\n",
    "\n",
    "Extract their names from the `[\"name\"][\"english\"]` attribute of each result, in the order they are returned, and assign the resulting list to the `q6_answer_names` variable.\n",
    "\n",
    "Also extract their speeds (`[\"base\"][\"Speed\"]`) and assign them to variable `q6_answer_speeds`"
   ]
  },
  {
   "cell_type": "code",
   "execution_count": null,
   "metadata": {
    "deletable": false,
    "nbgrader": {
     "grade": false,
     "grade_id": "cell-3e7084c9bf8398d0",
     "locked": false,
     "schema_version": 3,
     "solution": true,
     "task": false
    }
   },
   "outputs": [],
   "source": [
    "# Do an HTTP GET request to the Pokemon API to get information about \n",
    "# all Pokemons with \"Char\" in their name\n",
    "# response = ...\n",
    "# q6_answer_names = ...\n",
    "# q6_answer_speeds = ...\n",
    "\n",
    "# YOUR CODE HERE\n",
    "raise NotImplementedError()\n",
    "\n"
   ]
  },
  {
   "cell_type": "code",
   "execution_count": null,
   "metadata": {
    "deletable": false,
    "editable": false,
    "nbgrader": {
     "grade": true,
     "grade_id": "cell-50d051ce26525944",
     "locked": true,
     "points": 2,
     "schema_version": 3,
     "solution": false,
     "task": false
    }
   },
   "outputs": [],
   "source": [
    "assert type(q6_answer_names) == list, \"Names must be in a list\"\n",
    "assert type(q6_answer_speeds) == list, \"Speeds must be in a list\"\n",
    "\n",
    "names_hash = '4530988a30da58ce7b0045234c8499b1cc5bbf39412591a28bc49b876dba223c'\n",
    "assert hashlib.sha256(str(q6_answer_names).encode()).hexdigest() == names_hash, \"Wrong names!\"\n",
    "\n",
    "speeds_hash = 'e0919cb78353fd21778684cebea362f41ccaa283ce2aa8d86a190ccc9daec2aa'\n",
    "assert hashlib.sha256(str(q6_answer_speeds).encode()).hexdigest() == speeds_hash, \"Wrong speeds!\""
   ]
  },
  {
   "cell_type": "markdown",
   "metadata": {
    "deletable": false,
    "editable": false,
    "nbgrader": {
     "grade": false,
     "grade_id": "cell-90ff2db8962c1d5b",
     "locked": true,
     "schema_version": 3,
     "solution": false
    }
   },
   "source": [
    "### Q7 Find the strongest Pokemon moves!\n",
    "\n",
    "Now, use a different endpoint to find out which Pokemon moves have a `power` stat of 200 or higher.\n",
    "\n",
    "Extract their `enames` (english names) and assign the resulting list to variable `q7_answer`."
   ]
  },
  {
   "cell_type": "code",
   "execution_count": null,
   "metadata": {
    "deletable": false,
    "nbgrader": {
     "grade": false,
     "grade_id": "cell-3c68a66b3b6b56d0",
     "locked": false,
     "schema_version": 3,
     "solution": true,
     "task": false
    }
   },
   "outputs": [],
   "source": [
    "# Do an HTTP GET request to find which Pokemon moves have 200 or more power.\n",
    "\n",
    "# YOUR CODE HERE\n",
    "raise NotImplementedError()"
   ]
  },
  {
   "cell_type": "code",
   "execution_count": null,
   "metadata": {
    "deletable": false,
    "editable": false,
    "nbgrader": {
     "grade": true,
     "grade_id": "cell-15c07449c3238657",
     "locked": true,
     "points": 2,
     "schema_version": 3,
     "solution": false,
     "task": false
    }
   },
   "outputs": [],
   "source": [
    "assert type(q7_answer) == list, \"Moves must be in a list!\"\n",
    "assert len(q7_answer) == 2, \"Wrong number of moves!\"\n",
    "\n",
    "expected_moves_hash = 'a7b4c8bc5e6e205ab29e8255537e3bb8ae04269b5b329a3e7c5984ff45542df1'\n",
    "assert hashlib.sha256(str(q7_answer).encode()).hexdigest() == expected_moves_hash"
   ]
  },
  {
   "cell_type": "markdown",
   "metadata": {
    "deletable": false,
    "editable": false,
    "nbgrader": {
     "grade": false,
     "grade_id": "cell-91ec6c1c0bc1f4f5",
     "locked": true,
     "schema_version": 3,
     "solution": false
    }
   },
   "source": [
    "## Part C - Web scraping\n",
    "\n",
    "In this exercise, we're going to use web scraping to get data from the page of a former LDSA student, Bork Pawson!\n",
    "Bork has kindly made his very simple and amateurish website available for us to scrape!\n",
    "\n",
    "You can find his website here: https://s02-infrastructure.s3.eu-west-1.amazonaws.com/ldsa-bork/index.html\n",
    "\n",
    "### Q8. Scrape Bork's ABSOLUTE favourite things in the world.\n",
    "\n",
    "Bork has written down his five favourite things in the world. You can find them in a list on the website's sidebar.\n",
    "Scrape the 5 items in order, using the `requests` and `BeautifulSoup` library, store them in a list, and assign it to the `q10_answer` variable. No cheating! \n"
   ]
  },
  {
   "cell_type": "code",
   "execution_count": null,
   "metadata": {
    "deletable": false,
    "nbgrader": {
     "grade": false,
     "grade_id": "cell-bd8d7b19855c5b9f",
     "locked": false,
     "schema_version": 3,
     "solution": true
    }
   },
   "outputs": [],
   "source": [
    "# Assign the URL of the page to be scraped to variable url\n",
    "# url = ...\n",
    "# YOUR CODE HERE\n",
    "raise NotImplementedError()\n",
    "\n",
    "# Do a GET request to get the page content, using the url we've just defined\n",
    "# response = ...\n",
    "# YOUR CODE HERE\n",
    "raise NotImplementedError()\n",
    "\n",
    "# Instantiate a soup object using the response of the GET request\n",
    "# YOUR CODE HERE\n",
    "raise NotImplementedError()\n",
    "    \n",
    "# Now it's the tricky part!\n",
    "# Parse the soup in order to retrieve the list of things.\n",
    "# In the end, store the favourite things in a list and assign it to variable q10_answer.\n",
    "# YOUR CODE HERE\n",
    "raise NotImplementedError()"
   ]
  },
  {
   "cell_type": "code",
   "execution_count": null,
   "metadata": {
    "deletable": false,
    "editable": false,
    "nbgrader": {
     "grade": true,
     "grade_id": "cell-335a90721257cd1a",
     "locked": true,
     "points": 2,
     "schema_version": 3,
     "solution": false
    }
   },
   "outputs": [],
   "source": [
    "expected_hash = 'b42c63516b06440a9481cbfbc100f23f2b47f68a008f3e073d6e67ce81a6b81e'\n",
    "assert hashlib.sha256(str(sorted(q8_answer)).encode()).hexdigest() == expected_hash"
   ]
  },
  {
   "cell_type": "markdown",
   "metadata": {
    "deletable": false,
    "editable": false,
    "nbgrader": {
     "grade": false,
     "grade_id": "cell-ff83f6395e265feb",
     "locked": true,
     "schema_version": 3,
     "solution": false
    }
   },
   "source": [
    "### Q9. Find the tennis ball tag\n",
    "\n",
    "Scrape the tag containing the tennis ball image that is on the center of the grid with Bork's favourite things.\n",
    "Assign the tag (not the image content) to variable `q9_answer`.\n",
    "\n",
    "Note: You'll have to find a different way to pass the attribute you want to filter, since the attribute name conflicts with an argument of the `find` function. You can figure out how to do this in the [BeautifulSoup documentation](https://beautiful-soup-4.readthedocs.io/en/latest/index.html?highlight=find#the-keyword-arguments)!"
   ]
  },
  {
   "cell_type": "code",
   "execution_count": null,
   "metadata": {
    "deletable": false,
    "nbgrader": {
     "grade": false,
     "grade_id": "cell-88e2603722dac1e3",
     "locked": false,
     "schema_version": 3,
     "solution": true
    }
   },
   "outputs": [],
   "source": [
    "# Assign the URL of the page to be scraped to variable url\n",
    "# url = ...\n",
    "# YOUR CODE HERE\n",
    "raise NotImplementedError()\n",
    "\n",
    "# Do a GET request to get the page content, using the url we've just defined\n",
    "# response = ...\n",
    "# YOUR CODE HERE\n",
    "raise NotImplementedError()\n",
    "\n",
    "# Instanciate a soup object using the response of the GET request\n",
    "# YOUR CODE HERE\n",
    "raise NotImplementedError()\n",
    "\n",
    "# Parse the soup in order to retrieve the tag of the tennis ball image.\n",
    "# Assign it to variable q11_answer.\n",
    "# YOUR CODE HERE\n",
    "raise NotImplementedError()"
   ]
  },
  {
   "cell_type": "code",
   "execution_count": null,
   "metadata": {
    "deletable": false,
    "editable": false,
    "nbgrader": {
     "grade": true,
     "grade_id": "cell-f78d31cd4e4779eb",
     "locked": true,
     "points": 2,
     "schema_version": 3,
     "solution": false
    },
    "pycharm": {
     "name": "#%%\n"
    }
   },
   "outputs": [],
   "source": [
    "expected_hash = '369917cf8ea4d7906841cb6e6c264b124911e6d805bd122a23ffcee8fcb67de7'\n",
    "assert hashlib.sha256(str(q9_answer).encode()).hexdigest() == expected_hash"
   ]
  }
 ],
 "metadata": {
  "kernelspec": {
   "display_name": "Python 3 (ipykernel)",
   "language": "python",
   "name": "python3"
  },
  "language_info": {
   "codemirror_mode": {
    "name": "ipython",
    "version": 3
   },
   "file_extension": ".py",
   "mimetype": "text/x-python",
   "name": "python",
   "nbconvert_exporter": "python",
   "pygments_lexer": "ipython3",
   "version": "3.7.10"
  }
 },
 "nbformat": 4,
 "nbformat_minor": 2
}
