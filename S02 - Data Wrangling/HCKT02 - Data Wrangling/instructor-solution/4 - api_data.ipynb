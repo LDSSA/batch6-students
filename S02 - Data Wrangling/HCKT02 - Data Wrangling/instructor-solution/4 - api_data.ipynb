{
 "cells": [
  {
   "cell_type": "code",
   "execution_count": 2,
   "id": "8bb7ef14",
   "metadata": {},
   "outputs": [],
   "source": [
    "import pandas as pd\n",
    "import json\n",
    "import requests\n",
    "import glob\n",
    "import os\n",
    "from sqlalchemy import create_engine\n",
    "from bs4 import BeautifulSoup"
   ]
  },
  {
   "cell_type": "markdown",
   "id": "70400ebf",
   "metadata": {},
   "source": [
    "# Hackathon #2 - Data Wrangling (Instructor solution)"
   ]
  },
  {
   "cell_type": "markdown",
   "id": "92b2109d",
   "metadata": {},
   "source": [
    "## Get the Data"
   ]
  },
  {
   "cell_type": "markdown",
   "id": "9c95eac9",
   "metadata": {},
   "source": [
    "### Data in API"
   ]
  },
  {
   "cell_type": "code",
   "execution_count": 5,
   "id": "2a99a983",
   "metadata": {},
   "outputs": [
    {
     "name": "stdout",
     "output_type": "stream",
     "text": [
      "{\"Timestamp\": 1325346600, \"RSI10\": null, \"%K200\": null, \"%K30\": null, \"EMA10\": null}\n",
      "\n"
     ]
    }
   ],
   "source": [
    "base_url = 'https://n6v6uai1jj.execute-api.eu-west-1.amazonaws.com/dev/hackathon_02/1'\n",
    "response = requests.get(base_url)\n",
    "print(response.text)"
   ]
  },
  {
   "cell_type": "code",
   "execution_count": 8,
   "id": "6d9d7fd8",
   "metadata": {},
   "outputs": [
    {
     "name": "stdout",
     "output_type": "stream",
     "text": [
      "0\n",
      "https://n6v6uai1jj.execute-api.eu-west-1.amazonaws.com/dev/hackathon_02/0\n",
      "500\n",
      "https://n6v6uai1jj.execute-api.eu-west-1.amazonaws.com/dev/hackathon_02/500\n",
      "1000\n",
      "https://n6v6uai1jj.execute-api.eu-west-1.amazonaws.com/dev/hackathon_02/1000\n",
      "1500\n",
      "https://n6v6uai1jj.execute-api.eu-west-1.amazonaws.com/dev/hackathon_02/1500\n",
      "2000\n",
      "https://n6v6uai1jj.execute-api.eu-west-1.amazonaws.com/dev/hackathon_02/2000\n",
      "2500\n",
      "https://n6v6uai1jj.execute-api.eu-west-1.amazonaws.com/dev/hackathon_02/2500\n",
      "3000\n",
      "https://n6v6uai1jj.execute-api.eu-west-1.amazonaws.com/dev/hackathon_02/3000\n",
      "3500\n",
      "https://n6v6uai1jj.execute-api.eu-west-1.amazonaws.com/dev/hackathon_02/3500\n",
      "4000\n",
      "https://n6v6uai1jj.execute-api.eu-west-1.amazonaws.com/dev/hackathon_02/4000\n",
      "4500\n",
      "https://n6v6uai1jj.execute-api.eu-west-1.amazonaws.com/dev/hackathon_02/4500\n",
      "5000\n",
      "https://n6v6uai1jj.execute-api.eu-west-1.amazonaws.com/dev/hackathon_02/5000\n",
      "5500\n",
      "https://n6v6uai1jj.execute-api.eu-west-1.amazonaws.com/dev/hackathon_02/5500\n",
      "6000\n",
      "https://n6v6uai1jj.execute-api.eu-west-1.amazonaws.com/dev/hackathon_02/6000\n",
      "6500\n",
      "https://n6v6uai1jj.execute-api.eu-west-1.amazonaws.com/dev/hackathon_02/6500\n",
      "7000\n",
      "https://n6v6uai1jj.execute-api.eu-west-1.amazonaws.com/dev/hackathon_02/7000\n",
      "7500\n",
      "https://n6v6uai1jj.execute-api.eu-west-1.amazonaws.com/dev/hackathon_02/7500\n",
      "8000\n",
      "https://n6v6uai1jj.execute-api.eu-west-1.amazonaws.com/dev/hackathon_02/8000\n",
      "8500\n",
      "https://n6v6uai1jj.execute-api.eu-west-1.amazonaws.com/dev/hackathon_02/8500\n",
      "9000\n",
      "https://n6v6uai1jj.execute-api.eu-west-1.amazonaws.com/dev/hackathon_02/9000\n",
      "9500\n",
      "https://n6v6uai1jj.execute-api.eu-west-1.amazonaws.com/dev/hackathon_02/9500\n",
      "10000\n",
      "https://n6v6uai1jj.execute-api.eu-west-1.amazonaws.com/dev/hackathon_02/10000\n",
      "10500\n",
      "https://n6v6uai1jj.execute-api.eu-west-1.amazonaws.com/dev/hackathon_02/10500\n",
      "11000\n",
      "https://n6v6uai1jj.execute-api.eu-west-1.amazonaws.com/dev/hackathon_02/11000\n",
      "11500\n",
      "https://n6v6uai1jj.execute-api.eu-west-1.amazonaws.com/dev/hackathon_02/11500\n",
      "12000\n",
      "https://n6v6uai1jj.execute-api.eu-west-1.amazonaws.com/dev/hackathon_02/12000\n",
      "12500\n",
      "https://n6v6uai1jj.execute-api.eu-west-1.amazonaws.com/dev/hackathon_02/12500\n",
      "13000\n",
      "https://n6v6uai1jj.execute-api.eu-west-1.amazonaws.com/dev/hackathon_02/13000\n",
      "13500\n",
      "https://n6v6uai1jj.execute-api.eu-west-1.amazonaws.com/dev/hackathon_02/13500\n",
      "14000\n",
      "https://n6v6uai1jj.execute-api.eu-west-1.amazonaws.com/dev/hackathon_02/14000\n",
      "14500\n",
      "https://n6v6uai1jj.execute-api.eu-west-1.amazonaws.com/dev/hackathon_02/14500\n",
      "15000\n",
      "https://n6v6uai1jj.execute-api.eu-west-1.amazonaws.com/dev/hackathon_02/15000\n",
      "15500\n",
      "https://n6v6uai1jj.execute-api.eu-west-1.amazonaws.com/dev/hackathon_02/15500\n",
      "16000\n",
      "https://n6v6uai1jj.execute-api.eu-west-1.amazonaws.com/dev/hackathon_02/16000\n",
      "16500\n",
      "https://n6v6uai1jj.execute-api.eu-west-1.amazonaws.com/dev/hackathon_02/16500\n",
      "17000\n",
      "https://n6v6uai1jj.execute-api.eu-west-1.amazonaws.com/dev/hackathon_02/17000\n",
      "17500\n",
      "https://n6v6uai1jj.execute-api.eu-west-1.amazonaws.com/dev/hackathon_02/17500\n",
      "18000\n",
      "https://n6v6uai1jj.execute-api.eu-west-1.amazonaws.com/dev/hackathon_02/18000\n",
      "18500\n",
      "https://n6v6uai1jj.execute-api.eu-west-1.amazonaws.com/dev/hackathon_02/18500\n",
      "19000\n",
      "https://n6v6uai1jj.execute-api.eu-west-1.amazonaws.com/dev/hackathon_02/19000\n",
      "19500\n",
      "https://n6v6uai1jj.execute-api.eu-west-1.amazonaws.com/dev/hackathon_02/19500\n"
     ]
    }
   ],
   "source": [
    "content = []\n",
    "failed = []\n",
    "base_url = 'https://n6v6uai1jj.execute-api.eu-west-1.amazonaws.com/dev/hackathon_02'\n",
    "for i in range(19615):\n",
    "    \n",
    "    if i % 500 == 0:\n",
    "        print(i)\n",
    "        print(f'{base_url}/{i}')\n",
    "    response = requests.get(f'{base_url}/{i}')\n",
    "    if response.ok:\n",
    "        data = json.loads(response.text)\n",
    "        #print(data)\n",
    "        content.append(data)\n",
    "    else:\n",
    "        failed.append(i)"
   ]
  },
  {
   "cell_type": "code",
   "execution_count": 9,
   "id": "9f1a8f79",
   "metadata": {},
   "outputs": [
    {
     "name": "stdout",
     "output_type": "stream",
     "text": [
      "0\n"
     ]
    }
   ],
   "source": [
    "print(len(failed))"
   ]
  },
  {
   "cell_type": "code",
   "execution_count": 17,
   "id": "45fe783a",
   "metadata": {},
   "outputs": [],
   "source": [
    "df_all = pd.DataFrame.from_records( content )\n"
   ]
  },
  {
   "cell_type": "code",
   "execution_count": 19,
   "id": "72b52a8d",
   "metadata": {},
   "outputs": [
    {
     "data": {
      "text/html": [
       "<div>\n",
       "<style scoped>\n",
       "    .dataframe tbody tr th:only-of-type {\n",
       "        vertical-align: middle;\n",
       "    }\n",
       "\n",
       "    .dataframe tbody tr th {\n",
       "        vertical-align: top;\n",
       "    }\n",
       "\n",
       "    .dataframe thead th {\n",
       "        text-align: right;\n",
       "    }\n",
       "</style>\n",
       "<table border=\"1\" class=\"dataframe\">\n",
       "  <thead>\n",
       "    <tr style=\"text-align: right;\">\n",
       "      <th></th>\n",
       "      <th>RSI10</th>\n",
       "      <th>%K200</th>\n",
       "      <th>%K30</th>\n",
       "      <th>EMA10</th>\n",
       "    </tr>\n",
       "    <tr>\n",
       "      <th>Timestamp</th>\n",
       "      <th></th>\n",
       "      <th></th>\n",
       "      <th></th>\n",
       "      <th></th>\n",
       "    </tr>\n",
       "  </thead>\n",
       "  <tbody>\n",
       "    <tr>\n",
       "      <th>1325317920</th>\n",
       "      <td>None</td>\n",
       "      <td>None</td>\n",
       "      <td>None</td>\n",
       "      <td>NaN</td>\n",
       "    </tr>\n",
       "    <tr>\n",
       "      <th>1325346600</th>\n",
       "      <td>None</td>\n",
       "      <td>None</td>\n",
       "      <td>None</td>\n",
       "      <td>NaN</td>\n",
       "    </tr>\n",
       "    <tr>\n",
       "      <th>1325350740</th>\n",
       "      <td>None</td>\n",
       "      <td>None</td>\n",
       "      <td>None</td>\n",
       "      <td>NaN</td>\n",
       "    </tr>\n",
       "    <tr>\n",
       "      <th>1325350800</th>\n",
       "      <td>None</td>\n",
       "      <td>None</td>\n",
       "      <td>None</td>\n",
       "      <td>NaN</td>\n",
       "    </tr>\n",
       "    <tr>\n",
       "      <th>1325391360</th>\n",
       "      <td>None</td>\n",
       "      <td>None</td>\n",
       "      <td>None</td>\n",
       "      <td>NaN</td>\n",
       "    </tr>\n",
       "    <tr>\n",
       "      <th>...</th>\n",
       "      <td>...</td>\n",
       "      <td>...</td>\n",
       "      <td>...</td>\n",
       "      <td>...</td>\n",
       "    </tr>\n",
       "    <tr>\n",
       "      <th>1351989000</th>\n",
       "      <td>None</td>\n",
       "      <td>None</td>\n",
       "      <td>None</td>\n",
       "      <td>10.649474</td>\n",
       "    </tr>\n",
       "    <tr>\n",
       "      <th>1351989660</th>\n",
       "      <td>None</td>\n",
       "      <td>None</td>\n",
       "      <td>None</td>\n",
       "      <td>10.655024</td>\n",
       "    </tr>\n",
       "    <tr>\n",
       "      <th>1351991700</th>\n",
       "      <td>None</td>\n",
       "      <td>None</td>\n",
       "      <td>None</td>\n",
       "      <td>10.617747</td>\n",
       "    </tr>\n",
       "    <tr>\n",
       "      <th>1351994460</th>\n",
       "      <td>None</td>\n",
       "      <td>None</td>\n",
       "      <td>None</td>\n",
       "      <td>10.621793</td>\n",
       "    </tr>\n",
       "    <tr>\n",
       "      <th>1351994760</th>\n",
       "      <td>None</td>\n",
       "      <td>None</td>\n",
       "      <td>None</td>\n",
       "      <td>10.623285</td>\n",
       "    </tr>\n",
       "  </tbody>\n",
       "</table>\n",
       "<p>19615 rows × 4 columns</p>\n",
       "</div>"
      ],
      "text/plain": [
       "           RSI10 %K200  %K30      EMA10\n",
       "Timestamp                              \n",
       "1325317920  None  None  None        NaN\n",
       "1325346600  None  None  None        NaN\n",
       "1325350740  None  None  None        NaN\n",
       "1325350800  None  None  None        NaN\n",
       "1325391360  None  None  None        NaN\n",
       "...          ...   ...   ...        ...\n",
       "1351989000  None  None  None  10.649474\n",
       "1351989660  None  None  None  10.655024\n",
       "1351991700  None  None  None  10.617747\n",
       "1351994460  None  None  None  10.621793\n",
       "1351994760  None  None  None  10.623285\n",
       "\n",
       "[19615 rows x 4 columns]"
      ]
     },
     "execution_count": 19,
     "metadata": {},
     "output_type": "execute_result"
    }
   ],
   "source": [
    "df_all = df_all.set_index(\"Timestamp\")\n",
    "df_all"
   ]
  },
  {
   "cell_type": "code",
   "execution_count": 20,
   "id": "6a249b40",
   "metadata": {},
   "outputs": [],
   "source": [
    "df_all.to_csv('api_data.csv')"
   ]
  },
  {
   "cell_type": "code",
   "execution_count": null,
   "id": "d9f3f0c3",
   "metadata": {},
   "outputs": [],
   "source": []
  }
 ],
 "metadata": {
  "kernelspec": {
   "display_name": "Python 3 (ipykernel)",
   "language": "python",
   "name": "python3"
  },
  "language_info": {
   "codemirror_mode": {
    "name": "ipython",
    "version": 3
   },
   "file_extension": ".py",
   "mimetype": "text/x-python",
   "name": "python",
   "nbconvert_exporter": "python",
   "pygments_lexer": "ipython3",
   "version": "3.8.15"
  }
 },
 "nbformat": 4,
 "nbformat_minor": 5
}
