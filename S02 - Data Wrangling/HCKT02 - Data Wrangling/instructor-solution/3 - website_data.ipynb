{
 "cells": [
  {
   "cell_type": "code",
   "execution_count": 1,
   "id": "8bb7ef14",
   "metadata": {},
   "outputs": [],
   "source": [
    "import pandas as pd\n",
    "import json\n",
    "import requests\n",
    "import glob\n",
    "import os\n",
    "from sqlalchemy import create_engine\n",
    "from bs4 import BeautifulSoup"
   ]
  },
  {
   "cell_type": "markdown",
   "id": "70400ebf",
   "metadata": {},
   "source": [
    "# Hackathon #2 - Data Wrangling (Instructor solution)"
   ]
  },
  {
   "cell_type": "markdown",
   "id": "a1017eee",
   "metadata": {},
   "source": [
    "### Data in Website"
   ]
  },
  {
   "cell_type": "markdown",
   "id": "95e45909",
   "metadata": {},
   "source": [
    "Looking at the contents of the webpage can give us helpful information on what tables we need to parse\n",
    "\n",
    "![website](https://i.imgur.com/MMD2MXZ.png)"
   ]
  },
  {
   "cell_type": "markdown",
   "id": "ac362bf8",
   "metadata": {},
   "source": [
    "We have a `<table>` named `dataframe` in each page, in a total of 500 pages. We're going to need all of them. "
   ]
  },
  {
   "cell_type": "code",
   "execution_count": 12,
   "id": "cf013bca",
   "metadata": {},
   "outputs": [
    {
     "name": "stdout",
     "output_type": "stream",
     "text": [
      "50\n",
      "https://s02-infrastructure.s3.eu-west-1.amazonaws.com/hackathon-2-batch6/50.html\n",
      "100\n",
      "https://s02-infrastructure.s3.eu-west-1.amazonaws.com/hackathon-2-batch6/100.html\n",
      "150\n",
      "https://s02-infrastructure.s3.eu-west-1.amazonaws.com/hackathon-2-batch6/150.html\n",
      "200\n",
      "https://s02-infrastructure.s3.eu-west-1.amazonaws.com/hackathon-2-batch6/200.html\n",
      "250\n",
      "https://s02-infrastructure.s3.eu-west-1.amazonaws.com/hackathon-2-batch6/250.html\n",
      "300\n",
      "https://s02-infrastructure.s3.eu-west-1.amazonaws.com/hackathon-2-batch6/300.html\n",
      "350\n",
      "https://s02-infrastructure.s3.eu-west-1.amazonaws.com/hackathon-2-batch6/350.html\n",
      "400\n",
      "https://s02-infrastructure.s3.eu-west-1.amazonaws.com/hackathon-2-batch6/400.html\n",
      "450\n",
      "https://s02-infrastructure.s3.eu-west-1.amazonaws.com/hackathon-2-batch6/450.html\n"
     ]
    }
   ],
   "source": [
    "content = []\n",
    "failed = []\n",
    "base_url = 'https://s02-infrastructure.s3.eu-west-1.amazonaws.com/hackathon-2-batch6/'\n",
    "for i in range(1, 500):\n",
    "    if i % 50 == 0:\n",
    "        print(i)\n",
    "        print(f'{base_url}{i}.html')\n",
    "    response = requests.get(f'{base_url}{i}.html')\n",
    "    if response.ok:\n",
    "        content.append(response.content)\n",
    "    else:\n",
    "        failed.append(i)\n",
    "        "
   ]
  },
  {
   "cell_type": "code",
   "execution_count": 13,
   "id": "23d44937",
   "metadata": {},
   "outputs": [
    {
     "data": {
      "text/plain": [
       "0"
      ]
     },
     "execution_count": 13,
     "metadata": {},
     "output_type": "execute_result"
    }
   ],
   "source": [
    "len(failed)"
   ]
  },
  {
   "cell_type": "markdown",
   "id": "e1863450",
   "metadata": {},
   "source": [
    "##### Main Data"
   ]
  },
  {
   "cell_type": "code",
   "execution_count": 22,
   "id": "cd186877",
   "metadata": {},
   "outputs": [],
   "source": [
    "def tableDataText(table):\n",
    "    \"\"\"\n",
    "    Function to convert an html table into an array \n",
    "    \"\"\"\n",
    "    rows = []\n",
    "    trs = table.find_all('tr')\n",
    "    headerow = [td.get_text(strip=True) for td in trs[0].find_all('th')] # header row\n",
    "    if headerow: # if there is a header row include first\n",
    "        rows.append(headerow)\n",
    "        trs = trs[1:]\n",
    "    for tr in trs: # for every table row\n",
    "        rows.append([td.get_text(strip=True) for td in tr.find_all('td')]) # data row\n",
    "    return rows"
   ]
  },
  {
   "cell_type": "code",
   "execution_count": 60,
   "id": "39f969c3",
   "metadata": {},
   "outputs": [],
   "source": [
    "def get_website_data(content):\n",
    "    '''\n",
    "    Get the data from all the pages in the website\n",
    "    \n",
    "    param content: a list of requests.get(...).content\n",
    "    param columns: a list of the columns in each table of the website\n",
    "    '''\n",
    "\n",
    "    pages = []\n",
    "    for i in range(len(content)):\n",
    "        if i%100==0:\n",
    "            print(i)\n",
    "\n",
    "        soup = BeautifulSoup(content[i], 'html.parser')\n",
    "        main_data_div = soup.find('table' , {'class': 'dataframe'})\n",
    "        main_data_list_table = tableDataText(main_data_div)\n",
    "        main_data_df = pd.DataFrame(main_data_list_table[1:], columns=main_data_list_table[0][1:],)\n",
    "\n",
    "        pages.append(main_data_df)\n",
    "    \n",
    "    df = pd.concat(pages, axis=0, ignore_index=True)\n",
    "    \n",
    "    return df\n",
    "    "
   ]
  },
  {
   "cell_type": "code",
   "execution_count": 65,
   "id": "d5c450cd",
   "metadata": {},
   "outputs": [
    {
     "name": "stdout",
     "output_type": "stream",
     "text": [
      "0\n",
      "100\n",
      "200\n",
      "300\n",
      "400\n"
     ]
    }
   ],
   "source": [
    "df_website = get_website_data(content)"
   ]
  },
  {
   "cell_type": "code",
   "execution_count": 66,
   "id": "6dc846a1",
   "metadata": {},
   "outputs": [
    {
     "data": {
      "text/html": [
       "<div>\n",
       "<style scoped>\n",
       "    .dataframe tbody tr th:only-of-type {\n",
       "        vertical-align: middle;\n",
       "    }\n",
       "\n",
       "    .dataframe tbody tr th {\n",
       "        vertical-align: top;\n",
       "    }\n",
       "\n",
       "    .dataframe thead th {\n",
       "        text-align: right;\n",
       "    }\n",
       "</style>\n",
       "<table border=\"1\" class=\"dataframe\">\n",
       "  <thead>\n",
       "    <tr style=\"text-align: right;\">\n",
       "      <th></th>\n",
       "      <th>EMA200</th>\n",
       "      <th>MA200</th>\n",
       "      <th>RSI200</th>\n",
       "      <th>%K30</th>\n",
       "    </tr>\n",
       "    <tr>\n",
       "      <th>Timestamp</th>\n",
       "      <th></th>\n",
       "      <th></th>\n",
       "      <th></th>\n",
       "      <th></th>\n",
       "    </tr>\n",
       "  </thead>\n",
       "  <tbody>\n",
       "    <tr>\n",
       "      <th>1325803800</th>\n",
       "      <td>NaN</td>\n",
       "      <td>NaN</td>\n",
       "      <td>NaN</td>\n",
       "      <td>98.039216</td>\n",
       "    </tr>\n",
       "    <tr>\n",
       "      <th>1325806500</th>\n",
       "      <td>NaN</td>\n",
       "      <td>NaN</td>\n",
       "      <td>NaN</td>\n",
       "      <td>98.692810</td>\n",
       "    </tr>\n",
       "    <tr>\n",
       "      <th>1325806740</th>\n",
       "      <td>NaN</td>\n",
       "      <td>NaN</td>\n",
       "      <td>NaN</td>\n",
       "      <td>100.000000</td>\n",
       "    </tr>\n",
       "    <tr>\n",
       "      <th>1325806860</th>\n",
       "      <td>NaN</td>\n",
       "      <td>NaN</td>\n",
       "      <td>NaN</td>\n",
       "      <td>100.000000</td>\n",
       "    </tr>\n",
       "    <tr>\n",
       "      <th>1325806980</th>\n",
       "      <td>NaN</td>\n",
       "      <td>NaN</td>\n",
       "      <td>NaN</td>\n",
       "      <td>100.000000</td>\n",
       "    </tr>\n",
       "    <tr>\n",
       "      <th>...</th>\n",
       "      <td>...</td>\n",
       "      <td>...</td>\n",
       "      <td>...</td>\n",
       "      <td>...</td>\n",
       "    </tr>\n",
       "    <tr>\n",
       "      <th>1351989660</th>\n",
       "      <td>10.625978</td>\n",
       "      <td>10.59670</td>\n",
       "      <td>50.050111</td>\n",
       "      <td>100.000000</td>\n",
       "    </tr>\n",
       "    <tr>\n",
       "      <th>1351991700</th>\n",
       "      <td>10.624227</td>\n",
       "      <td>10.59605</td>\n",
       "      <td>48.503938</td>\n",
       "      <td>0.000000</td>\n",
       "    </tr>\n",
       "    <tr>\n",
       "      <th>1351994460</th>\n",
       "      <td>10.624384</td>\n",
       "      <td>10.59565</td>\n",
       "      <td>49.791687</td>\n",
       "      <td>82.608696</td>\n",
       "    </tr>\n",
       "    <tr>\n",
       "      <th>1351994760</th>\n",
       "      <td>10.624440</td>\n",
       "      <td>10.59520</td>\n",
       "      <td>49.725912</td>\n",
       "      <td>78.260870</td>\n",
       "    </tr>\n",
       "    <tr>\n",
       "      <th>1351995420</th>\n",
       "      <td>10.624793</td>\n",
       "      <td>10.59490</td>\n",
       "      <td>49.925356</td>\n",
       "      <td>91.304348</td>\n",
       "    </tr>\n",
       "  </tbody>\n",
       "</table>\n",
       "<p>19576 rows × 4 columns</p>\n",
       "</div>"
      ],
      "text/plain": [
       "               EMA200     MA200     RSI200        %K30\n",
       "Timestamp                                             \n",
       "1325803800        NaN       NaN        NaN   98.039216\n",
       "1325806500        NaN       NaN        NaN   98.692810\n",
       "1325806740        NaN       NaN        NaN  100.000000\n",
       "1325806860        NaN       NaN        NaN  100.000000\n",
       "1325806980        NaN       NaN        NaN  100.000000\n",
       "...               ...       ...        ...         ...\n",
       "1351989660  10.625978  10.59670  50.050111  100.000000\n",
       "1351991700  10.624227  10.59605  48.503938    0.000000\n",
       "1351994460  10.624384  10.59565  49.791687   82.608696\n",
       "1351994760  10.624440  10.59520  49.725912   78.260870\n",
       "1351995420  10.624793  10.59490  49.925356   91.304348\n",
       "\n",
       "[19576 rows x 4 columns]"
      ]
     },
     "execution_count": 66,
     "metadata": {},
     "output_type": "execute_result"
    }
   ],
   "source": [
    "df_website = df_website.set_index(\"Timestamp\")\n",
    "df_website"
   ]
  },
  {
   "cell_type": "code",
   "execution_count": 68,
   "id": "6c3ca1d0",
   "metadata": {},
   "outputs": [],
   "source": [
    "df_website.to_csv('website_data.csv')"
   ]
  },
  {
   "cell_type": "code",
   "execution_count": 69,
   "id": "5416e91b",
   "metadata": {},
   "outputs": [
    {
     "name": "stdout",
     "output_type": "stream",
     "text": [
      "Timestamp,EMA200,MA200,RSI200,%K30\r\n"
     ]
    }
   ],
   "source": [
    "! head -n 1 website_data.csv"
   ]
  },
  {
   "cell_type": "code",
   "execution_count": null,
   "id": "36c093b1",
   "metadata": {},
   "outputs": [],
   "source": []
  }
 ],
 "metadata": {
  "kernelspec": {
   "display_name": "Python 3 (ipykernel)",
   "language": "python",
   "name": "python3"
  },
  "language_info": {
   "codemirror_mode": {
    "name": "ipython",
    "version": 3
   },
   "file_extension": ".py",
   "mimetype": "text/x-python",
   "name": "python",
   "nbconvert_exporter": "python",
   "pygments_lexer": "ipython3",
   "version": "3.8.15"
  }
 },
 "nbformat": 4,
 "nbformat_minor": 5
}
